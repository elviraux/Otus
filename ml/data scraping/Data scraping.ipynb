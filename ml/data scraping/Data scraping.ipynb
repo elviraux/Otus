{
 "cells": [
  {
   "cell_type": "markdown",
   "metadata": {},
   "source": [
    "## Data scraping Apartments.com South Bay Area\n",
    "\n",
    "\n",
    "author: Elvira Dzhuraeva"
   ]
  },
  {
   "cell_type": "code",
   "execution_count": 1,
   "metadata": {},
   "outputs": [],
   "source": [
    "import pandas as pd\n",
    "import numpy as np\n",
    "import requests\n",
    "from bs4 import BeautifulSoup\n",
    "from fake_useragent import UserAgent\n",
    "import re"
   ]
  },
  {
   "cell_type": "code",
   "execution_count": 132,
   "metadata": {},
   "outputs": [],
   "source": [
    "url = 'https://www.apartments.com/'\n",
    "global_listings = []\n",
    "cities = []\n",
    "listings = []"
   ]
  },
  {
   "cell_type": "code",
   "execution_count": 166,
   "metadata": {},
   "outputs": [],
   "source": [
    "bay_area_cities = [\n",
    "    'Alameda',\n",
    "    'Albany',\n",
    "    'American Canyon',\n",
    "    'Antioch',\n",
    "    'Atherton',\n",
    "    'Belmont',\n",
    "    'Belvedere',\n",
    "    'Benicia',\n",
    "    'Berkeley',\n",
    "    'Brisbane',\n",
    "    'Burlingame',\n",
    "    'Campbell',\n",
    "    'Clayton',\n",
    "    'Colma',\n",
    "    'Concord',\n",
    "    'Corte Madera',\n",
    "    'Cupertino',\n",
    "    'Daly City',\n",
    "    'Danville',\n",
    "    'Dublin',\n",
    "    'East Palo Alto',\n",
    "    'El Cerrito',\n",
    "    'Emeryville',\n",
    "    'Fairfax',\n",
    "    'Foster City',\n",
    "    'Fremont',\n",
    "    'Gilroy',\n",
    "    'Half Moon Bay',\n",
    "    'Hayward',\n",
    "    'Healdsburg',\n",
    "    'Hercules',\n",
    "    'Hillsborough',\n",
    "    'Lafayette',\n",
    "    'Larkspur',\n",
    "    'Livermore',\n",
    "    'Los Altos',\n",
    "    'Los Altos Hills',\n",
    "    'Los Gatos',\n",
    "    'Martinez',\n",
    "    'Menlo Park',\n",
    "    'Mill Valley',\n",
    "    'Millbrae',\n",
    "    'Milpitas',\n",
    "    'Moraga',\n",
    "    'Morgan Hill',\n",
    "    'Mountain View',\n",
    "    'Newark',\n",
    "    'Novato',\n",
    "    'Oakland',\n",
    "    'Oakley',\n",
    "    'Orinda',\n",
    "    'Pacifica',\n",
    "    'Palo Alto',\n",
    "    'Petaluma',\n",
    "    'Piedmont',\n",
    "    'Pinole',\n",
    "    'Pittsburg',\n",
    "    'Pleasanton',\n",
    "    'Redwood City',\n",
    "    'Richmond',\n",
    "    'Rohnert Park',\n",
    "    'Ross',\n",
    "    'Helena',\n",
    "    'San Anselmo',\n",
    "    'San Bruno',\n",
    "    'San Carlos',\n",
    "    'San Francisco',\n",
    "    'San Jose',\n",
    "    'San Leandro',\n",
    "    'San Mateo',\n",
    "    'San Pablo',\n",
    "    'San Rafael',\n",
    "    'San Ramon',\n",
    "    'Santa Clara',\n",
    "    'Santa Rosa',\n",
    "    'Saratoga',\n",
    "    'Sausalito',\n",
    "    'Sebastopol',\n",
    "    'Sonoma',\n",
    "    'South San Francisco',\n",
    "    'Suisun City',\n",
    "    'Sunnyvalle',\n",
    "    'Tiburon',\n",
    "    'Union City',\n",
    "    'Vallejo',\n",
    "    'Walnut Creek',\n",
    "    'Windsor',\n",
    "    'Woodside',\n",
    "]"
   ]
  },
  {
   "cell_type": "code",
   "execution_count": 167,
   "metadata": {},
   "outputs": [],
   "source": [
    "# let's prepare cities for url\n",
    "for i, city in enumerate(bay_area_cities):\n",
    "    bay_area_cities[i] = city.replace(' ', '-')\n"
   ]
  },
  {
   "cell_type": "code",
   "execution_count": 169,
   "metadata": {},
   "outputs": [],
   "source": [
    "def collect_appartment_links(url, current_page):\n",
    "    print('{}{}'.format(url, current_page))\n",
    "    response = requests.get('{}{}'.format(url, current_page), headers={'User-Agent': UserAgent().chrome})\n",
    "    soup = BeautifulSoup(response.content, 'html.parser')\n",
    "    return soup.findAll('a', attrs = {'class':'placardTitle js-placardTitle'})"
   ]
  },
  {
   "cell_type": "code",
   "execution_count": 164,
   "metadata": {},
   "outputs": [],
   "source": [
    "def get_pages_count(url):\n",
    "    response = requests.get(url, headers={'User-Agent': UserAgent().chrome})\n",
    "    soup = BeautifulSoup(response.content, 'html.parser')\n",
    "    pages = soup.find('nav', attrs = {'id':'paging'})\n",
    "    if (pages):\n",
    "        pages = pages.findAll('a')\n",
    "        return int(pages[len(pages) - 2]['data-page'])\n",
    "    else: \n",
    "        return 1"
   ]
  },
  {
   "cell_type": "code",
   "execution_count": 172,
   "metadata": {},
   "outputs": [
    {
     "name": "stdout",
     "output_type": "stream",
     "text": [
      "Albany\n",
      "https://www.apartments.com/Albany-ca/1\n",
      "https://www.apartments.com/Albany-ca/2\n",
      "https://www.apartments.com/Albany-ca/3\n",
      "https://www.apartments.com/Albany-ca/4\n",
      "https://www.apartments.com/Albany-ca/5\n",
      "https://www.apartments.com/Albany-ca/6\n",
      "https://www.apartments.com/Albany-ca/7\n",
      "https://www.apartments.com/Albany-ca/8\n",
      "https://www.apartments.com/Albany-ca/9\n",
      "https://www.apartments.com/Albany-ca/10\n",
      "American-Canyon\n",
      "https://www.apartments.com/American-Canyon-ca/1\n",
      "Antioch\n",
      "https://www.apartments.com/Antioch-ca/1\n",
      "https://www.apartments.com/Antioch-ca/2\n",
      "https://www.apartments.com/Antioch-ca/3\n",
      "https://www.apartments.com/Antioch-ca/4\n",
      "https://www.apartments.com/Antioch-ca/5\n",
      "https://www.apartments.com/Antioch-ca/6\n",
      "https://www.apartments.com/Antioch-ca/7\n",
      "https://www.apartments.com/Antioch-ca/8\n",
      "https://www.apartments.com/Antioch-ca/9\n",
      "https://www.apartments.com/Antioch-ca/10\n",
      "https://www.apartments.com/Antioch-ca/11\n",
      "https://www.apartments.com/Antioch-ca/12\n",
      "https://www.apartments.com/Antioch-ca/13\n",
      "Atherton\n",
      "https://www.apartments.com/Atherton-ca/1\n",
      "https://www.apartments.com/Atherton-ca/2\n",
      "https://www.apartments.com/Atherton-ca/3\n",
      "https://www.apartments.com/Atherton-ca/4\n",
      "https://www.apartments.com/Atherton-ca/5\n",
      "https://www.apartments.com/Atherton-ca/6\n",
      "https://www.apartments.com/Atherton-ca/7\n",
      "https://www.apartments.com/Atherton-ca/8\n",
      "https://www.apartments.com/Atherton-ca/9\n",
      "https://www.apartments.com/Atherton-ca/10\n",
      "https://www.apartments.com/Atherton-ca/11\n",
      "https://www.apartments.com/Atherton-ca/12\n",
      "https://www.apartments.com/Atherton-ca/13\n",
      "https://www.apartments.com/Atherton-ca/14\n",
      "https://www.apartments.com/Atherton-ca/15\n",
      "https://www.apartments.com/Atherton-ca/16\n",
      "https://www.apartments.com/Atherton-ca/17\n",
      "https://www.apartments.com/Atherton-ca/18\n",
      "https://www.apartments.com/Atherton-ca/19\n",
      "https://www.apartments.com/Atherton-ca/20\n",
      "https://www.apartments.com/Atherton-ca/21\n",
      "https://www.apartments.com/Atherton-ca/22\n",
      "https://www.apartments.com/Atherton-ca/23\n",
      "https://www.apartments.com/Atherton-ca/24\n",
      "https://www.apartments.com/Atherton-ca/25\n",
      "https://www.apartments.com/Atherton-ca/26\n",
      "https://www.apartments.com/Atherton-ca/27\n",
      "https://www.apartments.com/Atherton-ca/28\n",
      "Belmont\n",
      "https://www.apartments.com/Belmont-ca/1\n",
      "https://www.apartments.com/Belmont-ca/2\n",
      "https://www.apartments.com/Belmont-ca/3\n",
      "https://www.apartments.com/Belmont-ca/4\n",
      "https://www.apartments.com/Belmont-ca/5\n",
      "https://www.apartments.com/Belmont-ca/6\n",
      "https://www.apartments.com/Belmont-ca/7\n",
      "https://www.apartments.com/Belmont-ca/8\n",
      "https://www.apartments.com/Belmont-ca/9\n",
      "https://www.apartments.com/Belmont-ca/10\n",
      "https://www.apartments.com/Belmont-ca/11\n",
      "https://www.apartments.com/Belmont-ca/12\n",
      "https://www.apartments.com/Belmont-ca/13\n",
      "https://www.apartments.com/Belmont-ca/14\n",
      "https://www.apartments.com/Belmont-ca/15\n",
      "Belvedere\n",
      "https://www.apartments.com/Belvedere-ca/1\n",
      "Benicia\n",
      "https://www.apartments.com/Benicia-ca/1\n",
      "https://www.apartments.com/Benicia-ca/2\n",
      "https://www.apartments.com/Benicia-ca/3\n",
      "https://www.apartments.com/Benicia-ca/4\n",
      "Berkeley\n",
      "https://www.apartments.com/Berkeley-ca/1\n",
      "https://www.apartments.com/Berkeley-ca/2\n",
      "https://www.apartments.com/Berkeley-ca/3\n",
      "https://www.apartments.com/Berkeley-ca/4\n",
      "https://www.apartments.com/Berkeley-ca/5\n",
      "https://www.apartments.com/Berkeley-ca/6\n",
      "https://www.apartments.com/Berkeley-ca/7\n",
      "https://www.apartments.com/Berkeley-ca/8\n",
      "https://www.apartments.com/Berkeley-ca/9\n",
      "https://www.apartments.com/Berkeley-ca/10\n",
      "https://www.apartments.com/Berkeley-ca/11\n",
      "https://www.apartments.com/Berkeley-ca/12\n",
      "https://www.apartments.com/Berkeley-ca/13\n",
      "https://www.apartments.com/Berkeley-ca/14\n",
      "https://www.apartments.com/Berkeley-ca/15\n",
      "https://www.apartments.com/Berkeley-ca/16\n",
      "https://www.apartments.com/Berkeley-ca/17\n",
      "https://www.apartments.com/Berkeley-ca/18\n",
      "https://www.apartments.com/Berkeley-ca/19\n",
      "https://www.apartments.com/Berkeley-ca/20\n",
      "https://www.apartments.com/Berkeley-ca/21\n",
      "https://www.apartments.com/Berkeley-ca/22\n",
      "https://www.apartments.com/Berkeley-ca/23\n",
      "https://www.apartments.com/Berkeley-ca/24\n",
      "https://www.apartments.com/Berkeley-ca/25\n",
      "https://www.apartments.com/Berkeley-ca/26\n",
      "https://www.apartments.com/Berkeley-ca/27\n",
      "https://www.apartments.com/Berkeley-ca/28\n",
      "Brisbane\n",
      "https://www.apartments.com/Brisbane-ca/1\n",
      "https://www.apartments.com/Brisbane-ca/2\n",
      "https://www.apartments.com/Brisbane-ca/3\n",
      "Burlingame\n",
      "https://www.apartments.com/Burlingame-ca/1\n",
      "https://www.apartments.com/Burlingame-ca/2\n",
      "https://www.apartments.com/Burlingame-ca/3\n",
      "https://www.apartments.com/Burlingame-ca/4\n",
      "https://www.apartments.com/Burlingame-ca/5\n",
      "https://www.apartments.com/Burlingame-ca/6\n",
      "https://www.apartments.com/Burlingame-ca/7\n",
      "https://www.apartments.com/Burlingame-ca/8\n",
      "https://www.apartments.com/Burlingame-ca/9\n",
      "https://www.apartments.com/Burlingame-ca/10\n",
      "https://www.apartments.com/Burlingame-ca/11\n",
      "https://www.apartments.com/Burlingame-ca/12\n",
      "https://www.apartments.com/Burlingame-ca/13\n",
      "https://www.apartments.com/Burlingame-ca/14\n",
      "https://www.apartments.com/Burlingame-ca/15\n",
      "https://www.apartments.com/Burlingame-ca/16\n",
      "https://www.apartments.com/Burlingame-ca/17\n",
      "https://www.apartments.com/Burlingame-ca/18\n",
      "https://www.apartments.com/Burlingame-ca/19\n",
      "https://www.apartments.com/Burlingame-ca/20\n",
      "https://www.apartments.com/Burlingame-ca/21\n",
      "https://www.apartments.com/Burlingame-ca/22\n",
      "https://www.apartments.com/Burlingame-ca/23\n",
      "https://www.apartments.com/Burlingame-ca/24\n",
      "https://www.apartments.com/Burlingame-ca/25\n",
      "https://www.apartments.com/Burlingame-ca/26\n",
      "https://www.apartments.com/Burlingame-ca/27\n",
      "https://www.apartments.com/Burlingame-ca/28\n",
      "Campbell\n",
      "https://www.apartments.com/Campbell-ca/1\n",
      "https://www.apartments.com/Campbell-ca/2\n",
      "https://www.apartments.com/Campbell-ca/3\n",
      "https://www.apartments.com/Campbell-ca/4\n",
      "https://www.apartments.com/Campbell-ca/5\n",
      "https://www.apartments.com/Campbell-ca/6\n",
      "https://www.apartments.com/Campbell-ca/7\n",
      "https://www.apartments.com/Campbell-ca/8\n",
      "https://www.apartments.com/Campbell-ca/9\n",
      "https://www.apartments.com/Campbell-ca/10\n",
      "https://www.apartments.com/Campbell-ca/11\n",
      "https://www.apartments.com/Campbell-ca/12\n",
      "https://www.apartments.com/Campbell-ca/13\n",
      "https://www.apartments.com/Campbell-ca/14\n",
      "https://www.apartments.com/Campbell-ca/15\n",
      "https://www.apartments.com/Campbell-ca/16\n",
      "https://www.apartments.com/Campbell-ca/17\n",
      "https://www.apartments.com/Campbell-ca/18\n",
      "https://www.apartments.com/Campbell-ca/19\n",
      "https://www.apartments.com/Campbell-ca/20\n",
      "https://www.apartments.com/Campbell-ca/21\n",
      "https://www.apartments.com/Campbell-ca/22\n",
      "https://www.apartments.com/Campbell-ca/23\n",
      "https://www.apartments.com/Campbell-ca/24\n",
      "https://www.apartments.com/Campbell-ca/25\n",
      "https://www.apartments.com/Campbell-ca/26\n",
      "https://www.apartments.com/Campbell-ca/27\n",
      "https://www.apartments.com/Campbell-ca/28\n",
      "Clayton\n",
      "https://www.apartments.com/Clayton-ca/1\n",
      "https://www.apartments.com/Clayton-ca/2\n",
      "Colma\n",
      "https://www.apartments.com/Colma-ca/1\n",
      "https://www.apartments.com/Colma-ca/2\n",
      "https://www.apartments.com/Colma-ca/3\n",
      "https://www.apartments.com/Colma-ca/4\n",
      "https://www.apartments.com/Colma-ca/5\n",
      "https://www.apartments.com/Colma-ca/6\n",
      "Concord\n",
      "https://www.apartments.com/Concord-ca/1\n",
      "https://www.apartments.com/Concord-ca/2\n",
      "https://www.apartments.com/Concord-ca/3\n",
      "https://www.apartments.com/Concord-ca/4\n",
      "https://www.apartments.com/Concord-ca/5\n",
      "https://www.apartments.com/Concord-ca/6\n",
      "https://www.apartments.com/Concord-ca/7\n",
      "https://www.apartments.com/Concord-ca/8\n",
      "https://www.apartments.com/Concord-ca/9\n",
      "https://www.apartments.com/Concord-ca/10\n",
      "https://www.apartments.com/Concord-ca/11\n",
      "https://www.apartments.com/Concord-ca/12\n",
      "https://www.apartments.com/Concord-ca/13\n",
      "https://www.apartments.com/Concord-ca/14\n",
      "https://www.apartments.com/Concord-ca/15\n",
      "https://www.apartments.com/Concord-ca/16\n",
      "https://www.apartments.com/Concord-ca/17\n",
      "https://www.apartments.com/Concord-ca/18\n",
      "https://www.apartments.com/Concord-ca/19\n",
      "https://www.apartments.com/Concord-ca/20\n",
      "https://www.apartments.com/Concord-ca/21\n",
      "https://www.apartments.com/Concord-ca/22\n",
      "https://www.apartments.com/Concord-ca/23\n",
      "https://www.apartments.com/Concord-ca/24\n",
      "https://www.apartments.com/Concord-ca/25\n",
      "https://www.apartments.com/Concord-ca/26\n",
      "Corte-Madera\n",
      "https://www.apartments.com/Corte-Madera-ca/1\n",
      "https://www.apartments.com/Corte-Madera-ca/2\n"
     ]
    },
    {
     "name": "stdout",
     "output_type": "stream",
     "text": [
      "https://www.apartments.com/Corte-Madera-ca/3\n",
      "https://www.apartments.com/Corte-Madera-ca/4\n",
      "Cupertino\n",
      "https://www.apartments.com/Cupertino-ca/1\n",
      "https://www.apartments.com/Cupertino-ca/2\n",
      "https://www.apartments.com/Cupertino-ca/3\n",
      "https://www.apartments.com/Cupertino-ca/4\n",
      "https://www.apartments.com/Cupertino-ca/5\n",
      "https://www.apartments.com/Cupertino-ca/6\n",
      "https://www.apartments.com/Cupertino-ca/7\n",
      "https://www.apartments.com/Cupertino-ca/8\n",
      "https://www.apartments.com/Cupertino-ca/9\n",
      "https://www.apartments.com/Cupertino-ca/10\n",
      "https://www.apartments.com/Cupertino-ca/11\n",
      "https://www.apartments.com/Cupertino-ca/12\n",
      "https://www.apartments.com/Cupertino-ca/13\n",
      "https://www.apartments.com/Cupertino-ca/14\n",
      "https://www.apartments.com/Cupertino-ca/15\n",
      "https://www.apartments.com/Cupertino-ca/16\n",
      "https://www.apartments.com/Cupertino-ca/17\n",
      "https://www.apartments.com/Cupertino-ca/18\n",
      "https://www.apartments.com/Cupertino-ca/19\n",
      "https://www.apartments.com/Cupertino-ca/20\n",
      "https://www.apartments.com/Cupertino-ca/21\n",
      "https://www.apartments.com/Cupertino-ca/22\n",
      "https://www.apartments.com/Cupertino-ca/23\n",
      "https://www.apartments.com/Cupertino-ca/24\n",
      "https://www.apartments.com/Cupertino-ca/25\n",
      "https://www.apartments.com/Cupertino-ca/26\n",
      "https://www.apartments.com/Cupertino-ca/27\n",
      "https://www.apartments.com/Cupertino-ca/28\n",
      "Daly-City\n",
      "https://www.apartments.com/Daly-City-ca/1\n",
      "https://www.apartments.com/Daly-City-ca/2\n",
      "https://www.apartments.com/Daly-City-ca/3\n",
      "https://www.apartments.com/Daly-City-ca/4\n",
      "https://www.apartments.com/Daly-City-ca/5\n",
      "https://www.apartments.com/Daly-City-ca/6\n",
      "https://www.apartments.com/Daly-City-ca/7\n",
      "https://www.apartments.com/Daly-City-ca/8\n",
      "https://www.apartments.com/Daly-City-ca/9\n",
      "https://www.apartments.com/Daly-City-ca/10\n",
      "https://www.apartments.com/Daly-City-ca/11\n",
      "https://www.apartments.com/Daly-City-ca/12\n",
      "https://www.apartments.com/Daly-City-ca/13\n",
      "https://www.apartments.com/Daly-City-ca/14\n",
      "https://www.apartments.com/Daly-City-ca/15\n",
      "https://www.apartments.com/Daly-City-ca/16\n",
      "https://www.apartments.com/Daly-City-ca/17\n",
      "https://www.apartments.com/Daly-City-ca/18\n",
      "https://www.apartments.com/Daly-City-ca/19\n",
      "https://www.apartments.com/Daly-City-ca/20\n",
      "https://www.apartments.com/Daly-City-ca/21\n",
      "https://www.apartments.com/Daly-City-ca/22\n",
      "https://www.apartments.com/Daly-City-ca/23\n",
      "https://www.apartments.com/Daly-City-ca/24\n",
      "https://www.apartments.com/Daly-City-ca/25\n",
      "https://www.apartments.com/Daly-City-ca/26\n",
      "https://www.apartments.com/Daly-City-ca/27\n",
      "https://www.apartments.com/Daly-City-ca/28\n",
      "Danville\n",
      "https://www.apartments.com/Danville-ca/1\n",
      "https://www.apartments.com/Danville-ca/2\n",
      "https://www.apartments.com/Danville-ca/3\n",
      "https://www.apartments.com/Danville-ca/4\n",
      "https://www.apartments.com/Danville-ca/5\n",
      "Dublin\n",
      "https://www.apartments.com/Dublin-ca/1\n",
      "https://www.apartments.com/Dublin-ca/2\n",
      "https://www.apartments.com/Dublin-ca/3\n",
      "https://www.apartments.com/Dublin-ca/4\n",
      "https://www.apartments.com/Dublin-ca/5\n",
      "East-Palo-Alto\n",
      "https://www.apartments.com/East-Palo-Alto-ca/1\n",
      "https://www.apartments.com/East-Palo-Alto-ca/2\n",
      "https://www.apartments.com/East-Palo-Alto-ca/3\n",
      "https://www.apartments.com/East-Palo-Alto-ca/4\n",
      "El-Cerrito\n",
      "https://www.apartments.com/El-Cerrito-ca/1\n",
      "https://www.apartments.com/El-Cerrito-ca/2\n",
      "https://www.apartments.com/El-Cerrito-ca/3\n",
      "https://www.apartments.com/El-Cerrito-ca/4\n",
      "https://www.apartments.com/El-Cerrito-ca/5\n",
      "https://www.apartments.com/El-Cerrito-ca/6\n",
      "https://www.apartments.com/El-Cerrito-ca/7\n",
      "https://www.apartments.com/El-Cerrito-ca/8\n",
      "https://www.apartments.com/El-Cerrito-ca/9\n",
      "https://www.apartments.com/El-Cerrito-ca/10\n",
      "https://www.apartments.com/El-Cerrito-ca/11\n",
      "https://www.apartments.com/El-Cerrito-ca/12\n",
      "https://www.apartments.com/El-Cerrito-ca/13\n",
      "https://www.apartments.com/El-Cerrito-ca/14\n",
      "https://www.apartments.com/El-Cerrito-ca/15\n",
      "https://www.apartments.com/El-Cerrito-ca/16\n",
      "https://www.apartments.com/El-Cerrito-ca/17\n",
      "https://www.apartments.com/El-Cerrito-ca/18\n",
      "https://www.apartments.com/El-Cerrito-ca/19\n",
      "Emeryville\n",
      "https://www.apartments.com/Emeryville-ca/1\n",
      "https://www.apartments.com/Emeryville-ca/2\n",
      "https://www.apartments.com/Emeryville-ca/3\n",
      "https://www.apartments.com/Emeryville-ca/4\n",
      "https://www.apartments.com/Emeryville-ca/5\n",
      "https://www.apartments.com/Emeryville-ca/6\n",
      "https://www.apartments.com/Emeryville-ca/7\n",
      "https://www.apartments.com/Emeryville-ca/8\n",
      "https://www.apartments.com/Emeryville-ca/9\n",
      "https://www.apartments.com/Emeryville-ca/10\n",
      "https://www.apartments.com/Emeryville-ca/11\n",
      "Fairfax\n",
      "https://www.apartments.com/Fairfax-ca/1\n",
      "https://www.apartments.com/Fairfax-ca/2\n",
      "https://www.apartments.com/Fairfax-ca/3\n",
      "https://www.apartments.com/Fairfax-ca/4\n",
      "https://www.apartments.com/Fairfax-ca/5\n",
      "Foster-City\n",
      "https://www.apartments.com/Foster-City-ca/1\n",
      "https://www.apartments.com/Foster-City-ca/2\n",
      "https://www.apartments.com/Foster-City-ca/3\n",
      "https://www.apartments.com/Foster-City-ca/4\n",
      "Fremont\n",
      "https://www.apartments.com/Fremont-ca/1\n",
      "https://www.apartments.com/Fremont-ca/2\n",
      "https://www.apartments.com/Fremont-ca/3\n",
      "https://www.apartments.com/Fremont-ca/4\n",
      "https://www.apartments.com/Fremont-ca/5\n",
      "https://www.apartments.com/Fremont-ca/6\n",
      "https://www.apartments.com/Fremont-ca/7\n",
      "https://www.apartments.com/Fremont-ca/8\n",
      "https://www.apartments.com/Fremont-ca/9\n",
      "https://www.apartments.com/Fremont-ca/10\n",
      "https://www.apartments.com/Fremont-ca/11\n",
      "https://www.apartments.com/Fremont-ca/12\n",
      "https://www.apartments.com/Fremont-ca/13\n",
      "https://www.apartments.com/Fremont-ca/14\n",
      "https://www.apartments.com/Fremont-ca/15\n",
      "https://www.apartments.com/Fremont-ca/16\n",
      "https://www.apartments.com/Fremont-ca/17\n",
      "https://www.apartments.com/Fremont-ca/18\n",
      "https://www.apartments.com/Fremont-ca/19\n",
      "https://www.apartments.com/Fremont-ca/20\n",
      "https://www.apartments.com/Fremont-ca/21\n",
      "https://www.apartments.com/Fremont-ca/22\n",
      "Gilroy\n",
      "https://www.apartments.com/Gilroy-ca/1\n",
      "https://www.apartments.com/Gilroy-ca/2\n",
      "https://www.apartments.com/Gilroy-ca/3\n",
      "https://www.apartments.com/Gilroy-ca/4\n",
      "https://www.apartments.com/Gilroy-ca/5\n",
      "https://www.apartments.com/Gilroy-ca/6\n",
      "https://www.apartments.com/Gilroy-ca/7\n",
      "https://www.apartments.com/Gilroy-ca/8\n",
      "Half-Moon-Bay\n",
      "https://www.apartments.com/Half-Moon-Bay-ca/1\n",
      "https://www.apartments.com/Half-Moon-Bay-ca/2\n",
      "https://www.apartments.com/Half-Moon-Bay-ca/3\n",
      "Hayward\n",
      "https://www.apartments.com/Hayward-ca/1\n",
      "https://www.apartments.com/Hayward-ca/2\n",
      "https://www.apartments.com/Hayward-ca/3\n",
      "https://www.apartments.com/Hayward-ca/4\n",
      "https://www.apartments.com/Hayward-ca/5\n",
      "https://www.apartments.com/Hayward-ca/6\n",
      "https://www.apartments.com/Hayward-ca/7\n",
      "https://www.apartments.com/Hayward-ca/8\n",
      "https://www.apartments.com/Hayward-ca/9\n",
      "https://www.apartments.com/Hayward-ca/10\n",
      "https://www.apartments.com/Hayward-ca/11\n",
      "https://www.apartments.com/Hayward-ca/12\n",
      "https://www.apartments.com/Hayward-ca/13\n",
      "https://www.apartments.com/Hayward-ca/14\n",
      "https://www.apartments.com/Hayward-ca/15\n",
      "https://www.apartments.com/Hayward-ca/16\n",
      "https://www.apartments.com/Hayward-ca/17\n",
      "https://www.apartments.com/Hayward-ca/18\n",
      "https://www.apartments.com/Hayward-ca/19\n",
      "https://www.apartments.com/Hayward-ca/20\n",
      "https://www.apartments.com/Hayward-ca/21\n",
      "https://www.apartments.com/Hayward-ca/22\n",
      "https://www.apartments.com/Hayward-ca/23\n",
      "https://www.apartments.com/Hayward-ca/24\n",
      "https://www.apartments.com/Hayward-ca/25\n",
      "https://www.apartments.com/Hayward-ca/26\n",
      "https://www.apartments.com/Hayward-ca/27\n",
      "https://www.apartments.com/Hayward-ca/28\n",
      "Healdsburg\n",
      "https://www.apartments.com/Healdsburg-ca/1\n",
      "https://www.apartments.com/Healdsburg-ca/2\n",
      "https://www.apartments.com/Healdsburg-ca/3\n",
      "https://www.apartments.com/Healdsburg-ca/4\n",
      "https://www.apartments.com/Healdsburg-ca/5\n",
      "Hercules\n",
      "https://www.apartments.com/Hercules-ca/1\n",
      "https://www.apartments.com/Hercules-ca/2\n",
      "https://www.apartments.com/Hercules-ca/3\n",
      "https://www.apartments.com/Hercules-ca/4\n",
      "Hillsborough\n",
      "https://www.apartments.com/Hillsborough-ca/1\n",
      "https://www.apartments.com/Hillsborough-ca/2\n",
      "https://www.apartments.com/Hillsborough-ca/3\n",
      "https://www.apartments.com/Hillsborough-ca/4\n",
      "https://www.apartments.com/Hillsborough-ca/5\n",
      "https://www.apartments.com/Hillsborough-ca/6\n",
      "https://www.apartments.com/Hillsborough-ca/7\n",
      "https://www.apartments.com/Hillsborough-ca/8\n",
      "https://www.apartments.com/Hillsborough-ca/9\n",
      "https://www.apartments.com/Hillsborough-ca/10\n"
     ]
    },
    {
     "name": "stdout",
     "output_type": "stream",
     "text": [
      "https://www.apartments.com/Hillsborough-ca/11\n",
      "https://www.apartments.com/Hillsborough-ca/12\n",
      "https://www.apartments.com/Hillsborough-ca/13\n",
      "https://www.apartments.com/Hillsborough-ca/14\n",
      "https://www.apartments.com/Hillsborough-ca/15\n",
      "https://www.apartments.com/Hillsborough-ca/16\n",
      "https://www.apartments.com/Hillsborough-ca/17\n",
      "https://www.apartments.com/Hillsborough-ca/18\n",
      "https://www.apartments.com/Hillsborough-ca/19\n",
      "https://www.apartments.com/Hillsborough-ca/20\n",
      "https://www.apartments.com/Hillsborough-ca/21\n",
      "https://www.apartments.com/Hillsborough-ca/22\n",
      "https://www.apartments.com/Hillsborough-ca/23\n",
      "https://www.apartments.com/Hillsborough-ca/24\n",
      "https://www.apartments.com/Hillsborough-ca/25\n",
      "https://www.apartments.com/Hillsborough-ca/26\n",
      "https://www.apartments.com/Hillsborough-ca/27\n",
      "https://www.apartments.com/Hillsborough-ca/28\n",
      "Lafayette\n",
      "https://www.apartments.com/Lafayette-ca/1\n",
      "https://www.apartments.com/Lafayette-ca/2\n",
      "https://www.apartments.com/Lafayette-ca/3\n",
      "https://www.apartments.com/Lafayette-ca/4\n",
      "https://www.apartments.com/Lafayette-ca/5\n",
      "https://www.apartments.com/Lafayette-ca/6\n",
      "https://www.apartments.com/Lafayette-ca/7\n",
      "https://www.apartments.com/Lafayette-ca/8\n",
      "https://www.apartments.com/Lafayette-ca/9\n",
      "https://www.apartments.com/Lafayette-ca/10\n",
      "https://www.apartments.com/Lafayette-ca/11\n",
      "https://www.apartments.com/Lafayette-ca/12\n",
      "https://www.apartments.com/Lafayette-ca/13\n",
      "Larkspur\n",
      "https://www.apartments.com/Larkspur-ca/1\n",
      "https://www.apartments.com/Larkspur-ca/2\n",
      "https://www.apartments.com/Larkspur-ca/3\n",
      "https://www.apartments.com/Larkspur-ca/4\n",
      "https://www.apartments.com/Larkspur-ca/5\n",
      "Livermore\n",
      "https://www.apartments.com/Livermore-ca/1\n",
      "https://www.apartments.com/Livermore-ca/2\n",
      "https://www.apartments.com/Livermore-ca/3\n",
      "https://www.apartments.com/Livermore-ca/4\n",
      "https://www.apartments.com/Livermore-ca/5\n",
      "https://www.apartments.com/Livermore-ca/6\n",
      "https://www.apartments.com/Livermore-ca/7\n",
      "https://www.apartments.com/Livermore-ca/8\n",
      "https://www.apartments.com/Livermore-ca/9\n",
      "https://www.apartments.com/Livermore-ca/10\n",
      "https://www.apartments.com/Livermore-ca/11\n",
      "Los-Altos\n",
      "https://www.apartments.com/Los-Altos-ca/1\n",
      "https://www.apartments.com/Los-Altos-ca/2\n",
      "https://www.apartments.com/Los-Altos-ca/3\n",
      "https://www.apartments.com/Los-Altos-ca/4\n",
      "https://www.apartments.com/Los-Altos-ca/5\n",
      "https://www.apartments.com/Los-Altos-ca/6\n",
      "https://www.apartments.com/Los-Altos-ca/7\n",
      "https://www.apartments.com/Los-Altos-ca/8\n",
      "https://www.apartments.com/Los-Altos-ca/9\n",
      "https://www.apartments.com/Los-Altos-ca/10\n",
      "https://www.apartments.com/Los-Altos-ca/11\n",
      "https://www.apartments.com/Los-Altos-ca/12\n",
      "https://www.apartments.com/Los-Altos-ca/13\n",
      "https://www.apartments.com/Los-Altos-ca/14\n",
      "https://www.apartments.com/Los-Altos-ca/15\n",
      "https://www.apartments.com/Los-Altos-ca/16\n",
      "https://www.apartments.com/Los-Altos-ca/17\n",
      "https://www.apartments.com/Los-Altos-ca/18\n",
      "https://www.apartments.com/Los-Altos-ca/19\n",
      "https://www.apartments.com/Los-Altos-ca/20\n",
      "https://www.apartments.com/Los-Altos-ca/21\n",
      "https://www.apartments.com/Los-Altos-ca/22\n",
      "https://www.apartments.com/Los-Altos-ca/23\n",
      "Los-Altos-Hills\n",
      "https://www.apartments.com/Los-Altos-Hills-ca/1\n",
      "https://www.apartments.com/Los-Altos-Hills-ca/2\n",
      "https://www.apartments.com/Los-Altos-Hills-ca/3\n",
      "Los-Gatos\n",
      "https://www.apartments.com/Los-Gatos-ca/1\n",
      "https://www.apartments.com/Los-Gatos-ca/2\n",
      "https://www.apartments.com/Los-Gatos-ca/3\n",
      "https://www.apartments.com/Los-Gatos-ca/4\n",
      "https://www.apartments.com/Los-Gatos-ca/5\n",
      "https://www.apartments.com/Los-Gatos-ca/6\n",
      "https://www.apartments.com/Los-Gatos-ca/7\n",
      "https://www.apartments.com/Los-Gatos-ca/8\n",
      "https://www.apartments.com/Los-Gatos-ca/9\n",
      "https://www.apartments.com/Los-Gatos-ca/10\n",
      "https://www.apartments.com/Los-Gatos-ca/11\n",
      "https://www.apartments.com/Los-Gatos-ca/12\n",
      "https://www.apartments.com/Los-Gatos-ca/13\n",
      "Martinez\n",
      "https://www.apartments.com/Martinez-ca/1\n",
      "https://www.apartments.com/Martinez-ca/2\n",
      "https://www.apartments.com/Martinez-ca/3\n",
      "https://www.apartments.com/Martinez-ca/4\n",
      "https://www.apartments.com/Martinez-ca/5\n",
      "https://www.apartments.com/Martinez-ca/6\n",
      "https://www.apartments.com/Martinez-ca/7\n",
      "https://www.apartments.com/Martinez-ca/8\n",
      "https://www.apartments.com/Martinez-ca/9\n",
      "https://www.apartments.com/Martinez-ca/10\n",
      "https://www.apartments.com/Martinez-ca/11\n",
      "Menlo-Park\n",
      "https://www.apartments.com/Menlo-Park-ca/1\n",
      "https://www.apartments.com/Menlo-Park-ca/2\n",
      "https://www.apartments.com/Menlo-Park-ca/3\n",
      "https://www.apartments.com/Menlo-Park-ca/4\n",
      "https://www.apartments.com/Menlo-Park-ca/5\n",
      "https://www.apartments.com/Menlo-Park-ca/6\n",
      "https://www.apartments.com/Menlo-Park-ca/7\n",
      "https://www.apartments.com/Menlo-Park-ca/8\n",
      "https://www.apartments.com/Menlo-Park-ca/9\n",
      "https://www.apartments.com/Menlo-Park-ca/10\n",
      "https://www.apartments.com/Menlo-Park-ca/11\n",
      "https://www.apartments.com/Menlo-Park-ca/12\n",
      "https://www.apartments.com/Menlo-Park-ca/13\n",
      "https://www.apartments.com/Menlo-Park-ca/14\n",
      "https://www.apartments.com/Menlo-Park-ca/15\n",
      "https://www.apartments.com/Menlo-Park-ca/16\n",
      "https://www.apartments.com/Menlo-Park-ca/17\n",
      "https://www.apartments.com/Menlo-Park-ca/18\n",
      "https://www.apartments.com/Menlo-Park-ca/19\n",
      "https://www.apartments.com/Menlo-Park-ca/20\n",
      "https://www.apartments.com/Menlo-Park-ca/21\n",
      "https://www.apartments.com/Menlo-Park-ca/22\n",
      "https://www.apartments.com/Menlo-Park-ca/23\n",
      "https://www.apartments.com/Menlo-Park-ca/24\n",
      "https://www.apartments.com/Menlo-Park-ca/25\n",
      "https://www.apartments.com/Menlo-Park-ca/26\n",
      "https://www.apartments.com/Menlo-Park-ca/27\n",
      "https://www.apartments.com/Menlo-Park-ca/28\n",
      "Mill-Valley\n",
      "https://www.apartments.com/Mill-Valley-ca/1\n",
      "https://www.apartments.com/Mill-Valley-ca/2\n",
      "https://www.apartments.com/Mill-Valley-ca/3\n",
      "https://www.apartments.com/Mill-Valley-ca/4\n",
      "https://www.apartments.com/Mill-Valley-ca/5\n",
      "https://www.apartments.com/Mill-Valley-ca/6\n",
      "https://www.apartments.com/Mill-Valley-ca/7\n",
      "https://www.apartments.com/Mill-Valley-ca/8\n",
      "https://www.apartments.com/Mill-Valley-ca/9\n",
      "https://www.apartments.com/Mill-Valley-ca/10\n",
      "https://www.apartments.com/Mill-Valley-ca/11\n",
      "Millbrae\n",
      "https://www.apartments.com/Millbrae-ca/1\n",
      "https://www.apartments.com/Millbrae-ca/2\n",
      "https://www.apartments.com/Millbrae-ca/3\n",
      "https://www.apartments.com/Millbrae-ca/4\n",
      "https://www.apartments.com/Millbrae-ca/5\n",
      "https://www.apartments.com/Millbrae-ca/6\n",
      "https://www.apartments.com/Millbrae-ca/7\n",
      "https://www.apartments.com/Millbrae-ca/8\n",
      "https://www.apartments.com/Millbrae-ca/9\n",
      "https://www.apartments.com/Millbrae-ca/10\n",
      "https://www.apartments.com/Millbrae-ca/11\n",
      "https://www.apartments.com/Millbrae-ca/12\n",
      "https://www.apartments.com/Millbrae-ca/13\n",
      "https://www.apartments.com/Millbrae-ca/14\n",
      "https://www.apartments.com/Millbrae-ca/15\n",
      "Milpitas\n",
      "https://www.apartments.com/Milpitas-ca/1\n",
      "https://www.apartments.com/Milpitas-ca/2\n",
      "https://www.apartments.com/Milpitas-ca/3\n",
      "https://www.apartments.com/Milpitas-ca/4\n",
      "https://www.apartments.com/Milpitas-ca/5\n",
      "https://www.apartments.com/Milpitas-ca/6\n",
      "https://www.apartments.com/Milpitas-ca/7\n",
      "https://www.apartments.com/Milpitas-ca/8\n",
      "https://www.apartments.com/Milpitas-ca/9\n",
      "Moraga\n",
      "https://www.apartments.com/Moraga-ca/1\n",
      "https://www.apartments.com/Moraga-ca/2\n",
      "https://www.apartments.com/Moraga-ca/3\n",
      "https://www.apartments.com/Moraga-ca/4\n",
      "https://www.apartments.com/Moraga-ca/5\n",
      "Morgan-Hill\n",
      "https://www.apartments.com/Morgan-Hill-ca/1\n",
      "https://www.apartments.com/Morgan-Hill-ca/2\n",
      "https://www.apartments.com/Morgan-Hill-ca/3\n",
      "https://www.apartments.com/Morgan-Hill-ca/4\n",
      "https://www.apartments.com/Morgan-Hill-ca/5\n",
      "https://www.apartments.com/Morgan-Hill-ca/6\n",
      "Mountain-View\n",
      "https://www.apartments.com/Mountain-View-ca/1\n",
      "https://www.apartments.com/Mountain-View-ca/2\n",
      "https://www.apartments.com/Mountain-View-ca/3\n",
      "https://www.apartments.com/Mountain-View-ca/4\n",
      "https://www.apartments.com/Mountain-View-ca/5\n",
      "https://www.apartments.com/Mountain-View-ca/6\n",
      "https://www.apartments.com/Mountain-View-ca/7\n",
      "https://www.apartments.com/Mountain-View-ca/8\n",
      "https://www.apartments.com/Mountain-View-ca/9\n",
      "https://www.apartments.com/Mountain-View-ca/10\n",
      "https://www.apartments.com/Mountain-View-ca/11\n",
      "https://www.apartments.com/Mountain-View-ca/12\n",
      "https://www.apartments.com/Mountain-View-ca/13\n",
      "https://www.apartments.com/Mountain-View-ca/14\n",
      "https://www.apartments.com/Mountain-View-ca/15\n",
      "https://www.apartments.com/Mountain-View-ca/16\n"
     ]
    },
    {
     "name": "stdout",
     "output_type": "stream",
     "text": [
      "https://www.apartments.com/Mountain-View-ca/17\n",
      "https://www.apartments.com/Mountain-View-ca/18\n",
      "https://www.apartments.com/Mountain-View-ca/19\n",
      "https://www.apartments.com/Mountain-View-ca/20\n",
      "https://www.apartments.com/Mountain-View-ca/21\n",
      "https://www.apartments.com/Mountain-View-ca/22\n",
      "https://www.apartments.com/Mountain-View-ca/23\n",
      "https://www.apartments.com/Mountain-View-ca/24\n",
      "https://www.apartments.com/Mountain-View-ca/25\n",
      "https://www.apartments.com/Mountain-View-ca/26\n",
      "https://www.apartments.com/Mountain-View-ca/27\n",
      "https://www.apartments.com/Mountain-View-ca/28\n",
      "Newark\n",
      "https://www.apartments.com/Newark-ca/1\n",
      "https://www.apartments.com/Newark-ca/2\n",
      "https://www.apartments.com/Newark-ca/3\n",
      "https://www.apartments.com/Newark-ca/4\n",
      "https://www.apartments.com/Newark-ca/5\n",
      "https://www.apartments.com/Newark-ca/6\n",
      "https://www.apartments.com/Newark-ca/7\n",
      "https://www.apartments.com/Newark-ca/8\n",
      "https://www.apartments.com/Newark-ca/9\n",
      "Novato\n",
      "https://www.apartments.com/Novato-ca/1\n",
      "https://www.apartments.com/Novato-ca/2\n",
      "https://www.apartments.com/Novato-ca/3\n",
      "https://www.apartments.com/Novato-ca/4\n",
      "https://www.apartments.com/Novato-ca/5\n",
      "https://www.apartments.com/Novato-ca/6\n",
      "https://www.apartments.com/Novato-ca/7\n",
      "Oakland\n",
      "https://www.apartments.com/Oakland-ca/1\n",
      "https://www.apartments.com/Oakland-ca/2\n",
      "https://www.apartments.com/Oakland-ca/3\n",
      "https://www.apartments.com/Oakland-ca/4\n",
      "https://www.apartments.com/Oakland-ca/5\n",
      "https://www.apartments.com/Oakland-ca/6\n",
      "https://www.apartments.com/Oakland-ca/7\n",
      "https://www.apartments.com/Oakland-ca/8\n",
      "https://www.apartments.com/Oakland-ca/9\n",
      "https://www.apartments.com/Oakland-ca/10\n",
      "https://www.apartments.com/Oakland-ca/11\n",
      "https://www.apartments.com/Oakland-ca/12\n",
      "https://www.apartments.com/Oakland-ca/13\n",
      "https://www.apartments.com/Oakland-ca/14\n",
      "https://www.apartments.com/Oakland-ca/15\n",
      "https://www.apartments.com/Oakland-ca/16\n",
      "https://www.apartments.com/Oakland-ca/17\n",
      "https://www.apartments.com/Oakland-ca/18\n",
      "https://www.apartments.com/Oakland-ca/19\n",
      "https://www.apartments.com/Oakland-ca/20\n",
      "https://www.apartments.com/Oakland-ca/21\n",
      "https://www.apartments.com/Oakland-ca/22\n",
      "https://www.apartments.com/Oakland-ca/23\n",
      "https://www.apartments.com/Oakland-ca/24\n",
      "https://www.apartments.com/Oakland-ca/25\n",
      "https://www.apartments.com/Oakland-ca/26\n",
      "https://www.apartments.com/Oakland-ca/27\n",
      "https://www.apartments.com/Oakland-ca/28\n",
      "Oakley\n",
      "https://www.apartments.com/Oakley-ca/1\n",
      "https://www.apartments.com/Oakley-ca/2\n",
      "https://www.apartments.com/Oakley-ca/3\n",
      "Orinda\n",
      "https://www.apartments.com/Orinda-ca/1\n",
      "https://www.apartments.com/Orinda-ca/2\n",
      "https://www.apartments.com/Orinda-ca/3\n",
      "Pacifica\n",
      "https://www.apartments.com/Pacifica-ca/1\n",
      "https://www.apartments.com/Pacifica-ca/2\n",
      "https://www.apartments.com/Pacifica-ca/3\n",
      "https://www.apartments.com/Pacifica-ca/4\n",
      "https://www.apartments.com/Pacifica-ca/5\n",
      "https://www.apartments.com/Pacifica-ca/6\n",
      "https://www.apartments.com/Pacifica-ca/7\n",
      "https://www.apartments.com/Pacifica-ca/8\n",
      "https://www.apartments.com/Pacifica-ca/9\n",
      "https://www.apartments.com/Pacifica-ca/10\n",
      "Palo-Alto\n",
      "https://www.apartments.com/Palo-Alto-ca/1\n",
      "https://www.apartments.com/Palo-Alto-ca/2\n",
      "https://www.apartments.com/Palo-Alto-ca/3\n",
      "https://www.apartments.com/Palo-Alto-ca/4\n",
      "https://www.apartments.com/Palo-Alto-ca/5\n",
      "https://www.apartments.com/Palo-Alto-ca/6\n",
      "https://www.apartments.com/Palo-Alto-ca/7\n",
      "https://www.apartments.com/Palo-Alto-ca/8\n",
      "https://www.apartments.com/Palo-Alto-ca/9\n",
      "https://www.apartments.com/Palo-Alto-ca/10\n",
      "https://www.apartments.com/Palo-Alto-ca/11\n",
      "https://www.apartments.com/Palo-Alto-ca/12\n",
      "https://www.apartments.com/Palo-Alto-ca/13\n",
      "https://www.apartments.com/Palo-Alto-ca/14\n",
      "https://www.apartments.com/Palo-Alto-ca/15\n",
      "https://www.apartments.com/Palo-Alto-ca/16\n",
      "https://www.apartments.com/Palo-Alto-ca/17\n",
      "https://www.apartments.com/Palo-Alto-ca/18\n",
      "https://www.apartments.com/Palo-Alto-ca/19\n",
      "https://www.apartments.com/Palo-Alto-ca/20\n",
      "https://www.apartments.com/Palo-Alto-ca/21\n",
      "https://www.apartments.com/Palo-Alto-ca/22\n",
      "https://www.apartments.com/Palo-Alto-ca/23\n",
      "https://www.apartments.com/Palo-Alto-ca/24\n",
      "https://www.apartments.com/Palo-Alto-ca/25\n",
      "https://www.apartments.com/Palo-Alto-ca/26\n",
      "https://www.apartments.com/Palo-Alto-ca/27\n",
      "https://www.apartments.com/Palo-Alto-ca/28\n",
      "Petaluma\n",
      "https://www.apartments.com/Petaluma-ca/1\n",
      "https://www.apartments.com/Petaluma-ca/2\n",
      "https://www.apartments.com/Petaluma-ca/3\n",
      "https://www.apartments.com/Petaluma-ca/4\n",
      "https://www.apartments.com/Petaluma-ca/5\n",
      "https://www.apartments.com/Petaluma-ca/6\n",
      "https://www.apartments.com/Petaluma-ca/7\n",
      "https://www.apartments.com/Petaluma-ca/8\n",
      "https://www.apartments.com/Petaluma-ca/9\n",
      "Piedmont\n",
      "https://www.apartments.com/Piedmont-ca/1\n",
      "https://www.apartments.com/Piedmont-ca/2\n",
      "https://www.apartments.com/Piedmont-ca/3\n",
      "https://www.apartments.com/Piedmont-ca/4\n",
      "https://www.apartments.com/Piedmont-ca/5\n",
      "https://www.apartments.com/Piedmont-ca/6\n",
      "https://www.apartments.com/Piedmont-ca/7\n",
      "https://www.apartments.com/Piedmont-ca/8\n",
      "https://www.apartments.com/Piedmont-ca/9\n",
      "https://www.apartments.com/Piedmont-ca/10\n",
      "https://www.apartments.com/Piedmont-ca/11\n",
      "https://www.apartments.com/Piedmont-ca/12\n",
      "Pinole\n",
      "https://www.apartments.com/Pinole-ca/1\n",
      "https://www.apartments.com/Pinole-ca/2\n",
      "https://www.apartments.com/Pinole-ca/3\n",
      "Pittsburg\n",
      "https://www.apartments.com/Pittsburg-ca/1\n",
      "https://www.apartments.com/Pittsburg-ca/2\n",
      "https://www.apartments.com/Pittsburg-ca/3\n",
      "https://www.apartments.com/Pittsburg-ca/4\n",
      "https://www.apartments.com/Pittsburg-ca/5\n",
      "https://www.apartments.com/Pittsburg-ca/6\n",
      "https://www.apartments.com/Pittsburg-ca/7\n",
      "https://www.apartments.com/Pittsburg-ca/8\n",
      "https://www.apartments.com/Pittsburg-ca/9\n",
      "https://www.apartments.com/Pittsburg-ca/10\n",
      "https://www.apartments.com/Pittsburg-ca/11\n",
      "https://www.apartments.com/Pittsburg-ca/12\n",
      "https://www.apartments.com/Pittsburg-ca/13\n",
      "Pleasanton\n",
      "https://www.apartments.com/Pleasanton-ca/1\n",
      "https://www.apartments.com/Pleasanton-ca/2\n",
      "https://www.apartments.com/Pleasanton-ca/3\n",
      "https://www.apartments.com/Pleasanton-ca/4\n",
      "https://www.apartments.com/Pleasanton-ca/5\n",
      "https://www.apartments.com/Pleasanton-ca/6\n",
      "https://www.apartments.com/Pleasanton-ca/7\n",
      "https://www.apartments.com/Pleasanton-ca/8\n",
      "Redwood-City\n",
      "https://www.apartments.com/Redwood-City-ca/1\n",
      "https://www.apartments.com/Redwood-City-ca/2\n",
      "https://www.apartments.com/Redwood-City-ca/3\n",
      "https://www.apartments.com/Redwood-City-ca/4\n",
      "https://www.apartments.com/Redwood-City-ca/5\n",
      "https://www.apartments.com/Redwood-City-ca/6\n",
      "https://www.apartments.com/Redwood-City-ca/7\n",
      "https://www.apartments.com/Redwood-City-ca/8\n",
      "https://www.apartments.com/Redwood-City-ca/9\n",
      "https://www.apartments.com/Redwood-City-ca/10\n",
      "https://www.apartments.com/Redwood-City-ca/11\n",
      "https://www.apartments.com/Redwood-City-ca/12\n",
      "https://www.apartments.com/Redwood-City-ca/13\n",
      "https://www.apartments.com/Redwood-City-ca/14\n",
      "https://www.apartments.com/Redwood-City-ca/15\n",
      "https://www.apartments.com/Redwood-City-ca/16\n",
      "https://www.apartments.com/Redwood-City-ca/17\n",
      "https://www.apartments.com/Redwood-City-ca/18\n",
      "https://www.apartments.com/Redwood-City-ca/19\n",
      "https://www.apartments.com/Redwood-City-ca/20\n",
      "https://www.apartments.com/Redwood-City-ca/21\n",
      "https://www.apartments.com/Redwood-City-ca/22\n",
      "https://www.apartments.com/Redwood-City-ca/23\n",
      "https://www.apartments.com/Redwood-City-ca/24\n",
      "https://www.apartments.com/Redwood-City-ca/25\n",
      "https://www.apartments.com/Redwood-City-ca/26\n",
      "https://www.apartments.com/Redwood-City-ca/27\n",
      "https://www.apartments.com/Redwood-City-ca/28\n",
      "Richmond\n",
      "https://www.apartments.com/Richmond-ca/1\n",
      "https://www.apartments.com/Richmond-ca/2\n",
      "https://www.apartments.com/Richmond-ca/3\n",
      "https://www.apartments.com/Richmond-ca/4\n",
      "https://www.apartments.com/Richmond-ca/5\n",
      "https://www.apartments.com/Richmond-ca/6\n",
      "https://www.apartments.com/Richmond-ca/7\n",
      "https://www.apartments.com/Richmond-ca/8\n",
      "https://www.apartments.com/Richmond-ca/9\n",
      "https://www.apartments.com/Richmond-ca/10\n",
      "https://www.apartments.com/Richmond-ca/11\n",
      "https://www.apartments.com/Richmond-ca/12\n",
      "https://www.apartments.com/Richmond-ca/13\n",
      "https://www.apartments.com/Richmond-ca/14\n",
      "https://www.apartments.com/Richmond-ca/15\n",
      "https://www.apartments.com/Richmond-ca/16\n",
      "https://www.apartments.com/Richmond-ca/17\n",
      "https://www.apartments.com/Richmond-ca/18\n",
      "https://www.apartments.com/Richmond-ca/19\n"
     ]
    },
    {
     "name": "stdout",
     "output_type": "stream",
     "text": [
      "https://www.apartments.com/Richmond-ca/20\n",
      "https://www.apartments.com/Richmond-ca/21\n",
      "https://www.apartments.com/Richmond-ca/22\n",
      "https://www.apartments.com/Richmond-ca/23\n",
      "https://www.apartments.com/Richmond-ca/24\n",
      "https://www.apartments.com/Richmond-ca/25\n",
      "https://www.apartments.com/Richmond-ca/26\n",
      "https://www.apartments.com/Richmond-ca/27\n",
      "https://www.apartments.com/Richmond-ca/28\n",
      "Rohnert-Park\n",
      "https://www.apartments.com/Rohnert-Park-ca/1\n",
      "https://www.apartments.com/Rohnert-Park-ca/2\n",
      "https://www.apartments.com/Rohnert-Park-ca/3\n",
      "https://www.apartments.com/Rohnert-Park-ca/4\n",
      "https://www.apartments.com/Rohnert-Park-ca/5\n",
      "https://www.apartments.com/Rohnert-Park-ca/6\n",
      "https://www.apartments.com/Rohnert-Park-ca/7\n",
      "https://www.apartments.com/Rohnert-Park-ca/8\n",
      "https://www.apartments.com/Rohnert-Park-ca/9\n",
      "https://www.apartments.com/Rohnert-Park-ca/10\n",
      "https://www.apartments.com/Rohnert-Park-ca/11\n",
      "https://www.apartments.com/Rohnert-Park-ca/12\n",
      "Ross\n",
      "https://www.apartments.com/Ross-ca/1\n",
      "https://www.apartments.com/Ross-ca/2\n",
      "https://www.apartments.com/Ross-ca/3\n",
      "Helena\n",
      "https://www.apartments.com/Helena-ca/1\n",
      "San-Anselmo\n",
      "https://www.apartments.com/San-Anselmo-ca/1\n",
      "https://www.apartments.com/San-Anselmo-ca/2\n",
      "https://www.apartments.com/San-Anselmo-ca/3\n",
      "https://www.apartments.com/San-Anselmo-ca/4\n",
      "https://www.apartments.com/San-Anselmo-ca/5\n",
      "https://www.apartments.com/San-Anselmo-ca/6\n",
      "https://www.apartments.com/San-Anselmo-ca/7\n",
      "San-Bruno\n",
      "https://www.apartments.com/San-Bruno-ca/1\n",
      "https://www.apartments.com/San-Bruno-ca/2\n",
      "https://www.apartments.com/San-Bruno-ca/3\n",
      "https://www.apartments.com/San-Bruno-ca/4\n",
      "https://www.apartments.com/San-Bruno-ca/5\n",
      "https://www.apartments.com/San-Bruno-ca/6\n",
      "https://www.apartments.com/San-Bruno-ca/7\n",
      "https://www.apartments.com/San-Bruno-ca/8\n",
      "https://www.apartments.com/San-Bruno-ca/9\n",
      "https://www.apartments.com/San-Bruno-ca/10\n",
      "https://www.apartments.com/San-Bruno-ca/11\n",
      "https://www.apartments.com/San-Bruno-ca/12\n",
      "https://www.apartments.com/San-Bruno-ca/13\n",
      "https://www.apartments.com/San-Bruno-ca/14\n",
      "https://www.apartments.com/San-Bruno-ca/15\n",
      "https://www.apartments.com/San-Bruno-ca/16\n",
      "https://www.apartments.com/San-Bruno-ca/17\n",
      "https://www.apartments.com/San-Bruno-ca/18\n",
      "https://www.apartments.com/San-Bruno-ca/19\n",
      "San-Carlos\n",
      "https://www.apartments.com/San-Carlos-ca/1\n",
      "https://www.apartments.com/San-Carlos-ca/2\n",
      "https://www.apartments.com/San-Carlos-ca/3\n",
      "https://www.apartments.com/San-Carlos-ca/4\n",
      "https://www.apartments.com/San-Carlos-ca/5\n",
      "https://www.apartments.com/San-Carlos-ca/6\n",
      "https://www.apartments.com/San-Carlos-ca/7\n",
      "https://www.apartments.com/San-Carlos-ca/8\n",
      "https://www.apartments.com/San-Carlos-ca/9\n",
      "https://www.apartments.com/San-Carlos-ca/10\n",
      "https://www.apartments.com/San-Carlos-ca/11\n",
      "https://www.apartments.com/San-Carlos-ca/12\n",
      "https://www.apartments.com/San-Carlos-ca/13\n",
      "https://www.apartments.com/San-Carlos-ca/14\n",
      "https://www.apartments.com/San-Carlos-ca/15\n",
      "https://www.apartments.com/San-Carlos-ca/16\n",
      "https://www.apartments.com/San-Carlos-ca/17\n",
      "https://www.apartments.com/San-Carlos-ca/18\n",
      "https://www.apartments.com/San-Carlos-ca/19\n",
      "https://www.apartments.com/San-Carlos-ca/20\n",
      "https://www.apartments.com/San-Carlos-ca/21\n",
      "https://www.apartments.com/San-Carlos-ca/22\n",
      "San-Francisco\n",
      "https://www.apartments.com/San-Francisco-ca/1\n",
      "https://www.apartments.com/San-Francisco-ca/2\n",
      "https://www.apartments.com/San-Francisco-ca/3\n",
      "https://www.apartments.com/San-Francisco-ca/4\n",
      "https://www.apartments.com/San-Francisco-ca/5\n",
      "https://www.apartments.com/San-Francisco-ca/6\n",
      "https://www.apartments.com/San-Francisco-ca/7\n",
      "https://www.apartments.com/San-Francisco-ca/8\n",
      "https://www.apartments.com/San-Francisco-ca/9\n",
      "https://www.apartments.com/San-Francisco-ca/10\n",
      "https://www.apartments.com/San-Francisco-ca/11\n",
      "https://www.apartments.com/San-Francisco-ca/12\n",
      "https://www.apartments.com/San-Francisco-ca/13\n",
      "https://www.apartments.com/San-Francisco-ca/14\n",
      "https://www.apartments.com/San-Francisco-ca/15\n",
      "https://www.apartments.com/San-Francisco-ca/16\n",
      "https://www.apartments.com/San-Francisco-ca/17\n",
      "https://www.apartments.com/San-Francisco-ca/18\n",
      "https://www.apartments.com/San-Francisco-ca/19\n",
      "https://www.apartments.com/San-Francisco-ca/20\n",
      "https://www.apartments.com/San-Francisco-ca/21\n",
      "https://www.apartments.com/San-Francisco-ca/22\n",
      "https://www.apartments.com/San-Francisco-ca/23\n",
      "https://www.apartments.com/San-Francisco-ca/24\n",
      "https://www.apartments.com/San-Francisco-ca/25\n",
      "https://www.apartments.com/San-Francisco-ca/26\n",
      "https://www.apartments.com/San-Francisco-ca/27\n",
      "https://www.apartments.com/San-Francisco-ca/28\n",
      "San-Jose\n",
      "https://www.apartments.com/San-Jose-ca/1\n",
      "https://www.apartments.com/San-Jose-ca/2\n",
      "https://www.apartments.com/San-Jose-ca/3\n",
      "https://www.apartments.com/San-Jose-ca/4\n",
      "https://www.apartments.com/San-Jose-ca/5\n",
      "San-Leandro\n",
      "https://www.apartments.com/San-Leandro-ca/1\n",
      "https://www.apartments.com/San-Leandro-ca/2\n",
      "https://www.apartments.com/San-Leandro-ca/3\n",
      "https://www.apartments.com/San-Leandro-ca/4\n",
      "https://www.apartments.com/San-Leandro-ca/5\n",
      "https://www.apartments.com/San-Leandro-ca/6\n",
      "https://www.apartments.com/San-Leandro-ca/7\n",
      "https://www.apartments.com/San-Leandro-ca/8\n",
      "https://www.apartments.com/San-Leandro-ca/9\n",
      "https://www.apartments.com/San-Leandro-ca/10\n",
      "https://www.apartments.com/San-Leandro-ca/11\n",
      "https://www.apartments.com/San-Leandro-ca/12\n",
      "https://www.apartments.com/San-Leandro-ca/13\n",
      "https://www.apartments.com/San-Leandro-ca/14\n",
      "https://www.apartments.com/San-Leandro-ca/15\n",
      "https://www.apartments.com/San-Leandro-ca/16\n",
      "https://www.apartments.com/San-Leandro-ca/17\n",
      "https://www.apartments.com/San-Leandro-ca/18\n",
      "https://www.apartments.com/San-Leandro-ca/19\n",
      "https://www.apartments.com/San-Leandro-ca/20\n",
      "https://www.apartments.com/San-Leandro-ca/21\n",
      "https://www.apartments.com/San-Leandro-ca/22\n",
      "https://www.apartments.com/San-Leandro-ca/23\n",
      "https://www.apartments.com/San-Leandro-ca/24\n",
      "https://www.apartments.com/San-Leandro-ca/25\n",
      "https://www.apartments.com/San-Leandro-ca/26\n",
      "https://www.apartments.com/San-Leandro-ca/27\n",
      "https://www.apartments.com/San-Leandro-ca/28\n",
      "San-Mateo\n",
      "https://www.apartments.com/San-Mateo-ca/1\n",
      "https://www.apartments.com/San-Mateo-ca/2\n",
      "https://www.apartments.com/San-Mateo-ca/3\n",
      "https://www.apartments.com/San-Mateo-ca/4\n",
      "https://www.apartments.com/San-Mateo-ca/5\n",
      "San-Pablo\n",
      "https://www.apartments.com/San-Pablo-ca/1\n",
      "https://www.apartments.com/San-Pablo-ca/2\n",
      "https://www.apartments.com/San-Pablo-ca/3\n",
      "https://www.apartments.com/San-Pablo-ca/4\n",
      "https://www.apartments.com/San-Pablo-ca/5\n",
      "https://www.apartments.com/San-Pablo-ca/6\n",
      "https://www.apartments.com/San-Pablo-ca/7\n",
      "https://www.apartments.com/San-Pablo-ca/8\n",
      "https://www.apartments.com/San-Pablo-ca/9\n",
      "https://www.apartments.com/San-Pablo-ca/10\n",
      "https://www.apartments.com/San-Pablo-ca/11\n",
      "https://www.apartments.com/San-Pablo-ca/12\n",
      "https://www.apartments.com/San-Pablo-ca/13\n",
      "https://www.apartments.com/San-Pablo-ca/14\n",
      "https://www.apartments.com/San-Pablo-ca/15\n",
      "San-Rafael\n",
      "https://www.apartments.com/San-Rafael-ca/1\n",
      "https://www.apartments.com/San-Rafael-ca/2\n",
      "https://www.apartments.com/San-Rafael-ca/3\n",
      "https://www.apartments.com/San-Rafael-ca/4\n",
      "https://www.apartments.com/San-Rafael-ca/5\n",
      "https://www.apartments.com/San-Rafael-ca/6\n",
      "https://www.apartments.com/San-Rafael-ca/7\n",
      "https://www.apartments.com/San-Rafael-ca/8\n",
      "https://www.apartments.com/San-Rafael-ca/9\n",
      "https://www.apartments.com/San-Rafael-ca/10\n",
      "https://www.apartments.com/San-Rafael-ca/11\n",
      "https://www.apartments.com/San-Rafael-ca/12\n",
      "https://www.apartments.com/San-Rafael-ca/13\n",
      "https://www.apartments.com/San-Rafael-ca/14\n",
      "https://www.apartments.com/San-Rafael-ca/15\n",
      "https://www.apartments.com/San-Rafael-ca/16\n",
      "https://www.apartments.com/San-Rafael-ca/17\n",
      "https://www.apartments.com/San-Rafael-ca/18\n",
      "https://www.apartments.com/San-Rafael-ca/19\n",
      "https://www.apartments.com/San-Rafael-ca/20\n",
      "https://www.apartments.com/San-Rafael-ca/21\n",
      "https://www.apartments.com/San-Rafael-ca/22\n",
      "https://www.apartments.com/San-Rafael-ca/23\n",
      "https://www.apartments.com/San-Rafael-ca/24\n",
      "https://www.apartments.com/San-Rafael-ca/25\n",
      "https://www.apartments.com/San-Rafael-ca/26\n",
      "https://www.apartments.com/San-Rafael-ca/27\n",
      "San-Ramon\n",
      "https://www.apartments.com/San-Ramon-ca/1\n",
      "https://www.apartments.com/San-Ramon-ca/2\n",
      "https://www.apartments.com/San-Ramon-ca/3\n"
     ]
    },
    {
     "name": "stdout",
     "output_type": "stream",
     "text": [
      "https://www.apartments.com/San-Ramon-ca/4\n",
      "https://www.apartments.com/San-Ramon-ca/5\n",
      "Santa-Clara\n",
      "https://www.apartments.com/Santa-Clara-ca/1\n",
      "https://www.apartments.com/Santa-Clara-ca/2\n",
      "https://www.apartments.com/Santa-Clara-ca/3\n",
      "https://www.apartments.com/Santa-Clara-ca/4\n",
      "https://www.apartments.com/Santa-Clara-ca/5\n",
      "https://www.apartments.com/Santa-Clara-ca/6\n",
      "https://www.apartments.com/Santa-Clara-ca/7\n",
      "https://www.apartments.com/Santa-Clara-ca/8\n",
      "https://www.apartments.com/Santa-Clara-ca/9\n",
      "https://www.apartments.com/Santa-Clara-ca/10\n",
      "https://www.apartments.com/Santa-Clara-ca/11\n",
      "https://www.apartments.com/Santa-Clara-ca/12\n",
      "https://www.apartments.com/Santa-Clara-ca/13\n",
      "https://www.apartments.com/Santa-Clara-ca/14\n",
      "https://www.apartments.com/Santa-Clara-ca/15\n",
      "https://www.apartments.com/Santa-Clara-ca/16\n",
      "https://www.apartments.com/Santa-Clara-ca/17\n",
      "https://www.apartments.com/Santa-Clara-ca/18\n",
      "https://www.apartments.com/Santa-Clara-ca/19\n",
      "https://www.apartments.com/Santa-Clara-ca/20\n",
      "https://www.apartments.com/Santa-Clara-ca/21\n",
      "https://www.apartments.com/Santa-Clara-ca/22\n",
      "https://www.apartments.com/Santa-Clara-ca/23\n",
      "https://www.apartments.com/Santa-Clara-ca/24\n",
      "https://www.apartments.com/Santa-Clara-ca/25\n",
      "https://www.apartments.com/Santa-Clara-ca/26\n",
      "https://www.apartments.com/Santa-Clara-ca/27\n",
      "https://www.apartments.com/Santa-Clara-ca/28\n",
      "Santa-Rosa\n",
      "https://www.apartments.com/Santa-Rosa-ca/1\n",
      "https://www.apartments.com/Santa-Rosa-ca/2\n",
      "https://www.apartments.com/Santa-Rosa-ca/3\n",
      "https://www.apartments.com/Santa-Rosa-ca/4\n",
      "https://www.apartments.com/Santa-Rosa-ca/5\n",
      "https://www.apartments.com/Santa-Rosa-ca/6\n",
      "https://www.apartments.com/Santa-Rosa-ca/7\n",
      "https://www.apartments.com/Santa-Rosa-ca/8\n",
      "https://www.apartments.com/Santa-Rosa-ca/9\n",
      "https://www.apartments.com/Santa-Rosa-ca/10\n",
      "https://www.apartments.com/Santa-Rosa-ca/11\n",
      "https://www.apartments.com/Santa-Rosa-ca/12\n",
      "https://www.apartments.com/Santa-Rosa-ca/13\n",
      "https://www.apartments.com/Santa-Rosa-ca/14\n",
      "https://www.apartments.com/Santa-Rosa-ca/15\n",
      "https://www.apartments.com/Santa-Rosa-ca/16\n",
      "https://www.apartments.com/Santa-Rosa-ca/17\n",
      "https://www.apartments.com/Santa-Rosa-ca/18\n",
      "https://www.apartments.com/Santa-Rosa-ca/19\n",
      "https://www.apartments.com/Santa-Rosa-ca/20\n",
      "https://www.apartments.com/Santa-Rosa-ca/21\n",
      "https://www.apartments.com/Santa-Rosa-ca/22\n",
      "https://www.apartments.com/Santa-Rosa-ca/23\n",
      "https://www.apartments.com/Santa-Rosa-ca/24\n",
      "https://www.apartments.com/Santa-Rosa-ca/25\n",
      "https://www.apartments.com/Santa-Rosa-ca/26\n",
      "https://www.apartments.com/Santa-Rosa-ca/27\n",
      "https://www.apartments.com/Santa-Rosa-ca/28\n",
      "Saratoga\n",
      "https://www.apartments.com/Saratoga-ca/1\n",
      "https://www.apartments.com/Saratoga-ca/2\n",
      "https://www.apartments.com/Saratoga-ca/3\n",
      "https://www.apartments.com/Saratoga-ca/4\n",
      "https://www.apartments.com/Saratoga-ca/5\n",
      "https://www.apartments.com/Saratoga-ca/6\n",
      "https://www.apartments.com/Saratoga-ca/7\n",
      "https://www.apartments.com/Saratoga-ca/8\n",
      "https://www.apartments.com/Saratoga-ca/9\n",
      "https://www.apartments.com/Saratoga-ca/10\n",
      "Sausalito\n",
      "https://www.apartments.com/Sausalito-ca/1\n",
      "https://www.apartments.com/Sausalito-ca/2\n",
      "https://www.apartments.com/Sausalito-ca/3\n",
      "https://www.apartments.com/Sausalito-ca/4\n",
      "https://www.apartments.com/Sausalito-ca/5\n",
      "https://www.apartments.com/Sausalito-ca/6\n",
      "https://www.apartments.com/Sausalito-ca/7\n",
      "https://www.apartments.com/Sausalito-ca/8\n",
      "Sebastopol\n",
      "https://www.apartments.com/Sebastopol-ca/1\n",
      "https://www.apartments.com/Sebastopol-ca/2\n",
      "https://www.apartments.com/Sebastopol-ca/3\n",
      "https://www.apartments.com/Sebastopol-ca/4\n",
      "Sonoma\n",
      "https://www.apartments.com/Sonoma-ca/1\n",
      "https://www.apartments.com/Sonoma-ca/2\n",
      "https://www.apartments.com/Sonoma-ca/3\n",
      "https://www.apartments.com/Sonoma-ca/4\n",
      "https://www.apartments.com/Sonoma-ca/5\n",
      "https://www.apartments.com/Sonoma-ca/6\n",
      "https://www.apartments.com/Sonoma-ca/7\n",
      "South-San-Francisco\n",
      "https://www.apartments.com/South-San-Francisco-ca/1\n",
      "https://www.apartments.com/South-San-Francisco-ca/2\n",
      "https://www.apartments.com/South-San-Francisco-ca/3\n",
      "https://www.apartments.com/South-San-Francisco-ca/4\n",
      "https://www.apartments.com/South-San-Francisco-ca/5\n",
      "https://www.apartments.com/South-San-Francisco-ca/6\n",
      "https://www.apartments.com/South-San-Francisco-ca/7\n",
      "https://www.apartments.com/South-San-Francisco-ca/8\n",
      "https://www.apartments.com/South-San-Francisco-ca/9\n",
      "https://www.apartments.com/South-San-Francisco-ca/10\n",
      "https://www.apartments.com/South-San-Francisco-ca/11\n",
      "https://www.apartments.com/South-San-Francisco-ca/12\n",
      "https://www.apartments.com/South-San-Francisco-ca/13\n",
      "https://www.apartments.com/South-San-Francisco-ca/14\n",
      "https://www.apartments.com/South-San-Francisco-ca/15\n",
      "https://www.apartments.com/South-San-Francisco-ca/16\n",
      "https://www.apartments.com/South-San-Francisco-ca/17\n",
      "https://www.apartments.com/South-San-Francisco-ca/18\n",
      "https://www.apartments.com/South-San-Francisco-ca/19\n",
      "https://www.apartments.com/South-San-Francisco-ca/20\n",
      "https://www.apartments.com/South-San-Francisco-ca/21\n",
      "https://www.apartments.com/South-San-Francisco-ca/22\n",
      "https://www.apartments.com/South-San-Francisco-ca/23\n",
      "https://www.apartments.com/South-San-Francisco-ca/24\n",
      "https://www.apartments.com/South-San-Francisco-ca/25\n",
      "https://www.apartments.com/South-San-Francisco-ca/26\n",
      "https://www.apartments.com/South-San-Francisco-ca/27\n",
      "https://www.apartments.com/South-San-Francisco-ca/28\n",
      "Suisun-City\n",
      "https://www.apartments.com/Suisun-City-ca/1\n",
      "https://www.apartments.com/Suisun-City-ca/2\n",
      "https://www.apartments.com/Suisun-City-ca/3\n",
      "https://www.apartments.com/Suisun-City-ca/4\n",
      "https://www.apartments.com/Suisun-City-ca/5\n",
      "Sunnyvalle\n",
      "https://www.apartments.com/Sunnyvalle-ca/1\n",
      "https://www.apartments.com/Sunnyvalle-ca/2\n",
      "https://www.apartments.com/Sunnyvalle-ca/3\n",
      "https://www.apartments.com/Sunnyvalle-ca/4\n",
      "https://www.apartments.com/Sunnyvalle-ca/5\n",
      "https://www.apartments.com/Sunnyvalle-ca/6\n",
      "https://www.apartments.com/Sunnyvalle-ca/7\n",
      "https://www.apartments.com/Sunnyvalle-ca/8\n",
      "https://www.apartments.com/Sunnyvalle-ca/9\n",
      "https://www.apartments.com/Sunnyvalle-ca/10\n",
      "https://www.apartments.com/Sunnyvalle-ca/11\n",
      "https://www.apartments.com/Sunnyvalle-ca/12\n",
      "https://www.apartments.com/Sunnyvalle-ca/13\n",
      "https://www.apartments.com/Sunnyvalle-ca/14\n",
      "https://www.apartments.com/Sunnyvalle-ca/15\n",
      "https://www.apartments.com/Sunnyvalle-ca/16\n",
      "https://www.apartments.com/Sunnyvalle-ca/17\n",
      "https://www.apartments.com/Sunnyvalle-ca/18\n",
      "https://www.apartments.com/Sunnyvalle-ca/19\n",
      "https://www.apartments.com/Sunnyvalle-ca/20\n",
      "https://www.apartments.com/Sunnyvalle-ca/21\n",
      "https://www.apartments.com/Sunnyvalle-ca/22\n",
      "https://www.apartments.com/Sunnyvalle-ca/23\n",
      "https://www.apartments.com/Sunnyvalle-ca/24\n",
      "https://www.apartments.com/Sunnyvalle-ca/25\n",
      "https://www.apartments.com/Sunnyvalle-ca/26\n",
      "https://www.apartments.com/Sunnyvalle-ca/27\n",
      "https://www.apartments.com/Sunnyvalle-ca/28\n",
      "Tiburon\n",
      "https://www.apartments.com/Tiburon-ca/1\n",
      "https://www.apartments.com/Tiburon-ca/2\n",
      "https://www.apartments.com/Tiburon-ca/3\n",
      "https://www.apartments.com/Tiburon-ca/4\n",
      "https://www.apartments.com/Tiburon-ca/5\n",
      "Union-City\n",
      "https://www.apartments.com/Union-City-ca/1\n",
      "https://www.apartments.com/Union-City-ca/2\n",
      "https://www.apartments.com/Union-City-ca/3\n",
      "https://www.apartments.com/Union-City-ca/4\n",
      "https://www.apartments.com/Union-City-ca/5\n",
      "https://www.apartments.com/Union-City-ca/6\n",
      "Vallejo\n",
      "https://www.apartments.com/Vallejo-ca/1\n",
      "https://www.apartments.com/Vallejo-ca/2\n",
      "https://www.apartments.com/Vallejo-ca/3\n",
      "https://www.apartments.com/Vallejo-ca/4\n",
      "https://www.apartments.com/Vallejo-ca/5\n",
      "https://www.apartments.com/Vallejo-ca/6\n",
      "https://www.apartments.com/Vallejo-ca/7\n",
      "https://www.apartments.com/Vallejo-ca/8\n",
      "https://www.apartments.com/Vallejo-ca/9\n",
      "https://www.apartments.com/Vallejo-ca/10\n",
      "https://www.apartments.com/Vallejo-ca/11\n",
      "https://www.apartments.com/Vallejo-ca/12\n",
      "https://www.apartments.com/Vallejo-ca/13\n",
      "https://www.apartments.com/Vallejo-ca/14\n",
      "https://www.apartments.com/Vallejo-ca/15\n",
      "https://www.apartments.com/Vallejo-ca/16\n",
      "https://www.apartments.com/Vallejo-ca/17\n",
      "https://www.apartments.com/Vallejo-ca/18\n",
      "https://www.apartments.com/Vallejo-ca/19\n",
      "https://www.apartments.com/Vallejo-ca/20\n",
      "Walnut-Creek\n",
      "https://www.apartments.com/Walnut-Creek-ca/1\n",
      "https://www.apartments.com/Walnut-Creek-ca/2\n",
      "https://www.apartments.com/Walnut-Creek-ca/3\n"
     ]
    },
    {
     "name": "stdout",
     "output_type": "stream",
     "text": [
      "https://www.apartments.com/Walnut-Creek-ca/4\n",
      "https://www.apartments.com/Walnut-Creek-ca/5\n",
      "https://www.apartments.com/Walnut-Creek-ca/6\n",
      "https://www.apartments.com/Walnut-Creek-ca/7\n",
      "https://www.apartments.com/Walnut-Creek-ca/8\n",
      "https://www.apartments.com/Walnut-Creek-ca/9\n",
      "https://www.apartments.com/Walnut-Creek-ca/10\n",
      "https://www.apartments.com/Walnut-Creek-ca/11\n",
      "https://www.apartments.com/Walnut-Creek-ca/12\n",
      "https://www.apartments.com/Walnut-Creek-ca/13\n",
      "https://www.apartments.com/Walnut-Creek-ca/14\n",
      "https://www.apartments.com/Walnut-Creek-ca/15\n",
      "https://www.apartments.com/Walnut-Creek-ca/16\n",
      "https://www.apartments.com/Walnut-Creek-ca/17\n",
      "https://www.apartments.com/Walnut-Creek-ca/18\n",
      "https://www.apartments.com/Walnut-Creek-ca/19\n",
      "https://www.apartments.com/Walnut-Creek-ca/20\n",
      "Windsor\n",
      "https://www.apartments.com/Windsor-ca/1\n",
      "https://www.apartments.com/Windsor-ca/2\n",
      "https://www.apartments.com/Windsor-ca/3\n",
      "Woodside\n",
      "https://www.apartments.com/Woodside-ca/1\n",
      "https://www.apartments.com/Woodside-ca/2\n",
      "https://www.apartments.com/Woodside-ca/3\n",
      "https://www.apartments.com/Woodside-ca/4\n",
      "https://www.apartments.com/Woodside-ca/5\n"
     ]
    }
   ],
   "source": [
    "for city in bay_area_cities:\n",
    "    city_url = '{}{}-ca/'.format(url, city)\n",
    "    pages = get_pages_count(city_url)\n",
    "    print(city)\n",
    "    for page in range(pages):\n",
    "        listings = listings + collect_appartment_links(city_url, page+1)"
   ]
  },
  {
   "cell_type": "code",
   "execution_count": 178,
   "metadata": {},
   "outputs": [],
   "source": [
    "appt_links = [link.attrs['href'] for link in listings]"
   ]
  },
  {
   "cell_type": "code",
   "execution_count": 179,
   "metadata": {},
   "outputs": [
    {
     "data": {
      "text/plain": [
       "28036"
      ]
     },
     "execution_count": 179,
     "metadata": {},
     "output_type": "execute_result"
    }
   ],
   "source": [
    "appt_l\"inks[:3]\n",
    "len(appt_links)\""
   ]
  },
  {
   "cell_type": "code",
   "execution_count": 180,
   "metadata": {},
   "outputs": [],
   "source": [
    "#let's remove duplicates\n",
    "appt_links = [item for item in set(appt_links) if appt_links.count(item) > 1]"
   ]
  },
  {
   "cell_type": "code",
   "execution_count": 181,
   "metadata": {},
   "outputs": [
    {
     "data": {
      "text/plain": [
       "5843"
      ]
     },
     "execution_count": 181,
     "metadata": {},
     "output_type": "execute_result"
    }
   ],
   "source": [
    "len(appt_links)"
   ]
  },
  {
   "cell_type": "code",
   "execution_count": 289,
   "metadata": {},
   "outputs": [
    {
     "data": {
      "text/plain": [
       "['https://www.apartments.com/914-boranda-ave-mountain-view-ca/67ww2ss/',\n",
       " 'https://www.apartments.com/3-br-3-bath-house-559-lytton-ave-palo-alto-ca/tep66tc/',\n",
       " 'https://www.apartments.com/1561-quebec-ct-sunnyvale-ca/r7cng81/']"
      ]
     },
     "execution_count": 289,
     "metadata": {},
     "output_type": "execute_result"
    }
   ],
   "source": [
    "appt_links[:3]"
   ]
  },
  {
   "cell_type": "code",
   "execution_count": 393,
   "metadata": {},
   "outputs": [],
   "source": [
    "def scrap_appartment(url):\n",
    "    response = requests.get(url, headers={'User-Agent': UserAgent().chrome})\n",
    "    soup = BeautifulSoup(response.content, 'html.parser')\n",
    "    notAvailable = soup.find('span', attrs={'class': 'noAvailability'})\n",
    "    if (notAvailable):\n",
    "        return\n",
    "    else:\n",
    "        containers = soup.find('div', attrs={'id': 'mapNavBreadcrumb'}).findAll('span')\n",
    "        name = containers[len(containers)-1].text\n",
    "        propertyType = containers[0].find('a').text\n",
    "        city = containers[2].find('a').text\n",
    "        hood = soup.find('div', attrs={'class': 'neighborhoodAddress'}).find('a', attrs={'class': 'neighborhood'}).text\n",
    "        description = soup.find('section', attrs={'id': 'descriptionSection'})\n",
    "        if (description):\n",
    "            description = description.find('p').text\n",
    "        walk_score = soup.find('div', attrs={'class': 'walkScore'})['data-score']\n",
    "        if (walk_score):\n",
    "            walk_score = len(walk_score)\n",
    "        transitScore = soup.find('div', attrs={'class': 'transitScore'})['data-score']\n",
    "        if (transitScore):\n",
    "            transitScore = len(transitScore)\n",
    "        soundScoreScore = soup.find('div', attrs={'class': 'soundScoreScore'}).text\n",
    "        if (soundScoreScore):\n",
    "            soundScoreScore = len(soundScoreScore)\n",
    "        appt_types = collect_numbers(soup)\n",
    "        additional_info = collect_additional(soup)\n",
    "        appartments = []\n",
    "        for appt in appt_types:\n",
    "            option = {\n",
    "                'name': name,\n",
    "                'city': city,\n",
    "                'hood': hood,\n",
    "                'propertyType': propertyType,\n",
    "                'beds': appt['beds'],\n",
    "                'baths': appt['baths'],\n",
    "                'price': appt['price'],\n",
    "                'deposit': appt['deposit'],\n",
    "                'sqft': appt['sqft'],\n",
    "                'walk_score': walk_score,\n",
    "                'transitScore': transitScore,\n",
    "                'description': description,\n",
    "                'url': url,\n",
    "                'zip': additional_info['zip'],\n",
    "                'schoolZone': additional_info['schoolZone']\n",
    "            }\n",
    "            appartments.append(option)\n",
    "        return appartments\n",
    "        "
   ]
  },
  {
   "cell_type": "code",
   "execution_count": 279,
   "metadata": {},
   "outputs": [],
   "source": [
    "def collect_numbers(dom):\n",
    "    table = dom.findAll('tr', attrs={'class':'rentalGridRow'})\n",
    "    rooms = []\n",
    "    for item in table:\n",
    "        beds = item.find('td', attrs={'class':'beds'}).find('span').text\n",
    "        baths = item.find('td', attrs={'class':'baths'}).find('span').text\n",
    "        price = item.find('td', attrs={'class':'rent'}).text\n",
    "        deposit = item.find('td', attrs={'class':'deposit'}).text\n",
    "        sqft = item.find('td', attrs={'class':'sqft'}).text\n",
    "        leaseLength = item.find('td', attrs={'class':'leaseLength'}).text\n",
    "        rooms.append({\n",
    "            \"beds\": exctract_digits(beds),\n",
    "            \"baths\": extract_from_range(baths),\n",
    "            \"price\": extract_from_range(price),\n",
    "            'deposit': exctract_digits(deposit),\n",
    "            'sqft': extract_from_range(sqft)\n",
    "        })\n",
    "    return rooms"
   ]
  },
  {
   "cell_type": "code",
   "execution_count": 392,
   "metadata": {},
   "outputs": [],
   "source": [
    "def collect_additional(dom):\n",
    "    additional = dom.find('p', attrs={'class': 'propertyBlurbContent'}).findAll('a')\n",
    "    return {\n",
    "        'zip': additional[1].text,\n",
    "        'schoolZone': additional[2].text\n",
    "    }\n",
    "    "
   ]
  },
  {
   "cell_type": "code",
   "execution_count": 245,
   "metadata": {},
   "outputs": [],
   "source": [
    "def hasNumbers(str):\n",
    "    return any(char.isdigit() for char in str)"
   ]
  },
  {
   "cell_type": "code",
   "execution_count": 265,
   "metadata": {},
   "outputs": [],
   "source": [
    "def extract_from_range(str):\n",
    "    if (hasNumbers(str)):\n",
    "        multiple = re.split(\"-\", str)\n",
    "        return exctract_digits(multiple[0])\n",
    "    else:\n",
    "        return 0"
   ]
  },
  {
   "cell_type": "code",
   "execution_count": 273,
   "metadata": {},
   "outputs": [],
   "source": [
    "def exctract_digits(str):\n",
    "    if (hasNumbers(str)):\n",
    "        return int(re.sub(\"\\D\", \"\", str))\n",
    "    else:\n",
    "        return 0"
   ]
  },
  {
   "cell_type": "code",
   "execution_count": 335,
   "metadata": {},
   "outputs": [],
   "source": [
    "# Progress bar\n",
    "from tqdm import tqdm"
   ]
  },
  {
   "cell_type": "code",
   "execution_count": 382,
   "metadata": {},
   "outputs": [],
   "source": [
    "# list to accumulate listings results\n",
    "global_listings=[]"
   ]
  },
  {
   "cell_type": "code",
   "execution_count": 394,
   "metadata": {},
   "outputs": [
    {
     "name": "stderr",
     "output_type": "stream",
     "text": [
      "\n",
      "\n",
      "\n",
      "  0%|          | 0/3594 [00:00<?, ?it/s]\u001b[A\u001b[A\u001b[A"
     ]
    },
    {
     "name": "stdout",
     "output_type": "stream",
     "text": [
      "https://www.apartments.com/164-elm-st-san-carlos-ca/8xe8d42/\n"
     ]
    },
    {
     "name": "stderr",
     "output_type": "stream",
     "text": [
      "\n",
      "\n",
      "\n",
      "  0%|          | 1/3594 [00:00<29:12,  2.05it/s]\u001b[A\u001b[A\u001b[A"
     ]
    },
    {
     "name": "stdout",
     "output_type": "stream",
     "text": [
      "https://www.apartments.com/2696-miller-ave-mountain-view-ca/dtpffxh/\n"
     ]
    },
    {
     "name": "stderr",
     "output_type": "stream",
     "text": [
      "\n",
      "\n",
      "\n",
      "  0%|          | 2/3594 [00:00<28:01,  2.14it/s]\u001b[A\u001b[A\u001b[A"
     ]
    },
    {
     "name": "stdout",
     "output_type": "stream",
     "text": [
      "https://www.apartments.com/480-del-medio-ave-mountain-view-ca/szf64c5/\n"
     ]
    },
    {
     "name": "stderr",
     "output_type": "stream",
     "text": [
      "\n",
      "\n",
      "\n",
      "  0%|          | 3/3594 [00:01<27:08,  2.21it/s]\u001b[A\u001b[A\u001b[A"
     ]
    },
    {
     "name": "stdout",
     "output_type": "stream",
     "text": [
      "https://www.apartments.com/2115-overlook-dr-ab-walnut-creek-ca/9b82d66/\n"
     ]
    },
    {
     "name": "stderr",
     "output_type": "stream",
     "text": [
      "\n",
      "\n",
      "\n",
      "  0%|          | 4/3594 [00:01<26:49,  2.23it/s]\u001b[A\u001b[A\u001b[A"
     ]
    },
    {
     "name": "stdout",
     "output_type": "stream",
     "text": [
      "https://www.apartments.com/3292-colgate-ave-santa-clara-ca/fg0z0mr/\n"
     ]
    },
    {
     "name": "stderr",
     "output_type": "stream",
     "text": [
      "\n",
      "\n",
      "\n",
      "  0%|          | 5/3594 [00:02<25:29,  2.35it/s]\u001b[A\u001b[A\u001b[A"
     ]
    },
    {
     "name": "stdout",
     "output_type": "stream",
     "text": [
      "https://www.apartments.com/605-san-pablo-ave-albany-ca/bhym5kc/\n"
     ]
    },
    {
     "name": "stderr",
     "output_type": "stream",
     "text": [
      "\n",
      "\n",
      "\n",
      "  0%|          | 6/3594 [00:02<25:01,  2.39it/s]\u001b[A\u001b[A\u001b[A"
     ]
    },
    {
     "name": "stdout",
     "output_type": "stream",
     "text": [
      "https://www.apartments.com/934-936-wyandotte-ave-daly-city-ca/53vgspn/\n"
     ]
    },
    {
     "name": "stderr",
     "output_type": "stream",
     "text": [
      "\n",
      "\n",
      "\n",
      "  0%|          | 7/3594 [00:02<24:15,  2.46it/s]\u001b[A\u001b[A\u001b[A"
     ]
    },
    {
     "name": "stdout",
     "output_type": "stream",
     "text": [
      "https://www.apartments.com/10322-alpine-dr-cupertino-ca/xgry4wn/\n"
     ]
    },
    {
     "name": "stderr",
     "output_type": "stream",
     "text": [
      "\n",
      "\n",
      "\n",
      "  0%|          | 8/3594 [00:03<24:37,  2.43it/s]\u001b[A\u001b[A\u001b[A"
     ]
    },
    {
     "name": "stdout",
     "output_type": "stream",
     "text": [
      "https://www.apartments.com/564-chestnut-san-carlos-ca/n9cn5fp/\n"
     ]
    },
    {
     "name": "stderr",
     "output_type": "stream",
     "text": [
      "\n",
      "\n",
      "\n",
      "  0%|          | 9/3594 [00:03<24:06,  2.48it/s]\u001b[A\u001b[A\u001b[A"
     ]
    },
    {
     "name": "stdout",
     "output_type": "stream",
     "text": [
      "https://www.apartments.com/4-br-45-bath-house-33416-pony-loop-fremont-ca/00qs2p3/\n"
     ]
    },
    {
     "name": "stderr",
     "output_type": "stream",
     "text": [
      "\n",
      "\n",
      "\n",
      "  0%|          | 10/3594 [00:04<31:15,  1.91it/s]\u001b[A\u001b[A\u001b[A"
     ]
    },
    {
     "name": "stdout",
     "output_type": "stream",
     "text": [
      "https://www.apartments.com/1348-navarro-dr-sunnyvale-ca-unit-1/6s482ss/\n"
     ]
    },
    {
     "name": "stderr",
     "output_type": "stream",
     "text": [
      "\n",
      "\n",
      "\n",
      "  0%|          | 11/3594 [00:04<28:21,  2.11it/s]\u001b[A\u001b[A\u001b[A"
     ]
    },
    {
     "name": "stdout",
     "output_type": "stream",
     "text": [
      "https://www.apartments.com/3-br-25-bath-house-45-laurel-grove-ross-ca/kvq4pf9/\n"
     ]
    },
    {
     "name": "stderr",
     "output_type": "stream",
     "text": [
      "\n",
      "\n",
      "\n",
      "  0%|          | 12/3594 [00:05<29:18,  2.04it/s]\u001b[A\u001b[A\u001b[A"
     ]
    },
    {
     "name": "stdout",
     "output_type": "stream",
     "text": [
      "https://www.apartments.com/1177-1179-phyllis-ave-mountain-view-ca/160px27/\n"
     ]
    },
    {
     "name": "stderr",
     "output_type": "stream",
     "text": [
      "\n",
      "\n",
      "\n",
      "  0%|          | 13/3594 [00:05<27:13,  2.19it/s]\u001b[A\u001b[A\u001b[A"
     ]
    },
    {
     "name": "stdout",
     "output_type": "stream",
     "text": [
      "https://www.apartments.com/1830-vera-ave-redwood-city-ca/s8s8cw5/\n"
     ]
    },
    {
     "name": "stderr",
     "output_type": "stream",
     "text": [
      "\n",
      "\n",
      "\n",
      "  0%|          | 14/3594 [00:06<28:58,  2.06it/s]\u001b[A\u001b[A\u001b[A"
     ]
    },
    {
     "name": "stdout",
     "output_type": "stream",
     "text": [
      "https://www.apartments.com/1963-desert-cir-walnut-creek-ca/yf8h6ft/\n"
     ]
    },
    {
     "name": "stderr",
     "output_type": "stream",
     "text": [
      "\n",
      "\n",
      "\n",
      "  0%|          | 15/3594 [00:07<35:58,  1.66it/s]\u001b[A\u001b[A\u001b[A"
     ]
    },
    {
     "name": "stdout",
     "output_type": "stream",
     "text": [
      "https://www.apartments.com/17-onyx-st-larkspur-ca/22zd92b/\n"
     ]
    },
    {
     "name": "stderr",
     "output_type": "stream",
     "text": [
      "\n",
      "\n",
      "\n",
      "  0%|          | 16/3594 [00:07<35:43,  1.67it/s]\u001b[A\u001b[A\u001b[A"
     ]
    },
    {
     "name": "stdout",
     "output_type": "stream",
     "text": [
      "https://www.apartments.com/1307-san-carlos-ave-san-carlos-ca/mqw8e1k/\n"
     ]
    },
    {
     "name": "stderr",
     "output_type": "stream",
     "text": [
      "\n",
      "\n",
      "\n",
      "  0%|          | 17/3594 [00:08<37:23,  1.59it/s]\u001b[A\u001b[A\u001b[A"
     ]
    },
    {
     "name": "stdout",
     "output_type": "stream",
     "text": [
      "https://www.apartments.com/3688-smith-st-union-city-ca/xmsm9zm/\n"
     ]
    },
    {
     "name": "stderr",
     "output_type": "stream",
     "text": [
      "\n",
      "\n",
      "\n",
      "  1%|          | 18/3594 [00:09<39:31,  1.51it/s]\u001b[A\u001b[A\u001b[A"
     ]
    },
    {
     "name": "stdout",
     "output_type": "stream",
     "text": [
      "https://www.apartments.com/bldg-3-mill-valley-ca/zxvysfz/\n"
     ]
    },
    {
     "name": "stderr",
     "output_type": "stream",
     "text": [
      "\n",
      "\n",
      "\n",
      "  1%|          | 19/3594 [00:10<41:16,  1.44it/s]\u001b[A\u001b[A\u001b[A"
     ]
    },
    {
     "name": "stdout",
     "output_type": "stream",
     "text": [
      "https://www.apartments.com/3234-yosemite-ave-el-cerrito-ca/w1386th/\n"
     ]
    },
    {
     "name": "stderr",
     "output_type": "stream",
     "text": [
      "\n",
      "\n",
      "\n",
      "  1%|          | 20/3594 [00:10<35:50,  1.66it/s]\u001b[A\u001b[A\u001b[A"
     ]
    },
    {
     "name": "stdout",
     "output_type": "stream",
     "text": [
      "https://www.apartments.com/sa-mona-apartments-san-rafael-ca/47134kj/\n"
     ]
    },
    {
     "name": "stderr",
     "output_type": "stream",
     "text": [
      "\n",
      "\n",
      "\n",
      "  1%|          | 21/3594 [00:11<36:45,  1.62it/s]\u001b[A\u001b[A\u001b[A"
     ]
    },
    {
     "name": "stdout",
     "output_type": "stream",
     "text": [
      "https://www.apartments.com/1610-ottawa-ct-sunnyvale-ca/wdlwrnj/\n"
     ]
    },
    {
     "name": "stderr",
     "output_type": "stream",
     "text": [
      "\n",
      "\n",
      "\n",
      "  1%|          | 22/3594 [00:11<33:25,  1.78it/s]\u001b[A\u001b[A\u001b[A"
     ]
    },
    {
     "name": "stdout",
     "output_type": "stream",
     "text": [
      "https://www.apartments.com/2056-ascot-dr-moraga-ca/zwyg8rz/\n"
     ]
    },
    {
     "name": "stderr",
     "output_type": "stream",
     "text": [
      "\n",
      "\n",
      "\n",
      "  1%|          | 23/3594 [00:11<29:53,  1.99it/s]\u001b[A\u001b[A\u001b[A"
     ]
    },
    {
     "name": "stdout",
     "output_type": "stream",
     "text": [
      "https://www.apartments.com/stonepine-san-ramon-ca/9czz2r5/\n"
     ]
    },
    {
     "name": "stderr",
     "output_type": "stream",
     "text": [
      "\n",
      "\n",
      "\n",
      "  1%|          | 24/3594 [00:12<27:31,  2.16it/s]\u001b[A\u001b[A\u001b[A"
     ]
    },
    {
     "name": "stdout",
     "output_type": "stream",
     "text": [
      "https://www.apartments.com/2437-warring-st-berkeley-ca-unit-h/mmw5ptl/\n"
     ]
    },
    {
     "name": "stderr",
     "output_type": "stream",
     "text": [
      "\n",
      "\n",
      "\n",
      "  1%|          | 25/3594 [00:12<25:23,  2.34it/s]\u001b[A\u001b[A\u001b[A"
     ]
    },
    {
     "name": "stdout",
     "output_type": "stream",
     "text": [
      "https://www.apartments.com/986-kains-ave-albany-ca/2y9jlm8/\n"
     ]
    },
    {
     "name": "stderr",
     "output_type": "stream",
     "text": [
      "\n",
      "\n",
      "\n",
      "  1%|          | 26/3594 [00:12<24:36,  2.42it/s]\u001b[A\u001b[A\u001b[A"
     ]
    },
    {
     "name": "stdout",
     "output_type": "stream",
     "text": [
      "https://www.apartments.com/1080-mission-rd-south-san-francisco-ca/t5h53gb/\n"
     ]
    },
    {
     "name": "stderr",
     "output_type": "stream",
     "text": [
      "\n",
      "\n",
      "\n",
      "  1%|          | 27/3594 [00:16<1:14:45,  1.26s/it]\u001b[A\u001b[A\u001b[A"
     ]
    },
    {
     "name": "stdout",
     "output_type": "stream",
     "text": [
      "https://www.apartments.com/30-kent-ct-daly-city-ca/472n1wl/\n"
     ]
    },
    {
     "name": "stderr",
     "output_type": "stream",
     "text": [
      "\n",
      "\n",
      "\n",
      "  1%|          | 28/3594 [00:17<1:13:26,  1.24s/it]\u001b[A\u001b[A\u001b[A"
     ]
    },
    {
     "name": "stdout",
     "output_type": "stream",
     "text": [
      "https://www.apartments.com/2113-overlook-dr-walnut-creek-ca/399le9d/\n"
     ]
    },
    {
     "name": "stderr",
     "output_type": "stream",
     "text": [
      "\n",
      "\n",
      "\n",
      "  1%|          | 29/3594 [00:17<57:57,  1.03it/s]  \u001b[A\u001b[A\u001b[A"
     ]
    },
    {
     "name": "stdout",
     "output_type": "stream",
     "text": [
      "https://www.apartments.com/1305-solano-ave-albany-ca/0lrjwq2/\n"
     ]
    },
    {
     "name": "stderr",
     "output_type": "stream",
     "text": [
      "\n",
      "\n",
      "\n",
      "  1%|          | 30/3594 [00:18<49:25,  1.20it/s]\u001b[A\u001b[A\u001b[A"
     ]
    },
    {
     "name": "stdout",
     "output_type": "stream",
     "text": [
      "https://www.apartments.com/3-bedroom-in-danville-ca-94506-danville-ca/n9hcpjq/\n"
     ]
    },
    {
     "name": "stderr",
     "output_type": "stream",
     "text": [
      "\n",
      "\n",
      "\n",
      "  1%|          | 31/3594 [00:19<54:27,  1.09it/s]\u001b[A\u001b[A\u001b[A"
     ]
    },
    {
     "name": "stdout",
     "output_type": "stream",
     "text": [
      "https://www.apartments.com/300-warren-ave-san-leandro-ca/gf1lldz/\n"
     ]
    },
    {
     "name": "stderr",
     "output_type": "stream",
     "text": [
      "\n",
      "\n",
      "\n",
      "  1%|          | 32/3594 [00:19<45:12,  1.31it/s]\u001b[A\u001b[A\u001b[A"
     ]
    },
    {
     "name": "stdout",
     "output_type": "stream",
     "text": [
      "https://www.apartments.com/915-e-blithedale-ave-mill-valley-ca-unit-8/97fbw57/\n"
     ]
    },
    {
     "name": "stderr",
     "output_type": "stream",
     "text": [
      "\n",
      "\n",
      "\n",
      "  1%|          | 33/3594 [00:20<39:17,  1.51it/s]\u001b[A\u001b[A\u001b[A"
     ]
    },
    {
     "name": "stdout",
     "output_type": "stream",
     "text": [
      "https://www.apartments.com/bel-air-belmont-ca/8f8chy3/\n"
     ]
    },
    {
     "name": "stderr",
     "output_type": "stream",
     "text": [
      "\n",
      "\n",
      "\n",
      "  1%|          | 34/3594 [00:20<33:52,  1.75it/s]\u001b[A\u001b[A\u001b[A"
     ]
    },
    {
     "name": "stdout",
     "output_type": "stream",
     "text": [
      "https://www.apartments.com/tree-house-apartments-palo-alto-ca/wsy0vmj/\n"
     ]
    },
    {
     "name": "stderr",
     "output_type": "stream",
     "text": [
      "\n",
      "\n",
      "\n",
      "  1%|          | 35/3594 [00:20<31:03,  1.91it/s]\u001b[A\u001b[A\u001b[A"
     ]
    },
    {
     "name": "stdout",
     "output_type": "stream",
     "text": [
      "https://www.apartments.com/3601-fairview-dr-antioch-ca/ce2s8pg/\n"
     ]
    },
    {
     "name": "stderr",
     "output_type": "stream",
     "text": [
      "\n",
      "\n",
      "\n",
      "  1%|          | 36/3594 [00:21<28:41,  2.07it/s]\u001b[A\u001b[A\u001b[A"
     ]
    },
    {
     "name": "stdout",
     "output_type": "stream",
     "text": [
      "https://www.apartments.com/142-santa-lucia-ave-san-bruno-ca/kg9pw9c/\n"
     ]
    },
    {
     "name": "stderr",
     "output_type": "stream",
     "text": [
      "\n",
      "\n",
      "\n",
      "  1%|          | 37/3594 [00:21<27:52,  2.13it/s]\u001b[A\u001b[A\u001b[A"
     ]
    },
    {
     "name": "stdout",
     "output_type": "stream",
     "text": [
      "https://www.apartments.com/civic-plaza-apartments-el-cerrito-ca/1j5gxw5/\n"
     ]
    },
    {
     "name": "stderr",
     "output_type": "stream",
     "text": [
      "\n",
      "\n",
      "\n",
      "  1%|          | 38/3594 [00:22<27:30,  2.16it/s]\u001b[A\u001b[A\u001b[A"
     ]
    },
    {
     "name": "stdout",
     "output_type": "stream",
     "text": [
      "https://www.apartments.com/439-441-alden-st-redwood-city-ca/mncp80k/\n"
     ]
    },
    {
     "name": "stderr",
     "output_type": "stream",
     "text": [
      "\n",
      "\n",
      "\n",
      "  1%|          | 39/3594 [00:22<26:17,  2.25it/s]\u001b[A\u001b[A\u001b[A"
     ]
    },
    {
     "name": "stdout",
     "output_type": "stream",
     "text": [
      "https://www.apartments.com/1143-lakeview-cir-pittsburg-ca-unit-1143/tvcr619/\n"
     ]
    },
    {
     "name": "stderr",
     "output_type": "stream",
     "text": [
      "\n",
      "\n",
      "\n",
      "  1%|          | 40/3594 [00:23<33:23,  1.77it/s]\u001b[A\u001b[A\u001b[A"
     ]
    },
    {
     "name": "stdout",
     "output_type": "stream",
     "text": [
      "https://www.apartments.com/476-cane-st-larkspur-ca/qjydchx/\n"
     ]
    },
    {
     "name": "stderr",
     "output_type": "stream",
     "text": [
      "\n",
      "\n",
      "\n",
      "  1%|          | 41/3594 [00:23<30:30,  1.94it/s]\u001b[A\u001b[A\u001b[A"
     ]
    },
    {
     "name": "stdout",
     "output_type": "stream",
     "text": [
      "https://www.apartments.com/5-broadway-millbrae-ca/dd1qs3l/\n"
     ]
    },
    {
     "name": "stderr",
     "output_type": "stream",
     "text": [
      "\n",
      "\n",
      "\n",
      "  1%|          | 42/3594 [00:25<48:56,  1.21it/s]\u001b[A\u001b[A\u001b[A"
     ]
    },
    {
     "name": "stdout",
     "output_type": "stream",
     "text": [
      "https://www.apartments.com/257-elm-st-san-carlos-ca/vgnf95e/\n"
     ]
    },
    {
     "name": "stderr",
     "output_type": "stream",
     "text": [
      "\n",
      "\n",
      "\n",
      "  1%|          | 43/3594 [00:25<41:01,  1.44it/s]\u001b[A\u001b[A\u001b[A"
     ]
    },
    {
     "name": "stdout",
     "output_type": "stream",
     "text": [
      "https://www.apartments.com/5541-highland-ave-richmond-ca/x4r5vwn/\n"
     ]
    },
    {
     "name": "stderr",
     "output_type": "stream",
     "text": [
      "\n",
      "\n",
      "\n",
      "  1%|          | 44/3594 [00:26<37:16,  1.59it/s]\u001b[A\u001b[A\u001b[A"
     ]
    },
    {
     "name": "stdout",
     "output_type": "stream",
     "text": [
      "https://www.apartments.com/2916-almondridge-dr-antioch-ca/nxbqk4m/\n"
     ]
    },
    {
     "name": "stderr",
     "output_type": "stream",
     "text": [
      "\n",
      "\n",
      "\n",
      "  1%|▏         | 45/3594 [00:26<33:14,  1.78it/s]\u001b[A\u001b[A\u001b[A"
     ]
    },
    {
     "name": "stdout",
     "output_type": "stream",
     "text": [
      "https://www.apartments.com/639-641-abbot-ave-daly-city-ca/8vhkvz2/\n"
     ]
    },
    {
     "name": "stderr",
     "output_type": "stream",
     "text": [
      "\n",
      "\n",
      "\n",
      "  1%|▏         | 46/3594 [00:27<30:23,  1.95it/s]\u001b[A\u001b[A\u001b[A"
     ]
    },
    {
     "name": "stdout",
     "output_type": "stream",
     "text": [
      "https://www.apartments.com/alderwood-apartments-santa-clara-ca/w5yej4j/\n"
     ]
    },
    {
     "name": "stderr",
     "output_type": "stream",
     "text": [
      "\n",
      "\n",
      "\n",
      "  1%|▏         | 47/3594 [00:27<30:09,  1.96it/s]\u001b[A\u001b[A\u001b[A"
     ]
    },
    {
     "name": "stdout",
     "output_type": "stream",
     "text": [
      "https://www.apartments.com/river-terrace-santa-clara-ca/dcr4v1l/\n"
     ]
    },
    {
     "name": "stderr",
     "output_type": "stream",
     "text": [
      "\n",
      "\n",
      "\n",
      "  1%|▏         | 48/3594 [00:28<31:48,  1.86it/s]\u001b[A\u001b[A\u001b[A"
     ]
    },
    {
     "name": "stdout",
     "output_type": "stream",
     "text": [
      "https://www.apartments.com/570-kains-ave-san-bruno-ca/7216n3x/\n"
     ]
    },
    {
     "name": "stderr",
     "output_type": "stream",
     "text": [
      "\n",
      "\n",
      "\n",
      "  1%|▏         | 49/3594 [00:28<28:50,  2.05it/s]\u001b[A\u001b[A\u001b[A"
     ]
    },
    {
     "name": "stdout",
     "output_type": "stream",
     "text": [
      "https://www.apartments.com/17869-vineland-ave-monte-sereno-ca/heh8w32/\n"
     ]
    },
    {
     "name": "stderr",
     "output_type": "stream",
     "text": [
      "\n",
      "\n",
      "\n",
      "  1%|▏         | 50/3594 [00:29<32:47,  1.80it/s]\u001b[A\u001b[A\u001b[A"
     ]
    },
    {
     "name": "stdout",
     "output_type": "stream",
     "text": [
      "https://www.apartments.com/1710-1712-roosevelt-ave-redwood-city-ca/h0ph4p2/\n"
     ]
    },
    {
     "name": "stderr",
     "output_type": "stream",
     "text": [
      "\n",
      "\n",
      "\n",
      "  1%|▏         | 51/3594 [00:29<29:55,  1.97it/s]\u001b[A\u001b[A\u001b[A"
     ]
    },
    {
     "name": "stdout",
     "output_type": "stream",
     "text": [
      "https://www.apartments.com/34831-peco-st-union-city-ca/qbke9sy/\n"
     ]
    },
    {
     "name": "stderr",
     "output_type": "stream",
     "text": [
      "\n",
      "\n",
      "\n",
      "  1%|▏         | 52/3594 [00:30<28:08,  2.10it/s]\u001b[A\u001b[A\u001b[A"
     ]
    },
    {
     "name": "stdout",
     "output_type": "stream",
     "text": [
      "https://www.apartments.com/216-santa-lucia-ave-san-bruno-ca/6lf724s/\n"
     ]
    },
    {
     "name": "stderr",
     "output_type": "stream",
     "text": [
      "\n",
      "\n",
      "\n",
      "  1%|▏         | 53/3594 [00:30<27:07,  2.18it/s]\u001b[A\u001b[A\u001b[A"
     ]
    },
    {
     "name": "stdout",
     "output_type": "stream",
     "text": [
      "https://www.apartments.com/12-coleman-pl-menlo-park-ca/qvl19fx/\n"
     ]
    },
    {
     "name": "stderr",
     "output_type": "stream",
     "text": [
      "\n",
      "\n",
      "\n",
      "  2%|▏         | 54/3594 [00:30<26:37,  2.22it/s]\u001b[A\u001b[A\u001b[A"
     ]
    },
    {
     "name": "stdout",
     "output_type": "stream",
     "text": [
      "https://www.apartments.com/484-486-james-rd-palo-alto-ca/q4sepvx/\n"
     ]
    },
    {
     "name": "stderr",
     "output_type": "stream",
     "text": [
      "\n",
      "\n",
      "\n",
      "  2%|▏         | 55/3594 [00:31<26:08,  2.26it/s]\u001b[A\u001b[A\u001b[A"
     ]
    },
    {
     "name": "stdout",
     "output_type": "stream",
     "text": [
      "https://www.apartments.com/1945-gamel-way-mountain-view-ca/nk97mcm/\n"
     ]
    },
    {
     "name": "stderr",
     "output_type": "stream",
     "text": [
      "\n",
      "\n",
      "\n",
      "  2%|▏         | 56/3594 [00:31<24:51,  2.37it/s]\u001b[A\u001b[A\u001b[A"
     ]
    },
    {
     "name": "stdout",
     "output_type": "stream",
     "text": [
      "https://www.apartments.com/395-richmond-dr-millbrae-ca/7xq79pz/\n"
     ]
    },
    {
     "name": "stderr",
     "output_type": "stream",
     "text": [
      "\n",
      "\n",
      "\n",
      "  2%|▏         | 57/3594 [00:32<25:23,  2.32it/s]\u001b[A\u001b[A\u001b[A"
     ]
    },
    {
     "name": "stdout",
     "output_type": "stream",
     "text": [
      "https://www.apartments.com/1658-lower-grand-ave-piedmont-ca/fp8tbqv/\n"
     ]
    },
    {
     "name": "stderr",
     "output_type": "stream",
     "text": [
      "\n",
      "\n",
      "\n",
      "  2%|▏         | 58/3594 [00:32<25:54,  2.28it/s]\u001b[A\u001b[A\u001b[A"
     ]
    },
    {
     "name": "stdout",
     "output_type": "stream",
     "text": [
      "https://www.apartments.com/1244-el-camino-real-burlingame-ca/l5yw3lg/\n"
     ]
    },
    {
     "name": "stderr",
     "output_type": "stream",
     "text": [
      "\n",
      "\n",
      "\n",
      "  2%|▏         | 59/3594 [00:33<24:44,  2.38it/s]\u001b[A\u001b[A\u001b[A"
     ]
    },
    {
     "name": "stdout",
     "output_type": "stream",
     "text": [
      "https://www.apartments.com/522-almer-rd-burlingame-ca/1lglte7/\n"
     ]
    },
    {
     "name": "stderr",
     "output_type": "stream",
     "text": [
      "\n",
      "\n",
      "\n",
      "  2%|▏         | 60/3594 [00:33<32:32,  1.81it/s]\u001b[A\u001b[A\u001b[A"
     ]
    },
    {
     "name": "stdout",
     "output_type": "stream",
     "text": [
      "https://www.apartments.com/988-990-meadowsweet-dr-corte-madera-ca/gxyk4qx/\n"
     ]
    },
    {
     "name": "stderr",
     "output_type": "stream",
     "text": [
      "\n",
      "\n",
      "\n",
      "  2%|▏         | 61/3594 [00:34<30:40,  1.92it/s]\u001b[A\u001b[A\u001b[A"
     ]
    },
    {
     "name": "stdout",
     "output_type": "stream",
     "text": [
      "https://www.apartments.com/1501-howard-ave-burlingame-ca/8ppr4f1/\n"
     ]
    },
    {
     "name": "stderr",
     "output_type": "stream",
     "text": [
      "\n",
      "\n",
      "\n",
      "  2%|▏         | 62/3594 [00:34<29:00,  2.03it/s]\u001b[A\u001b[A\u001b[A"
     ]
    },
    {
     "name": "stdout",
     "output_type": "stream",
     "text": [
      "https://www.apartments.com/756-calla-dr-sunnyvale-ca-unit-4/p055n1t/\n"
     ]
    },
    {
     "name": "stderr",
     "output_type": "stream",
     "text": [
      "\n",
      "\n",
      "\n",
      "  2%|▏         | 63/3594 [00:35<25:41,  2.29it/s]\u001b[A\u001b[A\u001b[A"
     ]
    },
    {
     "name": "stdout",
     "output_type": "stream",
     "text": [
      "https://www.apartments.com/1876-california-st-mountain-view-ca/xcjfmbm/\n"
     ]
    },
    {
     "name": "stderr",
     "output_type": "stream",
     "text": [
      "\n",
      "\n",
      "\n",
      "  2%|▏         | 64/3594 [00:35<29:54,  1.97it/s]\u001b[A\u001b[A\u001b[A"
     ]
    },
    {
     "name": "stdout",
     "output_type": "stream",
     "text": [
      "https://www.apartments.com/2-bedroom-in-mountain-view-ca-94040-mountain-view-ca/tg7gfl9/\n"
     ]
    },
    {
     "name": "stderr",
     "output_type": "stream",
     "text": [
      "\n",
      "\n",
      "\n",
      "  2%|▏         | 65/3594 [00:36<29:40,  1.98it/s]\u001b[A\u001b[A\u001b[A"
     ]
    },
    {
     "name": "stdout",
     "output_type": "stream",
     "text": [
      "https://www.apartments.com/bridgecourt-emeryville-ca/qpgmkww/\n"
     ]
    },
    {
     "name": "stderr",
     "output_type": "stream",
     "text": [
      "\n",
      "\n",
      "\n",
      "  2%|▏         | 66/3594 [00:36<29:58,  1.96it/s]\u001b[A\u001b[A\u001b[A"
     ]
    },
    {
     "name": "stdout",
     "output_type": "stream",
     "text": [
      "https://www.apartments.com/2548-san-pablo-ave-pinole-ca/h3wt4r0/\n"
     ]
    },
    {
     "name": "stderr",
     "output_type": "stream",
     "text": [
      "\n",
      "\n",
      "\n",
      "  2%|▏         | 67/3594 [00:37<31:02,  1.89it/s]\u001b[A\u001b[A\u001b[A"
     ]
    },
    {
     "name": "stdout",
     "output_type": "stream",
     "text": [
      "https://www.apartments.com/701-highland-ave-san-mateo-ca/qbfn3hw/\n"
     ]
    },
    {
     "name": "stderr",
     "output_type": "stream",
     "text": [
      "\n",
      "\n",
      "\n",
      "  2%|▏         | 68/3594 [00:37<29:19,  2.00it/s]\u001b[A\u001b[A\u001b[A"
     ]
    },
    {
     "name": "stdout",
     "output_type": "stream",
     "text": [
      "https://www.apartments.com/6400-christie-ave-emeryville-ca/ntkcxpm/\n"
     ]
    },
    {
     "name": "stderr",
     "output_type": "stream",
     "text": [
      "\n",
      "\n",
      "\n",
      "  2%|▏         | 69/3594 [00:38<28:27,  2.06it/s]\u001b[A\u001b[A\u001b[A"
     ]
    },
    {
     "name": "stdout",
     "output_type": "stream",
     "text": [
      "https://www.apartments.com/125-santa-ana-st-san-pablo-ca/d9l33zj/\n"
     ]
    },
    {
     "name": "stderr",
     "output_type": "stream",
     "text": [
      "\n",
      "\n",
      "\n",
      "  2%|▏         | 70/3594 [00:38<28:06,  2.09it/s]\u001b[A\u001b[A\u001b[A"
     ]
    },
    {
     "name": "stdout",
     "output_type": "stream",
     "text": [
      "https://www.apartments.com/411-lewis-ln-pacifica-ca-unit-upper/nwx5tmq/\n"
     ]
    },
    {
     "name": "stderr",
     "output_type": "stream",
     "text": [
      "\n",
      "\n",
      "\n",
      "  2%|▏         | 71/3594 [00:39<26:42,  2.20it/s]\u001b[A\u001b[A\u001b[A"
     ]
    },
    {
     "name": "stdout",
     "output_type": "stream",
     "text": [
      "https://www.apartments.com/1013-el-camino-real-burlingame-ca/rp3l613/\n"
     ]
    },
    {
     "name": "stderr",
     "output_type": "stream",
     "text": [
      "\n",
      "\n",
      "\n",
      "  2%|▏         | 72/3594 [00:39<25:07,  2.34it/s]\u001b[A\u001b[A\u001b[A"
     ]
    },
    {
     "name": "stdout",
     "output_type": "stream",
     "text": [
      "https://www.apartments.com/524-526-528-lewis-ln-pacifica-ca/17s4v06/\n"
     ]
    },
    {
     "name": "stderr",
     "output_type": "stream",
     "text": [
      "\n",
      "\n",
      "\n",
      "  2%|▏         | 73/3594 [00:39<24:04,  2.44it/s]\u001b[A\u001b[A\u001b[A"
     ]
    },
    {
     "name": "stdout",
     "output_type": "stream",
     "text": [
      "https://www.apartments.com/121-nottingham-ave-redwood-city-ca/qpn6m7x/\n"
     ]
    },
    {
     "name": "stderr",
     "output_type": "stream",
     "text": [
      "\n",
      "\n",
      "\n",
      "  2%|▏         | 74/3594 [00:40<23:15,  2.52it/s]\u001b[A\u001b[A\u001b[A"
     ]
    },
    {
     "name": "stdout",
     "output_type": "stream",
     "text": [
      "https://www.apartments.com/127-lorton-ave-burlingame-ca/ze625jy/\n"
     ]
    },
    {
     "name": "stderr",
     "output_type": "stream",
     "text": [
      "\n",
      "\n",
      "\n",
      "  2%|▏         | 75/3594 [00:40<29:59,  1.96it/s]\u001b[A\u001b[A\u001b[A"
     ]
    },
    {
     "name": "stdout",
     "output_type": "stream",
     "text": [
      "https://www.apartments.com/1732-latham-st-mountain-view-ca/2em8pc8/\n"
     ]
    },
    {
     "name": "stderr",
     "output_type": "stream",
     "text": [
      "\n",
      "\n",
      "\n",
      "  2%|▏         | 76/3594 [00:41<27:14,  2.15it/s]\u001b[A\u001b[A\u001b[A"
     ]
    },
    {
     "name": "stdout",
     "output_type": "stream",
     "text": [
      "https://www.apartments.com/555-laurel-ave-san-mateo-ca/hdgnr83/\n"
     ]
    },
    {
     "name": "stderr",
     "output_type": "stream",
     "text": [
      "\n",
      "\n",
      "\n",
      "  2%|▏         | 77/3594 [00:41<26:12,  2.24it/s]\u001b[A\u001b[A\u001b[A"
     ]
    },
    {
     "name": "stdout",
     "output_type": "stream",
     "text": [
      "https://www.apartments.com/530-chestnut-st-san-carlos-ca/3vre62f/\n"
     ]
    },
    {
     "name": "stderr",
     "output_type": "stream",
     "text": [
      "\n",
      "\n",
      "\n",
      "  2%|▏         | 78/3594 [00:42<25:14,  2.32it/s]\u001b[A\u001b[A\u001b[A"
     ]
    },
    {
     "name": "stdout",
     "output_type": "stream",
     "text": [
      "https://www.apartments.com/2332-fulton-st-berkeley-ca-unit-a/xzbgtvp/\n"
     ]
    },
    {
     "name": "stderr",
     "output_type": "stream",
     "text": [
      "\n",
      "\n",
      "\n",
      "  2%|▏         | 79/3594 [00:42<23:56,  2.45it/s]\u001b[A\u001b[A\u001b[A"
     ]
    },
    {
     "name": "stdout",
     "output_type": "stream",
     "text": [
      "https://www.apartments.com/147-birch-st-redwood-city-ca/7329mhw/\n"
     ]
    },
    {
     "name": "stderr",
     "output_type": "stream",
     "text": [
      "\n",
      "\n",
      "\n",
      "  2%|▏         | 80/3594 [00:42<23:09,  2.53it/s]\u001b[A\u001b[A\u001b[A"
     ]
    },
    {
     "name": "stdout",
     "output_type": "stream",
     "text": [
      "https://www.apartments.com/401-m-st-antioch-ca/yf1fxgv/\n"
     ]
    },
    {
     "name": "stderr",
     "output_type": "stream",
     "text": [
      "\n",
      "\n",
      "\n",
      "  2%|▏         | 81/3594 [00:43<22:21,  2.62it/s]\u001b[A\u001b[A\u001b[A"
     ]
    },
    {
     "name": "stdout",
     "output_type": "stream",
     "text": [
      "https://www.apartments.com/436-n-claremont-st-san-mateo-ca/gcypf9w/\n"
     ]
    },
    {
     "name": "stderr",
     "output_type": "stream",
     "text": [
      "\n",
      "\n",
      "\n",
      "  2%|▏         | 82/3594 [00:43<22:14,  2.63it/s]\u001b[A\u001b[A\u001b[A"
     ]
    },
    {
     "name": "stdout",
     "output_type": "stream",
     "text": [
      "https://www.apartments.com/1152-s-bernardo-ave-sunnyvale-ca/gezwzry/\n"
     ]
    },
    {
     "name": "stderr",
     "output_type": "stream",
     "text": [
      "\n",
      "\n",
      "\n",
      "  2%|▏         | 83/3594 [00:44<23:59,  2.44it/s]\u001b[A\u001b[A\u001b[A"
     ]
    },
    {
     "name": "stdout",
     "output_type": "stream",
     "text": [
      "https://www.apartments.com/830-alameda-de-las-pulgas-belmont-ca/7g2r1nz/\n"
     ]
    },
    {
     "name": "stderr",
     "output_type": "stream",
     "text": [
      "\n",
      "\n",
      "\n",
      "  2%|▏         | 84/3594 [00:44<24:06,  2.43it/s]\u001b[A\u001b[A\u001b[A"
     ]
    },
    {
     "name": "stdout",
     "output_type": "stream",
     "text": [
      "https://www.apartments.com/481-la-conner-dr-sunnyvale-ca/zgbwd9z/\n"
     ]
    },
    {
     "name": "stderr",
     "output_type": "stream",
     "text": [
      "\n",
      "\n",
      "\n",
      "  2%|▏         | 85/3594 [00:44<23:51,  2.45it/s]\u001b[A\u001b[A\u001b[A"
     ]
    },
    {
     "name": "stdout",
     "output_type": "stream",
     "text": [
      "https://www.apartments.com/3701-peacock-ct-santa-clara-ca/7vf4lrx/\n"
     ]
    },
    {
     "name": "stderr",
     "output_type": "stream",
     "text": [
      "\n",
      "\n",
      "\n",
      "  2%|▏         | 86/3594 [00:46<47:26,  1.23it/s]\u001b[A\u001b[A\u001b[A"
     ]
    },
    {
     "name": "stdout",
     "output_type": "stream",
     "text": [
      "https://www.apartments.com/1670-union-ave-redwood-city-ca/d1ed56k/\n"
     ]
    },
    {
     "name": "stderr",
     "output_type": "stream",
     "text": [
      "\n",
      "\n",
      "\n",
      "  2%|▏         | 87/3594 [00:47<55:23,  1.06it/s]\u001b[A\u001b[A\u001b[A"
     ]
    },
    {
     "name": "stdout",
     "output_type": "stream",
     "text": [
      "https://www.apartments.com/2636-warring-st-berkeley-ca/wb72rdk/\n"
     ]
    },
    {
     "name": "stderr",
     "output_type": "stream",
     "text": [
      "\n",
      "\n",
      "\n",
      "  2%|▏         | 88/3594 [00:48<56:04,  1.04it/s]\u001b[A\u001b[A\u001b[A"
     ]
    },
    {
     "name": "stdout",
     "output_type": "stream",
     "text": [
      "https://www.apartments.com/university-terrace-palo-alto-ca/jklx244/\n"
     ]
    },
    {
     "name": "stderr",
     "output_type": "stream",
     "text": [
      "\n",
      "\n",
      "\n",
      "  2%|▏         | 89/3594 [00:49<51:36,  1.13it/s]\u001b[A\u001b[A\u001b[A"
     ]
    },
    {
     "name": "stdout",
     "output_type": "stream",
     "text": [
      "https://www.apartments.com/176-duane-st-redwood-city-ca/ep1tlgn/\n"
     ]
    },
    {
     "name": "stderr",
     "output_type": "stream",
     "text": [
      "\n",
      "\n",
      "\n",
      "  3%|▎         | 90/3594 [00:51<1:12:04,  1.23s/it]\u001b[A\u001b[A\u001b[A"
     ]
    },
    {
     "name": "stdout",
     "output_type": "stream",
     "text": [
      "https://www.apartments.com/1965-euclid-ave-menlo-park-ca/8zg94t0/\n"
     ]
    },
    {
     "name": "stderr",
     "output_type": "stream",
     "text": [
      "\n",
      "\n",
      "\n",
      "  3%|▎         | 91/3594 [00:52<1:08:22,  1.17s/it]\u001b[A\u001b[A\u001b[A"
     ]
    },
    {
     "name": "stdout",
     "output_type": "stream",
     "text": [
      "https://www.apartments.com/876-park-dr-mountain-view-ca/56z9mym/\n"
     ]
    },
    {
     "name": "stderr",
     "output_type": "stream",
     "text": [
      "\n",
      "\n",
      "\n",
      "  3%|▎         | 92/3594 [00:53<1:05:52,  1.13s/it]\u001b[A\u001b[A\u001b[A"
     ]
    },
    {
     "name": "stdout",
     "output_type": "stream",
     "text": [
      "https://www.apartments.com/518-n-claremont-st-san-mateo-ca/zld5m1w/\n"
     ]
    },
    {
     "name": "stderr",
     "output_type": "stream",
     "text": [
      "\n",
      "\n",
      "\n",
      "  3%|▎         | 93/3594 [00:54<1:05:55,  1.13s/it]\u001b[A\u001b[A\u001b[A"
     ]
    },
    {
     "name": "stdout",
     "output_type": "stream",
     "text": [
      "https://www.apartments.com/sharron-apartments-mountain-view-ca/x753wyq/\n"
     ]
    },
    {
     "name": "stderr",
     "output_type": "stream",
     "text": [
      "\n",
      "\n",
      "\n",
      "  3%|▎         | 94/3594 [00:55<1:00:36,  1.04s/it]\u001b[A\u001b[A\u001b[A"
     ]
    },
    {
     "name": "stdout",
     "output_type": "stream",
     "text": [
      "https://www.apartments.com/815-n-humboldt-st-san-mateo-ca/88eh5n0/\n"
     ]
    },
    {
     "name": "stderr",
     "output_type": "stream",
     "text": [
      "\n",
      "\n",
      "\n",
      "  3%|▎         | 95/3594 [00:56<1:01:35,  1.06s/it]\u001b[A\u001b[A\u001b[A"
     ]
    },
    {
     "name": "stdout",
     "output_type": "stream",
     "text": [
      "https://www.apartments.com/130-san-juan-ave-millbrae-ca/6xt0fhv/\n"
     ]
    },
    {
     "name": "stderr",
     "output_type": "stream",
     "text": [
      "\n",
      "\n",
      "\n",
      "  3%|▎         | 96/3594 [00:57<55:01,  1.06it/s]  \u001b[A\u001b[A\u001b[A"
     ]
    },
    {
     "name": "stdout",
     "output_type": "stream",
     "text": [
      "https://www.apartments.com/1315-kingfisher-way-sunnyvale-ca/ef7hebq/\n"
     ]
    },
    {
     "name": "stderr",
     "output_type": "stream",
     "text": [
      "\n",
      "\n",
      "\n",
      "  3%|▎         | 97/3594 [00:57<45:58,  1.27it/s]\u001b[A\u001b[A\u001b[A"
     ]
    },
    {
     "name": "stdout",
     "output_type": "stream",
     "text": [
      "https://www.apartments.com/850-jordan-ave-los-altos-ca/be3n2r8/\n"
     ]
    },
    {
     "name": "stderr",
     "output_type": "stream",
     "text": [
      "\n",
      "\n",
      "\n",
      "  3%|▎         | 98/3594 [00:58<46:29,  1.25it/s]\u001b[A\u001b[A\u001b[A"
     ]
    },
    {
     "name": "stdout",
     "output_type": "stream",
     "text": [
      "https://www.apartments.com/149-santa-helena-ave-millbrae-ca/q58np9w/\n"
     ]
    },
    {
     "name": "stderr",
     "output_type": "stream",
     "text": [
      "\n",
      "\n",
      "\n",
      "  3%|▎         | 99/3594 [00:59<43:27,  1.34it/s]\u001b[A\u001b[A\u001b[A"
     ]
    },
    {
     "name": "stdout",
     "output_type": "stream",
     "text": [
      "https://www.apartments.com/840-edgehill-burlingame-ca/7v7e7yz/\n"
     ]
    },
    {
     "name": "stderr",
     "output_type": "stream",
     "text": [
      "\n",
      "\n",
      "\n",
      "  3%|▎         | 100/3594 [00:59<41:20,  1.41it/s]\u001b[A\u001b[A\u001b[A"
     ]
    },
    {
     "name": "stdout",
     "output_type": "stream",
     "text": [
      "https://www.apartments.com/5120-panama-ave-richmond-ca/rkh57g2/\n"
     ]
    },
    {
     "name": "stderr",
     "output_type": "stream",
     "text": [
      "\n",
      "\n",
      "\n",
      "  3%|▎         | 101/3594 [01:01<1:00:31,  1.04s/it]\u001b[A\u001b[A\u001b[A"
     ]
    },
    {
     "name": "stdout",
     "output_type": "stream",
     "text": [
      "https://www.apartments.com/140-southwood-ctr-south-san-francisco-ca/e94zlgq/\n"
     ]
    },
    {
     "name": "stderr",
     "output_type": "stream",
     "text": [
      "\n",
      "\n",
      "\n",
      "  3%|▎         | 102/3594 [01:02<54:04,  1.08it/s]  \u001b[A\u001b[A\u001b[A"
     ]
    },
    {
     "name": "stdout",
     "output_type": "stream",
     "text": [
      "https://www.apartments.com/1452-san-antonio-ave-menlo-park-ca/w42h28k/\n"
     ]
    },
    {
     "name": "stderr",
     "output_type": "stream",
     "text": [
      "\n",
      "\n",
      "\n",
      "  3%|▎         | 103/3594 [01:02<45:37,  1.28it/s]\u001b[A\u001b[A\u001b[A"
     ]
    },
    {
     "name": "stdout",
     "output_type": "stream",
     "text": [
      "https://www.apartments.com/828-cowper-st-palo-alto-ca/pz912ht/\n"
     ]
    },
    {
     "name": "stderr",
     "output_type": "stream",
     "text": [
      "\n",
      "\n",
      "\n",
      "  3%|▎         | 104/3594 [01:03<39:19,  1.48it/s]\u001b[A\u001b[A\u001b[A"
     ]
    },
    {
     "name": "stdout",
     "output_type": "stream",
     "text": [
      "https://www.apartments.com/village-green-apartments-cupertino-ca/bfc2ys9/\n"
     ]
    },
    {
     "name": "stderr",
     "output_type": "stream",
     "text": [
      "\n",
      "\n",
      "\n",
      "  3%|▎         | 105/3594 [01:03<35:15,  1.65it/s]\u001b[A\u001b[A\u001b[A"
     ]
    },
    {
     "name": "stdout",
     "output_type": "stream",
     "text": [
      "https://www.apartments.com/1108-w-5th-st-antioch-ca/yjj4xbs/\n"
     ]
    },
    {
     "name": "stderr",
     "output_type": "stream",
     "text": [
      "\n",
      "\n",
      "\n",
      "  3%|▎         | 106/3594 [01:04<30:49,  1.89it/s]\u001b[A\u001b[A\u001b[A"
     ]
    },
    {
     "name": "stdout",
     "output_type": "stream",
     "text": [
      "https://www.apartments.com/3110-3112-hoover-st-redwood-city-ca/hg0jqk3/\n"
     ]
    },
    {
     "name": "stderr",
     "output_type": "stream",
     "text": [
      "\n",
      "\n",
      "\n",
      "  3%|▎         | 107/3594 [01:05<52:12,  1.11it/s]\u001b[A\u001b[A\u001b[A"
     ]
    },
    {
     "name": "stdout",
     "output_type": "stream",
     "text": [
      "https://www.apartments.com/159-garden-ln-millbrae-ca/l53jd9d/\n"
     ]
    },
    {
     "name": "stderr",
     "output_type": "stream",
     "text": [
      "\n",
      "\n",
      "\n",
      "  3%|▎         | 108/3594 [01:06<44:35,  1.30it/s]\u001b[A\u001b[A\u001b[A"
     ]
    },
    {
     "name": "stdout",
     "output_type": "stream",
     "text": [
      "https://www.apartments.com/4-br-2-bath-house-4001-mcglothen-way-richmond-ca/tme5qfc/\n"
     ]
    },
    {
     "name": "stderr",
     "output_type": "stream",
     "text": [
      "\n",
      "\n",
      "\n",
      "  3%|▎         | 109/3594 [01:06<39:25,  1.47it/s]\u001b[A\u001b[A\u001b[A"
     ]
    },
    {
     "name": "stdout",
     "output_type": "stream",
     "text": [
      "https://www.apartments.com/1171-1173-willow-rd-menlo-park-ca/bhyd3zb/\n"
     ]
    },
    {
     "name": "stderr",
     "output_type": "stream",
     "text": [
      "\n",
      "\n",
      "\n",
      "  3%|▎         | 110/3594 [01:07<34:36,  1.68it/s]\u001b[A\u001b[A\u001b[A"
     ]
    },
    {
     "name": "stdout",
     "output_type": "stream",
     "text": [
      "https://www.apartments.com/1600-fifth-ave-belmont-ca/6r9szkt/\n"
     ]
    },
    {
     "name": "stderr",
     "output_type": "stream",
     "text": [
      "\n",
      "\n",
      "\n",
      "  3%|▎         | 111/3594 [01:07<33:27,  1.74it/s]\u001b[A\u001b[A\u001b[A"
     ]
    },
    {
     "name": "stdout",
     "output_type": "stream",
     "text": [
      "https://www.apartments.com/1329-park-dr-mountain-view-ca/tzp8vkb/\n"
     ]
    },
    {
     "name": "stderr",
     "output_type": "stream",
     "text": [
      "\n",
      "\n",
      "\n",
      "  3%|▎         | 112/3594 [01:08<30:17,  1.92it/s]\u001b[A\u001b[A\u001b[A"
     ]
    },
    {
     "name": "stdout",
     "output_type": "stream",
     "text": [
      "https://www.apartments.com/845-roble-ave-menlo-park-ca/5eph23n/\n"
     ]
    },
    {
     "name": "stderr",
     "output_type": "stream",
     "text": [
      "\n",
      "\n",
      "\n",
      "  3%|▎         | 113/3594 [01:08<27:23,  2.12it/s]\u001b[A\u001b[A\u001b[A"
     ]
    },
    {
     "name": "stdout",
     "output_type": "stream",
     "text": [
      "https://www.apartments.com/584-lassen-st-los-altos-ca/t3hrzc8/\n"
     ]
    },
    {
     "name": "stderr",
     "output_type": "stream",
     "text": [
      "\n",
      "\n",
      "\n",
      "  3%|▎         | 114/3594 [01:08<26:29,  2.19it/s]\u001b[A\u001b[A\u001b[A"
     ]
    },
    {
     "name": "stdout",
     "output_type": "stream",
     "text": [
      "https://www.apartments.com/820-sharmon-palms-ln-campbell-ca/9zwxfg4/\n"
     ]
    },
    {
     "name": "stderr",
     "output_type": "stream",
     "text": [
      "\n",
      "\n",
      "\n",
      "  3%|▎         | 115/3594 [01:09<27:04,  2.14it/s]\u001b[A\u001b[A\u001b[A"
     ]
    },
    {
     "name": "stdout",
     "output_type": "stream",
     "text": [
      "https://www.apartments.com/habitat-for-humanity-condominum-daly-city-ca/wdrm8rl/\n"
     ]
    },
    {
     "name": "stderr",
     "output_type": "stream",
     "text": [
      "\n",
      "\n",
      "\n",
      "  3%|▎         | 116/3594 [01:09<26:17,  2.20it/s]\u001b[A\u001b[A\u001b[A"
     ]
    },
    {
     "name": "stdout",
     "output_type": "stream",
     "text": [
      "https://www.apartments.com/3-br-2-bath-house-482-clifton-street-oakland-ca/rjrklf0/\n"
     ]
    },
    {
     "name": "stderr",
     "output_type": "stream",
     "text": [
      "\n",
      "\n",
      "\n",
      "  3%|▎         | 117/3594 [01:11<42:37,  1.36it/s]\u001b[A\u001b[A\u001b[A"
     ]
    },
    {
     "name": "stdout",
     "output_type": "stream",
     "text": [
      "https://www.apartments.com/465-hale-ave-oakland-ca/ww29f0h/\n"
     ]
    },
    {
     "name": "stderr",
     "output_type": "stream",
     "text": [
      "\n",
      "\n",
      "\n",
      "  3%|▎         | 118/3594 [01:11<42:09,  1.37it/s]\u001b[A\u001b[A\u001b[A"
     ]
    },
    {
     "name": "stdout",
     "output_type": "stream",
     "text": [
      "https://www.apartments.com/mission-blvd-apartments-fremont-ca/gzqpj8y/\n"
     ]
    },
    {
     "name": "stderr",
     "output_type": "stream",
     "text": [
      "\n",
      "\n",
      "\n",
      "  3%|▎         | 119/3594 [01:12<36:20,  1.59it/s]\u001b[A\u001b[A\u001b[A"
     ]
    },
    {
     "name": "stdout",
     "output_type": "stream",
     "text": [
      "https://www.apartments.com/chilpancingo-vista-apartments-pleasant-hill-ca/ej4yv2p/\n"
     ]
    },
    {
     "name": "stderr",
     "output_type": "stream",
     "text": [
      "\n",
      "\n",
      "\n",
      "  3%|▎         | 120/3594 [01:12<31:48,  1.82it/s]\u001b[A\u001b[A\u001b[A"
     ]
    },
    {
     "name": "stdout",
     "output_type": "stream",
     "text": [
      "https://www.apartments.com/35607-newark-blvd-newark-ca/0mrsx00/\n"
     ]
    },
    {
     "name": "stderr",
     "output_type": "stream",
     "text": [
      "\n",
      "\n",
      "\n",
      "  3%|▎         | 121/3594 [01:13<40:52,  1.42it/s]\u001b[A\u001b[A\u001b[A"
     ]
    },
    {
     "name": "stdout",
     "output_type": "stream",
     "text": [
      "https://www.apartments.com/788-mills-ave-san-bruno-ca/w2m044h/\n"
     ]
    },
    {
     "name": "stderr",
     "output_type": "stream",
     "text": [
      "\n",
      "\n",
      "\n",
      "  3%|▎         | 122/3594 [01:14<37:52,  1.53it/s]\u001b[A\u001b[A\u001b[A"
     ]
    },
    {
     "name": "stdout",
     "output_type": "stream",
     "text": [
      "https://www.apartments.com/5755-central-ave-el-cerrito-ca/nqbjj8p/\n"
     ]
    },
    {
     "name": "stderr",
     "output_type": "stream",
     "text": [
      "\n",
      "\n",
      "\n",
      "  3%|▎         | 123/3594 [01:14<33:36,  1.72it/s]\u001b[A\u001b[A\u001b[A"
     ]
    },
    {
     "name": "stdout",
     "output_type": "stream",
     "text": [
      "https://www.apartments.com/1840-1850-ednamary-way-mountain-view-ca/3mj8n0g/\n"
     ]
    },
    {
     "name": "stderr",
     "output_type": "stream",
     "text": [
      "\n",
      "\n",
      "\n",
      "  3%|▎         | 124/3594 [01:15<30:57,  1.87it/s]\u001b[A\u001b[A\u001b[A"
     ]
    },
    {
     "name": "stdout",
     "output_type": "stream",
     "text": [
      "https://www.apartments.com/360-chiquita-avenue-apartments-mountain-view-ca/15vv6h5/\n"
     ]
    },
    {
     "name": "stderr",
     "output_type": "stream",
     "text": [
      "\n",
      "\n",
      "\n",
      "  3%|▎         | 125/3594 [01:15<29:04,  1.99it/s]\u001b[A\u001b[A\u001b[A"
     ]
    },
    {
     "name": "stdout",
     "output_type": "stream",
     "text": [
      "https://www.apartments.com/328-alida-way-south-san-francisco-ca/hhk3dz0/\n"
     ]
    },
    {
     "name": "stderr",
     "output_type": "stream",
     "text": [
      "\n",
      "\n",
      "\n",
      "  4%|▎         | 126/3594 [01:16<35:35,  1.62it/s]\u001b[A\u001b[A\u001b[A"
     ]
    },
    {
     "name": "stdout",
     "output_type": "stream",
     "text": [
      "https://www.apartments.com/2416-l-st-antioch-ca/h4m01k0/\n"
     ]
    },
    {
     "name": "stderr",
     "output_type": "stream",
     "text": [
      "\n",
      "\n",
      "\n",
      "  4%|▎         | 127/3594 [01:16<31:31,  1.83it/s]\u001b[A\u001b[A\u001b[A"
     ]
    },
    {
     "name": "stdout",
     "output_type": "stream",
     "text": [
      "https://www.apartments.com/grand-luxe-peninsula-san-bruno-ca/11tcw34/\n"
     ]
    },
    {
     "name": "stderr",
     "output_type": "stream",
     "text": [
      "\n",
      "\n",
      "\n",
      "  4%|▎         | 128/3594 [01:17<40:58,  1.41it/s]\u001b[A\u001b[A\u001b[A"
     ]
    },
    {
     "name": "stdout",
     "output_type": "stream",
     "text": [
      "https://www.apartments.com/661-villa-st-daly-city-ca/gddy1rx/\n"
     ]
    },
    {
     "name": "stderr",
     "output_type": "stream",
     "text": [
      "\n",
      "\n",
      "\n",
      "  4%|▎         | 129/3594 [01:18<35:21,  1.63it/s]\u001b[A\u001b[A\u001b[A"
     ]
    },
    {
     "name": "stdout",
     "output_type": "stream",
     "text": [
      "https://www.apartments.com/667-672-kodiak-ct-sunnyvale-ca/j8xnn36/\n"
     ]
    },
    {
     "name": "stderr",
     "output_type": "stream",
     "text": [
      "\n",
      "\n",
      "\n",
      "  4%|▎         | 130/3594 [01:19<39:49,  1.45it/s]\u001b[A\u001b[A\u001b[A"
     ]
    },
    {
     "name": "stdout",
     "output_type": "stream",
     "text": [
      "https://www.apartments.com/montage-apartments-palo-alto-ca/fqckbxs/\n"
     ]
    },
    {
     "name": "stderr",
     "output_type": "stream",
     "text": [
      "\n",
      "\n",
      "\n",
      "  4%|▎         | 131/3594 [01:19<35:00,  1.65it/s]\u001b[A\u001b[A\u001b[A"
     ]
    },
    {
     "name": "stdout",
     "output_type": "stream",
     "text": [
      "https://www.apartments.com/building-7-dublin-ca/sv7pkn5/\n"
     ]
    },
    {
     "name": "stderr",
     "output_type": "stream",
     "text": [
      "\n",
      "\n",
      "\n",
      "  4%|▎         | 132/3594 [01:19<32:12,  1.79it/s]\u001b[A\u001b[A\u001b[A"
     ]
    },
    {
     "name": "stdout",
     "output_type": "stream",
     "text": [
      "https://www.apartments.com/3-br-25-bath-house-28555-starboard-lane-hayward-ca/x00sc5p/\n"
     ]
    },
    {
     "name": "stderr",
     "output_type": "stream",
     "text": [
      "\n",
      "\n",
      "\n",
      "  4%|▎         | 133/3594 [01:20<29:32,  1.95it/s]\u001b[A\u001b[A\u001b[A"
     ]
    },
    {
     "name": "stdout",
     "output_type": "stream",
     "text": [
      "https://www.apartments.com/600-red-hill-san-anselmo-ca/r3sp693/\n"
     ]
    },
    {
     "name": "stderr",
     "output_type": "stream",
     "text": [
      "\n",
      "\n",
      "\n",
      "  4%|▎         | 134/3594 [01:20<27:41,  2.08it/s]\u001b[A\u001b[A\u001b[A"
     ]
    },
    {
     "name": "stdout",
     "output_type": "stream",
     "text": [
      "https://www.apartments.com/291-escuela-ave-mountain-view-ca/kr03q28/\n"
     ]
    },
    {
     "name": "stderr",
     "output_type": "stream",
     "text": [
      "\n",
      "\n",
      "\n",
      "  4%|▍         | 135/3594 [01:21<29:36,  1.95it/s]\u001b[A\u001b[A\u001b[A"
     ]
    },
    {
     "name": "stdout",
     "output_type": "stream",
     "text": [
      "https://www.apartments.com/avalon-walnut-creek-walnut-creek-ca/m3ny3ek/\n"
     ]
    },
    {
     "name": "stderr",
     "output_type": "stream",
     "text": [
      "\n",
      "\n",
      "\n",
      "  4%|▍         | 136/3594 [01:22<36:10,  1.59it/s]\u001b[A\u001b[A\u001b[A"
     ]
    },
    {
     "name": "stdout",
     "output_type": "stream",
     "text": [
      "https://www.apartments.com/600-suntree-ln-pleasant-hill-ca/l76gepd/\n"
     ]
    },
    {
     "name": "stderr",
     "output_type": "stream",
     "text": [
      "\n",
      "\n",
      "\n",
      "  4%|▍         | 137/3594 [01:22<32:21,  1.78it/s]\u001b[A\u001b[A\u001b[A"
     ]
    },
    {
     "name": "stdout",
     "output_type": "stream",
     "text": [
      "https://www.apartments.com/1936-desert-cir-walnut-creek-ca/ssslg27/\n"
     ]
    },
    {
     "name": "stderr",
     "output_type": "stream",
     "text": [
      "\n",
      "\n",
      "\n",
      "  4%|▍         | 138/3594 [01:23<40:19,  1.43it/s]\u001b[A\u001b[A\u001b[A"
     ]
    },
    {
     "name": "stdout",
     "output_type": "stream",
     "text": [
      "https://www.apartments.com/1054-1058-marcussen-dr-menlo-park-ca/l9x3nng/\n"
     ]
    },
    {
     "name": "stderr",
     "output_type": "stream",
     "text": [
      "\n",
      "\n",
      "\n",
      "  4%|▍         | 139/3594 [01:24<36:29,  1.58it/s]\u001b[A\u001b[A\u001b[A"
     ]
    },
    {
     "name": "stdout",
     "output_type": "stream",
     "text": [
      "https://www.apartments.com/9085-alcosta-blvd-san-ramon-ca-unit-364/l0s2m5f/\n"
     ]
    },
    {
     "name": "stderr",
     "output_type": "stream",
     "text": [
      "\n",
      "\n",
      "\n",
      "  4%|▍         | 140/3594 [01:24<34:02,  1.69it/s]\u001b[A\u001b[A\u001b[A"
     ]
    },
    {
     "name": "stdout",
     "output_type": "stream",
     "text": [
      "https://www.apartments.com/3585-agate-dr-santa-clara-ca/gfe18vw/\n"
     ]
    },
    {
     "name": "stderr",
     "output_type": "stream",
     "text": [
      "\n",
      "\n",
      "\n",
      "  4%|▍         | 141/3594 [01:25<31:21,  1.83it/s]\u001b[A\u001b[A\u001b[A"
     ]
    },
    {
     "name": "stdout",
     "output_type": "stream",
     "text": [
      "https://www.apartments.com/san-pedro-commons-colma-ca/mft4zsj/\n"
     ]
    },
    {
     "name": "stderr",
     "output_type": "stream",
     "text": [
      "\n",
      "\n",
      "\n",
      "  4%|▍         | 142/3594 [01:26<37:55,  1.52it/s]\u001b[A\u001b[A\u001b[A"
     ]
    },
    {
     "name": "stdout",
     "output_type": "stream",
     "text": [
      "https://www.apartments.com/29-31-glen-pky-brisbane-ca/bnvz8hb/\n"
     ]
    },
    {
     "name": "stderr",
     "output_type": "stream",
     "text": [
      "\n",
      "\n",
      "\n",
      "  4%|▍         | 143/3594 [01:26<33:05,  1.74it/s]\u001b[A\u001b[A\u001b[A"
     ]
    },
    {
     "name": "stdout",
     "output_type": "stream",
     "text": [
      "https://www.apartments.com/95-sierra-vista-ave-mountain-view-ca/qfqb77y/\n"
     ]
    },
    {
     "name": "stderr",
     "output_type": "stream",
     "text": [
      "\n",
      "\n",
      "\n",
      "  4%|▍         | 144/3594 [01:26<31:09,  1.84it/s]\u001b[A\u001b[A\u001b[A"
     ]
    },
    {
     "name": "stdout",
     "output_type": "stream",
     "text": [
      "https://www.apartments.com/2039-ascot-dr-moraga-ca/qpb6b8z/\n"
     ]
    },
    {
     "name": "stderr",
     "output_type": "stream",
     "text": [
      "\n",
      "\n",
      "\n",
      "  4%|▍         | 145/3594 [01:27<27:56,  2.06it/s]\u001b[A\u001b[A\u001b[A"
     ]
    },
    {
     "name": "stdout",
     "output_type": "stream",
     "text": [
      "https://www.apartments.com/504-curtis-st-berkeley-ca/yxv3cys/\n"
     ]
    },
    {
     "name": "stderr",
     "output_type": "stream",
     "text": [
      "\n",
      "\n",
      "\n",
      "  4%|▍         | 146/3594 [01:27<25:46,  2.23it/s]\u001b[A\u001b[A\u001b[A"
     ]
    },
    {
     "name": "stdout",
     "output_type": "stream",
     "text": [
      "https://www.apartments.com/1450-crestwood-dr-san-bruno-ca/pfwq85r/\n"
     ]
    },
    {
     "name": "stderr",
     "output_type": "stream",
     "text": [
      "\n",
      "\n",
      "\n",
      "  4%|▍         | 147/3594 [01:27<24:07,  2.38it/s]\u001b[A\u001b[A\u001b[A"
     ]
    },
    {
     "name": "stdout",
     "output_type": "stream",
     "text": [
      "https://www.apartments.com/108-ross-ave-san-anselmo-ca/kjpj5tc/\n"
     ]
    },
    {
     "name": "stderr",
     "output_type": "stream",
     "text": [
      "\n",
      "\n",
      "\n",
      "  4%|▍         | 148/3594 [01:28<35:08,  1.63it/s]\u001b[A\u001b[A\u001b[A"
     ]
    },
    {
     "name": "stdout",
     "output_type": "stream",
     "text": [
      "https://www.apartments.com/del-medio-park-mountain-view-ca/lcw2fwf/\n"
     ]
    },
    {
     "name": "stderr",
     "output_type": "stream",
     "text": [
      "\n",
      "\n",
      "\n",
      "  4%|▍         | 149/3594 [01:29<30:58,  1.85it/s]\u001b[A\u001b[A\u001b[A"
     ]
    },
    {
     "name": "stdout",
     "output_type": "stream",
     "text": [
      "https://www.apartments.com/70-broadway-ave-millbrae-ca/fcysy1r/\n"
     ]
    },
    {
     "name": "stderr",
     "output_type": "stream",
     "text": [
      "\n",
      "\n",
      "\n",
      "  4%|▍         | 150/3594 [01:29<30:39,  1.87it/s]\u001b[A\u001b[A\u001b[A"
     ]
    },
    {
     "name": "stdout",
     "output_type": "stream",
     "text": [
      "https://www.apartments.com/141-145-145a-santa-dominga-ave-san-bruno-ca/sss96x4/\n"
     ]
    },
    {
     "name": "stderr",
     "output_type": "stream",
     "text": [
      "\n",
      "\n",
      "\n",
      "  4%|▍         | 151/3594 [01:30<38:15,  1.50it/s]\u001b[A\u001b[A\u001b[A"
     ]
    },
    {
     "name": "stdout",
     "output_type": "stream",
     "text": [
      "https://www.apartments.com/estancia-at-santa-clara-santa-clara-ca/bfd2x09/\n"
     ]
    },
    {
     "name": "stderr",
     "output_type": "stream",
     "text": [
      "\n",
      "\n",
      "\n",
      "  4%|▍         | 152/3594 [01:31<37:47,  1.52it/s]\u001b[A\u001b[A\u001b[A"
     ]
    },
    {
     "name": "stdout",
     "output_type": "stream",
     "text": [
      "https://www.apartments.com/510-n-el-camino-real-san-mateo-ca/qexpshy/\n"
     ]
    },
    {
     "name": "stderr",
     "output_type": "stream",
     "text": [
      "\n",
      "\n",
      "\n",
      "  4%|▍         | 153/3594 [01:31<32:58,  1.74it/s]\u001b[A\u001b[A\u001b[A"
     ]
    },
    {
     "name": "stdout",
     "output_type": "stream",
     "text": [
      "https://www.apartments.com/sofi-riverview-park-san-jose-ca/4v9el7j/\n"
     ]
    },
    {
     "name": "stderr",
     "output_type": "stream",
     "text": [
      "\n",
      "\n",
      "\n",
      "  4%|▍         | 154/3594 [01:33<45:52,  1.25it/s]\u001b[A\u001b[A\u001b[A"
     ]
    },
    {
     "name": "stdout",
     "output_type": "stream",
     "text": [
      "https://www.apartments.com/245-e-market-st-daly-city-ca/ml897nj/\n"
     ]
    },
    {
     "name": "stderr",
     "output_type": "stream",
     "text": [
      "\n",
      "\n",
      "\n",
      "  4%|▍         | 155/3594 [01:33<39:25,  1.45it/s]\u001b[A\u001b[A\u001b[A"
     ]
    },
    {
     "name": "stdout",
     "output_type": "stream",
     "text": [
      "https://www.apartments.com/16845-robey-dr-san-leandro-ca/g5ywc8y/\n"
     ]
    },
    {
     "name": "stderr",
     "output_type": "stream",
     "text": [
      "\n",
      "\n",
      "\n",
      "  4%|▍         | 156/3594 [01:34<36:51,  1.55it/s]\u001b[A\u001b[A\u001b[A"
     ]
    },
    {
     "name": "stdout",
     "output_type": "stream",
     "text": [
      "https://www.apartments.com/1890-ednamary-way-mountain-view-ca/krs19dc/\n"
     ]
    },
    {
     "name": "stderr",
     "output_type": "stream",
     "text": [
      "\n",
      "\n",
      "\n",
      "  4%|▍         | 157/3594 [01:34<31:59,  1.79it/s]\u001b[A\u001b[A\u001b[A"
     ]
    },
    {
     "name": "stdout",
     "output_type": "stream",
     "text": [
      "https://www.apartments.com/330-esplanade-ave-pacifica-ca/1dh4mp7/\n"
     ]
    },
    {
     "name": "stderr",
     "output_type": "stream",
     "text": [
      "\n",
      "\n",
      "\n",
      "  4%|▍         | 158/3594 [01:34<28:55,  1.98it/s]\u001b[A\u001b[A\u001b[A"
     ]
    },
    {
     "name": "stdout",
     "output_type": "stream",
     "text": [
      "https://www.apartments.com/3741-peacock-ct-santa-clara-ca/f3m4lnt/\n"
     ]
    },
    {
     "name": "stderr",
     "output_type": "stream",
     "text": [
      "\n",
      "\n",
      "\n",
      "  4%|▍         | 159/3594 [01:35<34:06,  1.68it/s]\u001b[A\u001b[A\u001b[A"
     ]
    },
    {
     "name": "stdout",
     "output_type": "stream",
     "text": [
      "https://www.apartments.com/greenwood-apartments-san-carlos-ca/n8nyqpn/\n"
     ]
    },
    {
     "name": "stderr",
     "output_type": "stream",
     "text": [
      "\n",
      "\n",
      "\n",
      "  4%|▍         | 160/3594 [01:36<36:38,  1.56it/s]\u001b[A\u001b[A\u001b[A"
     ]
    },
    {
     "name": "stdout",
     "output_type": "stream",
     "text": [
      "https://www.apartments.com/566-hensley-ave-san-bruno-ca/pzrmp8t/\n"
     ]
    },
    {
     "name": "stderr",
     "output_type": "stream",
     "text": [
      "\n",
      "\n",
      "\n",
      "  4%|▍         | 161/3594 [01:37<38:43,  1.48it/s]\u001b[A\u001b[A\u001b[A"
     ]
    },
    {
     "name": "stdout",
     "output_type": "stream",
     "text": [
      "https://www.apartments.com/katherine-court-san-mateo-ca/f4nr07s/\n"
     ]
    },
    {
     "name": "stderr",
     "output_type": "stream",
     "text": [
      "\n",
      "\n",
      "\n",
      "  5%|▍         | 162/3594 [01:37<33:02,  1.73it/s]\u001b[A\u001b[A\u001b[A"
     ]
    },
    {
     "name": "stdout",
     "output_type": "stream",
     "text": [
      "https://www.apartments.com/2050-latham-st-mountain-view-ca-unit-37/lg6kyyg/\n"
     ]
    },
    {
     "name": "stderr",
     "output_type": "stream",
     "text": [
      "\n",
      "\n",
      "\n",
      "  5%|▍         | 163/3594 [01:37<29:23,  1.95it/s]\u001b[A\u001b[A\u001b[A"
     ]
    },
    {
     "name": "stdout",
     "output_type": "stream",
     "text": [
      "https://www.apartments.com/690-villa-st-daly-city-ca/8q79re1/\n"
     ]
    },
    {
     "name": "stderr",
     "output_type": "stream",
     "text": [
      "\n",
      "\n",
      "\n",
      "  5%|▍         | 164/3594 [01:38<29:10,  1.96it/s]\u001b[A\u001b[A\u001b[A"
     ]
    },
    {
     "name": "stdout",
     "output_type": "stream",
     "text": [
      "https://www.apartments.com/415-del-medio-ave-mountain-view-ca/xz3v6cp/\n"
     ]
    },
    {
     "name": "stderr",
     "output_type": "stream",
     "text": [
      "\n",
      "\n",
      "\n",
      "  5%|▍         | 165/3594 [01:38<27:26,  2.08it/s]\u001b[A\u001b[A\u001b[A"
     ]
    },
    {
     "name": "stdout",
     "output_type": "stream",
     "text": [
      "https://www.apartments.com/parc-on-powell-emeryville-ca/8k60633/\n"
     ]
    },
    {
     "name": "stderr",
     "output_type": "stream",
     "text": [
      "\n",
      "\n",
      "\n",
      "  5%|▍         | 166/3594 [01:39<33:46,  1.69it/s]\u001b[A\u001b[A\u001b[A"
     ]
    },
    {
     "name": "stdout",
     "output_type": "stream",
     "text": [
      "https://www.apartments.com/431-richmond-dr-millbrae-ca/3bwzdvf/\n"
     ]
    },
    {
     "name": "stderr",
     "output_type": "stream",
     "text": [
      "\n",
      "\n",
      "\n",
      "  5%|▍         | 167/3594 [01:40<31:40,  1.80it/s]\u001b[A\u001b[A\u001b[A"
     ]
    },
    {
     "name": "stdout",
     "output_type": "stream",
     "text": [
      "https://www.apartments.com/2701-ridge-rd-berkeley-ca/wnx4tqj/\n"
     ]
    },
    {
     "name": "stderr",
     "output_type": "stream",
     "text": [
      "\n",
      "\n",
      "\n",
      "  5%|▍         | 168/3594 [01:40<28:38,  1.99it/s]\u001b[A\u001b[A\u001b[A"
     ]
    },
    {
     "name": "stdout",
     "output_type": "stream",
     "text": [
      "https://www.apartments.com/150-somerset-st-redwood-city-ca/xj3yb0p/\n"
     ]
    },
    {
     "name": "stderr",
     "output_type": "stream",
     "text": [
      "\n",
      "\n",
      "\n",
      "  5%|▍         | 169/3594 [01:40<27:58,  2.04it/s]\u001b[A\u001b[A\u001b[A"
     ]
    },
    {
     "name": "stdout",
     "output_type": "stream",
     "text": [
      "https://www.apartments.com/1432-san-carlos-ave-san-carlos-ca/gv518fw/\n"
     ]
    },
    {
     "name": "stderr",
     "output_type": "stream",
     "text": [
      "\n",
      "\n",
      "\n",
      "  5%|▍         | 170/3594 [01:41<26:18,  2.17it/s]\u001b[A\u001b[A\u001b[A"
     ]
    },
    {
     "name": "stdout",
     "output_type": "stream",
     "text": [
      "https://www.apartments.com/901-village-ctr-lafayette-ca/e8919pp/\n"
     ]
    },
    {
     "name": "stderr",
     "output_type": "stream",
     "text": [
      "\n",
      "\n",
      "\n",
      "  5%|▍         | 171/3594 [01:41<28:36,  1.99it/s]\u001b[A\u001b[A\u001b[A"
     ]
    },
    {
     "name": "stdout",
     "output_type": "stream",
     "text": [
      "https://www.apartments.com/125-lorton-ave-burlingame-ca/n6z5jlq/\n"
     ]
    },
    {
     "name": "stderr",
     "output_type": "stream",
     "text": [
      "\n",
      "\n",
      "\n",
      "  5%|▍         | 172/3594 [01:42<28:56,  1.97it/s]\u001b[A\u001b[A\u001b[A"
     ]
    },
    {
     "name": "stdout",
     "output_type": "stream",
     "text": [
      "https://www.apartments.com/the-triton-foster-city-ca/5ndw2xp/\n"
     ]
    },
    {
     "name": "stderr",
     "output_type": "stream",
     "text": [
      "\n",
      "\n",
      "\n",
      "  5%|▍         | 173/3594 [01:43<31:14,  1.83it/s]\u001b[A\u001b[A\u001b[A"
     ]
    },
    {
     "name": "stdout",
     "output_type": "stream",
     "text": [
      "https://www.apartments.com/710-laurel-ave-san-mateo-ca/rp0lj61/\n"
     ]
    },
    {
     "name": "stderr",
     "output_type": "stream",
     "text": [
      "\n",
      "\n",
      "\n",
      "  5%|▍         | 174/3594 [01:43<30:13,  1.89it/s]\u001b[A\u001b[A\u001b[A"
     ]
    },
    {
     "name": "stdout",
     "output_type": "stream",
     "text": [
      "https://www.apartments.com/5533-madison-ave-richmond-ca/mybqwek/\n"
     ]
    },
    {
     "name": "stderr",
     "output_type": "stream",
     "text": [
      "\n",
      "\n",
      "\n",
      "  5%|▍         | 175/3594 [01:44<39:58,  1.43it/s]\u001b[A\u001b[A\u001b[A"
     ]
    },
    {
     "name": "stdout",
     "output_type": "stream",
     "text": [
      "https://www.apartments.com/palmetto-apartments-mountain-view-ca/98wh5p7/\n"
     ]
    },
    {
     "name": "stderr",
     "output_type": "stream",
     "text": [
      "\n",
      "\n",
      "\n",
      "  5%|▍         | 176/3594 [01:45<35:11,  1.62it/s]\u001b[A\u001b[A\u001b[A"
     ]
    },
    {
     "name": "stdout",
     "output_type": "stream",
     "text": [
      "https://www.apartments.com/90-99-via-corte-lenosa-greenbrae-ca/79mt39y/\n"
     ]
    },
    {
     "name": "stderr",
     "output_type": "stream",
     "text": [
      "\n",
      "\n",
      "\n",
      "  5%|▍         | 177/3594 [01:46<41:15,  1.38it/s]\u001b[A\u001b[A\u001b[A"
     ]
    },
    {
     "name": "stdout",
     "output_type": "stream",
     "text": [
      "https://www.apartments.com/918-924-mountain-view-ave-mountain-view-ca/ce4v6zd/\n"
     ]
    },
    {
     "name": "stderr",
     "output_type": "stream",
     "text": [
      "\n",
      "\n",
      "\n",
      "  5%|▍         | 178/3594 [01:46<35:18,  1.61it/s]\u001b[A\u001b[A\u001b[A"
     ]
    },
    {
     "name": "stdout",
     "output_type": "stream",
     "text": [
      "https://www.apartments.com/2180-carlmont-dr-belmont-ca-unit-3/1eysd06/\n"
     ]
    },
    {
     "name": "stderr",
     "output_type": "stream",
     "text": [
      "\n",
      "\n",
      "\n",
      "  5%|▍         | 179/3594 [01:47<42:07,  1.35it/s]\u001b[A\u001b[A\u001b[A"
     ]
    },
    {
     "name": "stdout",
     "output_type": "stream",
     "text": [
      "https://www.apartments.com/36-edgewood-rd-redwood-city-ca/bl4t2y9/\n"
     ]
    },
    {
     "name": "stderr",
     "output_type": "stream",
     "text": [
      "\n",
      "\n",
      "\n",
      "  5%|▌         | 180/3594 [01:47<35:41,  1.59it/s]\u001b[A\u001b[A\u001b[A"
     ]
    },
    {
     "name": "stdout",
     "output_type": "stream",
     "text": [
      "https://www.apartments.com/35-s-magnolia-ave-millbrae-ca/x59hqyn/\n"
     ]
    },
    {
     "name": "stderr",
     "output_type": "stream",
     "text": [
      "\n",
      "\n",
      "\n",
      "  5%|▌         | 181/3594 [01:48<31:30,  1.81it/s]\u001b[A\u001b[A\u001b[A"
     ]
    },
    {
     "name": "stdout",
     "output_type": "stream",
     "text": [
      "https://www.apartments.com/7192-7194-coronado-dr-san-jose-ca/g34089x/\n"
     ]
    },
    {
     "name": "stderr",
     "output_type": "stream",
     "text": [
      "\n",
      "\n",
      "\n",
      "  5%|▌         | 182/3594 [01:49<40:03,  1.42it/s]\u001b[A\u001b[A\u001b[A"
     ]
    },
    {
     "name": "stdout",
     "output_type": "stream",
     "text": [
      "https://www.apartments.com/38850-510-79338850-farwell-dr-fremont-ca/27ekvcc/\n"
     ]
    },
    {
     "name": "stderr",
     "output_type": "stream",
     "text": [
      "\n",
      "\n",
      "\n",
      "  5%|▌         | 183/3594 [01:49<36:07,  1.57it/s]\u001b[A\u001b[A\u001b[A"
     ]
    },
    {
     "name": "stdout",
     "output_type": "stream",
     "text": [
      "https://www.apartments.com/516-tyndall-st-los-altos-ca/pjvgrtv/\n"
     ]
    },
    {
     "name": "stderr",
     "output_type": "stream",
     "text": [
      "\n",
      "\n",
      "\n",
      "  5%|▌         | 184/3594 [01:50<31:40,  1.79it/s]\u001b[A\u001b[A\u001b[A"
     ]
    },
    {
     "name": "stdout",
     "output_type": "stream",
     "text": [
      "https://www.apartments.com/4369-adeline-st-emeryville-ca-unit-9/ktby3nc/\n"
     ]
    },
    {
     "name": "stderr",
     "output_type": "stream",
     "text": [
      "\n",
      "\n",
      "\n",
      "  5%|▌         | 185/3594 [01:51<41:30,  1.37it/s]\u001b[A\u001b[A\u001b[A"
     ]
    },
    {
     "name": "stdout",
     "output_type": "stream",
     "text": [
      "https://www.apartments.com/2-br-15-bath-house-4735-saginaw-circle-pleasanton-ca/lkhwf8d/\n"
     ]
    },
    {
     "name": "stderr",
     "output_type": "stream",
     "text": [
      "\n",
      "\n",
      "\n",
      "  5%|▌         | 186/3594 [01:51<35:59,  1.58it/s]\u001b[A\u001b[A\u001b[A"
     ]
    },
    {
     "name": "stdout",
     "output_type": "stream",
     "text": [
      "https://www.apartments.com/934-haven-ave-redwood-city-ca/4r5nqfj/\n"
     ]
    },
    {
     "name": "stderr",
     "output_type": "stream",
     "text": [
      "\n",
      "\n",
      "\n",
      "  5%|▌         | 187/3594 [01:53<49:49,  1.14it/s]\u001b[A\u001b[A\u001b[A"
     ]
    },
    {
     "name": "stdout",
     "output_type": "stream",
     "text": [
      "https://www.apartments.com/430-san-antonio-ave-san-bruno-ca/jbmd6k7/\n"
     ]
    },
    {
     "name": "stderr",
     "output_type": "stream",
     "text": [
      "\n",
      "\n",
      "\n",
      "  5%|▌         | 188/3594 [01:53<41:45,  1.36it/s]\u001b[A\u001b[A\u001b[A"
     ]
    },
    {
     "name": "stdout",
     "output_type": "stream",
     "text": [
      "https://www.apartments.com/3-br-15-bath-house-33-north-knoll-road-mill-valley-ca/7ztzszy/\n"
     ]
    },
    {
     "name": "stderr",
     "output_type": "stream",
     "text": [
      "\n",
      "\n",
      "\n",
      "  5%|▌         | 189/3594 [01:54<41:46,  1.36it/s]\u001b[A\u001b[A\u001b[A"
     ]
    },
    {
     "name": "stdout",
     "output_type": "stream",
     "text": [
      "https://www.apartments.com/315-319-montecito-dr-corte-madera-ca/k08y9yc/\n"
     ]
    },
    {
     "name": "stderr",
     "output_type": "stream",
     "text": [
      "\n",
      "\n",
      "\n",
      "  5%|▌         | 190/3594 [01:54<36:00,  1.58it/s]\u001b[A\u001b[A\u001b[A"
     ]
    },
    {
     "name": "stdout",
     "output_type": "stream",
     "text": [
      "https://www.apartments.com/oak-court-apartments-palo-alto-ca/dg17gkj/\n"
     ]
    },
    {
     "name": "stderr",
     "output_type": "stream",
     "text": [
      "\n",
      "\n",
      "\n",
      "  5%|▌         | 191/3594 [01:55<31:52,  1.78it/s]\u001b[A\u001b[A\u001b[A"
     ]
    },
    {
     "name": "stdout",
     "output_type": "stream",
     "text": [
      "https://www.apartments.com/220-east-ave-san-bruno-ca/4b06v8l/\n"
     ]
    },
    {
     "name": "stderr",
     "output_type": "stream",
     "text": [
      "\n",
      "\n",
      "\n",
      "  5%|▌         | 192/3594 [01:55<29:07,  1.95it/s]\u001b[A\u001b[A\u001b[A"
     ]
    },
    {
     "name": "stdout",
     "output_type": "stream",
     "text": [
      "https://www.apartments.com/mobilodge-milpitas-milpitas-ca/5k2hwnp/\n"
     ]
    },
    {
     "name": "stderr",
     "output_type": "stream",
     "text": [
      "\n",
      "\n",
      "\n",
      "  5%|▌         | 193/3594 [01:55<27:17,  2.08it/s]\u001b[A\u001b[A\u001b[A"
     ]
    },
    {
     "name": "stdout",
     "output_type": "stream",
     "text": [
      "https://www.apartments.com/914-mountain-view-avenue-mountain-view-ca/py8dm8r/\n"
     ]
    },
    {
     "name": "stderr",
     "output_type": "stream",
     "text": [
      "\n",
      "\n",
      "\n",
      "  5%|▌         | 194/3594 [01:56<25:37,  2.21it/s]\u001b[A\u001b[A\u001b[A"
     ]
    },
    {
     "name": "stdout",
     "output_type": "stream",
     "text": [
      "https://www.apartments.com/1118-laurel-st-menlo-park-ca/10pmzy6/\n"
     ]
    },
    {
     "name": "stderr",
     "output_type": "stream",
     "text": [
      "\n",
      "\n",
      "\n",
      "  5%|▌         | 195/3594 [01:56<24:00,  2.36it/s]\u001b[A\u001b[A\u001b[A"
     ]
    },
    {
     "name": "stdout",
     "output_type": "stream",
     "text": [
      "https://www.apartments.com/chateau-lacassie-walnut-creek-ca/84exfd3/\n"
     ]
    },
    {
     "name": "stderr",
     "output_type": "stream",
     "text": [
      "\n",
      "\n",
      "\n",
      "  5%|▌         | 196/3594 [01:57<27:20,  2.07it/s]\u001b[A\u001b[A\u001b[A"
     ]
    },
    {
     "name": "stdout",
     "output_type": "stream",
     "text": [
      "https://www.apartments.com/648-650-abbot-ave-daly-city-ca/dsw5zel/\n"
     ]
    },
    {
     "name": "stderr",
     "output_type": "stream",
     "text": [
      "\n",
      "\n",
      "\n",
      "  5%|▌         | 197/3594 [01:57<26:40,  2.12it/s]\u001b[A\u001b[A\u001b[A"
     ]
    },
    {
     "name": "stdout",
     "output_type": "stream",
     "text": [
      "https://www.apartments.com/building-5-dublin-ca/99p04k7/\n"
     ]
    },
    {
     "name": "stderr",
     "output_type": "stream",
     "text": [
      "\n",
      "\n",
      "\n",
      "  6%|▌         | 198/3594 [01:59<53:23,  1.06it/s]\u001b[A\u001b[A\u001b[A"
     ]
    },
    {
     "name": "stdout",
     "output_type": "stream",
     "text": [
      "https://www.apartments.com/920-evelyn-st-menlo-park-ca/2w20j39/\n"
     ]
    },
    {
     "name": "stderr",
     "output_type": "stream",
     "text": [
      "\n",
      "\n",
      "\n",
      "  6%|▌         | 199/3594 [02:00<44:13,  1.28it/s]\u001b[A\u001b[A\u001b[A"
     ]
    },
    {
     "name": "stdout",
     "output_type": "stream",
     "text": [
      "https://www.apartments.com/294-waverley-st-menlo-park-ca/jj2e3d7/\n"
     ]
    },
    {
     "name": "stderr",
     "output_type": "stream",
     "text": [
      "\n",
      "\n",
      "\n",
      "  6%|▌         | 200/3594 [02:00<38:15,  1.48it/s]\u001b[A\u001b[A\u001b[A"
     ]
    },
    {
     "name": "stdout",
     "output_type": "stream",
     "text": [
      "https://www.apartments.com/1436-el-camino-real-burlingame-ca/c4b8qvd/\n"
     ]
    },
    {
     "name": "stderr",
     "output_type": "stream",
     "text": [
      "\n",
      "\n",
      "\n",
      "  6%|▌         | 201/3594 [02:00<33:10,  1.70it/s]\u001b[A\u001b[A\u001b[A"
     ]
    },
    {
     "name": "stdout",
     "output_type": "stream",
     "text": [
      "https://www.apartments.com/216-grand-blvd-san-mateo-ca/wmj007j/\n"
     ]
    },
    {
     "name": "stderr",
     "output_type": "stream",
     "text": [
      "\n",
      "\n",
      "\n",
      "  6%|▌         | 202/3594 [02:01<30:42,  1.84it/s]\u001b[A\u001b[A\u001b[A"
     ]
    },
    {
     "name": "stdout",
     "output_type": "stream",
     "text": [
      "https://www.apartments.com/574-chestnut-st-san-carlos-ca/rwx0nn3/\n"
     ]
    },
    {
     "name": "stderr",
     "output_type": "stream",
     "text": [
      "\n",
      "\n",
      "\n",
      "  6%|▌         | 203/3594 [02:01<28:08,  2.01it/s]\u001b[A\u001b[A\u001b[A"
     ]
    },
    {
     "name": "stdout",
     "output_type": "stream",
     "text": [
      "https://www.apartments.com/3485-alameda-de-las-pulgas-menlo-park-ca-unit-05/8ryt7s1/\n"
     ]
    },
    {
     "name": "stderr",
     "output_type": "stream",
     "text": [
      "\n",
      "\n",
      "\n",
      "  6%|▌         | 204/3594 [02:02<34:56,  1.62it/s]\u001b[A\u001b[A\u001b[A"
     ]
    },
    {
     "name": "stdout",
     "output_type": "stream",
     "text": [
      "https://www.apartments.com/313-camelback-rd-pleasant-hill-ca/23wmefc/\n"
     ]
    },
    {
     "name": "stderr",
     "output_type": "stream",
     "text": [
      "\n",
      "\n",
      "\n",
      "  6%|▌         | 205/3594 [02:03<31:14,  1.81it/s]\u001b[A\u001b[A\u001b[A"
     ]
    },
    {
     "name": "stdout",
     "output_type": "stream",
     "text": [
      "https://www.apartments.com/4198-george-ave-san-mateo-ca/5bw0hjm/\n"
     ]
    },
    {
     "name": "stderr",
     "output_type": "stream",
     "text": [
      "\n",
      "\n",
      "\n",
      "  6%|▌         | 206/3594 [02:03<34:38,  1.63it/s]\u001b[A\u001b[A\u001b[A"
     ]
    },
    {
     "name": "stdout",
     "output_type": "stream",
     "text": [
      "https://www.apartments.com/33195-lake-champlain-st-fremont-ca/1rdy377/\n"
     ]
    },
    {
     "name": "stderr",
     "output_type": "stream",
     "text": [
      "\n",
      "\n",
      "\n",
      "  6%|▌         | 207/3594 [02:04<32:12,  1.75it/s]\u001b[A\u001b[A\u001b[A"
     ]
    },
    {
     "name": "stdout",
     "output_type": "stream",
     "text": [
      "https://www.apartments.com/1052-annerley-rd-piedmont-ca/8qvjq80/\n"
     ]
    },
    {
     "name": "stderr",
     "output_type": "stream",
     "text": [
      "\n",
      "\n",
      "\n",
      "  6%|▌         | 208/3594 [02:04<28:45,  1.96it/s]\u001b[A\u001b[A\u001b[A"
     ]
    },
    {
     "name": "stdout",
     "output_type": "stream",
     "text": [
      "https://www.apartments.com/417-verde-ave-richmond-ca/s2gzd47/\n"
     ]
    },
    {
     "name": "stderr",
     "output_type": "stream",
     "text": [
      "\n",
      "\n",
      "\n",
      "  6%|▌         | 209/3594 [02:05<27:32,  2.05it/s]\u001b[A\u001b[A\u001b[A"
     ]
    },
    {
     "name": "stdout",
     "output_type": "stream",
     "text": [
      "https://www.apartments.com/772-live-oak-ave-menlo-park-ca/tjkdm1b/\n"
     ]
    },
    {
     "name": "stderr",
     "output_type": "stream",
     "text": [
      "\n",
      "\n",
      "\n",
      "  6%|▌         | 210/3594 [02:05<29:08,  1.94it/s]\u001b[A\u001b[A\u001b[A"
     ]
    },
    {
     "name": "stdout",
     "output_type": "stream",
     "text": [
      "https://www.apartments.com/907-fremont-pl-menlo-park-ca/ln3evwd/\n"
     ]
    },
    {
     "name": "stderr",
     "output_type": "stream",
     "text": [
      "\n",
      "\n",
      "\n",
      "  6%|▌         | 211/3594 [02:06<26:12,  2.15it/s]\u001b[A\u001b[A\u001b[A"
     ]
    },
    {
     "name": "stdout",
     "output_type": "stream",
     "text": [
      "https://www.apartments.com/35-tamalpais-ave-san-anselmo-ca/mfzqtll/\n"
     ]
    },
    {
     "name": "stderr",
     "output_type": "stream",
     "text": [
      "\n",
      "\n",
      "\n",
      "  6%|▌         | 212/3594 [02:06<25:00,  2.25it/s]\u001b[A\u001b[A\u001b[A"
     ]
    },
    {
     "name": "stdout",
     "output_type": "stream",
     "text": [
      "https://www.apartments.com/149-santa-lucia-ave-san-bruno-ca/tvek9q8/\n"
     ]
    },
    {
     "name": "stderr",
     "output_type": "stream",
     "text": [
      "\n",
      "\n",
      "\n",
      "  6%|▌         | 213/3594 [02:06<24:20,  2.31it/s]\u001b[A\u001b[A\u001b[A"
     ]
    },
    {
     "name": "stdout",
     "output_type": "stream",
     "text": [
      "https://www.apartments.com/442-446-3rd-ave-redwood-city-ca/pxsx0ys/\n"
     ]
    },
    {
     "name": "stderr",
     "output_type": "stream",
     "text": [
      "\n",
      "\n",
      "\n",
      "  6%|▌         | 214/3594 [02:07<23:04,  2.44it/s]\u001b[A\u001b[A\u001b[A"
     ]
    },
    {
     "name": "stdout",
     "output_type": "stream",
     "text": [
      "https://www.apartments.com/1116-douglas-ave-burlingame-ca/2vpnrv9/\n"
     ]
    },
    {
     "name": "stderr",
     "output_type": "stream",
     "text": [
      "\n",
      "\n",
      "\n",
      "  6%|▌         | 215/3594 [02:07<22:46,  2.47it/s]\u001b[A\u001b[A\u001b[A"
     ]
    },
    {
     "name": "stdout",
     "output_type": "stream",
     "text": [
      "https://www.apartments.com/654-sylvan-st-daly-city-ca/6d3fjgr/\n"
     ]
    },
    {
     "name": "stderr",
     "output_type": "stream",
     "text": [
      "\n",
      "\n",
      "\n",
      "  6%|▌         | 216/3594 [02:09<42:48,  1.32it/s]\u001b[A\u001b[A\u001b[A"
     ]
    },
    {
     "name": "stdout",
     "output_type": "stream",
     "text": [
      "https://www.apartments.com/3-br-2-bath-house-1744-wesley-ave-el-cerrito-ca/hslm063/\n"
     ]
    },
    {
     "name": "stderr",
     "output_type": "stream",
     "text": [
      "\n",
      "\n",
      "\n",
      "  6%|▌         | 217/3594 [02:09<36:19,  1.55it/s]\u001b[A\u001b[A\u001b[A"
     ]
    },
    {
     "name": "stdout",
     "output_type": "stream",
     "text": [
      "https://www.apartments.com/3-br-2-bath-house-958-alla-ave-concord-ca/9bwdxq4/\n"
     ]
    },
    {
     "name": "stderr",
     "output_type": "stream",
     "text": [
      "\n",
      "\n",
      "\n",
      "  6%|▌         | 218/3594 [02:10<33:07,  1.70it/s]\u001b[A\u001b[A\u001b[A"
     ]
    },
    {
     "name": "stdout",
     "output_type": "stream",
     "text": [
      "https://www.apartments.com/1670-1672-terrace-rd-walnut-creek-ca/wvl1ryj/\n"
     ]
    },
    {
     "name": "stderr",
     "output_type": "stream",
     "text": [
      "\n",
      "\n",
      "\n",
      "  6%|▌         | 219/3594 [02:10<35:37,  1.58it/s]\u001b[A\u001b[A\u001b[A"
     ]
    },
    {
     "name": "stdout",
     "output_type": "stream",
     "text": [
      "https://www.apartments.com/120-lorton-ave-burlingame-ca/p67m82r/\n"
     ]
    },
    {
     "name": "stderr",
     "output_type": "stream",
     "text": [
      "\n",
      "\n",
      "\n",
      "  6%|▌         | 220/3594 [02:11<31:49,  1.77it/s]\u001b[A\u001b[A\u001b[A"
     ]
    },
    {
     "name": "stdout",
     "output_type": "stream",
     "text": [
      "https://www.apartments.com/584-586-alberta-ave-sunnyvale-ca/33jqm1e/\n"
     ]
    },
    {
     "name": "stderr",
     "output_type": "stream",
     "text": [
      "\n",
      "\n",
      "\n",
      "  6%|▌         | 221/3594 [02:11<29:18,  1.92it/s]\u001b[A\u001b[A\u001b[A"
     ]
    },
    {
     "name": "stdout",
     "output_type": "stream",
     "text": [
      "https://www.apartments.com/7725-bodega-ave-sebastopol-ca-unit-15/hvnvbb0/\n"
     ]
    },
    {
     "name": "stderr",
     "output_type": "stream",
     "text": [
      "\n",
      "\n",
      "\n",
      "  6%|▌         | 222/3594 [02:11<25:49,  2.18it/s]\u001b[A\u001b[A\u001b[A"
     ]
    },
    {
     "name": "stdout",
     "output_type": "stream",
     "text": [
      "https://www.apartments.com/kent-villa-daly-city-ca/x5r22zp/\n"
     ]
    },
    {
     "name": "stderr",
     "output_type": "stream",
     "text": [
      "\n",
      "\n",
      "\n",
      "  6%|▌         | 223/3594 [02:13<49:31,  1.13it/s]\u001b[A\u001b[A\u001b[A"
     ]
    },
    {
     "name": "stdout",
     "output_type": "stream",
     "text": [
      "https://www.apartments.com/240-san-diego-ave-san-bruno-ca/4hshclj/\n"
     ]
    },
    {
     "name": "stderr",
     "output_type": "stream",
     "text": [
      "\n",
      "\n",
      "\n",
      "  6%|▌         | 224/3594 [02:14<42:15,  1.33it/s]\u001b[A\u001b[A\u001b[A"
     ]
    },
    {
     "name": "stdout",
     "output_type": "stream",
     "text": [
      "https://www.apartments.com/1827-latham-st-mountain-view-ca/5ptf16q/\n"
     ]
    },
    {
     "name": "stderr",
     "output_type": "stream",
     "text": [
      "\n",
      "\n",
      "\n",
      "  6%|▋         | 225/3594 [02:14<35:46,  1.57it/s]\u001b[A\u001b[A\u001b[A"
     ]
    },
    {
     "name": "stdout",
     "output_type": "stream",
     "text": [
      "https://www.apartments.com/5816-5822-alameda-ave-richmond-ca/32r3tlf/\n"
     ]
    },
    {
     "name": "stderr",
     "output_type": "stream",
     "text": [
      "\n",
      "\n",
      "\n",
      "  6%|▋         | 226/3594 [02:28<4:12:52,  4.50s/it]\u001b[A\u001b[A\u001b[A"
     ]
    },
    {
     "name": "stdout",
     "output_type": "stream",
     "text": [
      "https://www.apartments.com/1963-trinity-ave-walnut-creek-ca/z19vtzx/\n"
     ]
    },
    {
     "name": "stderr",
     "output_type": "stream",
     "text": [
      "\n",
      "\n",
      "\n",
      "  6%|▋         | 227/3594 [02:28<3:03:45,  3.27s/it]\u001b[A\u001b[A\u001b[A"
     ]
    },
    {
     "name": "stdout",
     "output_type": "stream",
     "text": [
      "https://www.apartments.com/491-la-conner-dr-sunnyvale-ca/9ff6fz4/\n"
     ]
    },
    {
     "name": "stderr",
     "output_type": "stream",
     "text": [
      "\n",
      "\n",
      "\n",
      "  6%|▋         | 228/3594 [02:29<2:21:05,  2.51s/it]\u001b[A\u001b[A\u001b[A"
     ]
    },
    {
     "name": "stdout",
     "output_type": "stream",
     "text": [
      "https://www.apartments.com/157-san-benito-ave-san-bruno-ca/l8rjkgg/\n"
     ]
    },
    {
     "name": "stderr",
     "output_type": "stream",
     "text": [
      "\n",
      "\n",
      "\n",
      "  6%|▋         | 229/3594 [02:29<1:45:21,  1.88s/it]\u001b[A\u001b[A\u001b[A"
     ]
    },
    {
     "name": "stdout",
     "output_type": "stream",
     "text": [
      "https://www.apartments.com/2020-5th-ave-san-rafael-ca/pt1zmtr/\n"
     ]
    },
    {
     "name": "stderr",
     "output_type": "stream",
     "text": [
      "\n",
      "\n",
      "\n",
      "  6%|▋         | 230/3594 [02:30<1:20:52,  1.44s/it]\u001b[A\u001b[A\u001b[A"
     ]
    },
    {
     "name": "stdout",
     "output_type": "stream",
     "text": [
      "https://www.apartments.com/1822-woodside-rd-redwood-city-ca/yde2h7s/\n"
     ]
    },
    {
     "name": "stderr",
     "output_type": "stream",
     "text": [
      "\n",
      "\n",
      "\n",
      "  6%|▋         | 231/3594 [02:30<1:03:04,  1.13s/it]\u001b[A\u001b[A\u001b[A"
     ]
    },
    {
     "name": "stdout",
     "output_type": "stream",
     "text": [
      "https://www.apartments.com/22378-salem-ave-cupertino-ca/lyf25ye/\n"
     ]
    },
    {
     "name": "stderr",
     "output_type": "stream",
     "text": [
      "\n",
      "\n",
      "\n",
      "  6%|▋         | 232/3594 [02:30<51:14,  1.09it/s]  \u001b[A\u001b[A\u001b[A"
     ]
    },
    {
     "name": "stdout",
     "output_type": "stream",
     "text": [
      "https://www.apartments.com/166-bryant-st-palo-alto-ca/0p4n3c1/\n"
     ]
    },
    {
     "name": "stderr",
     "output_type": "stream",
     "text": [
      "\n",
      "\n",
      "\n",
      "  6%|▋         | 233/3594 [02:31<42:38,  1.31it/s]\u001b[A\u001b[A\u001b[A"
     ]
    },
    {
     "name": "stdout",
     "output_type": "stream",
     "text": [
      "https://www.apartments.com/1039-45th-st-emeryville-ca-unit-6/qlbv17x/\n"
     ]
    },
    {
     "name": "stderr",
     "output_type": "stream",
     "text": [
      "\n",
      "\n",
      "\n",
      "  7%|▋         | 234/3594 [02:34<1:25:52,  1.53s/it]\u001b[A\u001b[A\u001b[A"
     ]
    },
    {
     "name": "stdout",
     "output_type": "stream",
     "text": [
      "https://www.apartments.com/3329-los-prados-st-san-mateo-ca/4x8h2nk/\n"
     ]
    },
    {
     "name": "stderr",
     "output_type": "stream",
     "text": [
      "\n",
      "\n",
      "\n",
      "  7%|▋         | 235/3594 [02:35<1:06:56,  1.20s/it]\u001b[A\u001b[A\u001b[A"
     ]
    },
    {
     "name": "stdout",
     "output_type": "stream",
     "text": [
      "https://www.apartments.com/641-adams-st-albany-ca/l8kgnee/\n"
     ]
    },
    {
     "name": "stderr",
     "output_type": "stream",
     "text": [
      "\n",
      "\n",
      "\n",
      "  7%|▋         | 236/3594 [02:35<53:52,  1.04it/s]  \u001b[A\u001b[A\u001b[A"
     ]
    },
    {
     "name": "stdout",
     "output_type": "stream",
     "text": [
      "https://www.apartments.com/480-lassen-st-los-altos-ca/kx4sd68/\n"
     ]
    },
    {
     "name": "stderr",
     "output_type": "stream",
     "text": [
      "\n",
      "\n",
      "\n",
      "  7%|▋         | 237/3594 [02:36<54:51,  1.02it/s]\u001b[A\u001b[A\u001b[A"
     ]
    },
    {
     "name": "stdout",
     "output_type": "stream",
     "text": [
      "https://www.apartments.com/cherryhill-sunnyvale-ca/g5rp2py/\n"
     ]
    },
    {
     "name": "stderr",
     "output_type": "stream",
     "text": [
      "\n",
      "\n",
      "\n",
      "  7%|▋         | 238/3594 [02:36<46:43,  1.20it/s]\u001b[A\u001b[A\u001b[A"
     ]
    },
    {
     "name": "stdout",
     "output_type": "stream",
     "text": [
      "https://www.apartments.com/2145-donald-dr-moraga-ca-unit-1/ek8zgwq/\n"
     ]
    },
    {
     "name": "stderr",
     "output_type": "stream",
     "text": [
      "\n",
      "\n",
      "\n",
      "  7%|▋         | 239/3594 [02:37<39:26,  1.42it/s]\u001b[A\u001b[A\u001b[A"
     ]
    },
    {
     "name": "stdout",
     "output_type": "stream",
     "text": [
      "https://www.apartments.com/129-133-wheeler-ave-redwood-city-ca/ceekksf/\n"
     ]
    },
    {
     "name": "stderr",
     "output_type": "stream",
     "text": [
      "\n",
      "\n",
      "\n",
      "  7%|▋         | 240/3594 [02:37<33:32,  1.67it/s]\u001b[A\u001b[A\u001b[A"
     ]
    },
    {
     "name": "stdout",
     "output_type": "stream",
     "text": [
      "https://www.apartments.com/1221-floribunda-ave-burlingame-ca/7fy4ezx/\n"
     ]
    },
    {
     "name": "stderr",
     "output_type": "stream",
     "text": [
      "\n",
      "\n",
      "\n",
      "  7%|▋         | 241/3594 [02:38<38:50,  1.44it/s]\u001b[A\u001b[A\u001b[A"
     ]
    },
    {
     "name": "stdout",
     "output_type": "stream",
     "text": [
      "https://www.apartments.com/diamond-hillside-pittsburg-ca/clebw9f/\n"
     ]
    },
    {
     "name": "stderr",
     "output_type": "stream",
     "text": [
      "\n",
      "\n",
      "\n",
      "  7%|▋         | 242/3594 [02:39<34:43,  1.61it/s]\u001b[A\u001b[A\u001b[A"
     ]
    },
    {
     "name": "stdout",
     "output_type": "stream",
     "text": [
      "https://www.apartments.com/309-311-villa-ter-san-mateo-ca/3e1szfd/\n"
     ]
    },
    {
     "name": "stderr",
     "output_type": "stream",
     "text": [
      "\n",
      "\n",
      "\n",
      "  7%|▋         | 243/3594 [02:39<30:52,  1.81it/s]\u001b[A\u001b[A\u001b[A"
     ]
    },
    {
     "name": "stdout",
     "output_type": "stream",
     "text": [
      "https://www.apartments.com/cupertino-creekside-san-jose-ca/j7y3935/\n"
     ]
    },
    {
     "name": "stderr",
     "output_type": "stream",
     "text": [
      "\n",
      "\n",
      "\n",
      "  7%|▋         | 244/3594 [02:40<32:15,  1.73it/s]\u001b[A\u001b[A\u001b[A"
     ]
    },
    {
     "name": "stdout",
     "output_type": "stream",
     "text": [
      "https://www.apartments.com/1504-sycamore-dr-antioch-ca/1pn3z94/\n"
     ]
    },
    {
     "name": "stderr",
     "output_type": "stream",
     "text": [
      "\n",
      "\n",
      "\n",
      "  7%|▋         | 245/3594 [02:40<28:54,  1.93it/s]\u001b[A\u001b[A\u001b[A"
     ]
    },
    {
     "name": "stdout",
     "output_type": "stream",
     "text": [
      "https://www.apartments.com/850-coleman-ave-menlo-park-ca/7l0lccx/\n"
     ]
    },
    {
     "name": "stderr",
     "output_type": "stream",
     "text": [
      "\n",
      "\n",
      "\n",
      "  7%|▋         | 246/3594 [02:41<28:46,  1.94it/s]\u001b[A\u001b[A\u001b[A"
     ]
    },
    {
     "name": "stdout",
     "output_type": "stream",
     "text": [
      "https://www.apartments.com/alvarado-place-walnut-creek-ca/4ry35fk/\n"
     ]
    },
    {
     "name": "stderr",
     "output_type": "stream",
     "text": [
      "\n",
      "\n",
      "\n",
      "  7%|▋         | 247/3594 [02:41<27:28,  2.03it/s]\u001b[A\u001b[A\u001b[A"
     ]
    },
    {
     "name": "stdout",
     "output_type": "stream",
     "text": [
      "https://www.apartments.com/1650-5th-st-richmond-ca/xm3xhjm/\n"
     ]
    },
    {
     "name": "stderr",
     "output_type": "stream",
     "text": [
      "\n",
      "\n",
      "\n",
      "  7%|▋         | 248/3594 [02:41<27:16,  2.04it/s]\u001b[A\u001b[A\u001b[A"
     ]
    },
    {
     "name": "stdout",
     "output_type": "stream",
     "text": [
      "https://www.apartments.com/28-jacqueline-ct-daly-city-ca-unit-studio/h9qt3x1/\n"
     ]
    },
    {
     "name": "stderr",
     "output_type": "stream",
     "text": [
      "\n",
      "\n",
      "\n",
      "  7%|▋         | 249/3594 [02:42<25:01,  2.23it/s]\u001b[A\u001b[A\u001b[A"
     ]
    },
    {
     "name": "stdout",
     "output_type": "stream",
     "text": [
      "https://www.apartments.com/1451-reganti-pl-concord-ca/txtyzn9/\n"
     ]
    },
    {
     "name": "stderr",
     "output_type": "stream",
     "text": [
      "\n",
      "\n",
      "\n",
      "  7%|▋         | 250/3594 [02:42<23:39,  2.36it/s]\u001b[A\u001b[A\u001b[A"
     ]
    },
    {
     "name": "stdout",
     "output_type": "stream",
     "text": [
      "https://www.apartments.com/larkspur-woods-mountain-view-ca/yb15l7s/\n"
     ]
    },
    {
     "name": "stderr",
     "output_type": "stream",
     "text": [
      "\n",
      "\n",
      "\n",
      "  7%|▋         | 251/3594 [02:43<23:30,  2.37it/s]\u001b[A\u001b[A\u001b[A"
     ]
    },
    {
     "name": "stdout",
     "output_type": "stream",
     "text": [
      "https://www.apartments.com/227-samson-st-redwood-city-ca/y1qdh7s/\n"
     ]
    },
    {
     "name": "stderr",
     "output_type": "stream",
     "text": [
      "\n",
      "\n",
      "\n",
      "  7%|▋         | 252/3594 [02:43<22:32,  2.47it/s]\u001b[A\u001b[A\u001b[A"
     ]
    },
    {
     "name": "stdout",
     "output_type": "stream",
     "text": [
      "https://www.apartments.com/woodland-arms-palo-alto-ca/gm3mmyw/\n"
     ]
    },
    {
     "name": "stderr",
     "output_type": "stream",
     "text": [
      "\n",
      "\n",
      "\n",
      "  7%|▋         | 253/3594 [02:43<21:52,  2.55it/s]\u001b[A\u001b[A\u001b[A"
     ]
    },
    {
     "name": "stdout",
     "output_type": "stream",
     "text": [
      "https://www.apartments.com/parkside-union-city-ca/grd6jgx/\n"
     ]
    },
    {
     "name": "stderr",
     "output_type": "stream",
     "text": [
      "\n",
      "\n",
      "\n",
      "  7%|▋         | 254/3594 [02:44<26:11,  2.13it/s]\u001b[A\u001b[A\u001b[A"
     ]
    },
    {
     "name": "stdout",
     "output_type": "stream",
     "text": [
      "https://www.apartments.com/330-richmond-dr-millbrae-ca/gf569zw/\n"
     ]
    },
    {
     "name": "stderr",
     "output_type": "stream",
     "text": [
      "\n",
      "\n",
      "\n",
      "  7%|▋         | 255/3594 [02:44<25:13,  2.21it/s]\u001b[A\u001b[A\u001b[A"
     ]
    },
    {
     "name": "stdout",
     "output_type": "stream",
     "text": [
      "https://www.apartments.com/1835-villa-st-mountain-view-ca-unit-8/xn2033n/\n"
     ]
    },
    {
     "name": "stderr",
     "output_type": "stream",
     "text": [
      "\n",
      "\n",
      "\n",
      "  7%|▋         | 256/3594 [02:45<24:53,  2.24it/s]\u001b[A\u001b[A\u001b[A"
     ]
    },
    {
     "name": "stdout",
     "output_type": "stream",
     "text": [
      "https://www.apartments.com/2170-carlmont-dr-belmont-ca/nfx6fhp/\n"
     ]
    },
    {
     "name": "stderr",
     "output_type": "stream",
     "text": [
      "\n",
      "\n",
      "\n",
      "  7%|▋         | 257/3594 [02:45<25:26,  2.19it/s]\u001b[A\u001b[A\u001b[A"
     ]
    },
    {
     "name": "stdout",
     "output_type": "stream",
     "text": [
      "https://www.apartments.com/640-sierra-ave-mountain-view-ca/frm7d5v/\n"
     ]
    },
    {
     "name": "stderr",
     "output_type": "stream",
     "text": [
      "\n",
      "\n",
      "\n",
      "  7%|▋         | 258/3594 [02:46<24:19,  2.29it/s]\u001b[A\u001b[A\u001b[A"
     ]
    },
    {
     "name": "stdout",
     "output_type": "stream",
     "text": [
      "https://www.apartments.com/2313-manzanita-way-antioch-ca/m0k7dwh/\n"
     ]
    },
    {
     "name": "stderr",
     "output_type": "stream",
     "text": [
      "\n",
      "\n",
      "\n",
      "  7%|▋         | 259/3594 [02:46<23:09,  2.40it/s]\u001b[A\u001b[A\u001b[A"
     ]
    },
    {
     "name": "stdout",
     "output_type": "stream",
     "text": [
      "https://www.apartments.com/125-san-marco-ave-san-bruno-ca/sv6z4p4/\n"
     ]
    },
    {
     "name": "stderr",
     "output_type": "stream",
     "text": [
      "\n",
      "\n",
      "\n",
      "  7%|▋         | 260/3594 [02:46<22:47,  2.44it/s]\u001b[A\u001b[A\u001b[A"
     ]
    },
    {
     "name": "stdout",
     "output_type": "stream",
     "text": [
      "https://www.apartments.com/3515-3525-farm-hill-blvd-redwood-city-ca/k2n1b1b/\n"
     ]
    },
    {
     "name": "stderr",
     "output_type": "stream",
     "text": [
      "\n",
      "\n",
      "\n",
      "  7%|▋         | 261/3594 [02:47<21:53,  2.54it/s]\u001b[A\u001b[A\u001b[A"
     ]
    },
    {
     "name": "stdout",
     "output_type": "stream",
     "text": [
      "https://www.apartments.com/831-n-el-camino-real-san-mateo-ca/sq3xtj7/\n"
     ]
    },
    {
     "name": "stderr",
     "output_type": "stream",
     "text": [
      "\n",
      "\n",
      "\n",
      "  7%|▋         | 262/3594 [02:47<23:50,  2.33it/s]\u001b[A\u001b[A\u001b[A"
     ]
    },
    {
     "name": "stdout",
     "output_type": "stream",
     "text": [
      "https://www.apartments.com/68-72-camelback-ct-pleasant-hill-ca/e4ld30n/\n"
     ]
    },
    {
     "name": "stderr",
     "output_type": "stream",
     "text": [
      "\n",
      "\n",
      "\n",
      "  7%|▋         | 263/3594 [02:48<23:35,  2.35it/s]\u001b[A\u001b[A\u001b[A"
     ]
    },
    {
     "name": "stdout",
     "output_type": "stream",
     "text": [
      "https://www.apartments.com/1005-1007-jones-ct-redwood-city-ca/wm9d0gj/\n"
     ]
    },
    {
     "name": "stderr",
     "output_type": "stream",
     "text": [
      "\n",
      "\n",
      "\n",
      "  7%|▋         | 264/3594 [02:48<23:14,  2.39it/s]\u001b[A\u001b[A\u001b[A"
     ]
    },
    {
     "name": "stdout",
     "output_type": "stream",
     "text": [
      "https://www.apartments.com/36880-newark-blvd-newark-ca/4wwblsl/\n"
     ]
    },
    {
     "name": "stderr",
     "output_type": "stream",
     "text": [
      "\n",
      "\n",
      "\n",
      "  7%|▋         | 265/3594 [02:49<28:46,  1.93it/s]\u001b[A\u001b[A\u001b[A"
     ]
    },
    {
     "name": "stdout",
     "output_type": "stream",
     "text": [
      "https://www.apartments.com/cowper-apartments-palo-alto-ca/lj53vrd/\n"
     ]
    },
    {
     "name": "stderr",
     "output_type": "stream",
     "text": [
      "\n",
      "\n",
      "\n",
      "  7%|▋         | 266/3594 [02:49<26:54,  2.06it/s]\u001b[A\u001b[A\u001b[A"
     ]
    },
    {
     "name": "stdout",
     "output_type": "stream",
     "text": [
      "https://www.apartments.com/5200-panama-ave-richmond-ca/l84q2wd/\n"
     ]
    },
    {
     "name": "stderr",
     "output_type": "stream",
     "text": [
      "\n",
      "\n",
      "\n",
      "  7%|▋         | 267/3594 [02:50<25:01,  2.22it/s]\u001b[A\u001b[A\u001b[A"
     ]
    },
    {
     "name": "stdout",
     "output_type": "stream",
     "text": [
      "https://www.apartments.com/140-santa-clara-ave-san-bruno-ca/zw3xg2y/\n"
     ]
    },
    {
     "name": "stderr",
     "output_type": "stream",
     "text": [
      "\n",
      "\n",
      "\n",
      "  7%|▋         | 268/3594 [02:50<24:57,  2.22it/s]\u001b[A\u001b[A\u001b[A"
     ]
    },
    {
     "name": "stdout",
     "output_type": "stream",
     "text": [
      "https://www.apartments.com/aster-dublin-ca/ggh039x/\n"
     ]
    },
    {
     "name": "stderr",
     "output_type": "stream",
     "text": [
      "\n",
      "\n",
      "\n",
      "  7%|▋         | 269/3594 [02:51<28:01,  1.98it/s]\u001b[A\u001b[A\u001b[A"
     ]
    },
    {
     "name": "stdout",
     "output_type": "stream",
     "text": [
      "https://www.apartments.com/348-ab-b-st-south-san-francisco-ca/1lyvdv6/\n"
     ]
    },
    {
     "name": "stderr",
     "output_type": "stream",
     "text": [
      "\n",
      "\n",
      "\n",
      "  8%|▊         | 270/3594 [02:51<26:28,  2.09it/s]\u001b[A\u001b[A\u001b[A"
     ]
    },
    {
     "name": "stdout",
     "output_type": "stream",
     "text": [
      "https://www.apartments.com/710-laurel-ave-san-mateo-ca/pd9x3kr/\n"
     ]
    },
    {
     "name": "stderr",
     "output_type": "stream",
     "text": [
      "\n",
      "\n",
      "\n",
      "  8%|▊         | 271/3594 [02:52<25:26,  2.18it/s]\u001b[A\u001b[A\u001b[A"
     ]
    },
    {
     "name": "stdout",
     "output_type": "stream",
     "text": [
      "https://www.apartments.com/5630-san-diego-st-el-cerrito-ca/pg8kj9v/\n"
     ]
    },
    {
     "name": "stderr",
     "output_type": "stream",
     "text": [
      "\n",
      "\n",
      "\n",
      "  8%|▊         | 272/3594 [02:52<31:20,  1.77it/s]\u001b[A\u001b[A\u001b[A"
     ]
    },
    {
     "name": "stdout",
     "output_type": "stream",
     "text": [
      "https://www.apartments.com/58-oakes-blvd-san-leandro-ca-unit-4/1tf9t45/\n"
     ]
    },
    {
     "name": "stderr",
     "output_type": "stream",
     "text": [
      "\n",
      "\n",
      "\n",
      "  8%|▊         | 273/3594 [02:54<42:25,  1.30it/s]\u001b[A\u001b[A\u001b[A"
     ]
    },
    {
     "name": "stdout",
     "output_type": "stream",
     "text": [
      "https://www.apartments.com/1730-sequoia-ave-burlingame-ca/n2pfs4m/\n"
     ]
    },
    {
     "name": "stderr",
     "output_type": "stream",
     "text": [
      "\n",
      "\n",
      "\n",
      "  8%|▊         | 274/3594 [02:54<36:07,  1.53it/s]\u001b[A\u001b[A\u001b[A"
     ]
    },
    {
     "name": "stdout",
     "output_type": "stream",
     "text": [
      "https://www.apartments.com/hacienda-commons-pleasanton-ca/6x4zhnv/\n"
     ]
    },
    {
     "name": "stderr",
     "output_type": "stream",
     "text": [
      "\n",
      "\n",
      "\n",
      "  8%|▊         | 275/3594 [02:55<34:14,  1.62it/s]\u001b[A\u001b[A\u001b[A"
     ]
    },
    {
     "name": "stdout",
     "output_type": "stream",
     "text": [
      "https://www.apartments.com/610-ansel-rd-burlingame-ca/syrxl46/\n"
     ]
    },
    {
     "name": "stderr",
     "output_type": "stream",
     "text": [
      "\n",
      "\n",
      "\n",
      "  8%|▊         | 276/3594 [02:55<38:46,  1.43it/s]\u001b[A\u001b[A\u001b[A"
     ]
    },
    {
     "name": "stdout",
     "output_type": "stream",
     "text": [
      "https://www.apartments.com/1212-mariner-way-tiburon-ca/dqyg7sl/\n"
     ]
    },
    {
     "name": "stderr",
     "output_type": "stream",
     "text": [
      "\n",
      "\n",
      "\n",
      "  8%|▊         | 277/3594 [02:56<33:22,  1.66it/s]\u001b[A\u001b[A\u001b[A"
     ]
    },
    {
     "name": "stdout",
     "output_type": "stream",
     "text": [
      "https://www.apartments.com/la-terraza-san-jose-ca/f1dhwsr/\n"
     ]
    },
    {
     "name": "stderr",
     "output_type": "stream",
     "text": [
      "\n",
      "\n",
      "\n",
      "  8%|▊         | 278/3594 [02:56<31:05,  1.78it/s]\u001b[A\u001b[A\u001b[A"
     ]
    },
    {
     "name": "stdout",
     "output_type": "stream",
     "text": [
      "https://www.apartments.com/revere-campbell-campbell-ca/v71z6pf/\n"
     ]
    },
    {
     "name": "stderr",
     "output_type": "stream",
     "text": [
      "\n",
      "\n",
      "\n",
      "  8%|▊         | 279/3594 [02:57<30:43,  1.80it/s]\u001b[A\u001b[A\u001b[A"
     ]
    },
    {
     "name": "stdout",
     "output_type": "stream",
     "text": [
      "https://www.apartments.com/889-n-san-antonio-rd-los-altos-ca-unit-2030/enyj30n/\n"
     ]
    },
    {
     "name": "stderr",
     "output_type": "stream",
     "text": [
      "\n",
      "\n",
      "\n",
      "  8%|▊         | 280/3594 [02:57<29:12,  1.89it/s]\u001b[A\u001b[A\u001b[A"
     ]
    },
    {
     "name": "stdout",
     "output_type": "stream",
     "text": [
      "https://www.apartments.com/3-br-2-bath-house-108-marsala-court-hercules-ca/l3d564e/\n"
     ]
    },
    {
     "name": "stderr",
     "output_type": "stream",
     "text": [
      "\n",
      "\n",
      "\n",
      "  8%|▊         | 281/3594 [02:58<36:49,  1.50it/s]\u001b[A\u001b[A\u001b[A"
     ]
    },
    {
     "name": "stdout",
     "output_type": "stream",
     "text": [
      "https://www.apartments.com/666-hope-st-mountain-view-ca/f81b0lr/\n"
     ]
    },
    {
     "name": "stderr",
     "output_type": "stream",
     "text": [
      "\n",
      "\n",
      "\n",
      "  8%|▊         | 282/3594 [02:59<31:45,  1.74it/s]\u001b[A\u001b[A\u001b[A"
     ]
    },
    {
     "name": "stdout",
     "output_type": "stream",
     "text": [
      "https://www.apartments.com/briarwood-manor-menlo-park-ca/7f1q06y/\n"
     ]
    },
    {
     "name": "stderr",
     "output_type": "stream",
     "text": [
      "\n",
      "\n",
      "\n",
      "  8%|▊         | 283/3594 [02:59<28:45,  1.92it/s]\u001b[A\u001b[A\u001b[A"
     ]
    },
    {
     "name": "stdout",
     "output_type": "stream",
     "text": [
      "https://www.apartments.com/405-kipling-st-palo-alto-ca/vktb3fd/\n"
     ]
    },
    {
     "name": "stderr",
     "output_type": "stream",
     "text": [
      "\n",
      "\n",
      "\n",
      "  8%|▊         | 284/3594 [02:59<27:32,  2.00it/s]\u001b[A\u001b[A\u001b[A"
     ]
    },
    {
     "name": "stdout",
     "output_type": "stream",
     "text": [
      "https://www.apartments.com/eaves-pacifica-pacifica-ca/xj1fpzm/\n"
     ]
    },
    {
     "name": "stderr",
     "output_type": "stream",
     "text": [
      "\n",
      "\n",
      "\n",
      "  8%|▊         | 285/3594 [03:00<27:01,  2.04it/s]\u001b[A\u001b[A\u001b[A"
     ]
    },
    {
     "name": "stdout",
     "output_type": "stream",
     "text": [
      "https://www.apartments.com/sedona-lane-apartments-campbell-ca/f7z4hrv/\n"
     ]
    },
    {
     "name": "stderr",
     "output_type": "stream",
     "text": [
      "\n",
      "\n",
      "\n",
      "  8%|▊         | 286/3594 [03:01<38:33,  1.43it/s]\u001b[A\u001b[A\u001b[A"
     ]
    },
    {
     "name": "stdout",
     "output_type": "stream",
     "text": [
      "https://www.apartments.com/1217-oak-grove-ave-burlingame-ca/2gw5p3b/\n"
     ]
    },
    {
     "name": "stderr",
     "output_type": "stream",
     "text": [
      "\n",
      "\n",
      "\n",
      "  8%|▊         | 287/3594 [03:02<33:54,  1.63it/s]\u001b[A\u001b[A\u001b[A"
     ]
    },
    {
     "name": "stdout",
     "output_type": "stream",
     "text": [
      "https://www.apartments.com/parkmerced-san-francisco-ca/26ht3d9/\n"
     ]
    },
    {
     "name": "stderr",
     "output_type": "stream",
     "text": [
      "\n",
      "\n",
      "\n",
      "  8%|▊         | 288/3594 [03:02<31:04,  1.77it/s]\u001b[A\u001b[A\u001b[A"
     ]
    },
    {
     "name": "stdout",
     "output_type": "stream",
     "text": [
      "https://www.apartments.com/398-klamath-st-brisbane-ca/7ylb23x/\n"
     ]
    },
    {
     "name": "stderr",
     "output_type": "stream",
     "text": [
      "\n",
      "\n",
      "\n",
      "  8%|▊         | 289/3594 [03:02<27:50,  1.98it/s]\u001b[A\u001b[A\u001b[A"
     ]
    },
    {
     "name": "stdout",
     "output_type": "stream",
     "text": [
      "https://www.apartments.com/921-e-blithedale-ave-mill-valley-ca/h4dnw11/\n"
     ]
    },
    {
     "name": "stderr",
     "output_type": "stream",
     "text": [
      "\n",
      "\n",
      "\n",
      "  8%|▊         | 290/3594 [03:03<27:32,  2.00it/s]\u001b[A\u001b[A\u001b[A"
     ]
    },
    {
     "name": "stdout",
     "output_type": "stream",
     "text": [
      "https://www.apartments.com/326-camille-ln-mountain-view-ca/sdtlv94/\n"
     ]
    },
    {
     "name": "stderr",
     "output_type": "stream",
     "text": [
      "\n",
      "\n",
      "\n",
      "  8%|▊         | 291/3594 [03:03<24:56,  2.21it/s]\u001b[A\u001b[A\u001b[A"
     ]
    },
    {
     "name": "stdout",
     "output_type": "stream",
     "text": [
      "https://www.apartments.com/riviera-family-apartments-walnut-creek-ca/2p8qllc/\n"
     ]
    },
    {
     "name": "stderr",
     "output_type": "stream",
     "text": [
      "\n",
      "\n",
      "\n",
      "  8%|▊         | 292/3594 [03:04<23:22,  2.36it/s]\u001b[A\u001b[A\u001b[A"
     ]
    },
    {
     "name": "stdout",
     "output_type": "stream",
     "text": [
      "https://www.apartments.com/1531-sir-francis-drake-blvd-san-anselmo-ca/71475bz/\n"
     ]
    },
    {
     "name": "stderr",
     "output_type": "stream",
     "text": [
      "\n",
      "\n",
      "\n",
      "  8%|▊         | 293/3594 [03:04<23:04,  2.38it/s]\u001b[A\u001b[A\u001b[A"
     ]
    },
    {
     "name": "stdout",
     "output_type": "stream",
     "text": [
      "https://www.apartments.com/809-823-cowper-st-palo-alto-ca/0s4tmc3/\n"
     ]
    },
    {
     "name": "stderr",
     "output_type": "stream",
     "text": [
      "\n",
      "\n",
      "\n",
      "  8%|▊         | 294/3594 [03:04<22:36,  2.43it/s]\u001b[A\u001b[A\u001b[A"
     ]
    },
    {
     "name": "stdout",
     "output_type": "stream",
     "text": [
      "https://www.apartments.com/1620-queen-charlotte-dr-sunnyvale-ca/v497leg/\n"
     ]
    },
    {
     "name": "stderr",
     "output_type": "stream",
     "text": [
      "\n",
      "\n",
      "\n",
      "  8%|▊         | 295/3594 [03:05<28:13,  1.95it/s]\u001b[A\u001b[A\u001b[A"
     ]
    },
    {
     "name": "stdout",
     "output_type": "stream",
     "text": [
      "https://www.apartments.com/12-clinton-st-redwood-city-ca/xjtsz9q/\n"
     ]
    },
    {
     "name": "stderr",
     "output_type": "stream",
     "text": [
      "\n",
      "\n",
      "\n",
      "  8%|▊         | 296/3594 [03:05<25:50,  2.13it/s]\u001b[A\u001b[A\u001b[A"
     ]
    },
    {
     "name": "stdout",
     "output_type": "stream",
     "text": [
      "https://www.apartments.com/470-studio-cir-san-mateo-ca/t76y538/\n"
     ]
    },
    {
     "name": "stderr",
     "output_type": "stream",
     "text": [
      "\n",
      "\n",
      "\n",
      "  8%|▊         | 297/3594 [03:06<24:24,  2.25it/s]\u001b[A\u001b[A\u001b[A"
     ]
    },
    {
     "name": "stdout",
     "output_type": "stream",
     "text": [
      "https://www.apartments.com/3-br-15-bath-house-6301-broadway-terrace-oakland-ca/n6sjelm/\n"
     ]
    },
    {
     "name": "stderr",
     "output_type": "stream",
     "text": [
      "\n",
      "\n",
      "\n",
      "  8%|▊         | 298/3594 [03:10<1:17:37,  1.41s/it]\u001b[A\u001b[A\u001b[A"
     ]
    },
    {
     "name": "stdout",
     "output_type": "stream",
     "text": [
      "https://www.apartments.com/619-hampshire-ave-redwood-city-ca/hp4d2l0/\n"
     ]
    },
    {
     "name": "stderr",
     "output_type": "stream",
     "text": [
      "\n",
      "\n",
      "\n",
      "  8%|▊         | 299/3594 [03:10<1:00:30,  1.10s/it]\u001b[A\u001b[A\u001b[A"
     ]
    },
    {
     "name": "stdout",
     "output_type": "stream",
     "text": [
      "https://www.apartments.com/812-jefferson-ct-san-mateo-ca/bjybg2c/\n"
     ]
    },
    {
     "name": "stderr",
     "output_type": "stream",
     "text": [
      "\n",
      "\n",
      "\n",
      "  8%|▊         | 300/3594 [03:11<52:07,  1.05it/s]  \u001b[A\u001b[A\u001b[A"
     ]
    },
    {
     "name": "stdout",
     "output_type": "stream",
     "text": [
      "https://www.apartments.com/553-san-rafael-ave-belvedere-ca/n5fhn4p/\n"
     ]
    },
    {
     "name": "stderr",
     "output_type": "stream",
     "text": [
      "\n",
      "\n",
      "\n",
      "  8%|▊         | 301/3594 [03:11<42:09,  1.30it/s]\u001b[A\u001b[A\u001b[A"
     ]
    },
    {
     "name": "stdout",
     "output_type": "stream",
     "text": [
      "https://www.apartments.com/lu-jean-apts-burlingame-ca/14dqkk6/\n"
     ]
    },
    {
     "name": "stderr",
     "output_type": "stream",
     "text": [
      "\n",
      "\n",
      "\n",
      "  8%|▊         | 302/3594 [03:11<36:18,  1.51it/s]\u001b[A\u001b[A\u001b[A"
     ]
    },
    {
     "name": "stdout",
     "output_type": "stream",
     "text": [
      "https://www.apartments.com/bakery-lofts-oakland-ca/gw6k4qw/\n"
     ]
    },
    {
     "name": "stderr",
     "output_type": "stream",
     "text": [
      "\n",
      "\n",
      "\n",
      "  8%|▊         | 303/3594 [03:12<33:18,  1.65it/s]\u001b[A\u001b[A\u001b[A"
     ]
    },
    {
     "name": "stdout",
     "output_type": "stream",
     "text": [
      "https://www.apartments.com/1-br-1-bath-duplex-605-e-santa-inez-ave-san-mateo-ca/vsfmq0d/\n"
     ]
    },
    {
     "name": "stderr",
     "output_type": "stream",
     "text": [
      "\n",
      "\n",
      "\n",
      "  8%|▊         | 304/3594 [03:12<30:44,  1.78it/s]\u001b[A\u001b[A\u001b[A"
     ]
    },
    {
     "name": "stdout",
     "output_type": "stream",
     "text": [
      "https://www.apartments.com/231-villa-ter-san-mateo-ca/63bcd5v/\n"
     ]
    },
    {
     "name": "stderr",
     "output_type": "stream",
     "text": [
      "\n",
      "\n",
      "\n",
      "  8%|▊         | 305/3594 [03:13<38:49,  1.41it/s]\u001b[A\u001b[A\u001b[A"
     ]
    },
    {
     "name": "stdout",
     "output_type": "stream",
     "text": [
      "https://www.apartments.com/422-evelyn-ave-el-cerrito-ca/rmcmbw1/\n"
     ]
    },
    {
     "name": "stderr",
     "output_type": "stream",
     "text": [
      "\n",
      "\n",
      "\n",
      "  9%|▊         | 306/3594 [03:14<33:11,  1.65it/s]\u001b[A\u001b[A\u001b[A"
     ]
    },
    {
     "name": "stdout",
     "output_type": "stream",
     "text": [
      "https://www.apartments.com/947-boranda-ave-mountain-view-ca/qmdrmhy/\n"
     ]
    },
    {
     "name": "stderr",
     "output_type": "stream",
     "text": [
      "\n",
      "\n",
      "\n",
      "  9%|▊         | 307/3594 [03:14<30:44,  1.78it/s]\u001b[A\u001b[A\u001b[A"
     ]
    },
    {
     "name": "stdout",
     "output_type": "stream",
     "text": [
      "https://www.apartments.com/815-e-fremont-ave-sunnyvale-ca/6yzzcqr/\n"
     ]
    },
    {
     "name": "stderr",
     "output_type": "stream",
     "text": [
      "\n",
      "\n",
      "\n",
      "  9%|▊         | 308/3594 [03:15<29:13,  1.87it/s]\u001b[A\u001b[A\u001b[A"
     ]
    },
    {
     "name": "stdout",
     "output_type": "stream",
     "text": [
      "https://www.apartments.com/northpark-burlingame-ca/q9tdbex/\n"
     ]
    },
    {
     "name": "stderr",
     "output_type": "stream",
     "text": [
      "\n",
      "\n",
      "\n",
      "  9%|▊         | 309/3594 [03:16<36:37,  1.50it/s]\u001b[A\u001b[A\u001b[A"
     ]
    },
    {
     "name": "stdout",
     "output_type": "stream",
     "text": [
      "https://www.apartments.com/350-kains-ave-san-bruno-ca/hlsj6p0/\n"
     ]
    },
    {
     "name": "stderr",
     "output_type": "stream",
     "text": [
      "\n",
      "\n",
      "\n",
      "  9%|▊         | 310/3594 [03:16<31:23,  1.74it/s]\u001b[A\u001b[A\u001b[A"
     ]
    },
    {
     "name": "stdout",
     "output_type": "stream",
     "text": [
      "https://www.apartments.com/363-waverley-st-menlo-park-ca/sjtp7r4/\n"
     ]
    },
    {
     "name": "stderr",
     "output_type": "stream",
     "text": [
      "\n",
      "\n",
      "\n",
      "  9%|▊         | 311/3594 [03:16<28:24,  1.93it/s]\u001b[A\u001b[A\u001b[A"
     ]
    },
    {
     "name": "stdout",
     "output_type": "stream",
     "text": [
      "https://www.apartments.com/donna-ngai-apartments-millbrae-ca/892qq21/\n"
     ]
    },
    {
     "name": "stderr",
     "output_type": "stream",
     "text": [
      "\n",
      "\n",
      "\n",
      "  9%|▊         | 312/3594 [03:17<27:18,  2.00it/s]\u001b[A\u001b[A\u001b[A"
     ]
    },
    {
     "name": "stdout",
     "output_type": "stream",
     "text": [
      "https://www.apartments.com/bel-aire-apartments-mountain-view-ca/kk8y0kc/\n"
     ]
    },
    {
     "name": "stderr",
     "output_type": "stream",
     "text": [
      "\n",
      "\n",
      "\n",
      "  9%|▊         | 313/3594 [03:17<25:07,  2.18it/s]\u001b[A\u001b[A\u001b[A"
     ]
    },
    {
     "name": "stdout",
     "output_type": "stream",
     "text": [
      "https://www.apartments.com/1412-mission-ave-san-pablo-ca-unit-4/1fwkxx4/\n"
     ]
    },
    {
     "name": "stderr",
     "output_type": "stream",
     "text": [
      "\n",
      "\n",
      "\n",
      "  9%|▊         | 314/3594 [03:17<23:40,  2.31it/s]\u001b[A\u001b[A\u001b[A"
     ]
    },
    {
     "name": "stdout",
     "output_type": "stream",
     "text": [
      "https://www.apartments.com/20-highland-ave-burlingame-ca/e009hmn/\n"
     ]
    },
    {
     "name": "stderr",
     "output_type": "stream",
     "text": [
      "\n",
      "\n",
      "\n",
      "  9%|▉         | 315/3594 [03:18<22:51,  2.39it/s]\u001b[A\u001b[A\u001b[A"
     ]
    },
    {
     "name": "stdout",
     "output_type": "stream",
     "text": [
      "https://www.apartments.com/madison-at-boulevard-dublin-ca/cdc2bkg/\n"
     ]
    },
    {
     "name": "stderr",
     "output_type": "stream",
     "text": [
      "\n",
      "\n",
      "\n",
      "  9%|▉         | 316/3594 [03:18<22:29,  2.43it/s]\u001b[A\u001b[A\u001b[A"
     ]
    },
    {
     "name": "stdout",
     "output_type": "stream",
     "text": [
      "https://www.apartments.com/verona-gardens-sunnyvale-ca/nxd97ep/\n"
     ]
    },
    {
     "name": "stderr",
     "output_type": "stream",
     "text": [
      "\n",
      "\n",
      "\n",
      "  9%|▉         | 317/3594 [03:19<22:07,  2.47it/s]\u001b[A\u001b[A\u001b[A"
     ]
    },
    {
     "name": "stdout",
     "output_type": "stream",
     "text": [
      "https://www.apartments.com/925-931-apgar-st-oakland-ca/m02bxqk/\n"
     ]
    },
    {
     "name": "stderr",
     "output_type": "stream",
     "text": [
      "\n",
      "\n",
      "\n",
      "  9%|▉         | 318/3594 [03:19<22:51,  2.39it/s]\u001b[A\u001b[A\u001b[A"
     ]
    },
    {
     "name": "stdout",
     "output_type": "stream",
     "text": [
      "https://www.apartments.com/1428-1430-oakland-blvd-walnut-creek-ca/wxjk5cl/\n"
     ]
    },
    {
     "name": "stderr",
     "output_type": "stream",
     "text": [
      "\n",
      "\n",
      "\n",
      "  9%|▉         | 319/3594 [03:19<22:07,  2.47it/s]\u001b[A\u001b[A\u001b[A"
     ]
    },
    {
     "name": "stdout",
     "output_type": "stream",
     "text": [
      "https://www.apartments.com/352-camelback-rd-pleasant-hill-ca/hmrs272/\n"
     ]
    },
    {
     "name": "stderr",
     "output_type": "stream",
     "text": [
      "\n",
      "\n",
      "\n",
      "  9%|▉         | 320/3594 [03:20<26:54,  2.03it/s]\u001b[A\u001b[A\u001b[A"
     ]
    },
    {
     "name": "stdout",
     "output_type": "stream",
     "text": [
      "https://www.apartments.com/1702-1710-kentfield-ave-redwood-city-ca/qfjq1fz/\n"
     ]
    },
    {
     "name": "stderr",
     "output_type": "stream",
     "text": [
      "\n",
      "\n",
      "\n",
      "  9%|▉         | 321/3594 [03:21<24:38,  2.21it/s]\u001b[A\u001b[A\u001b[A"
     ]
    },
    {
     "name": "stdout",
     "output_type": "stream",
     "text": [
      "https://www.apartments.com/west-park-apartments-mountain-view-ca/9tmgfz5/\n"
     ]
    },
    {
     "name": "stderr",
     "output_type": "stream",
     "text": [
      "\n",
      "\n",
      "\n",
      "  9%|▉         | 322/3594 [03:21<23:20,  2.34it/s]\u001b[A\u001b[A\u001b[A"
     ]
    },
    {
     "name": "stdout",
     "output_type": "stream",
     "text": [
      "https://www.apartments.com/249-251-emerson-st-palo-alto-ca/05bjek1/\n"
     ]
    },
    {
     "name": "stderr",
     "output_type": "stream",
     "text": [
      "\n",
      "\n",
      "\n",
      "  9%|▉         | 323/3594 [03:21<22:54,  2.38it/s]\u001b[A\u001b[A\u001b[A"
     ]
    },
    {
     "name": "stdout",
     "output_type": "stream",
     "text": [
      "https://www.apartments.com/671-la-grande-dr-sunnyvale-ca/ye15vzr/\n"
     ]
    },
    {
     "name": "stderr",
     "output_type": "stream",
     "text": [
      "\n",
      "\n",
      "\n",
      "  9%|▉         | 324/3594 [03:22<30:24,  1.79it/s]\u001b[A\u001b[A\u001b[A"
     ]
    },
    {
     "name": "stdout",
     "output_type": "stream",
     "text": [
      "https://www.apartments.com/530-adams-st-albany-ca/zyvp7ty/\n"
     ]
    },
    {
     "name": "stderr",
     "output_type": "stream",
     "text": [
      "\n",
      "\n",
      "\n",
      "  9%|▉         | 325/3594 [03:23<26:50,  2.03it/s]\u001b[A\u001b[A\u001b[A"
     ]
    },
    {
     "name": "stdout",
     "output_type": "stream",
     "text": [
      "https://www.apartments.com/57-ross-ave-san-anselmo-ca/9dzk8r7/\n"
     ]
    },
    {
     "name": "stderr",
     "output_type": "stream",
     "text": [
      "\n",
      "\n",
      "\n",
      "  9%|▉         | 326/3594 [03:23<24:36,  2.21it/s]\u001b[A\u001b[A\u001b[A"
     ]
    },
    {
     "name": "stdout",
     "output_type": "stream",
     "text": [
      "https://www.apartments.com/904-bayswater-ave-burlingame-ca/f6mww9t/\n"
     ]
    },
    {
     "name": "stderr",
     "output_type": "stream",
     "text": [
      "\n",
      "\n",
      "\n",
      "  9%|▉         | 327/3594 [03:23<23:50,  2.28it/s]\u001b[A\u001b[A\u001b[A"
     ]
    },
    {
     "name": "stdout",
     "output_type": "stream",
     "text": [
      "https://www.apartments.com/kingston-place-apartments-walnut-creek-ca/1l8vt37/\n"
     ]
    },
    {
     "name": "stderr",
     "output_type": "stream",
     "text": [
      "\n",
      "\n",
      "\n",
      "  9%|▉         | 328/3594 [03:25<40:08,  1.36it/s]\u001b[A\u001b[A\u001b[A"
     ]
    },
    {
     "name": "stdout",
     "output_type": "stream",
     "text": [
      "https://www.apartments.com/1947-woodside-rd-redwood-city-ca-unit-3/cyv2njg/\n"
     ]
    },
    {
     "name": "stderr",
     "output_type": "stream",
     "text": [
      "\n",
      "\n",
      "\n",
      "  9%|▉         | 329/3594 [03:25<33:52,  1.61it/s]\u001b[A\u001b[A\u001b[A"
     ]
    },
    {
     "name": "stdout",
     "output_type": "stream",
     "text": [
      "https://www.apartments.com/1102-henderson-ave-menlo-park-ca/7cxwrrx/\n"
     ]
    },
    {
     "name": "stderr",
     "output_type": "stream",
     "text": [
      "\n",
      "\n",
      "\n",
      "  9%|▉         | 330/3594 [03:25<30:02,  1.81it/s]\u001b[A\u001b[A\u001b[A"
     ]
    },
    {
     "name": "stdout",
     "output_type": "stream",
     "text": [
      "https://www.apartments.com/1930-camino-verde-walnut-creek-ca/w8zcrkl/\n"
     ]
    },
    {
     "name": "stderr",
     "output_type": "stream",
     "text": [
      "\n",
      "\n",
      "\n",
      "  9%|▉         | 331/3594 [03:26<28:11,  1.93it/s]\u001b[A\u001b[A\u001b[A"
     ]
    },
    {
     "name": "stdout",
     "output_type": "stream",
     "text": [
      "https://www.apartments.com/929-dewing-ave-lafayette-ca-unit-b/t29kqm9/\n"
     ]
    },
    {
     "name": "stderr",
     "output_type": "stream",
     "text": [
      "\n",
      "\n",
      "\n",
      "  9%|▉         | 332/3594 [03:26<27:17,  1.99it/s]\u001b[A\u001b[A\u001b[A"
     ]
    },
    {
     "name": "stdout",
     "output_type": "stream",
     "text": [
      "https://www.apartments.com/232-2nd-ave-redwood-city-ca/xee6e3n/\n"
     ]
    },
    {
     "name": "stderr",
     "output_type": "stream",
     "text": [
      "\n",
      "\n",
      "\n",
      "  9%|▉         | 333/3594 [03:27<24:51,  2.19it/s]\u001b[A\u001b[A\u001b[A"
     ]
    },
    {
     "name": "stdout",
     "output_type": "stream",
     "text": [
      "https://www.apartments.com/240-franklin-st-mountain-view-ca/bwcetgb/\n"
     ]
    },
    {
     "name": "stderr",
     "output_type": "stream",
     "text": [
      "\n",
      "\n",
      "\n",
      "  9%|▉         | 334/3594 [03:27<23:19,  2.33it/s]\u001b[A\u001b[A\u001b[A"
     ]
    },
    {
     "name": "stdout",
     "output_type": "stream",
     "text": [
      "https://www.apartments.com/475-milton-ave-san-bruno-ca/8ljdk10/\n"
     ]
    },
    {
     "name": "stderr",
     "output_type": "stream",
     "text": [
      "\n",
      "\n",
      "\n",
      "  9%|▉         | 335/3594 [03:27<22:22,  2.43it/s]\u001b[A\u001b[A\u001b[A"
     ]
    },
    {
     "name": "stdout",
     "output_type": "stream",
     "text": [
      "https://www.apartments.com/1826-alcatraz-ave-berkeley-ca/1mqzzj6/\n"
     ]
    },
    {
     "name": "stderr",
     "output_type": "stream",
     "text": [
      "\n",
      "\n",
      "\n",
      "  9%|▉         | 336/3594 [03:28<32:03,  1.69it/s]\u001b[A\u001b[A\u001b[A"
     ]
    },
    {
     "name": "stdout",
     "output_type": "stream",
     "text": [
      "https://www.apartments.com/1137-1147-solano-ave-albany-ca/n4xh8pq/\n"
     ]
    },
    {
     "name": "stderr",
     "output_type": "stream",
     "text": [
      "\n",
      "\n",
      "\n",
      "  9%|▉         | 337/3594 [03:29<28:13,  1.92it/s]\u001b[A\u001b[A\u001b[A"
     ]
    },
    {
     "name": "stdout",
     "output_type": "stream",
     "text": [
      "https://www.apartments.com/815-el-camino-real-burlingame-ca/29p8p59/\n"
     ]
    },
    {
     "name": "stderr",
     "output_type": "stream",
     "text": [
      "\n",
      "\n",
      "\n",
      "  9%|▉         | 338/3594 [03:29<27:54,  1.94it/s]\u001b[A\u001b[A\u001b[A"
     ]
    },
    {
     "name": "stdout",
     "output_type": "stream",
     "text": [
      "https://www.apartments.com/714-easton-ave-san-bruno-ca/z544nny/\n"
     ]
    },
    {
     "name": "stderr",
     "output_type": "stream",
     "text": [
      "\n",
      "\n",
      "\n",
      "  9%|▉         | 339/3594 [03:30<25:15,  2.15it/s]\u001b[A\u001b[A\u001b[A"
     ]
    },
    {
     "name": "stdout",
     "output_type": "stream",
     "text": [
      "https://www.apartments.com/21-23-loyola-ave-menlo-park-ca/b3q7299/\n"
     ]
    },
    {
     "name": "stderr",
     "output_type": "stream",
     "text": [
      "\n",
      "\n",
      "\n",
      "  9%|▉         | 340/3594 [03:30<26:43,  2.03it/s]\u001b[A\u001b[A\u001b[A"
     ]
    },
    {
     "name": "stdout",
     "output_type": "stream",
     "text": [
      "https://www.apartments.com/176-carlton-ave-los-gatos-ca/hc8hj23/\n"
     ]
    },
    {
     "name": "stderr",
     "output_type": "stream",
     "text": [
      "\n",
      "\n",
      "\n",
      "  9%|▉         | 341/3594 [03:31<26:02,  2.08it/s]\u001b[A\u001b[A\u001b[A"
     ]
    },
    {
     "name": "stdout",
     "output_type": "stream",
     "text": [
      "https://www.apartments.com/359-everett-ave-palo-alto-ca/s2vsp26/\n"
     ]
    },
    {
     "name": "stderr",
     "output_type": "stream",
     "text": [
      "\n",
      "\n",
      "\n",
      " 10%|▉         | 342/3594 [03:31<25:33,  2.12it/s]\u001b[A\u001b[A\u001b[A"
     ]
    },
    {
     "name": "stdout",
     "output_type": "stream",
     "text": [
      "https://www.apartments.com/2316-l-st-antioch-ca/pm27bdr/\n"
     ]
    },
    {
     "name": "stderr",
     "output_type": "stream",
     "text": [
      "\n",
      "\n",
      "\n",
      " 10%|▉         | 343/3594 [03:32<24:06,  2.25it/s]\u001b[A\u001b[A\u001b[A"
     ]
    },
    {
     "name": "stdout",
     "output_type": "stream",
     "text": [
      "https://www.apartments.com/101-elm-st-san-carlos-ca/me8rr8k/\n"
     ]
    },
    {
     "name": "stderr",
     "output_type": "stream",
     "text": [
      "\n",
      "\n",
      "\n",
      " 10%|▉         | 344/3594 [03:32<29:48,  1.82it/s]\u001b[A\u001b[A\u001b[A"
     ]
    },
    {
     "name": "stdout",
     "output_type": "stream",
     "text": [
      "https://www.apartments.com/318-320-roble-ave-redwood-city-ca/g2x3mqw/\n"
     ]
    },
    {
     "name": "stderr",
     "output_type": "stream",
     "text": [
      "\n",
      "\n",
      "\n",
      " 10%|▉         | 345/3594 [03:33<27:24,  1.98it/s]\u001b[A\u001b[A\u001b[A"
     ]
    },
    {
     "name": "stdout",
     "output_type": "stream",
     "text": [
      "https://www.apartments.com/north-fair-oaks-apartments-redwood-city-ca/dwd4sxk/\n"
     ]
    },
    {
     "name": "stderr",
     "output_type": "stream",
     "text": [
      "\n",
      "\n",
      "\n",
      " 10%|▉         | 346/3594 [03:33<25:19,  2.14it/s]\u001b[A\u001b[A\u001b[A"
     ]
    },
    {
     "name": "stdout",
     "output_type": "stream",
     "text": [
      "https://www.apartments.com/5297-balhan-ct-concord-ca/4c46thl/\n"
     ]
    },
    {
     "name": "stderr",
     "output_type": "stream",
     "text": [
      "\n",
      "\n",
      "\n",
      " 10%|▉         | 347/3594 [03:33<23:37,  2.29it/s]\u001b[A\u001b[A\u001b[A"
     ]
    },
    {
     "name": "stdout",
     "output_type": "stream",
     "text": [
      "https://www.apartments.com/2030-2032-mallard-dr-walnut-creek-ca/h8j8l03/\n"
     ]
    },
    {
     "name": "stderr",
     "output_type": "stream",
     "text": [
      "\n",
      "\n",
      "\n",
      " 10%|▉         | 348/3594 [03:35<36:15,  1.49it/s]\u001b[A\u001b[A\u001b[A"
     ]
    },
    {
     "name": "stdout",
     "output_type": "stream",
     "text": [
      "https://www.apartments.com/4-br-3-bath-house-113-holly-terrace-sunnyvale-ca/ek9k1yn/\n"
     ]
    },
    {
     "name": "stderr",
     "output_type": "stream",
     "text": [
      "\n",
      "\n",
      "\n",
      " 10%|▉         | 349/3594 [03:35<32:19,  1.67it/s]\u001b[A\u001b[A\u001b[A"
     ]
    },
    {
     "name": "stdout",
     "output_type": "stream",
     "text": [
      "https://www.apartments.com/412-kent-dr-mountain-view-ca/2xvweec/\n"
     ]
    },
    {
     "name": "stderr",
     "output_type": "stream",
     "text": [
      "\n",
      "\n",
      "\n",
      " 10%|▉         | 350/3594 [03:36<39:44,  1.36it/s]\u001b[A\u001b[A\u001b[A"
     ]
    },
    {
     "name": "stdout",
     "output_type": "stream",
     "text": [
      "https://www.apartments.com/1759-marco-polo-way-burlingame-ca/6ftfd6v/\n"
     ]
    },
    {
     "name": "stderr",
     "output_type": "stream",
     "text": [
      "\n",
      "\n",
      "\n",
      " 10%|▉         | 351/3594 [03:37<33:54,  1.59it/s]\u001b[A\u001b[A\u001b[A"
     ]
    },
    {
     "name": "stdout",
     "output_type": "stream",
     "text": [
      "https://www.apartments.com/2115-via-murietta-san-lorenzo-ca/xmkg90n/\n"
     ]
    },
    {
     "name": "stderr",
     "output_type": "stream",
     "text": [
      "\n",
      "\n",
      "\n",
      " 10%|▉         | 352/3594 [03:37<30:01,  1.80it/s]\u001b[A\u001b[A\u001b[A"
     ]
    },
    {
     "name": "stdout",
     "output_type": "stream",
     "text": [
      "https://www.apartments.com/88-buena-vista-ave-san-anselmo-ca/vgdhgge/\n"
     ]
    },
    {
     "name": "stderr",
     "output_type": "stream",
     "text": [
      "\n",
      "\n",
      "\n",
      " 10%|▉         | 353/3594 [03:40<1:08:12,  1.26s/it]\u001b[A\u001b[A\u001b[A"
     ]
    },
    {
     "name": "stdout",
     "output_type": "stream",
     "text": [
      "https://www.apartments.com/636-sylvan-st-daly-city-ca/kh1xywb/\n"
     ]
    },
    {
     "name": "stderr",
     "output_type": "stream",
     "text": [
      "\n",
      "\n",
      "\n",
      " 10%|▉         | 354/3594 [03:40<55:26,  1.03s/it]  \u001b[A\u001b[A\u001b[A"
     ]
    },
    {
     "name": "stdout",
     "output_type": "stream",
     "text": [
      "https://www.apartments.com/26-tamalpais-ave-san-anselmo-ca/1d8dbq5/\n"
     ]
    },
    {
     "name": "stderr",
     "output_type": "stream",
     "text": [
      "\n",
      "\n",
      "\n",
      " 10%|▉         | 355/3594 [03:41<45:22,  1.19it/s]\u001b[A\u001b[A\u001b[A"
     ]
    },
    {
     "name": "stdout",
     "output_type": "stream",
     "text": [
      "https://www.apartments.com/3576-rolison-rd-redwood-city-ca/0hrm6l1/\n"
     ]
    },
    {
     "name": "stderr",
     "output_type": "stream",
     "text": [
      "\n",
      "\n",
      "\n",
      " 10%|▉         | 356/3594 [03:41<38:36,  1.40it/s]\u001b[A\u001b[A\u001b[A"
     ]
    },
    {
     "name": "stdout",
     "output_type": "stream",
     "text": [
      "https://www.apartments.com/3339-yosemite-ave-el-cerrito-ca/k6pf5q9/\n"
     ]
    },
    {
     "name": "stderr",
     "output_type": "stream",
     "text": [
      "\n",
      "\n",
      "\n",
      " 10%|▉         | 357/3594 [03:42<36:07,  1.49it/s]\u001b[A\u001b[A\u001b[A"
     ]
    },
    {
     "name": "stdout",
     "output_type": "stream",
     "text": [
      "https://www.apartments.com/131-s-magnolia-ave-millbrae-ca/c3b5lld/\n"
     ]
    },
    {
     "name": "stderr",
     "output_type": "stream",
     "text": [
      "\n",
      "\n",
      "\n",
      " 10%|▉         | 358/3594 [03:42<31:48,  1.70it/s]\u001b[A\u001b[A\u001b[A"
     ]
    },
    {
     "name": "stdout",
     "output_type": "stream",
     "text": [
      "https://www.apartments.com/seven-oaks-menlo-park-ca/e73f1pq/\n"
     ]
    },
    {
     "name": "stderr",
     "output_type": "stream",
     "text": [
      "\n",
      "\n",
      "\n",
      " 10%|▉         | 359/3594 [03:43<35:18,  1.53it/s]\u001b[A\u001b[A\u001b[A"
     ]
    },
    {
     "name": "stdout",
     "output_type": "stream",
     "text": [
      "https://www.apartments.com/1217-laguna-ave-burlingame-ca/t60ssv9/\n"
     ]
    },
    {
     "name": "stderr",
     "output_type": "stream",
     "text": [
      "\n",
      "\n",
      "\n",
      " 10%|█         | 360/3594 [03:43<30:18,  1.78it/s]\u001b[A\u001b[A\u001b[A"
     ]
    },
    {
     "name": "stdout",
     "output_type": "stream",
     "text": [
      "https://www.apartments.com/562-university-dr-menlo-park-ca/8bkxs71/\n"
     ]
    },
    {
     "name": "stderr",
     "output_type": "stream",
     "text": [
      "\n",
      "\n",
      "\n",
      " 10%|█         | 361/3594 [03:44<27:26,  1.96it/s]\u001b[A\u001b[A\u001b[A"
     ]
    },
    {
     "name": "stdout",
     "output_type": "stream",
     "text": [
      "https://www.apartments.com/1420-oakland-blvd-walnut-creek-ca/4jzl7bh/\n"
     ]
    },
    {
     "name": "stderr",
     "output_type": "stream",
     "text": [
      "\n",
      "\n",
      "\n",
      " 10%|█         | 362/3594 [03:44<28:59,  1.86it/s]\u001b[A\u001b[A\u001b[A"
     ]
    },
    {
     "name": "stdout",
     "output_type": "stream",
     "text": [
      "https://www.apartments.com/1010-pine-st-menlo-park-ca/7p6qydx/\n"
     ]
    },
    {
     "name": "stderr",
     "output_type": "stream",
     "text": [
      "\n",
      "\n",
      "\n",
      " 10%|█         | 363/3594 [03:45<26:45,  2.01it/s]\u001b[A\u001b[A\u001b[A"
     ]
    },
    {
     "name": "stdout",
     "output_type": "stream",
     "text": [
      "https://www.apartments.com/san-jose-greens-san-jose-ca/f64c65v/\n"
     ]
    },
    {
     "name": "stderr",
     "output_type": "stream",
     "text": [
      "\n",
      "\n",
      "\n",
      " 10%|█         | 364/3594 [03:45<27:36,  1.95it/s]\u001b[A\u001b[A\u001b[A"
     ]
    },
    {
     "name": "stdout",
     "output_type": "stream",
     "text": [
      "https://www.apartments.com/1567-quebec-ct-sunnyvale-ca/0re81b1/\n"
     ]
    },
    {
     "name": "stderr",
     "output_type": "stream",
     "text": [
      "\n",
      "\n",
      "\n",
      " 10%|█         | 365/3594 [03:46<26:51,  2.00it/s]\u001b[A\u001b[A\u001b[A"
     ]
    },
    {
     "name": "stdout",
     "output_type": "stream",
     "text": [
      "https://www.apartments.com/2406-stuart-st-berkeley-ca-unit-2406/jz3e3f7/\n"
     ]
    },
    {
     "name": "stderr",
     "output_type": "stream",
     "text": [
      "\n",
      "\n",
      "\n",
      " 10%|█         | 366/3594 [03:46<26:01,  2.07it/s]\u001b[A\u001b[A\u001b[A"
     ]
    },
    {
     "name": "stdout",
     "output_type": "stream",
     "text": [
      "https://www.apartments.com/157-santa-inez-ave-san-bruno-ca/lt7zqhg/\n"
     ]
    },
    {
     "name": "stderr",
     "output_type": "stream",
     "text": [
      "\n",
      "\n",
      "\n",
      " 10%|█         | 367/3594 [03:46<24:17,  2.21it/s]\u001b[A\u001b[A\u001b[A"
     ]
    },
    {
     "name": "stdout",
     "output_type": "stream",
     "text": [
      "https://www.apartments.com/725-clarinada-ave-daly-city-ca/4q7rxxl/\n"
     ]
    },
    {
     "name": "stderr",
     "output_type": "stream",
     "text": [
      "\n",
      "\n",
      "\n",
      " 10%|█         | 368/3594 [03:47<31:05,  1.73it/s]\u001b[A\u001b[A\u001b[A"
     ]
    },
    {
     "name": "stdout",
     "output_type": "stream",
     "text": [
      "https://www.apartments.com/362-alida-way-south-san-francisco-ca/c3zxkse/\n"
     ]
    },
    {
     "name": "stderr",
     "output_type": "stream",
     "text": [
      "\n",
      "\n",
      "\n",
      " 10%|█         | 369/3594 [03:48<27:34,  1.95it/s]\u001b[A\u001b[A\u001b[A"
     ]
    },
    {
     "name": "stdout",
     "output_type": "stream",
     "text": [
      "https://www.apartments.com/2050-liberty-park-ave-menlo-park-ca/rlk78y1/\n"
     ]
    },
    {
     "name": "stderr",
     "output_type": "stream",
     "text": [
      "\n",
      "\n",
      "\n",
      " 10%|█         | 370/3594 [03:48<25:36,  2.10it/s]\u001b[A\u001b[A\u001b[A"
     ]
    },
    {
     "name": "stdout",
     "output_type": "stream",
     "text": [
      "https://www.apartments.com/752-masson-ave-san-bruno-ca/8129k62/\n"
     ]
    },
    {
     "name": "stderr",
     "output_type": "stream",
     "text": [
      "\n",
      "\n",
      "\n",
      " 10%|█         | 371/3594 [03:48<23:50,  2.25it/s]\u001b[A\u001b[A\u001b[A"
     ]
    },
    {
     "name": "stdout",
     "output_type": "stream",
     "text": [
      "https://www.apartments.com/444-lassen-st-los-altos-ca/rvzxek3/\n"
     ]
    },
    {
     "name": "stderr",
     "output_type": "stream",
     "text": [
      "\n",
      "\n",
      "\n",
      " 10%|█         | 372/3594 [03:49<22:30,  2.39it/s]\u001b[A\u001b[A\u001b[A"
     ]
    },
    {
     "name": "stdout",
     "output_type": "stream",
     "text": [
      "https://www.apartments.com/the-villa-monte-apartments-mountain-view-ca/pvxcl7s/\n"
     ]
    },
    {
     "name": "stderr",
     "output_type": "stream",
     "text": [
      "\n",
      "\n",
      "\n",
      " 10%|█         | 373/3594 [03:49<22:22,  2.40it/s]\u001b[A\u001b[A\u001b[A"
     ]
    },
    {
     "name": "stdout",
     "output_type": "stream",
     "text": [
      "https://www.apartments.com/2201-geary-rd-pleasant-hill-ca/pg56y3r/\n"
     ]
    },
    {
     "name": "stderr",
     "output_type": "stream",
     "text": [
      "\n",
      "\n",
      "\n",
      " 10%|█         | 374/3594 [03:51<36:42,  1.46it/s]\u001b[A\u001b[A\u001b[A"
     ]
    },
    {
     "name": "stdout",
     "output_type": "stream",
     "text": [
      "https://www.apartments.com/17-19-broadway-redwood-city-ca/dxx3z7l/\n"
     ]
    },
    {
     "name": "stderr",
     "output_type": "stream",
     "text": [
      "\n",
      "\n",
      "\n",
      " 10%|█         | 375/3594 [03:51<33:17,  1.61it/s]\u001b[A\u001b[A\u001b[A"
     ]
    },
    {
     "name": "stdout",
     "output_type": "stream",
     "text": [
      "https://www.apartments.com/belmont-apartments-belmont-ca/6wc9tpr/\n"
     ]
    },
    {
     "name": "stderr",
     "output_type": "stream",
     "text": [
      "\n",
      "\n",
      "\n",
      " 10%|█         | 376/3594 [03:53<56:36,  1.06s/it]\u001b[A\u001b[A\u001b[A"
     ]
    },
    {
     "name": "stdout",
     "output_type": "stream",
     "text": [
      "https://www.apartments.com/trinity-terrace-walnut-creek-ca/cbm71hd/\n"
     ]
    },
    {
     "name": "stderr",
     "output_type": "stream",
     "text": [
      "\n",
      "\n",
      "\n",
      " 10%|█         | 377/3594 [03:54<46:49,  1.14it/s]\u001b[A\u001b[A\u001b[A"
     ]
    },
    {
     "name": "stdout",
     "output_type": "stream",
     "text": [
      "https://www.apartments.com/808-sharmon-palms-ln-campbell-ca/yw55npv/\n"
     ]
    },
    {
     "name": "stderr",
     "output_type": "stream",
     "text": [
      "\n",
      "\n",
      "\n",
      " 11%|█         | 378/3594 [03:54<40:08,  1.34it/s]\u001b[A\u001b[A\u001b[A"
     ]
    },
    {
     "name": "stdout",
     "output_type": "stream",
     "text": [
      "https://www.apartments.com/909-e-blithedale-ave-mill-valley-ca/cfbed3f/\n"
     ]
    },
    {
     "name": "stderr",
     "output_type": "stream",
     "text": [
      "\n",
      "\n",
      "\n",
      " 11%|█         | 379/3594 [03:54<34:25,  1.56it/s]\u001b[A\u001b[A\u001b[A"
     ]
    },
    {
     "name": "stdout",
     "output_type": "stream",
     "text": [
      "https://www.apartments.com/2662-russell-st-berkeley-ca/4kbckgl/\n"
     ]
    },
    {
     "name": "stderr",
     "output_type": "stream",
     "text": [
      "\n",
      "\n",
      "\n",
      " 11%|█         | 380/3594 [03:55<31:28,  1.70it/s]\u001b[A\u001b[A\u001b[A"
     ]
    },
    {
     "name": "stdout",
     "output_type": "stream",
     "text": [
      "https://www.apartments.com/678-victor-way-mountain-view-ca/4pe9dck/\n"
     ]
    },
    {
     "name": "stderr",
     "output_type": "stream",
     "text": [
      "\n",
      "\n",
      "\n",
      " 11%|█         | 381/3594 [03:55<27:44,  1.93it/s]\u001b[A\u001b[A\u001b[A"
     ]
    },
    {
     "name": "stdout",
     "output_type": "stream",
     "text": [
      "https://www.apartments.com/212-semicircular-rd-redwood-city-ca/c8yer8f/\n"
     ]
    },
    {
     "name": "stderr",
     "output_type": "stream",
     "text": [
      "\n",
      "\n",
      "\n",
      " 11%|█         | 382/3594 [03:56<25:18,  2.12it/s]\u001b[A\u001b[A\u001b[A"
     ]
    },
    {
     "name": "stdout",
     "output_type": "stream",
     "text": [
      "https://www.apartments.com/248-pamela-mountain-view-ca/mysrslh/\n"
     ]
    },
    {
     "name": "stderr",
     "output_type": "stream",
     "text": [
      "\n",
      "\n",
      "\n",
      " 11%|█         | 383/3594 [03:57<35:04,  1.53it/s]\u001b[A\u001b[A\u001b[A"
     ]
    },
    {
     "name": "stdout",
     "output_type": "stream",
     "text": [
      "https://www.apartments.com/2208-spanos-st-antioch-ca/xfcg5tn/\n"
     ]
    },
    {
     "name": "stderr",
     "output_type": "stream",
     "text": [
      "\n",
      "\n",
      "\n",
      " 11%|█         | 384/3594 [03:57<30:28,  1.76it/s]\u001b[A\u001b[A\u001b[A"
     ]
    },
    {
     "name": "stdout",
     "output_type": "stream",
     "text": [
      "https://www.apartments.com/pinebrook-apartments-fremont-ca/5pnewfq/\n"
     ]
    },
    {
     "name": "stderr",
     "output_type": "stream",
     "text": [
      "\n",
      "\n",
      "\n",
      " 11%|█         | 385/3594 [03:58<29:07,  1.84it/s]\u001b[A\u001b[A\u001b[A"
     ]
    },
    {
     "name": "stdout",
     "output_type": "stream",
     "text": [
      "https://www.apartments.com/4-br-3-bath-house-72-watkins-avenue-atherton-ca/xsks9pq/\n"
     ]
    },
    {
     "name": "stderr",
     "output_type": "stream",
     "text": [
      "\n",
      "\n",
      "\n",
      " 11%|█         | 386/3594 [03:58<28:24,  1.88it/s]\u001b[A\u001b[A\u001b[A"
     ]
    },
    {
     "name": "stdout",
     "output_type": "stream",
     "text": [
      "https://www.apartments.com/1233-bockman-rd-san-lorenzo-ca/w8xpe1j/\n"
     ]
    },
    {
     "name": "stderr",
     "output_type": "stream",
     "text": [
      "\n",
      "\n",
      "\n",
      " 11%|█         | 387/3594 [03:59<29:30,  1.81it/s]\u001b[A\u001b[A\u001b[A"
     ]
    },
    {
     "name": "stdout",
     "output_type": "stream",
     "text": [
      "https://www.apartments.com/681-douglas-dr-san-leandro-ca/brqsl7c/\n"
     ]
    },
    {
     "name": "stderr",
     "output_type": "stream",
     "text": [
      "\n",
      "\n",
      "\n",
      " 11%|█         | 388/3594 [03:59<27:37,  1.93it/s]\u001b[A\u001b[A\u001b[A"
     ]
    },
    {
     "name": "stdout",
     "output_type": "stream",
     "text": [
      "https://www.apartments.com/2318-san-juan-ave-walnut-creek-ca/nj4s5lm/\n"
     ]
    },
    {
     "name": "stderr",
     "output_type": "stream",
     "text": [
      "\n",
      "\n",
      "\n",
      " 11%|█         | 389/3594 [04:00<32:00,  1.67it/s]\u001b[A\u001b[A\u001b[A"
     ]
    },
    {
     "name": "stdout",
     "output_type": "stream",
     "text": [
      "https://www.apartments.com/4-alpine-ct-pittsburg-ca/2yq7xhc/\n"
     ]
    },
    {
     "name": "stderr",
     "output_type": "stream",
     "text": [
      "\n",
      "\n",
      "\n",
      " 11%|█         | 390/3594 [04:00<29:09,  1.83it/s]\u001b[A\u001b[A\u001b[A"
     ]
    },
    {
     "name": "stdout",
     "output_type": "stream",
     "text": [
      "https://www.apartments.com/villas-at-monterosso-danville-ca/nh6xwem/\n"
     ]
    },
    {
     "name": "stderr",
     "output_type": "stream",
     "text": [
      "\n",
      "\n",
      "\n",
      " 11%|█         | 391/3594 [04:01<30:45,  1.74it/s]\u001b[A\u001b[A\u001b[A"
     ]
    },
    {
     "name": "stdout",
     "output_type": "stream",
     "text": [
      "https://www.apartments.com/2-br-25-bath-house-16-city-limits-circle-emeryville-ca/tecvcy8/\n"
     ]
    },
    {
     "name": "stderr",
     "output_type": "stream",
     "text": [
      "\n",
      "\n",
      "\n",
      " 11%|█         | 392/3594 [04:01<29:21,  1.82it/s]\u001b[A\u001b[A\u001b[A"
     ]
    },
    {
     "name": "stdout",
     "output_type": "stream",
     "text": [
      "https://www.apartments.com/glenbrook-apartments-cupertino-ca/e3bpmzq/\n"
     ]
    },
    {
     "name": "stderr",
     "output_type": "stream",
     "text": [
      "\n",
      "\n",
      "\n",
      " 11%|█         | 393/3594 [04:02<28:20,  1.88it/s]\u001b[A\u001b[A\u001b[A"
     ]
    },
    {
     "name": "stdout",
     "output_type": "stream",
     "text": [
      "https://www.apartments.com/faria-preserve-rental-san-ramon-ca/4tdfgej/\n"
     ]
    },
    {
     "name": "stderr",
     "output_type": "stream",
     "text": [
      "\n",
      "\n",
      "\n",
      " 11%|█         | 394/3594 [04:02<26:02,  2.05it/s]\u001b[A\u001b[A\u001b[A"
     ]
    },
    {
     "name": "stdout",
     "output_type": "stream",
     "text": [
      "https://www.apartments.com/517-green-ave-san-bruno-ca/j9xe407/\n"
     ]
    },
    {
     "name": "stderr",
     "output_type": "stream",
     "text": [
      "\n",
      "\n",
      "\n",
      " 11%|█         | 395/3594 [04:03<24:12,  2.20it/s]\u001b[A\u001b[A\u001b[A"
     ]
    },
    {
     "name": "stdout",
     "output_type": "stream",
     "text": [
      "https://www.apartments.com/18-van-sicklen-pl-oakland-ca/zxq373w/\n"
     ]
    },
    {
     "name": "stderr",
     "output_type": "stream",
     "text": [
      "\n",
      "\n",
      "\n",
      " 11%|█         | 396/3594 [04:04<37:53,  1.41it/s]\u001b[A\u001b[A\u001b[A"
     ]
    },
    {
     "name": "stdout",
     "output_type": "stream",
     "text": [
      "https://www.apartments.com/mariposa-club-apartments-mountain-view-ca/fpqrwft/\n"
     ]
    },
    {
     "name": "stderr",
     "output_type": "stream",
     "text": [
      "\n",
      "\n",
      "\n",
      " 11%|█         | 397/3594 [04:04<34:12,  1.56it/s]\u001b[A\u001b[A\u001b[A"
     ]
    },
    {
     "name": "stdout",
     "output_type": "stream",
     "text": [
      "https://www.apartments.com/1115-1117-ruby-st-redwood-city-ca/dwr3k5k/\n"
     ]
    },
    {
     "name": "stderr",
     "output_type": "stream",
     "text": [
      "\n",
      "\n",
      "\n",
      " 11%|█         | 398/3594 [04:05<29:40,  1.80it/s]\u001b[A\u001b[A\u001b[A"
     ]
    },
    {
     "name": "stdout",
     "output_type": "stream",
     "text": [
      "https://www.apartments.com/89-clark-san-rafael-ca/jep51p5/\n"
     ]
    },
    {
     "name": "stderr",
     "output_type": "stream",
     "text": [
      "\n",
      "\n",
      "\n",
      " 11%|█         | 399/3594 [04:05<26:57,  1.98it/s]\u001b[A\u001b[A\u001b[A"
     ]
    },
    {
     "name": "stdout",
     "output_type": "stream",
     "text": [
      "https://www.apartments.com/578-clarinada-ave-daly-city-ca/thx9cw9/\n"
     ]
    },
    {
     "name": "stderr",
     "output_type": "stream",
     "text": [
      "\n",
      "\n",
      "\n",
      " 11%|█         | 400/3594 [04:06<37:25,  1.42it/s]\u001b[A\u001b[A\u001b[A"
     ]
    },
    {
     "name": "stdout",
     "output_type": "stream",
     "text": [
      "https://www.apartments.com/3691-peacock-ct-santa-clara-ca/lxl9fdf/\n"
     ]
    },
    {
     "name": "stderr",
     "output_type": "stream",
     "text": [
      "\n",
      "\n",
      "\n",
      " 11%|█         | 401/3594 [04:07<39:25,  1.35it/s]\u001b[A\u001b[A\u001b[A"
     ]
    },
    {
     "name": "stdout",
     "output_type": "stream",
     "text": [
      "https://www.apartments.com/1263-holly-st-san-carlos-ca/pbt8kxr/\n"
     ]
    },
    {
     "name": "stderr",
     "output_type": "stream",
     "text": [
      "\n",
      "\n",
      "\n",
      " 11%|█         | 402/3594 [04:08<34:05,  1.56it/s]\u001b[A\u001b[A\u001b[A"
     ]
    },
    {
     "name": "stdout",
     "output_type": "stream",
     "text": [
      "https://www.apartments.com/the-hamptons-apartment-homes-cupertino-ca/2hxr8hc/\n"
     ]
    },
    {
     "name": "stderr",
     "output_type": "stream",
     "text": [
      "\n",
      "\n",
      "\n",
      " 11%|█         | 403/3594 [04:08<30:33,  1.74it/s]\u001b[A\u001b[A\u001b[A"
     ]
    },
    {
     "name": "stdout",
     "output_type": "stream",
     "text": [
      "https://www.apartments.com/3591-3593-mauricia-ave-santa-clara-ca/qdvm0qx/\n"
     ]
    },
    {
     "name": "stderr",
     "output_type": "stream",
     "text": [
      "\n",
      "\n",
      "\n",
      " 11%|█         | 404/3594 [04:09<34:47,  1.53it/s]\u001b[A\u001b[A\u001b[A"
     ]
    },
    {
     "name": "stdout",
     "output_type": "stream",
     "text": [
      "https://www.apartments.com/5920-5926-bayview-ave-richmond-ca/0dry463/\n"
     ]
    },
    {
     "name": "stderr",
     "output_type": "stream",
     "text": [
      "\n",
      "\n",
      "\n",
      " 11%|█▏        | 405/3594 [04:09<33:11,  1.60it/s]\u001b[A\u001b[A\u001b[A"
     ]
    },
    {
     "name": "stdout",
     "output_type": "stream",
     "text": [
      "https://www.apartments.com/revela-mountain-view-ca/qrrgncw/\n"
     ]
    },
    {
     "name": "stderr",
     "output_type": "stream",
     "text": [
      "\n",
      "\n",
      "\n",
      " 11%|█▏        | 406/3594 [04:10<39:44,  1.34it/s]\u001b[A\u001b[A\u001b[A"
     ]
    },
    {
     "name": "stdout",
     "output_type": "stream",
     "text": [
      "https://www.apartments.com/shadowbrook-apartments-sunnyvale-ca/ghwn3rz/\n"
     ]
    },
    {
     "name": "stderr",
     "output_type": "stream",
     "text": [
      "\n",
      "\n",
      "\n",
      " 11%|█▏        | 407/3594 [04:11<40:16,  1.32it/s]\u001b[A\u001b[A\u001b[A"
     ]
    },
    {
     "name": "stdout",
     "output_type": "stream",
     "text": [
      "https://www.apartments.com/77-bay-vista-dr-mill-valley-ca/tgc41l8/\n"
     ]
    },
    {
     "name": "stderr",
     "output_type": "stream",
     "text": [
      "\n",
      "\n",
      "\n",
      " 11%|█▏        | 408/3594 [04:12<40:09,  1.32it/s]\u001b[A\u001b[A\u001b[A"
     ]
    },
    {
     "name": "stdout",
     "output_type": "stream",
     "text": [
      "https://www.apartments.com/125-willow-ave-corte-madera-ca/6dbpjxr/\n"
     ]
    },
    {
     "name": "stderr",
     "output_type": "stream",
     "text": [
      "\n",
      "\n",
      "\n",
      " 11%|█▏        | 409/3594 [04:13<39:45,  1.34it/s]\u001b[A\u001b[A\u001b[A"
     ]
    },
    {
     "name": "stdout",
     "output_type": "stream",
     "text": [
      "https://www.apartments.com/857-partridge-ave-menlo-park-ca/5m4eckp/\n"
     ]
    },
    {
     "name": "stderr",
     "output_type": "stream",
     "text": [
      "\n",
      "\n",
      "\n",
      " 11%|█▏        | 410/3594 [04:13<39:10,  1.35it/s]\u001b[A\u001b[A\u001b[A"
     ]
    },
    {
     "name": "stdout",
     "output_type": "stream",
     "text": [
      "https://www.apartments.com/460-wisnom-ave-san-mateo-ca/j54zhe6/\n"
     ]
    },
    {
     "name": "stderr",
     "output_type": "stream",
     "text": [
      "\n",
      "\n",
      "\n",
      " 11%|█▏        | 411/3594 [04:14<37:59,  1.40it/s]\u001b[A\u001b[A\u001b[A"
     ]
    },
    {
     "name": "stdout",
     "output_type": "stream",
     "text": [
      "https://www.apartments.com/206-bancroft-way-pacifica-ca/g0crwlw/\n"
     ]
    },
    {
     "name": "stderr",
     "output_type": "stream",
     "text": [
      "\n",
      "\n",
      "\n",
      " 11%|█▏        | 412/3594 [04:15<38:01,  1.39it/s]\u001b[A\u001b[A\u001b[A"
     ]
    },
    {
     "name": "stdout",
     "output_type": "stream",
     "text": [
      "https://www.apartments.com/5283-park-highlands-blvd-concord-ca/zvfp0hy/\n"
     ]
    },
    {
     "name": "stderr",
     "output_type": "stream",
     "text": [
      "\n",
      "\n",
      "\n",
      " 11%|█▏        | 413/3594 [04:15<33:17,  1.59it/s]\u001b[A\u001b[A\u001b[A"
     ]
    },
    {
     "name": "stdout",
     "output_type": "stream",
     "text": [
      "https://www.apartments.com/855-sharmon-palms-ave-campbell-ca/rzpcfq0/\n"
     ]
    },
    {
     "name": "stderr",
     "output_type": "stream",
     "text": [
      "\n",
      "\n",
      "\n",
      " 12%|█▏        | 414/3594 [04:16<31:43,  1.67it/s]\u001b[A\u001b[A\u001b[A"
     ]
    },
    {
     "name": "stdout",
     "output_type": "stream",
     "text": [
      "https://www.apartments.com/47hundred-oakland-ca/nc199cq/\n"
     ]
    },
    {
     "name": "stderr",
     "output_type": "stream",
     "text": [
      "\n",
      "\n",
      "\n",
      " 12%|█▏        | 415/3594 [04:16<31:21,  1.69it/s]\u001b[A\u001b[A\u001b[A"
     ]
    },
    {
     "name": "stdout",
     "output_type": "stream",
     "text": [
      "https://www.apartments.com/1415-bellevue-ave-burlingame-ca/q9ls6gw/\n"
     ]
    },
    {
     "name": "stderr",
     "output_type": "stream",
     "text": [
      "\n",
      "\n",
      "\n",
      " 12%|█▏        | 416/3594 [04:17<31:29,  1.68it/s]\u001b[A\u001b[A\u001b[A"
     ]
    },
    {
     "name": "stdout",
     "output_type": "stream",
     "text": [
      "https://www.apartments.com/168-waverley-st-palo-alto-ca/pth82dr/\n"
     ]
    },
    {
     "name": "stderr",
     "output_type": "stream",
     "text": [
      "\n",
      "\n",
      "\n",
      " 12%|█▏        | 417/3594 [04:17<29:05,  1.82it/s]\u001b[A\u001b[A\u001b[A"
     ]
    },
    {
     "name": "stdout",
     "output_type": "stream",
     "text": [
      "https://www.apartments.com/310-winslow-st-redwood-city-ca/n21mfsm/\n"
     ]
    },
    {
     "name": "stderr",
     "output_type": "stream",
     "text": [
      "\n",
      "\n",
      "\n",
      " 12%|█▏        | 418/3594 [04:18<27:29,  1.93it/s]\u001b[A\u001b[A\u001b[A"
     ]
    },
    {
     "name": "stdout",
     "output_type": "stream",
     "text": [
      "https://www.apartments.com/154-166-tunstead-ave-san-anselmo-ca/wp4z7nk/\n"
     ]
    },
    {
     "name": "stderr",
     "output_type": "stream",
     "text": [
      "\n",
      "\n",
      "\n",
      " 12%|█▏        | 419/3594 [04:18<26:14,  2.02it/s]\u001b[A\u001b[A\u001b[A"
     ]
    },
    {
     "name": "stdout",
     "output_type": "stream",
     "text": [
      "https://www.apartments.com/2951-calvin-ave-redwood-city-ca/67j8elt/\n"
     ]
    },
    {
     "name": "stderr",
     "output_type": "stream",
     "text": [
      "\n",
      "\n",
      "\n",
      " 12%|█▏        | 420/3594 [04:19<27:27,  1.93it/s]\u001b[A\u001b[A\u001b[A"
     ]
    },
    {
     "name": "stdout",
     "output_type": "stream",
     "text": [
      "https://www.apartments.com/palo-alto-place-palo-alto-ca/3q59mre/\n"
     ]
    },
    {
     "name": "stderr",
     "output_type": "stream",
     "text": [
      "\n",
      "\n",
      "\n",
      " 12%|█▏        | 421/3594 [04:20<32:30,  1.63it/s]\u001b[A\u001b[A\u001b[A"
     ]
    },
    {
     "name": "stdout",
     "output_type": "stream",
     "text": [
      "https://www.apartments.com/3885-3889-decoto-rd-fremont-ca/jd5m0h5/\n"
     ]
    },
    {
     "name": "stderr",
     "output_type": "stream",
     "text": [
      "\n",
      "\n",
      "\n",
      " 12%|█▏        | 422/3594 [04:20<31:29,  1.68it/s]\u001b[A\u001b[A\u001b[A"
     ]
    },
    {
     "name": "stdout",
     "output_type": "stream",
     "text": [
      "https://www.apartments.com/1633-brookvale-dr-san-jose-ca/rdd6h61/\n"
     ]
    },
    {
     "name": "stderr",
     "output_type": "stream",
     "text": [
      "\n",
      "\n",
      "\n",
      " 12%|█▏        | 423/3594 [04:21<29:49,  1.77it/s]\u001b[A\u001b[A\u001b[A"
     ]
    },
    {
     "name": "stdout",
     "output_type": "stream",
     "text": [
      "https://www.apartments.com/500-palm-ave-millbrae-ca-unit-500c/7w0cw8y/\n"
     ]
    },
    {
     "name": "stderr",
     "output_type": "stream",
     "text": [
      "\n",
      "\n",
      "\n",
      " 12%|█▏        | 424/3594 [04:21<29:49,  1.77it/s]\u001b[A\u001b[A\u001b[A"
     ]
    },
    {
     "name": "stdout",
     "output_type": "stream",
     "text": [
      "https://www.apartments.com/148-tivoli-ln-danville-ca/xl071nn/\n"
     ]
    },
    {
     "name": "stderr",
     "output_type": "stream",
     "text": [
      "\n",
      "\n",
      "\n",
      " 12%|█▏        | 425/3594 [04:22<27:47,  1.90it/s]\u001b[A\u001b[A\u001b[A"
     ]
    },
    {
     "name": "stdout",
     "output_type": "stream",
     "text": [
      "https://www.apartments.com/amalfi-apartments-milpitas-ca/yy8dzlr/\n"
     ]
    },
    {
     "name": "stderr",
     "output_type": "stream",
     "text": [
      "\n",
      "\n",
      "\n",
      " 12%|█▏        | 426/3594 [04:22<29:49,  1.77it/s]\u001b[A\u001b[A\u001b[A"
     ]
    },
    {
     "name": "stdout",
     "output_type": "stream",
     "text": [
      "https://www.apartments.com/436-laurel-st-san-carlos-ca/c4xnezg/\n"
     ]
    },
    {
     "name": "stderr",
     "output_type": "stream",
     "text": [
      "\n",
      "\n",
      "\n",
      " 12%|█▏        | 427/3594 [04:23<27:36,  1.91it/s]\u001b[A\u001b[A\u001b[A"
     ]
    },
    {
     "name": "stdout",
     "output_type": "stream",
     "text": [
      "https://www.apartments.com/5809-lassen-st-el-cerrito-ca/j6tzqv7/\n"
     ]
    },
    {
     "name": "stderr",
     "output_type": "stream",
     "text": [
      "\n",
      "\n",
      "\n",
      " 12%|█▏        | 428/3594 [04:23<26:21,  2.00it/s]\u001b[A\u001b[A\u001b[A"
     ]
    },
    {
     "name": "stdout",
     "output_type": "stream",
     "text": [
      "https://www.apartments.com/254-abbot-ave-daly-city-ca-unit-5/fxtlkev/\n"
     ]
    },
    {
     "name": "stderr",
     "output_type": "stream",
     "text": [
      "\n",
      "\n",
      "\n",
      " 12%|█▏        | 429/3594 [04:24<23:49,  2.21it/s]\u001b[A\u001b[A\u001b[A"
     ]
    },
    {
     "name": "stdout",
     "output_type": "stream",
     "text": [
      "https://www.apartments.com/165-195-e-market-st-daly-city-ca/2ntwznb/\n"
     ]
    },
    {
     "name": "stderr",
     "output_type": "stream",
     "text": [
      "\n",
      "\n",
      "\n",
      " 12%|█▏        | 430/3594 [04:24<23:41,  2.23it/s]\u001b[A\u001b[A\u001b[A"
     ]
    },
    {
     "name": "stdout",
     "output_type": "stream",
     "text": [
      "https://www.apartments.com/617-hampshire-ave-redwood-city-ca/d8jy1kj/\n"
     ]
    },
    {
     "name": "stderr",
     "output_type": "stream",
     "text": [
      "\n",
      "\n",
      "\n",
      " 12%|█▏        | 431/3594 [04:24<23:41,  2.23it/s]\u001b[A\u001b[A\u001b[A"
     ]
    },
    {
     "name": "stdout",
     "output_type": "stream",
     "text": [
      "https://www.apartments.com/2420-overlook-dr-walnut-creek-ca-unit-1/22kfl58/\n"
     ]
    },
    {
     "name": "stderr",
     "output_type": "stream",
     "text": [
      "\n",
      "\n",
      "\n",
      " 12%|█▏        | 432/3594 [04:25<22:21,  2.36it/s]\u001b[A\u001b[A\u001b[A"
     ]
    },
    {
     "name": "stdout",
     "output_type": "stream",
     "text": [
      "https://www.apartments.com/3769-3771-highland-rd-lafayette-ca/pylpz6r/\n"
     ]
    },
    {
     "name": "stderr",
     "output_type": "stream",
     "text": [
      "\n",
      "\n",
      "\n",
      " 12%|█▏        | 433/3594 [04:25<23:25,  2.25it/s]\u001b[A\u001b[A\u001b[A"
     ]
    },
    {
     "name": "stdout",
     "output_type": "stream",
     "text": [
      "https://www.apartments.com/brookvale-chateau-fremont-ca/snlms65/\n"
     ]
    },
    {
     "name": "stderr",
     "output_type": "stream",
     "text": [
      "\n",
      "\n",
      "\n",
      " 12%|█▏        | 434/3594 [04:26<23:53,  2.20it/s]\u001b[A\u001b[A\u001b[A"
     ]
    },
    {
     "name": "stdout",
     "output_type": "stream",
     "text": [
      "https://www.apartments.com/7595-amador-valley-blvd-dublin-ca/mv01jsl/\n"
     ]
    },
    {
     "name": "stderr",
     "output_type": "stream",
     "text": [
      "\n",
      "\n",
      "\n",
      " 12%|█▏        | 435/3594 [04:26<23:07,  2.28it/s]\u001b[A\u001b[A\u001b[A"
     ]
    },
    {
     "name": "stdout",
     "output_type": "stream",
     "text": [
      "https://www.apartments.com/156-southwood-dr-south-san-francisco-ca/del1tkj/\n"
     ]
    },
    {
     "name": "stderr",
     "output_type": "stream",
     "text": [
      "\n",
      "\n",
      "\n",
      " 12%|█▏        | 436/3594 [04:27<22:46,  2.31it/s]\u001b[A\u001b[A\u001b[A"
     ]
    },
    {
     "name": "stdout",
     "output_type": "stream",
     "text": [
      "https://www.apartments.com/3139-deerpark-dr-walnut-creek-ca/2cdqnq8/\n"
     ]
    },
    {
     "name": "stderr",
     "output_type": "stream",
     "text": [
      "\n",
      "\n",
      "\n",
      " 12%|█▏        | 437/3594 [04:27<22:44,  2.31it/s]\u001b[A\u001b[A\u001b[A"
     ]
    },
    {
     "name": "stdout",
     "output_type": "stream",
     "text": [
      "https://www.apartments.com/4785-hansen-ave-fremont-ca/fllgekt/\n"
     ]
    },
    {
     "name": "stderr",
     "output_type": "stream",
     "text": [
      "\n",
      "\n",
      "\n",
      " 12%|█▏        | 438/3594 [04:28<23:59,  2.19it/s]\u001b[A\u001b[A\u001b[A"
     ]
    },
    {
     "name": "stdout",
     "output_type": "stream",
     "text": [
      "https://www.apartments.com/615-partridge-ave-menlo-park-ca-unit-3/em4qepp/\n"
     ]
    },
    {
     "name": "stderr",
     "output_type": "stream",
     "text": [
      "\n",
      "\n",
      "\n",
      " 12%|█▏        | 439/3594 [04:28<25:04,  2.10it/s]\u001b[A\u001b[A\u001b[A"
     ]
    },
    {
     "name": "stdout",
     "output_type": "stream",
     "text": [
      "https://www.apartments.com/fremont-plaza-sunnyvale-ca/tszq4lb/\n"
     ]
    },
    {
     "name": "stderr",
     "output_type": "stream",
     "text": [
      "\n",
      "\n",
      "\n",
      " 12%|█▏        | 440/3594 [04:28<23:30,  2.24it/s]\u001b[A\u001b[A\u001b[A"
     ]
    },
    {
     "name": "stdout",
     "output_type": "stream",
     "text": [
      "https://www.apartments.com/200-elm-st-san-mateo-ca-unit-102/hyc8gm3/\n"
     ]
    },
    {
     "name": "stderr",
     "output_type": "stream",
     "text": [
      "\n",
      "\n",
      "\n",
      " 12%|█▏        | 441/3594 [04:29<22:37,  2.32it/s]\u001b[A\u001b[A\u001b[A"
     ]
    },
    {
     "name": "stdout",
     "output_type": "stream",
     "text": [
      "https://www.apartments.com/3-br-2-bath-house-1110-almanor-street-menlo-park-ca/vb1nmdf/\n"
     ]
    },
    {
     "name": "stderr",
     "output_type": "stream",
     "text": [
      "\n",
      "\n",
      "\n",
      " 12%|█▏        | 442/3594 [04:29<24:13,  2.17it/s]\u001b[A\u001b[A\u001b[A"
     ]
    },
    {
     "name": "stdout",
     "output_type": "stream",
     "text": [
      "https://www.apartments.com/1449-san-pablo-ave-pinole-ca/djd5kwk/\n"
     ]
    },
    {
     "name": "stderr",
     "output_type": "stream",
     "text": [
      "\n",
      "\n",
      "\n",
      " 12%|█▏        | 443/3594 [04:30<25:08,  2.09it/s]\u001b[A\u001b[A\u001b[A"
     ]
    },
    {
     "name": "stdout",
     "output_type": "stream",
     "text": [
      "https://www.apartments.com/5971-rolston-ave-richmond-ca/41884hl/\n"
     ]
    },
    {
     "name": "stderr",
     "output_type": "stream",
     "text": [
      "\n",
      "\n",
      "\n",
      " 12%|█▏        | 444/3594 [04:30<24:07,  2.18it/s]\u001b[A\u001b[A\u001b[A"
     ]
    },
    {
     "name": "stdout",
     "output_type": "stream",
     "text": [
      "https://www.apartments.com/5260-westmont-ave-san-jose-ca/s432434/\n"
     ]
    },
    {
     "name": "stderr",
     "output_type": "stream",
     "text": [
      "\n",
      "\n",
      "\n",
      " 12%|█▏        | 445/3594 [04:31<22:25,  2.34it/s]\u001b[A\u001b[A\u001b[A"
     ]
    },
    {
     "name": "stdout",
     "output_type": "stream",
     "text": [
      "https://www.apartments.com/beach-cove-foster-city-ca/w0pjc8j/\n"
     ]
    },
    {
     "name": "stderr",
     "output_type": "stream",
     "text": [
      "\n",
      "\n",
      "\n",
      " 12%|█▏        | 446/3594 [04:31<24:36,  2.13it/s]\u001b[A\u001b[A\u001b[A"
     ]
    },
    {
     "name": "stdout",
     "output_type": "stream",
     "text": [
      "https://www.apartments.com/1-br-1-bath-20-tamalpais-ave-apt-4-apt-4-san-anselmo-ca-unit-apt-4/0erx601/\n"
     ]
    },
    {
     "name": "stderr",
     "output_type": "stream",
     "text": [
      "\n",
      "\n",
      "\n",
      " 12%|█▏        | 447/3594 [04:33<46:08,  1.14it/s]\u001b[A\u001b[A\u001b[A"
     ]
    },
    {
     "name": "stdout",
     "output_type": "stream",
     "text": [
      "https://www.apartments.com/340-364-6th-ave-menlo-park-ca/k5tv2bb/\n"
     ]
    },
    {
     "name": "stderr",
     "output_type": "stream",
     "text": [
      "\n",
      "\n",
      "\n",
      " 12%|█▏        | 448/3594 [04:33<37:50,  1.39it/s]\u001b[A\u001b[A\u001b[A"
     ]
    },
    {
     "name": "stdout",
     "output_type": "stream",
     "text": [
      "https://www.apartments.com/linden-manor-san-bruno-ca/v44vjrf/\n"
     ]
    },
    {
     "name": "stderr",
     "output_type": "stream",
     "text": [
      "\n",
      "\n",
      "\n",
      " 12%|█▏        | 449/3594 [04:34<35:49,  1.46it/s]\u001b[A\u001b[A\u001b[A"
     ]
    },
    {
     "name": "stdout",
     "output_type": "stream",
     "text": [
      "https://www.apartments.com/timberlane-apartments-belmont-ca/bftche8/\n"
     ]
    },
    {
     "name": "stderr",
     "output_type": "stream",
     "text": [
      "\n",
      "\n",
      "\n",
      " 13%|█▎        | 450/3594 [04:35<32:38,  1.61it/s]\u001b[A\u001b[A\u001b[A"
     ]
    },
    {
     "name": "stdout",
     "output_type": "stream",
     "text": [
      "https://www.apartments.com/271-raymond-ave-san-francisco-ca/btnrq9c/\n"
     ]
    },
    {
     "name": "stderr",
     "output_type": "stream",
     "text": [
      "\n",
      "\n",
      "\n",
      " 13%|█▎        | 451/3594 [04:35<30:10,  1.74it/s]\u001b[A\u001b[A\u001b[A"
     ]
    },
    {
     "name": "stdout",
     "output_type": "stream",
     "text": [
      "https://www.apartments.com/2132-reinert-rd-mountain-view-ca/4prje1l/\n"
     ]
    },
    {
     "name": "stderr",
     "output_type": "stream",
     "text": [
      "\n",
      "\n",
      "\n",
      " 13%|█▎        | 452/3594 [04:36<32:18,  1.62it/s]\u001b[A\u001b[A\u001b[A"
     ]
    },
    {
     "name": "stdout",
     "output_type": "stream",
     "text": [
      "https://www.apartments.com/156-park-pl-san-bruno-ca/822l023/\n"
     ]
    },
    {
     "name": "stderr",
     "output_type": "stream",
     "text": [
      "\n",
      "\n",
      "\n",
      " 13%|█▎        | 453/3594 [04:36<29:32,  1.77it/s]\u001b[A\u001b[A\u001b[A"
     ]
    },
    {
     "name": "stdout",
     "output_type": "stream",
     "text": [
      "https://www.apartments.com/736-756-stubbs-rd-pleasant-hill-ca/nhc79vp/\n"
     ]
    },
    {
     "name": "stderr",
     "output_type": "stream",
     "text": [
      "\n",
      "\n",
      "\n",
      " 13%|█▎        | 454/3594 [04:37<36:13,  1.44it/s]\u001b[A\u001b[A\u001b[A"
     ]
    },
    {
     "name": "stdout",
     "output_type": "stream",
     "text": [
      "https://www.apartments.com/1135-rhinette-ave-burlingame-ca/b3j9yb8/\n"
     ]
    },
    {
     "name": "stderr",
     "output_type": "stream",
     "text": [
      "\n",
      "\n",
      "\n",
      " 13%|█▎        | 455/3594 [04:38<32:03,  1.63it/s]\u001b[A\u001b[A\u001b[A"
     ]
    },
    {
     "name": "stdout",
     "output_type": "stream",
     "text": [
      "https://www.apartments.com/103-exeter-ct-sunnyvale-ca/8355bw3/\n"
     ]
    },
    {
     "name": "stderr",
     "output_type": "stream",
     "text": [
      "\n",
      "\n",
      "\n",
      " 13%|█▎        | 456/3594 [04:38<28:41,  1.82it/s]\u001b[A\u001b[A\u001b[A"
     ]
    },
    {
     "name": "stdout",
     "output_type": "stream",
     "text": [
      "https://www.apartments.com/bridge-bay-apartments-newark-ca/l7lpx2d/\n"
     ]
    },
    {
     "name": "stderr",
     "output_type": "stream",
     "text": [
      "\n",
      "\n",
      "\n",
      " 13%|█▎        | 457/3594 [04:39<44:01,  1.19it/s]\u001b[A\u001b[A\u001b[A"
     ]
    },
    {
     "name": "stdout",
     "output_type": "stream",
     "text": [
      "https://www.apartments.com/931-939-addison-ave-palo-alto-ca/p4yb8nv/\n"
     ]
    },
    {
     "name": "stderr",
     "output_type": "stream",
     "text": [
      "\n",
      "\n",
      "\n",
      " 13%|█▎        | 458/3594 [04:40<37:01,  1.41it/s]\u001b[A\u001b[A\u001b[A"
     ]
    },
    {
     "name": "stdout",
     "output_type": "stream",
     "text": [
      "https://www.apartments.com/3-br-25-bath-house-725-w-hacienda-ave-campbell-ca/fmn6lmr/\n"
     ]
    },
    {
     "name": "stderr",
     "output_type": "stream",
     "text": [
      "\n",
      "\n",
      "\n",
      " 13%|█▎        | 459/3594 [04:41<39:22,  1.33it/s]\u001b[A\u001b[A\u001b[A"
     ]
    },
    {
     "name": "stdout",
     "output_type": "stream",
     "text": [
      "https://www.apartments.com/663-homestead-rd-sunnyvale-ca/vx10s8f/\n"
     ]
    },
    {
     "name": "stderr",
     "output_type": "stream",
     "text": [
      "\n",
      "\n",
      "\n",
      " 13%|█▎        | 460/3594 [04:41<34:17,  1.52it/s]\u001b[A\u001b[A\u001b[A"
     ]
    },
    {
     "name": "stdout",
     "output_type": "stream",
     "text": [
      "https://www.apartments.com/1120-bonita-ave-mountain-view-ca/rgew0h3/\n"
     ]
    },
    {
     "name": "stderr",
     "output_type": "stream",
     "text": [
      "\n",
      "\n",
      "\n",
      " 13%|█▎        | 461/3594 [04:42<38:21,  1.36it/s]\u001b[A\u001b[A\u001b[A"
     ]
    },
    {
     "name": "stdout",
     "output_type": "stream",
     "text": [
      "https://www.apartments.com/4-br-2-bath-house-455-montalvin-dr-san-pablo-ca/d71hrzl/\n"
     ]
    },
    {
     "name": "stderr",
     "output_type": "stream",
     "text": [
      "\n",
      "\n",
      "\n",
      " 13%|█▎        | 462/3594 [04:43<33:40,  1.55it/s]\u001b[A\u001b[A\u001b[A"
     ]
    },
    {
     "name": "stdout",
     "output_type": "stream",
     "text": [
      "https://www.apartments.com/849-bing-dr-santa-clara-ca/6rtn40v/\n"
     ]
    },
    {
     "name": "stderr",
     "output_type": "stream",
     "text": [
      "\n",
      "\n",
      "\n",
      " 13%|█▎        | 463/3594 [04:43<29:10,  1.79it/s]\u001b[A\u001b[A\u001b[A"
     ]
    },
    {
     "name": "stdout",
     "output_type": "stream",
     "text": [
      "https://www.apartments.com/verandas-union-city-ca/gtqpp1z/\n"
     ]
    },
    {
     "name": "stderr",
     "output_type": "stream",
     "text": [
      "\n",
      "\n",
      "\n",
      " 13%|█▎        | 464/3594 [04:44<41:00,  1.27it/s]\u001b[A\u001b[A\u001b[A"
     ]
    },
    {
     "name": "stdout",
     "output_type": "stream",
     "text": [
      "https://www.apartments.com/4-br-3-bath-house-1251-nob-hill-pinole-ca/f3sbjhv/\n"
     ]
    },
    {
     "name": "stderr",
     "output_type": "stream",
     "text": [
      "\n",
      "\n",
      "\n",
      " 13%|█▎        | 465/3594 [04:45<35:52,  1.45it/s]\u001b[A\u001b[A\u001b[A"
     ]
    },
    {
     "name": "stdout",
     "output_type": "stream",
     "text": [
      "https://www.apartments.com/the-crossings-sunnyvale-ca/yy7sr2s/\n"
     ]
    },
    {
     "name": "stderr",
     "output_type": "stream",
     "text": [
      "\n",
      "\n",
      "\n",
      " 13%|█▎        | 466/3594 [04:45<33:42,  1.55it/s]\u001b[A\u001b[A\u001b[A"
     ]
    },
    {
     "name": "stdout",
     "output_type": "stream",
     "text": [
      "https://www.apartments.com/1139-san-pablo-ave-pinole-ca/jkq7q56/\n"
     ]
    },
    {
     "name": "stderr",
     "output_type": "stream",
     "text": [
      "\n",
      "\n",
      "\n",
      " 13%|█▎        | 467/3594 [04:46<29:18,  1.78it/s]\u001b[A\u001b[A\u001b[A"
     ]
    },
    {
     "name": "stdout",
     "output_type": "stream",
     "text": [
      "https://www.apartments.com/401-cornell-ave-el-cerrito-ca/egejrtn/\n"
     ]
    },
    {
     "name": "stderr",
     "output_type": "stream",
     "text": [
      "\n",
      "\n",
      "\n",
      " 13%|█▎        | 468/3594 [04:46<30:42,  1.70it/s]\u001b[A\u001b[A\u001b[A"
     ]
    },
    {
     "name": "stdout",
     "output_type": "stream",
     "text": [
      "https://www.apartments.com/944-sir-francis-drake-blvd-kentfield-ca/r7sqbw3/\n"
     ]
    },
    {
     "name": "stderr",
     "output_type": "stream",
     "text": [
      "\n",
      "\n",
      "\n",
      " 13%|█▎        | 469/3594 [04:47<27:36,  1.89it/s]\u001b[A\u001b[A\u001b[A"
     ]
    },
    {
     "name": "stdout",
     "output_type": "stream",
     "text": [
      "https://www.apartments.com/fairmont-apartments-pacifica-ca/2m6w7c9/\n"
     ]
    },
    {
     "name": "stderr",
     "output_type": "stream",
     "text": [
      "\n",
      "\n",
      "\n",
      " 13%|█▎        | 470/3594 [04:47<27:06,  1.92it/s]\u001b[A\u001b[A\u001b[A"
     ]
    },
    {
     "name": "stdout",
     "output_type": "stream",
     "text": [
      "https://www.apartments.com/1250-s-56th-st-richmond-ca/5zv1c2q/\n"
     ]
    },
    {
     "name": "stderr",
     "output_type": "stream",
     "text": [
      "\n",
      "\n",
      "\n",
      " 13%|█▎        | 471/3594 [04:48<25:29,  2.04it/s]\u001b[A\u001b[A\u001b[A"
     ]
    },
    {
     "name": "stdout",
     "output_type": "stream",
     "text": [
      "https://www.apartments.com/1300-arguello-st-redwood-city-ca/ym3h2bt/\n"
     ]
    },
    {
     "name": "stderr",
     "output_type": "stream",
     "text": [
      "\n",
      "\n",
      "\n",
      " 13%|█▎        | 472/3594 [04:48<23:26,  2.22it/s]\u001b[A\u001b[A\u001b[A"
     ]
    },
    {
     "name": "stdout",
     "output_type": "stream",
     "text": [
      "https://www.apartments.com/gardens-of-fontainbleu-cupertino-ca/khf619b/\n"
     ]
    },
    {
     "name": "stderr",
     "output_type": "stream",
     "text": [
      "\n",
      "\n",
      "\n",
      " 13%|█▎        | 473/3594 [04:48<24:40,  2.11it/s]\u001b[A\u001b[A\u001b[A"
     ]
    },
    {
     "name": "stdout",
     "output_type": "stream",
     "text": [
      "https://www.apartments.com/4421-fairlands-dr-pleasanton-ca/sjcjpd5/\n"
     ]
    },
    {
     "name": "stderr",
     "output_type": "stream",
     "text": [
      "\n",
      "\n",
      "\n",
      " 13%|█▎        | 474/3594 [04:49<23:24,  2.22it/s]\u001b[A\u001b[A\u001b[A"
     ]
    },
    {
     "name": "stdout",
     "output_type": "stream",
     "text": [
      "https://www.apartments.com/1591-laurel-st-san-carlos-ca-unit-2/efkfwqp/\n"
     ]
    },
    {
     "name": "stderr",
     "output_type": "stream",
     "text": [
      "\n",
      "\n",
      "\n",
      " 13%|█▎        | 475/3594 [04:49<24:28,  2.12it/s]\u001b[A\u001b[A\u001b[A"
     ]
    },
    {
     "name": "stdout",
     "output_type": "stream",
     "text": [
      "https://www.apartments.com/259-mariposa-ave-mountain-view-ca/f9rpt5s/\n"
     ]
    },
    {
     "name": "stderr",
     "output_type": "stream",
     "text": [
      "\n",
      "\n",
      "\n",
      " 13%|█▎        | 476/3594 [04:50<23:46,  2.19it/s]\u001b[A\u001b[A\u001b[A"
     ]
    },
    {
     "name": "stdout",
     "output_type": "stream",
     "text": [
      "https://www.apartments.com/9168-eastside-rd-healdsburg-ca/17bvm07/\n"
     ]
    },
    {
     "name": "stderr",
     "output_type": "stream",
     "text": [
      "\n",
      "\n",
      "\n",
      " 13%|█▎        | 477/3594 [04:50<24:04,  2.16it/s]\u001b[A\u001b[A\u001b[A"
     ]
    },
    {
     "name": "stdout",
     "output_type": "stream",
     "text": [
      "https://www.apartments.com/2211-village-ct-belmont-ca/8p840q3/\n"
     ]
    },
    {
     "name": "stderr",
     "output_type": "stream",
     "text": [
      "\n",
      "\n",
      "\n",
      " 13%|█▎        | 478/3594 [04:51<36:24,  1.43it/s]\u001b[A\u001b[A\u001b[A"
     ]
    },
    {
     "name": "stdout",
     "output_type": "stream",
     "text": [
      "https://www.apartments.com/the-franciscan-park-daly-city-ca/r4pybk0/\n"
     ]
    },
    {
     "name": "stderr",
     "output_type": "stream",
     "text": [
      "\n",
      "\n",
      "\n",
      " 13%|█▎        | 479/3594 [04:52<31:30,  1.65it/s]\u001b[A\u001b[A\u001b[A"
     ]
    },
    {
     "name": "stdout",
     "output_type": "stream",
     "text": [
      "https://www.apartments.com/4306-collins-ct-mountain-view-ca/9csq046/\n"
     ]
    },
    {
     "name": "stderr",
     "output_type": "stream",
     "text": [
      "\n",
      "\n",
      "\n",
      " 13%|█▎        | 480/3594 [04:55<1:11:15,  1.37s/it]\u001b[A\u001b[A\u001b[A"
     ]
    },
    {
     "name": "stdout",
     "output_type": "stream",
     "text": [
      "https://www.apartments.com/central-park-apartments-san-jose-ca/h36xbp3/\n"
     ]
    },
    {
     "name": "stderr",
     "output_type": "stream",
     "text": [
      "\n",
      "\n",
      "\n",
      " 13%|█▎        | 481/3594 [04:56<57:26,  1.11s/it]  \u001b[A\u001b[A\u001b[A"
     ]
    },
    {
     "name": "stdout",
     "output_type": "stream",
     "text": [
      "https://www.apartments.com/1108-1108a-1110-1110a-capuch-ave-burlingame-ca/l8t4cze/\n"
     ]
    },
    {
     "name": "stderr",
     "output_type": "stream",
     "text": [
      "\n",
      "\n",
      "\n",
      " 13%|█▎        | 482/3594 [04:56<46:22,  1.12it/s]\u001b[A\u001b[A\u001b[A"
     ]
    },
    {
     "name": "stdout",
     "output_type": "stream",
     "text": [
      "https://www.apartments.com/32-kent-pl-menlo-park-ca/skgmyf7/\n"
     ]
    },
    {
     "name": "stderr",
     "output_type": "stream",
     "text": [
      "\n",
      "\n",
      "\n",
      " 13%|█▎        | 483/3594 [04:56<40:30,  1.28it/s]\u001b[A\u001b[A\u001b[A"
     ]
    },
    {
     "name": "stdout",
     "output_type": "stream",
     "text": [
      "https://www.apartments.com/1017-el-camino-real-burlingame-ca/sf1jyz4/\n"
     ]
    },
    {
     "name": "stderr",
     "output_type": "stream",
     "text": [
      "\n",
      "\n",
      "\n",
      " 13%|█▎        | 484/3594 [04:57<34:03,  1.52it/s]\u001b[A\u001b[A\u001b[A"
     ]
    },
    {
     "name": "stdout",
     "output_type": "stream",
     "text": [
      "https://www.apartments.com/32207-seneca-st-hayward-ca/7dgb4zy/\n"
     ]
    },
    {
     "name": "stderr",
     "output_type": "stream",
     "text": [
      "\n",
      "\n",
      "\n",
      " 13%|█▎        | 485/3594 [04:57<29:22,  1.76it/s]\u001b[A\u001b[A\u001b[A"
     ]
    },
    {
     "name": "stdout",
     "output_type": "stream",
     "text": [
      "https://www.apartments.com/385-387-shipley-ave-daly-city-ca/5e4stdm/\n"
     ]
    },
    {
     "name": "stderr",
     "output_type": "stream",
     "text": [
      "\n",
      "\n",
      "\n",
      " 14%|█▎        | 486/3594 [04:58<26:52,  1.93it/s]\u001b[A\u001b[A\u001b[A"
     ]
    },
    {
     "name": "stdout",
     "output_type": "stream",
     "text": [
      "https://www.apartments.com/2-br-2-bath-house-828-n-el-camino-real-3-san-mateo-ca/9f9ycv7/\n"
     ]
    },
    {
     "name": "stderr",
     "output_type": "stream",
     "text": [
      "\n",
      "\n",
      "\n",
      " 14%|█▎        | 487/3594 [04:58<25:15,  2.05it/s]\u001b[A\u001b[A\u001b[A"
     ]
    },
    {
     "name": "stdout",
     "output_type": "stream",
     "text": [
      "https://www.apartments.com/3285-homestead-rd-santa-clara-ca/hrx9vm0/\n"
     ]
    },
    {
     "name": "stderr",
     "output_type": "stream",
     "text": [
      "\n",
      "\n",
      "\n",
      " 14%|█▎        | 488/3594 [04:58<24:48,  2.09it/s]\u001b[A\u001b[A\u001b[A"
     ]
    },
    {
     "name": "stdout",
     "output_type": "stream",
     "text": [
      "https://www.apartments.com/346-richmond-dr-millbrae-ca/4k8ks5j/\n"
     ]
    },
    {
     "name": "stderr",
     "output_type": "stream",
     "text": [
      "\n",
      "\n",
      "\n",
      " 14%|█▎        | 489/3594 [04:59<33:01,  1.57it/s]\u001b[A\u001b[A\u001b[A"
     ]
    },
    {
     "name": "stdout",
     "output_type": "stream",
     "text": [
      "https://www.apartments.com/1115-sir-francis-drake-blvd-kentfield-ca-unit-7/mg5wtxl/\n"
     ]
    },
    {
     "name": "stderr",
     "output_type": "stream",
     "text": [
      "\n",
      "\n",
      "\n",
      " 14%|█▎        | 490/3594 [05:00<37:53,  1.37it/s]\u001b[A\u001b[A\u001b[A"
     ]
    },
    {
     "name": "stdout",
     "output_type": "stream",
     "text": [
      "https://www.apartments.com/2363-wendell-ave-richmond-ca/0d6t8t2/\n"
     ]
    },
    {
     "name": "stderr",
     "output_type": "stream",
     "text": [
      "\n",
      "\n",
      "\n",
      " 14%|█▎        | 491/3594 [05:01<33:15,  1.56it/s]\u001b[A\u001b[A\u001b[A"
     ]
    },
    {
     "name": "stdout",
     "output_type": "stream",
     "text": [
      "https://www.apartments.com/801-stannage-ave-albany-ca/tzsnnd8/\n"
     ]
    },
    {
     "name": "stderr",
     "output_type": "stream",
     "text": [
      "\n",
      "\n",
      "\n",
      " 14%|█▎        | 492/3594 [05:01<29:42,  1.74it/s]\u001b[A\u001b[A\u001b[A"
     ]
    },
    {
     "name": "stdout",
     "output_type": "stream",
     "text": [
      "https://www.apartments.com/carrington-apartments-fremont-ca/52gh3em/\n"
     ]
    },
    {
     "name": "stderr",
     "output_type": "stream",
     "text": [
      "\n",
      "\n",
      "\n",
      " 14%|█▎        | 493/3594 [05:02<28:21,  1.82it/s]\u001b[A\u001b[A\u001b[A"
     ]
    },
    {
     "name": "stdout",
     "output_type": "stream",
     "text": [
      "https://www.apartments.com/694-grand-coulee-ave-sunnyvale-ca/hgfyj63/\n"
     ]
    },
    {
     "name": "stderr",
     "output_type": "stream",
     "text": [
      "\n",
      "\n",
      "\n",
      " 14%|█▎        | 494/3594 [05:02<26:59,  1.91it/s]\u001b[A\u001b[A\u001b[A"
     ]
    },
    {
     "name": "stdout",
     "output_type": "stream",
     "text": [
      "https://www.apartments.com/2517-virginia-st-berkeley-ca/vkjm4pg/\n"
     ]
    },
    {
     "name": "stderr",
     "output_type": "stream",
     "text": [
      "\n",
      "\n",
      "\n",
      " 14%|█▍        | 495/3594 [05:03<26:29,  1.95it/s]\u001b[A\u001b[A\u001b[A"
     ]
    },
    {
     "name": "stdout",
     "output_type": "stream",
     "text": [
      "https://www.apartments.com/2211-lake-rd-belmont-ca/l7xfy9d/\n"
     ]
    },
    {
     "name": "stderr",
     "output_type": "stream",
     "text": [
      "\n",
      "\n",
      "\n",
      " 14%|█▍        | 496/3594 [05:03<24:58,  2.07it/s]\u001b[A\u001b[A\u001b[A"
     ]
    },
    {
     "name": "stdout",
     "output_type": "stream",
     "text": [
      "https://www.apartments.com/667-sylvan-st-daly-city-ca/ghwyp3z/\n"
     ]
    },
    {
     "name": "stderr",
     "output_type": "stream",
     "text": [
      "\n",
      "\n",
      "\n",
      " 14%|█▍        | 497/3594 [05:03<23:17,  2.22it/s]\u001b[A\u001b[A\u001b[A"
     ]
    },
    {
     "name": "stdout",
     "output_type": "stream",
     "text": [
      "https://www.apartments.com/922-academy-ave-belmont-ca/fwb1thr/\n"
     ]
    },
    {
     "name": "stderr",
     "output_type": "stream",
     "text": [
      "\n",
      "\n",
      "\n",
      " 14%|█▍        | 498/3594 [05:04<21:49,  2.36it/s]\u001b[A\u001b[A\u001b[A"
     ]
    },
    {
     "name": "stdout",
     "output_type": "stream",
     "text": [
      "https://www.apartments.com/316-alida-way-south-san-francisco-ca/rtg9rm0/\n"
     ]
    },
    {
     "name": "stderr",
     "output_type": "stream",
     "text": [
      "\n",
      "\n",
      "\n",
      " 14%|█▍        | 499/3594 [05:04<20:41,  2.49it/s]\u001b[A\u001b[A\u001b[A"
     ]
    },
    {
     "name": "stdout",
     "output_type": "stream",
     "text": [
      "https://www.apartments.com/2013-santa-clara-st-richmond-ca/ksw2t29/\n"
     ]
    },
    {
     "name": "stderr",
     "output_type": "stream",
     "text": [
      "\n",
      "\n",
      "\n",
      " 14%|█▍        | 500/3594 [05:05<20:19,  2.54it/s]\u001b[A\u001b[A\u001b[A"
     ]
    },
    {
     "name": "stdout",
     "output_type": "stream",
     "text": [
      "https://www.apartments.com/649-sylvan-st-daly-city-ca/tj94vz9/\n"
     ]
    },
    {
     "name": "stderr",
     "output_type": "stream",
     "text": [
      "\n",
      "\n",
      "\n",
      " 14%|█▍        | 501/3594 [05:05<19:54,  2.59it/s]\u001b[A\u001b[A\u001b[A"
     ]
    },
    {
     "name": "stdout",
     "output_type": "stream",
     "text": [
      "https://www.apartments.com/hill-garden-apartments-belmont-ca/q6ndq3y/\n"
     ]
    },
    {
     "name": "stderr",
     "output_type": "stream",
     "text": [
      "\n",
      "\n",
      "\n",
      " 14%|█▍        | 502/3594 [05:05<20:28,  2.52it/s]\u001b[A\u001b[A\u001b[A"
     ]
    },
    {
     "name": "stdout",
     "output_type": "stream",
     "text": [
      "https://www.apartments.com/1355-s-wolfe-rd-sunnyvale-ca/lzc1rre/\n"
     ]
    },
    {
     "name": "stderr",
     "output_type": "stream",
     "text": [
      "\n",
      "\n",
      "\n",
      " 14%|█▍        | 503/3594 [05:06<21:03,  2.45it/s]\u001b[A\u001b[A\u001b[A"
     ]
    },
    {
     "name": "stdout",
     "output_type": "stream",
     "text": [
      "https://www.apartments.com/8-gonzalez-dr-san-francisco-ca/91yy335/\n"
     ]
    },
    {
     "name": "stderr",
     "output_type": "stream",
     "text": [
      "\n",
      "\n",
      "\n",
      " 14%|█▍        | 504/3594 [05:06<21:49,  2.36it/s]\u001b[A\u001b[A\u001b[A"
     ]
    },
    {
     "name": "stdout",
     "output_type": "stream",
     "text": [
      "https://www.apartments.com/1130-paloma-ave-burlingame-ca/hn4b6v0/\n"
     ]
    },
    {
     "name": "stderr",
     "output_type": "stream",
     "text": [
      "\n",
      "\n",
      "\n",
      " 14%|█▍        | 505/3594 [05:07<21:18,  2.42it/s]\u001b[A\u001b[A\u001b[A"
     ]
    },
    {
     "name": "stdout",
     "output_type": "stream",
     "text": [
      "https://www.apartments.com/1450-1452-magnolia-ave-millbrae-ca/q1h0wsx/\n"
     ]
    },
    {
     "name": "stderr",
     "output_type": "stream",
     "text": [
      "\n",
      "\n",
      "\n",
      " 14%|█▍        | 506/3594 [05:07<22:58,  2.24it/s]\u001b[A\u001b[A\u001b[A"
     ]
    },
    {
     "name": "stdout",
     "output_type": "stream",
     "text": [
      "https://www.apartments.com/1036-1038-dodge-dr-redwood-city-ca/e08szcm/\n"
     ]
    },
    {
     "name": "stderr",
     "output_type": "stream",
     "text": [
      "\n",
      "\n",
      "\n",
      " 14%|█▍        | 507/3594 [05:08<22:17,  2.31it/s]\u001b[A\u001b[A\u001b[A"
     ]
    },
    {
     "name": "stdout",
     "output_type": "stream",
     "text": [
      "https://www.apartments.com/21-st-johns-ct-walnut-creek-ca/vcqc8me/\n"
     ]
    },
    {
     "name": "stderr",
     "output_type": "stream",
     "text": [
      "\n",
      "\n",
      "\n",
      " 14%|█▍        | 508/3594 [05:08<21:53,  2.35it/s]\u001b[A\u001b[A\u001b[A"
     ]
    },
    {
     "name": "stdout",
     "output_type": "stream",
     "text": [
      "https://www.apartments.com/2645-fayette-dr-mountain-view-ca/yqgg92s/\n"
     ]
    },
    {
     "name": "stderr",
     "output_type": "stream",
     "text": [
      "\n",
      "\n",
      "\n",
      " 14%|█▍        | 509/3594 [05:08<21:37,  2.38it/s]\u001b[A\u001b[A\u001b[A"
     ]
    },
    {
     "name": "stdout",
     "output_type": "stream",
     "text": [
      "https://www.apartments.com/palo-mobile-estates-palo-alto-ca/d5nc5fk/\n"
     ]
    },
    {
     "name": "stderr",
     "output_type": "stream",
     "text": [
      "\n",
      "\n",
      "\n",
      " 14%|█▍        | 510/3594 [05:09<20:41,  2.48it/s]\u001b[A\u001b[A\u001b[A"
     ]
    },
    {
     "name": "stdout",
     "output_type": "stream",
     "text": [
      "https://www.apartments.com/ave-emeryville-at-bay-street-emeryville-ca/3x5d18e/\n"
     ]
    },
    {
     "name": "stderr",
     "output_type": "stream",
     "text": [
      "\n",
      "\n",
      "\n",
      " 14%|█▍        | 511/3594 [05:09<22:02,  2.33it/s]\u001b[A\u001b[A\u001b[A"
     ]
    },
    {
     "name": "stdout",
     "output_type": "stream",
     "text": [
      "https://www.apartments.com/620-mclaughlin-st-richmond-ca/52vjl6n/\n"
     ]
    },
    {
     "name": "stderr",
     "output_type": "stream",
     "text": [
      "\n",
      "\n",
      "\n",
      " 14%|█▍        | 512/3594 [05:10<21:58,  2.34it/s]\u001b[A\u001b[A\u001b[A"
     ]
    },
    {
     "name": "stdout",
     "output_type": "stream",
     "text": [
      "https://www.apartments.com/125-santa-lucia-ave-san-bruno-ca/zz4gl0x/\n"
     ]
    },
    {
     "name": "stderr",
     "output_type": "stream",
     "text": [
      "\n",
      "\n",
      "\n",
      " 14%|█▍        | 513/3594 [05:10<21:39,  2.37it/s]\u001b[A\u001b[A\u001b[A"
     ]
    },
    {
     "name": "stdout",
     "output_type": "stream",
     "text": [
      "https://www.apartments.com/golden-oak-manor-oakley-ca/p3qfylr/\n"
     ]
    },
    {
     "name": "stderr",
     "output_type": "stream",
     "text": [
      "\n",
      "\n",
      "\n",
      " 14%|█▍        | 514/3594 [05:11<21:56,  2.34it/s]\u001b[A\u001b[A\u001b[A"
     ]
    },
    {
     "name": "stdout",
     "output_type": "stream",
     "text": [
      "https://www.apartments.com/1231-hoover-st-menlo-park-ca/qs5qetw/\n"
     ]
    },
    {
     "name": "stderr",
     "output_type": "stream",
     "text": [
      "\n",
      "\n",
      "\n",
      " 14%|█▍        | 515/3594 [05:11<21:05,  2.43it/s]\u001b[A\u001b[A\u001b[A"
     ]
    },
    {
     "name": "stdout",
     "output_type": "stream",
     "text": [
      "https://www.apartments.com/15-san-rafael-ave-san-anselmo-ca/yj7nq6s/\n"
     ]
    },
    {
     "name": "stderr",
     "output_type": "stream",
     "text": [
      "\n",
      "\n",
      "\n",
      " 14%|█▍        | 516/3594 [05:11<21:13,  2.42it/s]\u001b[A\u001b[A\u001b[A"
     ]
    },
    {
     "name": "stdout",
     "output_type": "stream",
     "text": [
      "https://www.apartments.com/240-mountain-view-ave-mountain-view-ca/f2jn5qs/\n"
     ]
    },
    {
     "name": "stderr",
     "output_type": "stream",
     "text": [
      "\n",
      "\n",
      "\n",
      " 14%|█▍        | 517/3594 [05:12<31:20,  1.64it/s]\u001b[A\u001b[A\u001b[A"
     ]
    },
    {
     "name": "stdout",
     "output_type": "stream",
     "text": [
      "https://www.apartments.com/200-waverley-st-menlo-park-ca/l7mjhpg/\n"
     ]
    },
    {
     "name": "stderr",
     "output_type": "stream",
     "text": [
      "\n",
      "\n",
      "\n",
      " 14%|█▍        | 518/3594 [05:13<28:02,  1.83it/s]\u001b[A\u001b[A\u001b[A"
     ]
    },
    {
     "name": "stdout",
     "output_type": "stream",
     "text": [
      "https://www.apartments.com/the-montecito-apartments-mountain-view-ca/qffs3nx/\n"
     ]
    },
    {
     "name": "stderr",
     "output_type": "stream",
     "text": [
      "\n",
      "\n",
      "\n",
      " 14%|█▍        | 519/3594 [05:14<33:21,  1.54it/s]\u001b[A\u001b[A\u001b[A"
     ]
    },
    {
     "name": "stdout",
     "output_type": "stream",
     "text": [
      "https://www.apartments.com/330-44th-st-richmond-ca/v8hb84e/\n"
     ]
    },
    {
     "name": "stderr",
     "output_type": "stream",
     "text": [
      "\n",
      "\n",
      "\n",
      " 14%|█▍        | 520/3594 [05:14<29:28,  1.74it/s]\u001b[A\u001b[A\u001b[A"
     ]
    },
    {
     "name": "stdout",
     "output_type": "stream",
     "text": [
      "https://www.apartments.com/6389-dana-st-oakland-ca/4eh6fcj/\n"
     ]
    },
    {
     "name": "stderr",
     "output_type": "stream",
     "text": [
      "\n",
      "\n",
      "\n",
      " 14%|█▍        | 521/3594 [05:15<27:52,  1.84it/s]\u001b[A\u001b[A\u001b[A"
     ]
    },
    {
     "name": "stdout",
     "output_type": "stream",
     "text": [
      "https://www.apartments.com/372-n-delaware-st-san-mateo-ca/k1qj9nc/\n"
     ]
    },
    {
     "name": "stderr",
     "output_type": "stream",
     "text": [
      "\n",
      "\n",
      "\n",
      " 15%|█▍        | 522/3594 [05:15<25:50,  1.98it/s]\u001b[A\u001b[A\u001b[A"
     ]
    },
    {
     "name": "stdout",
     "output_type": "stream",
     "text": [
      "https://www.apartments.com/108-116-berkshire-ave-redwood-city-ca/q5qvmky/\n"
     ]
    },
    {
     "name": "stderr",
     "output_type": "stream",
     "text": [
      "\n",
      "\n",
      "\n",
      " 15%|█▍        | 523/3594 [05:15<23:53,  2.14it/s]\u001b[A\u001b[A\u001b[A"
     ]
    },
    {
     "name": "stdout",
     "output_type": "stream",
     "text": [
      "https://www.apartments.com/3417-fairview-dr-antioch-ca/w7cf8th/\n"
     ]
    },
    {
     "name": "stderr",
     "output_type": "stream",
     "text": [
      "\n",
      "\n",
      "\n",
      " 15%|█▍        | 524/3594 [05:16<22:38,  2.26it/s]\u001b[A\u001b[A\u001b[A"
     ]
    },
    {
     "name": "stdout",
     "output_type": "stream",
     "text": [
      "https://www.apartments.com/1210-oak-grove-ave-burlingame-ca/wx92lgk/\n"
     ]
    },
    {
     "name": "stderr",
     "output_type": "stream",
     "text": [
      "\n",
      "\n",
      "\n",
      " 15%|█▍        | 525/3594 [05:17<28:01,  1.83it/s]\u001b[A\u001b[A\u001b[A"
     ]
    },
    {
     "name": "stdout",
     "output_type": "stream",
     "text": [
      "https://www.apartments.com/natalie-court-millbrae-ca/fsmp7gr/\n"
     ]
    },
    {
     "name": "stderr",
     "output_type": "stream",
     "text": [
      "\n",
      "\n",
      "\n",
      " 15%|█▍        | 526/3594 [05:17<26:06,  1.96it/s]\u001b[A\u001b[A\u001b[A"
     ]
    },
    {
     "name": "stdout",
     "output_type": "stream",
     "text": [
      "https://www.apartments.com/moraga-manor-moraga-ca/n7zvv3q/\n"
     ]
    },
    {
     "name": "stderr",
     "output_type": "stream",
     "text": [
      "\n",
      "\n",
      "\n",
      " 15%|█▍        | 527/3594 [05:17<25:16,  2.02it/s]\u001b[A\u001b[A\u001b[A"
     ]
    },
    {
     "name": "stdout",
     "output_type": "stream",
     "text": [
      "https://www.apartments.com/3545-brook-st-lafayette-ca/nvbzdeq/\n"
     ]
    },
    {
     "name": "stderr",
     "output_type": "stream",
     "text": [
      "\n",
      "\n",
      "\n",
      " 15%|█▍        | 528/3594 [05:18<23:36,  2.16it/s]\u001b[A\u001b[A\u001b[A"
     ]
    },
    {
     "name": "stdout",
     "output_type": "stream",
     "text": [
      "https://www.apartments.com/309-esplanade-ave-pacifica-ca/7gypwsy/\n"
     ]
    },
    {
     "name": "stderr",
     "output_type": "stream",
     "text": [
      "\n",
      "\n",
      "\n",
      " 15%|█▍        | 529/3594 [05:18<22:26,  2.28it/s]\u001b[A\u001b[A\u001b[A"
     ]
    },
    {
     "name": "stdout",
     "output_type": "stream",
     "text": [
      "https://www.apartments.com/105-trelany-rd-pleasant-hill-ca/c60lhgg/\n"
     ]
    },
    {
     "name": "stderr",
     "output_type": "stream",
     "text": [
      "\n",
      "\n",
      "\n",
      " 15%|█▍        | 530/3594 [05:19<24:31,  2.08it/s]\u001b[A\u001b[A\u001b[A"
     ]
    },
    {
     "name": "stdout",
     "output_type": "stream",
     "text": [
      "https://www.apartments.com/1491-via-vista-san-lorenzo-ca/4dwj4sh/\n"
     ]
    },
    {
     "name": "stderr",
     "output_type": "stream",
     "text": [
      "\n",
      "\n",
      "\n",
      " 15%|█▍        | 531/3594 [05:19<22:44,  2.25it/s]\u001b[A\u001b[A\u001b[A"
     ]
    },
    {
     "name": "stdout",
     "output_type": "stream",
     "text": [
      "https://www.apartments.com/304-berkshire-ave-redwood-city-ca/g4d2gfz/\n"
     ]
    },
    {
     "name": "stderr",
     "output_type": "stream",
     "text": [
      "\n",
      "\n",
      "\n",
      " 15%|█▍        | 532/3594 [05:19<21:38,  2.36it/s]\u001b[A\u001b[A\u001b[A"
     ]
    },
    {
     "name": "stdout",
     "output_type": "stream",
     "text": [
      "https://www.apartments.com/670-n-el-camino-real-san-mateo-ca/4mp65el/\n"
     ]
    },
    {
     "name": "stderr",
     "output_type": "stream",
     "text": [
      "\n",
      "\n",
      "\n",
      " 15%|█▍        | 533/3594 [05:20<21:27,  2.38it/s]\u001b[A\u001b[A\u001b[A"
     ]
    },
    {
     "name": "stdout",
     "output_type": "stream",
     "text": [
      "https://www.apartments.com/5838-bayview-ave-richmond-ca/zgfcv0w/\n"
     ]
    },
    {
     "name": "stderr",
     "output_type": "stream",
     "text": [
      "\n",
      "\n",
      "\n",
      " 15%|█▍        | 534/3594 [05:20<22:14,  2.29it/s]\u001b[A\u001b[A\u001b[A"
     ]
    },
    {
     "name": "stdout",
     "output_type": "stream",
     "text": [
      "https://www.apartments.com/cedar-lane-newark-ca/hwm8yt3/\n"
     ]
    },
    {
     "name": "stderr",
     "output_type": "stream",
     "text": [
      "\n",
      "\n",
      "\n",
      " 15%|█▍        | 535/3594 [05:21<28:03,  1.82it/s]\u001b[A\u001b[A\u001b[A"
     ]
    },
    {
     "name": "stdout",
     "output_type": "stream",
     "text": [
      "https://www.apartments.com/62-64-scenic-ave-san-rafael-ca/c9khh7e/\n"
     ]
    },
    {
     "name": "stderr",
     "output_type": "stream",
     "text": [
      "\n",
      "\n",
      "\n",
      " 15%|█▍        | 536/3594 [05:22<26:21,  1.93it/s]\u001b[A\u001b[A\u001b[A"
     ]
    },
    {
     "name": "stdout",
     "output_type": "stream",
     "text": [
      "https://www.apartments.com/crystal-lake-apartments-millbrae-ca/g7v3tnx/\n"
     ]
    },
    {
     "name": "stderr",
     "output_type": "stream",
     "text": [
      "\n",
      "\n",
      "\n",
      " 15%|█▍        | 537/3594 [05:22<25:30,  2.00it/s]\u001b[A\u001b[A\u001b[A"
     ]
    },
    {
     "name": "stdout",
     "output_type": "stream",
     "text": [
      "https://www.apartments.com/7-21-columbia-ave-redwood-city-ca/lr9kwce/\n"
     ]
    },
    {
     "name": "stderr",
     "output_type": "stream",
     "text": [
      "\n",
      "\n",
      "\n",
      " 15%|█▍        | 538/3594 [05:22<23:46,  2.14it/s]\u001b[A\u001b[A\u001b[A"
     ]
    },
    {
     "name": "stdout",
     "output_type": "stream",
     "text": [
      "https://www.apartments.com/3-br-25-bath-house-6584-south-mariposa-ct-dublin-ca/wfj92ml/\n"
     ]
    },
    {
     "name": "stderr",
     "output_type": "stream",
     "text": [
      "\n",
      "\n",
      "\n",
      " 15%|█▍        | 539/3594 [05:23<29:11,  1.74it/s]\u001b[A\u001b[A\u001b[A"
     ]
    },
    {
     "name": "stdout",
     "output_type": "stream",
     "text": [
      "https://www.apartments.com/anton-mountain-view-mountain-view-ca/fjs69kv/\n"
     ]
    },
    {
     "name": "stderr",
     "output_type": "stream",
     "text": [
      "\n",
      "\n",
      "\n",
      " 15%|█▌        | 540/3594 [05:24<28:19,  1.80it/s]\u001b[A\u001b[A\u001b[A"
     ]
    },
    {
     "name": "stdout",
     "output_type": "stream",
     "text": [
      "https://www.apartments.com/770-coleman-ave-menlo-park-ca/vgjgbeg/\n"
     ]
    },
    {
     "name": "stderr",
     "output_type": "stream",
     "text": [
      "\n",
      "\n",
      "\n",
      " 15%|█▌        | 541/3594 [05:24<25:21,  2.01it/s]\u001b[A\u001b[A\u001b[A"
     ]
    },
    {
     "name": "stdout",
     "output_type": "stream",
     "text": [
      "https://www.apartments.com/811-easton-ave-san-bruno-ca/ne4w3hp/\n"
     ]
    },
    {
     "name": "stderr",
     "output_type": "stream",
     "text": [
      "\n",
      "\n",
      "\n",
      " 15%|█▌        | 542/3594 [05:25<23:32,  2.16it/s]\u001b[A\u001b[A\u001b[A"
     ]
    },
    {
     "name": "stdout",
     "output_type": "stream",
     "text": [
      "https://www.apartments.com/665-kirkland-dr-sunnyvale-ca/j74xsk5/\n"
     ]
    },
    {
     "name": "stderr",
     "output_type": "stream",
     "text": [
      "\n",
      "\n",
      "\n",
      " 15%|█▌        | 543/3594 [05:25<22:16,  2.28it/s]\u001b[A\u001b[A\u001b[A"
     ]
    },
    {
     "name": "stdout",
     "output_type": "stream",
     "text": [
      "https://www.apartments.com/1446-floribunda-burlingame-ca/nnx7s6p/\n"
     ]
    },
    {
     "name": "stderr",
     "output_type": "stream",
     "text": [
      "\n",
      "\n",
      "\n",
      " 15%|█▌        | 544/3594 [05:25<23:44,  2.14it/s]\u001b[A\u001b[A\u001b[A"
     ]
    },
    {
     "name": "stdout",
     "output_type": "stream",
     "text": [
      "https://www.apartments.com/229-millwood-dr-millbrae-ca/5kf9lnn/\n"
     ]
    },
    {
     "name": "stderr",
     "output_type": "stream",
     "text": [
      "\n",
      "\n",
      "\n",
      " 15%|█▌        | 545/3594 [05:26<23:23,  2.17it/s]\u001b[A\u001b[A\u001b[A"
     ]
    },
    {
     "name": "stdout",
     "output_type": "stream",
     "text": [
      "https://www.apartments.com/100-108-elm-st-san-carlos-ca/dnre15j/\n"
     ]
    },
    {
     "name": "stderr",
     "output_type": "stream",
     "text": [
      "\n",
      "\n",
      "\n",
      " 15%|█▌        | 546/3594 [05:26<23:00,  2.21it/s]\u001b[A\u001b[A\u001b[A"
     ]
    },
    {
     "name": "stdout",
     "output_type": "stream",
     "text": [
      "https://www.apartments.com/144-country-club-dr-south-san-francisco-ca/5f67c4q/\n"
     ]
    },
    {
     "name": "stderr",
     "output_type": "stream",
     "text": [
      "\n",
      "\n",
      "\n",
      " 15%|█▌        | 547/3594 [05:41<3:57:40,  4.68s/it]\u001b[A\u001b[A\u001b[A"
     ]
    },
    {
     "name": "stdout",
     "output_type": "stream",
     "text": [
      "https://www.apartments.com/1725-trinity-ave-walnut-creek-ca/4vvl1lk/\n"
     ]
    },
    {
     "name": "stderr",
     "output_type": "stream",
     "text": [
      "\n",
      "\n",
      "\n",
      " 15%|█▌        | 548/3594 [05:41<2:52:54,  3.41s/it]\u001b[A\u001b[A\u001b[A"
     ]
    },
    {
     "name": "stdout",
     "output_type": "stream",
     "text": [
      "https://www.apartments.com/the-ontario-sunnyvale-ca/7q9k1jy/\n"
     ]
    },
    {
     "name": "stderr",
     "output_type": "stream",
     "text": [
      "\n",
      "\n",
      "\n",
      " 15%|█▌        | 549/3594 [05:42<2:07:27,  2.51s/it]\u001b[A\u001b[A\u001b[A"
     ]
    },
    {
     "name": "stdout",
     "output_type": "stream",
     "text": [
      "https://www.apartments.com/11071107-1-2-willow-st-pinole-ca/vclecsf/\n"
     ]
    },
    {
     "name": "stderr",
     "output_type": "stream",
     "text": [
      "\n",
      "\n",
      "\n",
      " 15%|█▌        | 550/3594 [05:42<1:36:11,  1.90s/it]\u001b[A\u001b[A\u001b[A"
     ]
    },
    {
     "name": "stdout",
     "output_type": "stream",
     "text": [
      "https://www.apartments.com/232-san-luis-ave-san-bruno-ca/9lsry54/\n"
     ]
    },
    {
     "name": "stderr",
     "output_type": "stream",
     "text": [
      "\n",
      "\n",
      "\n",
      " 15%|█▌        | 551/3594 [05:43<1:18:05,  1.54s/it]\u001b[A\u001b[A\u001b[A"
     ]
    },
    {
     "name": "stdout",
     "output_type": "stream",
     "text": [
      "https://www.apartments.com/2-br-2-bath-house-460-flynn-street-sebastopol-ca/mz40cbj/\n"
     ]
    },
    {
     "name": "stderr",
     "output_type": "stream",
     "text": [
      "\n",
      "\n",
      "\n",
      " 15%|█▌        | 552/3594 [05:43<1:00:57,  1.20s/it]\u001b[A\u001b[A\u001b[A"
     ]
    },
    {
     "name": "stdout",
     "output_type": "stream",
     "text": [
      "https://www.apartments.com/newell-avenue-apartments-palo-alto-ca/lgfkt3g/\n"
     ]
    },
    {
     "name": "stderr",
     "output_type": "stream",
     "text": [
      "\n",
      "\n",
      "\n",
      " 15%|█▌        | 553/3594 [05:44<48:25,  1.05it/s]  \u001b[A\u001b[A\u001b[A"
     ]
    },
    {
     "name": "stdout",
     "output_type": "stream",
     "text": [
      "https://www.apartments.com/134-tasso-ct-palo-alto-ca/75ndtlx/\n"
     ]
    },
    {
     "name": "stderr",
     "output_type": "stream",
     "text": [
      "\n",
      "\n",
      "\n",
      " 15%|█▌        | 554/3594 [05:44<40:06,  1.26it/s]\u001b[A\u001b[A\u001b[A"
     ]
    },
    {
     "name": "stdout",
     "output_type": "stream",
     "text": [
      "https://www.apartments.com/the-carlyle-santa-clara-ca/j7b5mj7/\n"
     ]
    },
    {
     "name": "stderr",
     "output_type": "stream",
     "text": [
      "\n",
      "\n",
      "\n",
      " 15%|█▌        | 555/3594 [05:45<37:01,  1.37it/s]\u001b[A\u001b[A\u001b[A"
     ]
    },
    {
     "name": "stdout",
     "output_type": "stream",
     "text": [
      "https://www.apartments.com/1110-laguna-ave-burlingame-ca/8qyc8c0/\n"
     ]
    },
    {
     "name": "stderr",
     "output_type": "stream",
     "text": [
      "\n",
      "\n",
      "\n",
      " 15%|█▌        | 556/3594 [05:45<33:53,  1.49it/s]\u001b[A\u001b[A\u001b[A"
     ]
    },
    {
     "name": "stdout",
     "output_type": "stream",
     "text": [
      "https://www.apartments.com/1-br-1-bath-1618-fairview-st-unit-5-berkeley-ca/9kk9e16/\n"
     ]
    },
    {
     "name": "stderr",
     "output_type": "stream",
     "text": [
      "\n",
      "\n",
      "\n",
      " 15%|█▌        | 557/3594 [05:46<31:05,  1.63it/s]\u001b[A\u001b[A\u001b[A"
     ]
    },
    {
     "name": "stdout",
     "output_type": "stream",
     "text": [
      "https://www.apartments.com/11890-flanagan-ct-dublin-ca/7zf8ley/\n"
     ]
    },
    {
     "name": "stderr",
     "output_type": "stream",
     "text": [
      "\n",
      "\n",
      "\n",
      " 16%|█▌        | 558/3594 [05:46<28:07,  1.80it/s]\u001b[A\u001b[A\u001b[A"
     ]
    },
    {
     "name": "stdout",
     "output_type": "stream",
     "text": [
      "https://www.apartments.com/740-masson-ave-san-bruno-ca/tehbwq9/\n"
     ]
    },
    {
     "name": "stderr",
     "output_type": "stream",
     "text": [
      "\n",
      "\n",
      "\n",
      " 16%|█▌        | 559/3594 [05:47<25:03,  2.02it/s]\u001b[A\u001b[A\u001b[A"
     ]
    },
    {
     "name": "stdout",
     "output_type": "stream",
     "text": [
      "https://www.apartments.com/10-coleman-pl-menlo-park-ca/dw6xqpk/\n"
     ]
    },
    {
     "name": "stderr",
     "output_type": "stream",
     "text": [
      "\n",
      "\n",
      "\n",
      " 16%|█▌        | 560/3594 [05:47<23:06,  2.19it/s]\u001b[A\u001b[A\u001b[A"
     ]
    },
    {
     "name": "stdout",
     "output_type": "stream",
     "text": [
      "https://www.apartments.com/amador-valley-apartments-dublin-ca/407sb6h/\n"
     ]
    },
    {
     "name": "stderr",
     "output_type": "stream",
     "text": [
      "\n",
      "\n",
      "\n",
      " 16%|█▌        | 561/3594 [05:47<22:39,  2.23it/s]\u001b[A\u001b[A\u001b[A"
     ]
    },
    {
     "name": "stdout",
     "output_type": "stream",
     "text": [
      "https://www.apartments.com/1432-sanchez-ave-burlingame-ca/nyn343m/\n"
     ]
    },
    {
     "name": "stderr",
     "output_type": "stream",
     "text": [
      "\n",
      "\n",
      "\n",
      " 16%|█▌        | 562/3594 [05:48<21:43,  2.33it/s]\u001b[A\u001b[A\u001b[A"
     ]
    },
    {
     "name": "stdout",
     "output_type": "stream",
     "text": [
      "https://www.apartments.com/1221-brighton-ave-albany-ca/nhlw0wm/\n"
     ]
    },
    {
     "name": "stderr",
     "output_type": "stream",
     "text": [
      "\n",
      "\n",
      "\n",
      " 16%|█▌        | 563/3594 [05:48<20:46,  2.43it/s]\u001b[A\u001b[A\u001b[A"
     ]
    },
    {
     "name": "stdout",
     "output_type": "stream",
     "text": [
      "https://www.apartments.com/205-211-winslow-st-redwood-city-ca/4rrzpsj/\n"
     ]
    },
    {
     "name": "stderr",
     "output_type": "stream",
     "text": [
      "\n",
      "\n",
      "\n",
      " 16%|█▌        | 564/3594 [05:48<19:58,  2.53it/s]\u001b[A\u001b[A\u001b[A"
     ]
    },
    {
     "name": "stdout",
     "output_type": "stream",
     "text": [
      "https://www.apartments.com/1175-1177-willow-rd-menlo-park-ca/3lxebwf/\n"
     ]
    },
    {
     "name": "stderr",
     "output_type": "stream",
     "text": [
      "\n",
      "\n",
      "\n",
      " 16%|█▌        | 565/3594 [05:49<23:13,  2.17it/s]\u001b[A\u001b[A\u001b[A"
     ]
    },
    {
     "name": "stdout",
     "output_type": "stream",
     "text": [
      "https://www.apartments.com/1113-chula-vista-ave-burlingame-ca/w0bfdrh/\n"
     ]
    },
    {
     "name": "stderr",
     "output_type": "stream",
     "text": [
      "\n",
      "\n",
      "\n",
      " 16%|█▌        | 566/3594 [05:49<22:09,  2.28it/s]\u001b[A\u001b[A\u001b[A"
     ]
    },
    {
     "name": "stdout",
     "output_type": "stream",
     "text": [
      "https://www.apartments.com/422-424-lewis-ln-pacifica-ca/xdsb8yq/\n"
     ]
    },
    {
     "name": "stderr",
     "output_type": "stream",
     "text": [
      "\n",
      "\n",
      "\n",
      " 16%|█▌        | 567/3594 [05:50<21:04,  2.39it/s]\u001b[A\u001b[A\u001b[A"
     ]
    },
    {
     "name": "stdout",
     "output_type": "stream",
     "text": [
      "https://www.apartments.com/1403-1409-carlson-blvd-richmond-ca/blcch2c/\n"
     ]
    },
    {
     "name": "stderr",
     "output_type": "stream",
     "text": [
      "\n",
      "\n",
      "\n",
      " 16%|█▌        | 568/3594 [05:50<20:16,  2.49it/s]\u001b[A\u001b[A\u001b[A"
     ]
    },
    {
     "name": "stdout",
     "output_type": "stream",
     "text": [
      "https://www.apartments.com/walnut-hill-apartments-walnut-creek-ca/erww62q/\n"
     ]
    },
    {
     "name": "stderr",
     "output_type": "stream",
     "text": [
      "\n",
      "\n",
      "\n",
      " 16%|█▌        | 569/3594 [05:51<25:06,  2.01it/s]\u001b[A\u001b[A\u001b[A"
     ]
    },
    {
     "name": "stdout",
     "output_type": "stream",
     "text": [
      "https://www.apartments.com/1726-sequoia-ave-burlingame-ca/fpjl6pv/\n"
     ]
    },
    {
     "name": "stderr",
     "output_type": "stream",
     "text": [
      "\n",
      "\n",
      "\n",
      " 16%|█▌        | 570/3594 [05:52<28:19,  1.78it/s]\u001b[A\u001b[A\u001b[A"
     ]
    },
    {
     "name": "stdout",
     "output_type": "stream",
     "text": [
      "https://www.apartments.com/hutton-terrace-apartments-belmont-ca/6tvwwyt/\n"
     ]
    },
    {
     "name": "stderr",
     "output_type": "stream",
     "text": [
      "\n",
      "\n",
      "\n",
      " 16%|█▌        | 571/3594 [05:52<25:51,  1.95it/s]\u001b[A\u001b[A\u001b[A"
     ]
    },
    {
     "name": "stdout",
     "output_type": "stream",
     "text": [
      "https://www.apartments.com/1051-1055-whipple-ave-redwood-city-ca/l3r71zf/\n"
     ]
    },
    {
     "name": "stderr",
     "output_type": "stream",
     "text": [
      "\n",
      "\n",
      "\n",
      " 16%|█▌        | 572/3594 [05:52<23:38,  2.13it/s]\u001b[A\u001b[A\u001b[A"
     ]
    },
    {
     "name": "stdout",
     "output_type": "stream",
     "text": [
      "https://www.apartments.com/249-251-pamela-dr-mountain-view-ca/z4x4q7w/\n"
     ]
    },
    {
     "name": "stderr",
     "output_type": "stream",
     "text": [
      "\n",
      "\n",
      "\n",
      " 16%|█▌        | 573/3594 [05:53<22:36,  2.23it/s]\u001b[A\u001b[A\u001b[A"
     ]
    },
    {
     "name": "stdout",
     "output_type": "stream",
     "text": [
      "https://www.apartments.com/38-linden-ave-san-bruno-ca/fh8m2jv/\n"
     ]
    },
    {
     "name": "stderr",
     "output_type": "stream",
     "text": [
      "\n",
      "\n",
      "\n",
      " 16%|█▌        | 574/3594 [05:53<22:04,  2.28it/s]\u001b[A\u001b[A\u001b[A"
     ]
    },
    {
     "name": "stdout",
     "output_type": "stream",
     "text": [
      "https://www.apartments.com/941-san-anselmo-ave-s-san-bruno-ca/6qzvktr/\n"
     ]
    },
    {
     "name": "stderr",
     "output_type": "stream",
     "text": [
      "\n",
      "\n",
      "\n",
      " 16%|█▌        | 575/3594 [05:54<21:18,  2.36it/s]\u001b[A\u001b[A\u001b[A"
     ]
    },
    {
     "name": "stdout",
     "output_type": "stream",
     "text": [
      "https://www.apartments.com/1220-alameda-belmont-ca/ytjwkfr/\n"
     ]
    },
    {
     "name": "stderr",
     "output_type": "stream",
     "text": [
      "\n",
      "\n",
      "\n",
      " 16%|█▌        | 576/3594 [05:55<30:29,  1.65it/s]\u001b[A\u001b[A\u001b[A"
     ]
    },
    {
     "name": "stdout",
     "output_type": "stream",
     "text": [
      "https://www.apartments.com/701-9th-ave-redwood-city-ca/kh1htd8/\n"
     ]
    },
    {
     "name": "stderr",
     "output_type": "stream",
     "text": [
      "\n",
      "\n",
      "\n",
      " 16%|█▌        | 577/3594 [05:55<26:40,  1.89it/s]\u001b[A\u001b[A\u001b[A"
     ]
    },
    {
     "name": "stdout",
     "output_type": "stream",
     "text": [
      "https://www.apartments.com/marlin-cove-foster-city-ca/1qv39j4/\n"
     ]
    },
    {
     "name": "stderr",
     "output_type": "stream",
     "text": [
      "\n",
      "\n",
      "\n",
      " 16%|█▌        | 578/3594 [05:55<25:41,  1.96it/s]\u001b[A\u001b[A\u001b[A"
     ]
    },
    {
     "name": "stdout",
     "output_type": "stream",
     "text": [
      "https://www.apartments.com/1395-broadway-millbrae-ca/xs0rpfn/\n"
     ]
    },
    {
     "name": "stderr",
     "output_type": "stream",
     "text": [
      "\n",
      "\n",
      "\n",
      " 16%|█▌        | 579/3594 [05:56<24:28,  2.05it/s]\u001b[A\u001b[A\u001b[A"
     ]
    },
    {
     "name": "stdout",
     "output_type": "stream",
     "text": [
      "https://www.apartments.com/3524-farm-hill-blvd-redwood-city-ca-unit-6/925z7q5/\n"
     ]
    },
    {
     "name": "stderr",
     "output_type": "stream",
     "text": [
      "\n",
      "\n",
      "\n",
      " 16%|█▌        | 580/3594 [05:56<22:34,  2.23it/s]\u001b[A\u001b[A\u001b[A"
     ]
    },
    {
     "name": "stdout",
     "output_type": "stream",
     "text": [
      "https://www.apartments.com/921-newell-rd-palo-alto-ca/dzv51bh/\n"
     ]
    },
    {
     "name": "stderr",
     "output_type": "stream",
     "text": [
      "\n",
      "\n",
      "\n",
      " 16%|█▌        | 581/3594 [05:57<23:22,  2.15it/s]\u001b[A\u001b[A\u001b[A"
     ]
    },
    {
     "name": "stdout",
     "output_type": "stream",
     "text": [
      "https://www.apartments.com/cherry-blossom-apartments-sunnyvale-ca/v6n8qtd/\n"
     ]
    },
    {
     "name": "stderr",
     "output_type": "stream",
     "text": [
      "\n",
      "\n",
      "\n",
      " 16%|█▌        | 582/3594 [05:57<22:52,  2.20it/s]\u001b[A\u001b[A\u001b[A"
     ]
    },
    {
     "name": "stdout",
     "output_type": "stream",
     "text": [
      "https://www.apartments.com/3755-hoover-st-redwood-city-ca/6chzblt/\n"
     ]
    },
    {
     "name": "stderr",
     "output_type": "stream",
     "text": [
      "\n",
      "\n",
      "\n",
      " 16%|█▌        | 583/3594 [05:57<21:22,  2.35it/s]\u001b[A\u001b[A\u001b[A"
     ]
    },
    {
     "name": "stdout",
     "output_type": "stream",
     "text": [
      "https://www.apartments.com/2-terrace-ave-greenbrae-ca/jyyrp36/\n"
     ]
    },
    {
     "name": "stderr",
     "output_type": "stream",
     "text": [
      "\n",
      "\n",
      "\n",
      " 16%|█▌        | 584/3594 [05:58<20:44,  2.42it/s]\u001b[A\u001b[A\u001b[A"
     ]
    },
    {
     "name": "stdout",
     "output_type": "stream",
     "text": [
      "https://www.apartments.com/building-4-dublin-ca/6rl53nt/\n"
     ]
    },
    {
     "name": "stderr",
     "output_type": "stream",
     "text": [
      "\n",
      "\n",
      "\n",
      " 16%|█▋        | 585/3594 [05:58<21:05,  2.38it/s]\u001b[A\u001b[A\u001b[A"
     ]
    },
    {
     "name": "stdout",
     "output_type": "stream",
     "text": [
      "https://www.apartments.com/3703-sundale-rd-lafayette-ca/tnwj169/\n"
     ]
    },
    {
     "name": "stderr",
     "output_type": "stream",
     "text": [
      "\n",
      "\n",
      "\n",
      " 16%|█▋        | 586/3594 [05:59<20:38,  2.43it/s]\u001b[A\u001b[A\u001b[A"
     ]
    },
    {
     "name": "stdout",
     "output_type": "stream",
     "text": [
      "https://www.apartments.com/660-forest-ave-palo-alto-ca/5yyc4xm/\n"
     ]
    },
    {
     "name": "stderr",
     "output_type": "stream",
     "text": [
      "\n",
      "\n",
      "\n",
      " 16%|█▋        | 587/3594 [05:59<22:03,  2.27it/s]\u001b[A\u001b[A\u001b[A"
     ]
    },
    {
     "name": "stdout",
     "output_type": "stream",
     "text": [
      "https://www.apartments.com/1380-magnolia-ave-millbrae-ca/qf3edzy/\n"
     ]
    },
    {
     "name": "stderr",
     "output_type": "stream",
     "text": [
      "\n",
      "\n",
      "\n",
      " 16%|█▋        | 588/3594 [06:00<21:23,  2.34it/s]\u001b[A\u001b[A\u001b[A"
     ]
    },
    {
     "name": "stdout",
     "output_type": "stream",
     "text": [
      "https://www.apartments.com/670-sylvan-st-daly-city-ca/7m384nz/\n"
     ]
    },
    {
     "name": "stderr",
     "output_type": "stream",
     "text": [
      "\n",
      "\n",
      "\n",
      " 16%|█▋        | 589/3594 [06:00<20:49,  2.40it/s]\u001b[A\u001b[A\u001b[A"
     ]
    },
    {
     "name": "stdout",
     "output_type": "stream",
     "text": [
      "https://www.apartments.com/4-br-2-bath-house-217-del-rosa-way-san-mateo-ca/wl4lhfj/\n"
     ]
    },
    {
     "name": "stderr",
     "output_type": "stream",
     "text": [
      "\n",
      "\n",
      "\n",
      " 16%|█▋        | 590/3594 [06:01<22:28,  2.23it/s]\u001b[A\u001b[A\u001b[A"
     ]
    },
    {
     "name": "stdout",
     "output_type": "stream",
     "text": [
      "https://www.apartments.com/22-belle-ave-san-anselmo-ca/5crvghn/\n"
     ]
    },
    {
     "name": "stderr",
     "output_type": "stream",
     "text": [
      "\n",
      "\n",
      "\n",
      " 16%|█▋        | 591/3594 [06:01<21:06,  2.37it/s]\u001b[A\u001b[A\u001b[A"
     ]
    },
    {
     "name": "stdout",
     "output_type": "stream",
     "text": [
      "https://www.apartments.com/620-masonic-way-belmont-ca/vbj84ed/\n"
     ]
    },
    {
     "name": "stderr",
     "output_type": "stream",
     "text": [
      "\n",
      "\n",
      "\n",
      " 16%|█▋        | 592/3594 [06:01<20:48,  2.40it/s]\u001b[A\u001b[A\u001b[A"
     ]
    },
    {
     "name": "stdout",
     "output_type": "stream",
     "text": [
      "https://www.apartments.com/10189-viceroy-ct-cupertino-ca/ph314ft/\n"
     ]
    },
    {
     "name": "stderr",
     "output_type": "stream",
     "text": [
      "\n",
      "\n",
      "\n",
      " 16%|█▋        | 593/3594 [06:02<21:05,  2.37it/s]\u001b[A\u001b[A\u001b[A"
     ]
    },
    {
     "name": "stdout",
     "output_type": "stream",
     "text": [
      "https://www.apartments.com/825-roble-ave-menlo-park-ca/4etjrmk/\n"
     ]
    },
    {
     "name": "stderr",
     "output_type": "stream",
     "text": [
      "\n",
      "\n",
      "\n",
      " 17%|█▋        | 594/3594 [06:02<20:40,  2.42it/s]\u001b[A\u001b[A\u001b[A"
     ]
    },
    {
     "name": "stdout",
     "output_type": "stream",
     "text": [
      "https://www.apartments.com/normandy-gardens-belmont-ca/vdylfpf/\n"
     ]
    },
    {
     "name": "stderr",
     "output_type": "stream",
     "text": [
      "\n",
      "\n",
      "\n",
      " 17%|█▋        | 595/3594 [06:03<21:50,  2.29it/s]\u001b[A\u001b[A\u001b[A"
     ]
    },
    {
     "name": "stdout",
     "output_type": "stream",
     "text": [
      "https://www.apartments.com/338-elm-st-san-mateo-ca/gvjs5yw/\n"
     ]
    },
    {
     "name": "stderr",
     "output_type": "stream",
     "text": [
      "\n",
      "\n",
      "\n",
      " 17%|█▋        | 596/3594 [06:03<21:04,  2.37it/s]\u001b[A\u001b[A\u001b[A"
     ]
    },
    {
     "name": "stdout",
     "output_type": "stream",
     "text": [
      "https://www.apartments.com/526-highland-ave-san-mateo-ca/yx1twfs/\n"
     ]
    },
    {
     "name": "stderr",
     "output_type": "stream",
     "text": [
      "\n",
      "\n",
      "\n",
      " 17%|█▋        | 597/3594 [06:03<20:46,  2.40it/s]\u001b[A\u001b[A\u001b[A"
     ]
    },
    {
     "name": "stdout",
     "output_type": "stream",
     "text": [
      "https://www.apartments.com/110-constitution-dr-menlo-park-ca/z2wj52z/\n"
     ]
    },
    {
     "name": "stderr",
     "output_type": "stream",
     "text": [
      "\n",
      "\n",
      "\n",
      " 17%|█▋        | 598/3594 [06:04<19:47,  2.52it/s]\u001b[A\u001b[A\u001b[A"
     ]
    },
    {
     "name": "stdout",
     "output_type": "stream",
     "text": [
      "https://www.apartments.com/844-park-dr-mountain-view-ca/gmmffzy/\n"
     ]
    },
    {
     "name": "stderr",
     "output_type": "stream",
     "text": [
      "\n",
      "\n",
      "\n",
      " 17%|█▋        | 599/3594 [06:04<19:16,  2.59it/s]\u001b[A\u001b[A\u001b[A"
     ]
    },
    {
     "name": "stdout",
     "output_type": "stream",
     "text": [
      "https://www.apartments.com/5416-montalvo-ct-pleasanton-ca/ccpsqsf/\n"
     ]
    },
    {
     "name": "stderr",
     "output_type": "stream",
     "text": [
      "\n",
      "\n",
      "\n",
      " 17%|█▋        | 600/3594 [06:05<21:54,  2.28it/s]\u001b[A\u001b[A\u001b[A"
     ]
    },
    {
     "name": "stdout",
     "output_type": "stream",
     "text": [
      "https://www.apartments.com/780-center-blvd-fairfax-ca/176zxf6/\n"
     ]
    },
    {
     "name": "stderr",
     "output_type": "stream",
     "text": [
      "\n",
      "\n",
      "\n",
      " 17%|█▋        | 601/3594 [06:05<21:25,  2.33it/s]\u001b[A\u001b[A\u001b[A"
     ]
    },
    {
     "name": "stdout",
     "output_type": "stream",
     "text": [
      "https://www.apartments.com/200-millwood-dr-millbrae-ca/55szm7p/\n"
     ]
    },
    {
     "name": "stderr",
     "output_type": "stream",
     "text": [
      "\n",
      "\n",
      "\n",
      " 17%|█▋        | 602/3594 [06:06<22:55,  2.17it/s]\u001b[A\u001b[A\u001b[A"
     ]
    },
    {
     "name": "stdout",
     "output_type": "stream",
     "text": [
      "https://www.apartments.com/3521-fairview-dr-antioch-ca/qg0ftby/\n"
     ]
    },
    {
     "name": "stderr",
     "output_type": "stream",
     "text": [
      "\n",
      "\n",
      "\n",
      " 17%|█▋        | 603/3594 [06:06<21:06,  2.36it/s]\u001b[A\u001b[A\u001b[A"
     ]
    },
    {
     "name": "stdout",
     "output_type": "stream",
     "text": [
      "https://www.apartments.com/aventino-los-gatos-ca/8q7g963/\n"
     ]
    },
    {
     "name": "stderr",
     "output_type": "stream",
     "text": [
      "\n",
      "\n",
      "\n",
      " 17%|█▋        | 604/3594 [06:06<22:00,  2.27it/s]\u001b[A\u001b[A\u001b[A"
     ]
    },
    {
     "name": "stdout",
     "output_type": "stream",
     "text": [
      "https://www.apartments.com/sleepmode-apartments-belmont-ca/e9b980p/\n"
     ]
    },
    {
     "name": "stderr",
     "output_type": "stream",
     "text": [
      "\n",
      "\n",
      "\n",
      " 17%|█▋        | 605/3594 [06:07<21:07,  2.36it/s]\u001b[A\u001b[A\u001b[A"
     ]
    },
    {
     "name": "stdout",
     "output_type": "stream",
     "text": [
      "https://www.apartments.com/villa-collina-apartments-san-jose-ca/e5gcrgq/\n"
     ]
    },
    {
     "name": "stderr",
     "output_type": "stream",
     "text": [
      "\n",
      "\n",
      "\n",
      " 17%|█▋        | 606/3594 [06:07<20:09,  2.47it/s]\u001b[A\u001b[A\u001b[A"
     ]
    },
    {
     "name": "stdout",
     "output_type": "stream",
     "text": [
      "https://www.apartments.com/1543-california-st-mountain-view-ca/kbqbpnc/\n"
     ]
    },
    {
     "name": "stderr",
     "output_type": "stream",
     "text": [
      "\n",
      "\n",
      "\n",
      " 17%|█▋        | 607/3594 [06:08<27:48,  1.79it/s]\u001b[A\u001b[A\u001b[A"
     ]
    },
    {
     "name": "stdout",
     "output_type": "stream",
     "text": [
      "https://www.apartments.com/1575-tenaka-pl-sunnyvale-ca-unit-l5/559e80n/\n"
     ]
    },
    {
     "name": "stderr",
     "output_type": "stream",
     "text": [
      "\n",
      "\n",
      "\n",
      " 17%|█▋        | 608/3594 [06:08<25:32,  1.95it/s]\u001b[A\u001b[A\u001b[A"
     ]
    },
    {
     "name": "stdout",
     "output_type": "stream",
     "text": [
      "https://www.apartments.com/25-s-broadway-millbrae-ca/q72wnew/\n"
     ]
    },
    {
     "name": "stderr",
     "output_type": "stream",
     "text": [
      "\n",
      "\n",
      "\n",
      " 17%|█▋        | 609/3594 [06:09<23:40,  2.10it/s]\u001b[A\u001b[A\u001b[A"
     ]
    },
    {
     "name": "stdout",
     "output_type": "stream",
     "text": [
      "https://www.apartments.com/carlmont-hills-apartments-belmont-ca/pt2lpls/\n"
     ]
    },
    {
     "name": "stderr",
     "output_type": "stream",
     "text": [
      "\n",
      "\n",
      "\n",
      " 17%|█▋        | 610/3594 [06:09<22:17,  2.23it/s]\u001b[A\u001b[A\u001b[A"
     ]
    },
    {
     "name": "stdout",
     "output_type": "stream",
     "text": [
      "https://www.apartments.com/3254-3256-countryside-dr-san-mateo-ca/d6k5g0h/\n"
     ]
    },
    {
     "name": "stderr",
     "output_type": "stream",
     "text": [
      "\n",
      "\n",
      "\n",
      " 17%|█▋        | 611/3594 [06:10<22:22,  2.22it/s]\u001b[A\u001b[A\u001b[A"
     ]
    },
    {
     "name": "stdout",
     "output_type": "stream",
     "text": [
      "https://www.apartments.com/7424-rainbow-dr-cupertino-ca/dyqzgrj/\n"
     ]
    },
    {
     "name": "stderr",
     "output_type": "stream",
     "text": [
      "\n",
      "\n",
      "\n",
      " 17%|█▋        | 612/3594 [06:10<21:09,  2.35it/s]\u001b[A\u001b[A\u001b[A"
     ]
    },
    {
     "name": "stdout",
     "output_type": "stream",
     "text": [
      "https://www.apartments.com/465-esplanade-ave-pacifica-ca/nbvk7vq/\n"
     ]
    },
    {
     "name": "stderr",
     "output_type": "stream",
     "text": [
      "\n",
      "\n",
      "\n",
      " 17%|█▋        | 613/3594 [06:10<20:49,  2.39it/s]\u001b[A\u001b[A\u001b[A"
     ]
    },
    {
     "name": "stdout",
     "output_type": "stream",
     "text": [
      "https://www.apartments.com/alto-apartments-palo-alto-ca/zf3sygx/\n"
     ]
    },
    {
     "name": "stderr",
     "output_type": "stream",
     "text": [
      "\n",
      "\n",
      "\n",
      " 17%|█▋        | 614/3594 [06:11<20:11,  2.46it/s]\u001b[A\u001b[A\u001b[A"
     ]
    },
    {
     "name": "stdout",
     "output_type": "stream",
     "text": [
      "https://www.apartments.com/709-715-roble-ave-menlo-park-ca/95wnry6/\n"
     ]
    },
    {
     "name": "stderr",
     "output_type": "stream",
     "text": [
      "\n",
      "\n",
      "\n",
      " 17%|█▋        | 615/3594 [06:11<21:08,  2.35it/s]\u001b[A\u001b[A\u001b[A"
     ]
    },
    {
     "name": "stdout",
     "output_type": "stream",
     "text": [
      "https://www.apartments.com/2201-manzanita-way-antioch-ca/765ykvw/\n"
     ]
    },
    {
     "name": "stderr",
     "output_type": "stream",
     "text": [
      "\n",
      "\n",
      "\n",
      " 17%|█▋        | 616/3594 [06:12<20:53,  2.38it/s]\u001b[A\u001b[A\u001b[A"
     ]
    },
    {
     "name": "stdout",
     "output_type": "stream",
     "text": [
      "https://www.apartments.com/367-n-claremont-st-san-mateo-ca/ygr58ys/\n"
     ]
    },
    {
     "name": "stderr",
     "output_type": "stream",
     "text": [
      "\n",
      "\n",
      "\n",
      " 17%|█▋        | 617/3594 [06:12<20:45,  2.39it/s]\u001b[A\u001b[A\u001b[A"
     ]
    },
    {
     "name": "stdout",
     "output_type": "stream",
     "text": [
      "https://www.apartments.com/2818-10th-st-richmond-ca/yme8g9r/\n"
     ]
    },
    {
     "name": "stderr",
     "output_type": "stream",
     "text": [
      "\n",
      "\n",
      "\n",
      " 17%|█▋        | 618/3594 [06:13<20:20,  2.44it/s]\u001b[A\u001b[A\u001b[A"
     ]
    },
    {
     "name": "stdout",
     "output_type": "stream",
     "text": [
      "https://www.apartments.com/168-santa-clara-ave-san-bruno-ca/vv9cvrg/\n"
     ]
    },
    {
     "name": "stderr",
     "output_type": "stream",
     "text": [
      "\n",
      "\n",
      "\n",
      " 17%|█▋        | 619/3594 [06:13<20:19,  2.44it/s]\u001b[A\u001b[A\u001b[A"
     ]
    },
    {
     "name": "stdout",
     "output_type": "stream",
     "text": [
      "https://www.apartments.com/1635-sierra-st-redwood-city-ca/d45dgfk/\n"
     ]
    },
    {
     "name": "stderr",
     "output_type": "stream",
     "text": [
      "\n",
      "\n",
      "\n",
      " 17%|█▋        | 620/3594 [06:13<19:31,  2.54it/s]\u001b[A\u001b[A\u001b[A"
     ]
    },
    {
     "name": "stdout",
     "output_type": "stream",
     "text": [
      "https://www.apartments.com/55-n-el-camino-real-san-mateo-ca/z1bzn9y/\n"
     ]
    },
    {
     "name": "stderr",
     "output_type": "stream",
     "text": [
      "\n",
      "\n",
      "\n",
      " 17%|█▋        | 621/3594 [06:14<19:44,  2.51it/s]\u001b[A\u001b[A\u001b[A"
     ]
    },
    {
     "name": "stdout",
     "output_type": "stream",
     "text": [
      "https://www.apartments.com/1580-hollenbeck-ave-morgan-hill-ca/0dfhfb2/\n"
     ]
    },
    {
     "name": "stderr",
     "output_type": "stream",
     "text": [
      "\n",
      "\n",
      "\n",
      " 17%|█▋        | 622/3594 [06:14<19:37,  2.52it/s]\u001b[A\u001b[A\u001b[A"
     ]
    },
    {
     "name": "stdout",
     "output_type": "stream",
     "text": [
      "https://www.apartments.com/228-madrone-st-redwood-city-ca/ev7qdvq/\n"
     ]
    },
    {
     "name": "stderr",
     "output_type": "stream",
     "text": [
      "\n",
      "\n",
      "\n",
      " 17%|█▋        | 623/3594 [06:14<19:02,  2.60it/s]\u001b[A\u001b[A\u001b[A"
     ]
    },
    {
     "name": "stdout",
     "output_type": "stream",
     "text": [
      "https://www.apartments.com/the-biltmore-apartments-cupertino-ca/eslmqqn/\n"
     ]
    },
    {
     "name": "stderr",
     "output_type": "stream",
     "text": [
      "\n",
      "\n",
      "\n",
      " 17%|█▋        | 624/3594 [06:18<1:11:17,  1.44s/it]\u001b[A\u001b[A\u001b[A"
     ]
    },
    {
     "name": "stdout",
     "output_type": "stream",
     "text": [
      "https://www.apartments.com/3760-peacock-ct-santa-clara-ca/9veh4e5/\n"
     ]
    },
    {
     "name": "stderr",
     "output_type": "stream",
     "text": [
      "\n",
      "\n",
      "\n",
      " 17%|█▋        | 625/3594 [06:19<55:29,  1.12s/it]  \u001b[A\u001b[A\u001b[A"
     ]
    },
    {
     "name": "stdout",
     "output_type": "stream",
     "text": [
      "https://www.apartments.com/5400-highland-ave-richmond-ca/kjp3068/\n"
     ]
    },
    {
     "ename": "ConnectionError",
     "evalue": "HTTPSConnectionPool(host='www.apartments.com', port=443): Max retries exceeded with url: /5400-highland-ave-richmond-ca/kjp3068/ (Caused by NewConnectionError('<urllib3.connection.VerifiedHTTPSConnection object at 0x1f06c4d30>: Failed to establish a new connection: [Errno 60] Operation timed out'))",
     "output_type": "error",
     "traceback": [
      "\u001b[0;31m---------------------------------------------------------------------------\u001b[0m",
      "\u001b[0;31mTimeoutError\u001b[0m                              Traceback (most recent call last)",
      "\u001b[0;32m~/anaconda3/lib/python3.7/site-packages/urllib3/connection.py\u001b[0m in \u001b[0;36m_new_conn\u001b[0;34m(self)\u001b[0m\n\u001b[1;32m    158\u001b[0m             conn = connection.create_connection(\n\u001b[0;32m--> 159\u001b[0;31m                 (self._dns_host, self.port), self.timeout, **extra_kw)\n\u001b[0m\u001b[1;32m    160\u001b[0m \u001b[0;34m\u001b[0m\u001b[0m\n",
      "\u001b[0;32m~/anaconda3/lib/python3.7/site-packages/urllib3/util/connection.py\u001b[0m in \u001b[0;36mcreate_connection\u001b[0;34m(address, timeout, source_address, socket_options)\u001b[0m\n\u001b[1;32m     79\u001b[0m     \u001b[0;32mif\u001b[0m \u001b[0merr\u001b[0m \u001b[0;32mis\u001b[0m \u001b[0;32mnot\u001b[0m \u001b[0;32mNone\u001b[0m\u001b[0;34m:\u001b[0m\u001b[0;34m\u001b[0m\u001b[0;34m\u001b[0m\u001b[0m\n\u001b[0;32m---> 80\u001b[0;31m         \u001b[0;32mraise\u001b[0m \u001b[0merr\u001b[0m\u001b[0;34m\u001b[0m\u001b[0;34m\u001b[0m\u001b[0m\n\u001b[0m\u001b[1;32m     81\u001b[0m \u001b[0;34m\u001b[0m\u001b[0m\n",
      "\u001b[0;32m~/anaconda3/lib/python3.7/site-packages/urllib3/util/connection.py\u001b[0m in \u001b[0;36mcreate_connection\u001b[0;34m(address, timeout, source_address, socket_options)\u001b[0m\n\u001b[1;32m     69\u001b[0m                 \u001b[0msock\u001b[0m\u001b[0;34m.\u001b[0m\u001b[0mbind\u001b[0m\u001b[0;34m(\u001b[0m\u001b[0msource_address\u001b[0m\u001b[0;34m)\u001b[0m\u001b[0;34m\u001b[0m\u001b[0;34m\u001b[0m\u001b[0m\n\u001b[0;32m---> 70\u001b[0;31m             \u001b[0msock\u001b[0m\u001b[0;34m.\u001b[0m\u001b[0mconnect\u001b[0m\u001b[0;34m(\u001b[0m\u001b[0msa\u001b[0m\u001b[0;34m)\u001b[0m\u001b[0;34m\u001b[0m\u001b[0;34m\u001b[0m\u001b[0m\n\u001b[0m\u001b[1;32m     71\u001b[0m             \u001b[0;32mreturn\u001b[0m \u001b[0msock\u001b[0m\u001b[0;34m\u001b[0m\u001b[0;34m\u001b[0m\u001b[0m\n",
      "\u001b[0;31mTimeoutError\u001b[0m: [Errno 60] Operation timed out",
      "\nDuring handling of the above exception, another exception occurred:\n",
      "\u001b[0;31mNewConnectionError\u001b[0m                        Traceback (most recent call last)",
      "\u001b[0;32m~/anaconda3/lib/python3.7/site-packages/urllib3/connectionpool.py\u001b[0m in \u001b[0;36murlopen\u001b[0;34m(self, method, url, body, headers, retries, redirect, assert_same_host, timeout, pool_timeout, release_conn, chunked, body_pos, **response_kw)\u001b[0m\n\u001b[1;32m    599\u001b[0m                                                   \u001b[0mbody\u001b[0m\u001b[0;34m=\u001b[0m\u001b[0mbody\u001b[0m\u001b[0;34m,\u001b[0m \u001b[0mheaders\u001b[0m\u001b[0;34m=\u001b[0m\u001b[0mheaders\u001b[0m\u001b[0;34m,\u001b[0m\u001b[0;34m\u001b[0m\u001b[0;34m\u001b[0m\u001b[0m\n\u001b[0;32m--> 600\u001b[0;31m                                                   chunked=chunked)\n\u001b[0m\u001b[1;32m    601\u001b[0m \u001b[0;34m\u001b[0m\u001b[0m\n",
      "\u001b[0;32m~/anaconda3/lib/python3.7/site-packages/urllib3/connectionpool.py\u001b[0m in \u001b[0;36m_make_request\u001b[0;34m(self, conn, method, url, timeout, chunked, **httplib_request_kw)\u001b[0m\n\u001b[1;32m    342\u001b[0m         \u001b[0;32mtry\u001b[0m\u001b[0;34m:\u001b[0m\u001b[0;34m\u001b[0m\u001b[0;34m\u001b[0m\u001b[0m\n\u001b[0;32m--> 343\u001b[0;31m             \u001b[0mself\u001b[0m\u001b[0;34m.\u001b[0m\u001b[0m_validate_conn\u001b[0m\u001b[0;34m(\u001b[0m\u001b[0mconn\u001b[0m\u001b[0;34m)\u001b[0m\u001b[0;34m\u001b[0m\u001b[0;34m\u001b[0m\u001b[0m\n\u001b[0m\u001b[1;32m    344\u001b[0m         \u001b[0;32mexcept\u001b[0m \u001b[0;34m(\u001b[0m\u001b[0mSocketTimeout\u001b[0m\u001b[0;34m,\u001b[0m \u001b[0mBaseSSLError\u001b[0m\u001b[0;34m)\u001b[0m \u001b[0;32mas\u001b[0m \u001b[0me\u001b[0m\u001b[0;34m:\u001b[0m\u001b[0;34m\u001b[0m\u001b[0;34m\u001b[0m\u001b[0m\n",
      "\u001b[0;32m~/anaconda3/lib/python3.7/site-packages/urllib3/connectionpool.py\u001b[0m in \u001b[0;36m_validate_conn\u001b[0;34m(self, conn)\u001b[0m\n\u001b[1;32m    838\u001b[0m         \u001b[0;32mif\u001b[0m \u001b[0;32mnot\u001b[0m \u001b[0mgetattr\u001b[0m\u001b[0;34m(\u001b[0m\u001b[0mconn\u001b[0m\u001b[0;34m,\u001b[0m \u001b[0;34m'sock'\u001b[0m\u001b[0;34m,\u001b[0m \u001b[0;32mNone\u001b[0m\u001b[0;34m)\u001b[0m\u001b[0;34m:\u001b[0m  \u001b[0;31m# AppEngine might not have  `.sock`\u001b[0m\u001b[0;34m\u001b[0m\u001b[0;34m\u001b[0m\u001b[0m\n\u001b[0;32m--> 839\u001b[0;31m             \u001b[0mconn\u001b[0m\u001b[0;34m.\u001b[0m\u001b[0mconnect\u001b[0m\u001b[0;34m(\u001b[0m\u001b[0;34m)\u001b[0m\u001b[0;34m\u001b[0m\u001b[0;34m\u001b[0m\u001b[0m\n\u001b[0m\u001b[1;32m    840\u001b[0m \u001b[0;34m\u001b[0m\u001b[0m\n",
      "\u001b[0;32m~/anaconda3/lib/python3.7/site-packages/urllib3/connection.py\u001b[0m in \u001b[0;36mconnect\u001b[0;34m(self)\u001b[0m\n\u001b[1;32m    300\u001b[0m         \u001b[0;31m# Add certificate verification\u001b[0m\u001b[0;34m\u001b[0m\u001b[0;34m\u001b[0m\u001b[0;34m\u001b[0m\u001b[0m\n\u001b[0;32m--> 301\u001b[0;31m         \u001b[0mconn\u001b[0m \u001b[0;34m=\u001b[0m \u001b[0mself\u001b[0m\u001b[0;34m.\u001b[0m\u001b[0m_new_conn\u001b[0m\u001b[0;34m(\u001b[0m\u001b[0;34m)\u001b[0m\u001b[0;34m\u001b[0m\u001b[0;34m\u001b[0m\u001b[0m\n\u001b[0m\u001b[1;32m    302\u001b[0m         \u001b[0mhostname\u001b[0m \u001b[0;34m=\u001b[0m \u001b[0mself\u001b[0m\u001b[0;34m.\u001b[0m\u001b[0mhost\u001b[0m\u001b[0;34m\u001b[0m\u001b[0;34m\u001b[0m\u001b[0m\n",
      "\u001b[0;32m~/anaconda3/lib/python3.7/site-packages/urllib3/connection.py\u001b[0m in \u001b[0;36m_new_conn\u001b[0;34m(self)\u001b[0m\n\u001b[1;32m    167\u001b[0m             raise NewConnectionError(\n\u001b[0;32m--> 168\u001b[0;31m                 self, \"Failed to establish a new connection: %s\" % e)\n\u001b[0m\u001b[1;32m    169\u001b[0m \u001b[0;34m\u001b[0m\u001b[0m\n",
      "\u001b[0;31mNewConnectionError\u001b[0m: <urllib3.connection.VerifiedHTTPSConnection object at 0x1f06c4d30>: Failed to establish a new connection: [Errno 60] Operation timed out",
      "\nDuring handling of the above exception, another exception occurred:\n",
      "\u001b[0;31mMaxRetryError\u001b[0m                             Traceback (most recent call last)",
      "\u001b[0;32m~/anaconda3/lib/python3.7/site-packages/requests/adapters.py\u001b[0m in \u001b[0;36msend\u001b[0;34m(self, request, stream, timeout, verify, cert, proxies)\u001b[0m\n\u001b[1;32m    448\u001b[0m                     \u001b[0mretries\u001b[0m\u001b[0;34m=\u001b[0m\u001b[0mself\u001b[0m\u001b[0;34m.\u001b[0m\u001b[0mmax_retries\u001b[0m\u001b[0;34m,\u001b[0m\u001b[0;34m\u001b[0m\u001b[0;34m\u001b[0m\u001b[0m\n\u001b[0;32m--> 449\u001b[0;31m                     \u001b[0mtimeout\u001b[0m\u001b[0;34m=\u001b[0m\u001b[0mtimeout\u001b[0m\u001b[0;34m\u001b[0m\u001b[0;34m\u001b[0m\u001b[0m\n\u001b[0m\u001b[1;32m    450\u001b[0m                 )\n",
      "\u001b[0;32m~/anaconda3/lib/python3.7/site-packages/urllib3/connectionpool.py\u001b[0m in \u001b[0;36murlopen\u001b[0;34m(self, method, url, body, headers, retries, redirect, assert_same_host, timeout, pool_timeout, release_conn, chunked, body_pos, **response_kw)\u001b[0m\n\u001b[1;32m    637\u001b[0m             retries = retries.increment(method, url, error=e, _pool=self,\n\u001b[0;32m--> 638\u001b[0;31m                                         _stacktrace=sys.exc_info()[2])\n\u001b[0m\u001b[1;32m    639\u001b[0m             \u001b[0mretries\u001b[0m\u001b[0;34m.\u001b[0m\u001b[0msleep\u001b[0m\u001b[0;34m(\u001b[0m\u001b[0;34m)\u001b[0m\u001b[0;34m\u001b[0m\u001b[0;34m\u001b[0m\u001b[0m\n",
      "\u001b[0;32m~/anaconda3/lib/python3.7/site-packages/urllib3/util/retry.py\u001b[0m in \u001b[0;36mincrement\u001b[0;34m(self, method, url, response, error, _pool, _stacktrace)\u001b[0m\n\u001b[1;32m    398\u001b[0m         \u001b[0;32mif\u001b[0m \u001b[0mnew_retry\u001b[0m\u001b[0;34m.\u001b[0m\u001b[0mis_exhausted\u001b[0m\u001b[0;34m(\u001b[0m\u001b[0;34m)\u001b[0m\u001b[0;34m:\u001b[0m\u001b[0;34m\u001b[0m\u001b[0;34m\u001b[0m\u001b[0m\n\u001b[0;32m--> 399\u001b[0;31m             \u001b[0;32mraise\u001b[0m \u001b[0mMaxRetryError\u001b[0m\u001b[0;34m(\u001b[0m\u001b[0m_pool\u001b[0m\u001b[0;34m,\u001b[0m \u001b[0murl\u001b[0m\u001b[0;34m,\u001b[0m \u001b[0merror\u001b[0m \u001b[0;32mor\u001b[0m \u001b[0mResponseError\u001b[0m\u001b[0;34m(\u001b[0m\u001b[0mcause\u001b[0m\u001b[0;34m)\u001b[0m\u001b[0;34m)\u001b[0m\u001b[0;34m\u001b[0m\u001b[0;34m\u001b[0m\u001b[0m\n\u001b[0m\u001b[1;32m    400\u001b[0m \u001b[0;34m\u001b[0m\u001b[0m\n",
      "\u001b[0;31mMaxRetryError\u001b[0m: HTTPSConnectionPool(host='www.apartments.com', port=443): Max retries exceeded with url: /5400-highland-ave-richmond-ca/kjp3068/ (Caused by NewConnectionError('<urllib3.connection.VerifiedHTTPSConnection object at 0x1f06c4d30>: Failed to establish a new connection: [Errno 60] Operation timed out'))",
      "\nDuring handling of the above exception, another exception occurred:\n",
      "\u001b[0;31mConnectionError\u001b[0m                           Traceback (most recent call last)",
      "\u001b[0;32m<ipython-input-394-a2ddb09506e1>\u001b[0m in \u001b[0;36m<module>\u001b[0;34m\u001b[0m\n\u001b[1;32m      1\u001b[0m \u001b[0;32mfor\u001b[0m \u001b[0mlink\u001b[0m \u001b[0;32min\u001b[0m \u001b[0mtqdm\u001b[0m\u001b[0;34m(\u001b[0m\u001b[0mappt_links\u001b[0m\u001b[0;34m[\u001b[0m\u001b[0;36m2249\u001b[0m\u001b[0;34m:\u001b[0m\u001b[0;34m]\u001b[0m\u001b[0;34m)\u001b[0m\u001b[0;34m:\u001b[0m\u001b[0;34m\u001b[0m\u001b[0;34m\u001b[0m\u001b[0m\n\u001b[1;32m      2\u001b[0m     \u001b[0mprint\u001b[0m\u001b[0;34m(\u001b[0m\u001b[0mlink\u001b[0m\u001b[0;34m)\u001b[0m\u001b[0;34m\u001b[0m\u001b[0;34m\u001b[0m\u001b[0m\n\u001b[0;32m----> 3\u001b[0;31m     \u001b[0mresult\u001b[0m \u001b[0;34m=\u001b[0m \u001b[0mscrap_appartment\u001b[0m\u001b[0;34m(\u001b[0m\u001b[0mlink\u001b[0m\u001b[0;34m)\u001b[0m\u001b[0;34m\u001b[0m\u001b[0;34m\u001b[0m\u001b[0m\n\u001b[0m\u001b[1;32m      4\u001b[0m     \u001b[0;32mif\u001b[0m \u001b[0;34m(\u001b[0m\u001b[0mresult\u001b[0m\u001b[0;34m)\u001b[0m\u001b[0;34m:\u001b[0m\u001b[0;34m\u001b[0m\u001b[0;34m\u001b[0m\u001b[0m\n\u001b[1;32m      5\u001b[0m         \u001b[0mglobal_listings\u001b[0m \u001b[0;34m=\u001b[0m \u001b[0mglobal_listings\u001b[0m \u001b[0;34m+\u001b[0m \u001b[0mresult\u001b[0m\u001b[0;34m\u001b[0m\u001b[0;34m\u001b[0m\u001b[0m\n",
      "\u001b[0;32m<ipython-input-393-8052cedc7a9e>\u001b[0m in \u001b[0;36mscrap_appartment\u001b[0;34m(url)\u001b[0m\n\u001b[1;32m      1\u001b[0m \u001b[0;32mdef\u001b[0m \u001b[0mscrap_appartment\u001b[0m\u001b[0;34m(\u001b[0m\u001b[0murl\u001b[0m\u001b[0;34m)\u001b[0m\u001b[0;34m:\u001b[0m\u001b[0;34m\u001b[0m\u001b[0;34m\u001b[0m\u001b[0m\n\u001b[0;32m----> 2\u001b[0;31m     \u001b[0mresponse\u001b[0m \u001b[0;34m=\u001b[0m \u001b[0mrequests\u001b[0m\u001b[0;34m.\u001b[0m\u001b[0mget\u001b[0m\u001b[0;34m(\u001b[0m\u001b[0murl\u001b[0m\u001b[0;34m,\u001b[0m \u001b[0mheaders\u001b[0m\u001b[0;34m=\u001b[0m\u001b[0;34m{\u001b[0m\u001b[0;34m'User-Agent'\u001b[0m\u001b[0;34m:\u001b[0m \u001b[0mUserAgent\u001b[0m\u001b[0;34m(\u001b[0m\u001b[0;34m)\u001b[0m\u001b[0;34m.\u001b[0m\u001b[0mchrome\u001b[0m\u001b[0;34m}\u001b[0m\u001b[0;34m)\u001b[0m\u001b[0;34m\u001b[0m\u001b[0;34m\u001b[0m\u001b[0m\n\u001b[0m\u001b[1;32m      3\u001b[0m     \u001b[0msoup\u001b[0m \u001b[0;34m=\u001b[0m \u001b[0mBeautifulSoup\u001b[0m\u001b[0;34m(\u001b[0m\u001b[0mresponse\u001b[0m\u001b[0;34m.\u001b[0m\u001b[0mcontent\u001b[0m\u001b[0;34m,\u001b[0m \u001b[0;34m'html.parser'\u001b[0m\u001b[0;34m)\u001b[0m\u001b[0;34m\u001b[0m\u001b[0;34m\u001b[0m\u001b[0m\n\u001b[1;32m      4\u001b[0m     \u001b[0mnotAvailable\u001b[0m \u001b[0;34m=\u001b[0m \u001b[0msoup\u001b[0m\u001b[0;34m.\u001b[0m\u001b[0mfind\u001b[0m\u001b[0;34m(\u001b[0m\u001b[0;34m'span'\u001b[0m\u001b[0;34m,\u001b[0m \u001b[0mattrs\u001b[0m\u001b[0;34m=\u001b[0m\u001b[0;34m{\u001b[0m\u001b[0;34m'class'\u001b[0m\u001b[0;34m:\u001b[0m \u001b[0;34m'noAvailability'\u001b[0m\u001b[0;34m}\u001b[0m\u001b[0;34m)\u001b[0m\u001b[0;34m\u001b[0m\u001b[0;34m\u001b[0m\u001b[0m\n\u001b[1;32m      5\u001b[0m     \u001b[0;32mif\u001b[0m \u001b[0;34m(\u001b[0m\u001b[0mnotAvailable\u001b[0m\u001b[0;34m)\u001b[0m\u001b[0;34m:\u001b[0m\u001b[0;34m\u001b[0m\u001b[0;34m\u001b[0m\u001b[0m\n",
      "\u001b[0;32m~/anaconda3/lib/python3.7/site-packages/requests/api.py\u001b[0m in \u001b[0;36mget\u001b[0;34m(url, params, **kwargs)\u001b[0m\n\u001b[1;32m     73\u001b[0m \u001b[0;34m\u001b[0m\u001b[0m\n\u001b[1;32m     74\u001b[0m     \u001b[0mkwargs\u001b[0m\u001b[0;34m.\u001b[0m\u001b[0msetdefault\u001b[0m\u001b[0;34m(\u001b[0m\u001b[0;34m'allow_redirects'\u001b[0m\u001b[0;34m,\u001b[0m \u001b[0;32mTrue\u001b[0m\u001b[0;34m)\u001b[0m\u001b[0;34m\u001b[0m\u001b[0;34m\u001b[0m\u001b[0m\n\u001b[0;32m---> 75\u001b[0;31m     \u001b[0;32mreturn\u001b[0m \u001b[0mrequest\u001b[0m\u001b[0;34m(\u001b[0m\u001b[0;34m'get'\u001b[0m\u001b[0;34m,\u001b[0m \u001b[0murl\u001b[0m\u001b[0;34m,\u001b[0m \u001b[0mparams\u001b[0m\u001b[0;34m=\u001b[0m\u001b[0mparams\u001b[0m\u001b[0;34m,\u001b[0m \u001b[0;34m**\u001b[0m\u001b[0mkwargs\u001b[0m\u001b[0;34m)\u001b[0m\u001b[0;34m\u001b[0m\u001b[0;34m\u001b[0m\u001b[0m\n\u001b[0m\u001b[1;32m     76\u001b[0m \u001b[0;34m\u001b[0m\u001b[0m\n\u001b[1;32m     77\u001b[0m \u001b[0;34m\u001b[0m\u001b[0m\n",
      "\u001b[0;32m~/anaconda3/lib/python3.7/site-packages/requests/api.py\u001b[0m in \u001b[0;36mrequest\u001b[0;34m(method, url, **kwargs)\u001b[0m\n\u001b[1;32m     58\u001b[0m     \u001b[0;31m# cases, and look like a memory leak in others.\u001b[0m\u001b[0;34m\u001b[0m\u001b[0;34m\u001b[0m\u001b[0;34m\u001b[0m\u001b[0m\n\u001b[1;32m     59\u001b[0m     \u001b[0;32mwith\u001b[0m \u001b[0msessions\u001b[0m\u001b[0;34m.\u001b[0m\u001b[0mSession\u001b[0m\u001b[0;34m(\u001b[0m\u001b[0;34m)\u001b[0m \u001b[0;32mas\u001b[0m \u001b[0msession\u001b[0m\u001b[0;34m:\u001b[0m\u001b[0;34m\u001b[0m\u001b[0;34m\u001b[0m\u001b[0m\n\u001b[0;32m---> 60\u001b[0;31m         \u001b[0;32mreturn\u001b[0m \u001b[0msession\u001b[0m\u001b[0;34m.\u001b[0m\u001b[0mrequest\u001b[0m\u001b[0;34m(\u001b[0m\u001b[0mmethod\u001b[0m\u001b[0;34m=\u001b[0m\u001b[0mmethod\u001b[0m\u001b[0;34m,\u001b[0m \u001b[0murl\u001b[0m\u001b[0;34m=\u001b[0m\u001b[0murl\u001b[0m\u001b[0;34m,\u001b[0m \u001b[0;34m**\u001b[0m\u001b[0mkwargs\u001b[0m\u001b[0;34m)\u001b[0m\u001b[0;34m\u001b[0m\u001b[0;34m\u001b[0m\u001b[0m\n\u001b[0m\u001b[1;32m     61\u001b[0m \u001b[0;34m\u001b[0m\u001b[0m\n\u001b[1;32m     62\u001b[0m \u001b[0;34m\u001b[0m\u001b[0m\n",
      "\u001b[0;32m~/anaconda3/lib/python3.7/site-packages/requests/sessions.py\u001b[0m in \u001b[0;36mrequest\u001b[0;34m(self, method, url, params, data, headers, cookies, files, auth, timeout, allow_redirects, proxies, hooks, stream, verify, cert, json)\u001b[0m\n\u001b[1;32m    531\u001b[0m         }\n\u001b[1;32m    532\u001b[0m         \u001b[0msend_kwargs\u001b[0m\u001b[0;34m.\u001b[0m\u001b[0mupdate\u001b[0m\u001b[0;34m(\u001b[0m\u001b[0msettings\u001b[0m\u001b[0;34m)\u001b[0m\u001b[0;34m\u001b[0m\u001b[0;34m\u001b[0m\u001b[0m\n\u001b[0;32m--> 533\u001b[0;31m         \u001b[0mresp\u001b[0m \u001b[0;34m=\u001b[0m \u001b[0mself\u001b[0m\u001b[0;34m.\u001b[0m\u001b[0msend\u001b[0m\u001b[0;34m(\u001b[0m\u001b[0mprep\u001b[0m\u001b[0;34m,\u001b[0m \u001b[0;34m**\u001b[0m\u001b[0msend_kwargs\u001b[0m\u001b[0;34m)\u001b[0m\u001b[0;34m\u001b[0m\u001b[0;34m\u001b[0m\u001b[0m\n\u001b[0m\u001b[1;32m    534\u001b[0m \u001b[0;34m\u001b[0m\u001b[0m\n\u001b[1;32m    535\u001b[0m         \u001b[0;32mreturn\u001b[0m \u001b[0mresp\u001b[0m\u001b[0;34m\u001b[0m\u001b[0;34m\u001b[0m\u001b[0m\n",
      "\u001b[0;32m~/anaconda3/lib/python3.7/site-packages/requests/sessions.py\u001b[0m in \u001b[0;36msend\u001b[0;34m(self, request, **kwargs)\u001b[0m\n\u001b[1;32m    644\u001b[0m \u001b[0;34m\u001b[0m\u001b[0m\n\u001b[1;32m    645\u001b[0m         \u001b[0;31m# Send the request\u001b[0m\u001b[0;34m\u001b[0m\u001b[0;34m\u001b[0m\u001b[0;34m\u001b[0m\u001b[0m\n\u001b[0;32m--> 646\u001b[0;31m         \u001b[0mr\u001b[0m \u001b[0;34m=\u001b[0m \u001b[0madapter\u001b[0m\u001b[0;34m.\u001b[0m\u001b[0msend\u001b[0m\u001b[0;34m(\u001b[0m\u001b[0mrequest\u001b[0m\u001b[0;34m,\u001b[0m \u001b[0;34m**\u001b[0m\u001b[0mkwargs\u001b[0m\u001b[0;34m)\u001b[0m\u001b[0;34m\u001b[0m\u001b[0;34m\u001b[0m\u001b[0m\n\u001b[0m\u001b[1;32m    647\u001b[0m \u001b[0;34m\u001b[0m\u001b[0m\n\u001b[1;32m    648\u001b[0m         \u001b[0;31m# Total elapsed time of the request (approximately)\u001b[0m\u001b[0;34m\u001b[0m\u001b[0;34m\u001b[0m\u001b[0;34m\u001b[0m\u001b[0m\n",
      "\u001b[0;32m~/anaconda3/lib/python3.7/site-packages/requests/adapters.py\u001b[0m in \u001b[0;36msend\u001b[0;34m(self, request, stream, timeout, verify, cert, proxies)\u001b[0m\n\u001b[1;32m    514\u001b[0m                 \u001b[0;32mraise\u001b[0m \u001b[0mSSLError\u001b[0m\u001b[0;34m(\u001b[0m\u001b[0me\u001b[0m\u001b[0;34m,\u001b[0m \u001b[0mrequest\u001b[0m\u001b[0;34m=\u001b[0m\u001b[0mrequest\u001b[0m\u001b[0;34m)\u001b[0m\u001b[0;34m\u001b[0m\u001b[0;34m\u001b[0m\u001b[0m\n\u001b[1;32m    515\u001b[0m \u001b[0;34m\u001b[0m\u001b[0m\n\u001b[0;32m--> 516\u001b[0;31m             \u001b[0;32mraise\u001b[0m \u001b[0mConnectionError\u001b[0m\u001b[0;34m(\u001b[0m\u001b[0me\u001b[0m\u001b[0;34m,\u001b[0m \u001b[0mrequest\u001b[0m\u001b[0;34m=\u001b[0m\u001b[0mrequest\u001b[0m\u001b[0;34m)\u001b[0m\u001b[0;34m\u001b[0m\u001b[0;34m\u001b[0m\u001b[0m\n\u001b[0m\u001b[1;32m    517\u001b[0m \u001b[0;34m\u001b[0m\u001b[0m\n\u001b[1;32m    518\u001b[0m         \u001b[0;32mexcept\u001b[0m \u001b[0mClosedPoolError\u001b[0m \u001b[0;32mas\u001b[0m \u001b[0me\u001b[0m\u001b[0;34m:\u001b[0m\u001b[0;34m\u001b[0m\u001b[0;34m\u001b[0m\u001b[0m\n",
      "\u001b[0;31mConnectionError\u001b[0m: HTTPSConnectionPool(host='www.apartments.com', port=443): Max retries exceeded with url: /5400-highland-ave-richmond-ca/kjp3068/ (Caused by NewConnectionError('<urllib3.connection.VerifiedHTTPSConnection object at 0x1f06c4d30>: Failed to establish a new connection: [Errno 60] Operation timed out'))"
     ]
    }
   ],
   "source": [
    "for link in tqdm(appt_links):\n",
    "    print(link)\n",
    "    result = scrap_appartment(link)\n",
    "    if (result):\n",
    "        global_listings = global_listings + result\n",
    "    else:\n",
    "        continue\n",
    "    "
   ]
  },
  {
   "cell_type": "code",
   "execution_count": 395,
   "metadata": {},
   "outputs": [],
   "source": [
    "final_df = pd.DataFrame.from_dict(global_listings, orient='columns')"
   ]
  },
  {
   "cell_type": "code",
   "execution_count": 396,
   "metadata": {},
   "outputs": [
    {
     "name": "stdout",
     "output_type": "stream",
     "text": [
      "(7296, 15)\n"
     ]
    },
    {
     "data": {
      "text/html": [
       "<div>\n",
       "<style scoped>\n",
       "    .dataframe tbody tr th:only-of-type {\n",
       "        vertical-align: middle;\n",
       "    }\n",
       "\n",
       "    .dataframe tbody tr th {\n",
       "        vertical-align: top;\n",
       "    }\n",
       "\n",
       "    .dataframe thead th {\n",
       "        text-align: right;\n",
       "    }\n",
       "</style>\n",
       "<table border=\"1\" class=\"dataframe\">\n",
       "  <thead>\n",
       "    <tr style=\"text-align: right;\">\n",
       "      <th></th>\n",
       "      <th>baths</th>\n",
       "      <th>beds</th>\n",
       "      <th>city</th>\n",
       "      <th>deposit</th>\n",
       "      <th>description</th>\n",
       "      <th>hood</th>\n",
       "      <th>name</th>\n",
       "      <th>price</th>\n",
       "      <th>propertyType</th>\n",
       "      <th>schoolZone</th>\n",
       "      <th>sqft</th>\n",
       "      <th>transitScore</th>\n",
       "      <th>url</th>\n",
       "      <th>walk_score</th>\n",
       "      <th>zip</th>\n",
       "    </tr>\n",
       "  </thead>\n",
       "  <tbody>\n",
       "    <tr>\n",
       "      <th>0</th>\n",
       "      <td>3</td>\n",
       "      <td>3</td>\n",
       "      <td>Palo Alto</td>\n",
       "      <td>0</td>\n",
       "      <td>(650) 847-3800 - Luxury 3 bed condo in downtow...</td>\n",
       "      <td>Downtown Palo Alto</td>\n",
       "      <td>3 br, 3 bath House - 559 Lytton Ave</td>\n",
       "      <td>7500</td>\n",
       "      <td>Houses</td>\n",
       "      <td>Palo Alto Unified School District</td>\n",
       "      <td>1339</td>\n",
       "      <td>53</td>\n",
       "      <td>https://www.apartments.com/3-br-3-bath-house-5...</td>\n",
       "      <td>91</td>\n",
       "      <td>94301</td>\n",
       "    </tr>\n",
       "    <tr>\n",
       "      <th>1</th>\n",
       "      <td>2</td>\n",
       "      <td>3</td>\n",
       "      <td>Sunnyvale</td>\n",
       "      <td>0</td>\n",
       "      <td>(408) 917-0430 - Take advantage and apply for ...</td>\n",
       "      <td>Lakewood</td>\n",
       "      <td>3 br, 2 bath House - 1217 Pecos Way -</td>\n",
       "      <td>3949</td>\n",
       "      <td>Houses</td>\n",
       "      <td>Sunnyvale School District</td>\n",
       "      <td>1108</td>\n",
       "      <td>48</td>\n",
       "      <td>https://www.apartments.com/3-br-2-bath-house-1...</td>\n",
       "      <td>59</td>\n",
       "      <td>94089</td>\n",
       "    </tr>\n",
       "    <tr>\n",
       "      <th>2</th>\n",
       "      <td>3</td>\n",
       "      <td>4</td>\n",
       "      <td>Walnut Creek</td>\n",
       "      <td>0</td>\n",
       "      <td>(925) 979-5550 - Well Located - 2-story - Waln...</td>\n",
       "      <td>Huston Heights</td>\n",
       "      <td>1680 Holland Dr</td>\n",
       "      <td>4200</td>\n",
       "      <td>Home</td>\n",
       "      <td></td>\n",
       "      <td>2800</td>\n",
       "      <td>0</td>\n",
       "      <td>https://www.apartments.com/1680-holland-dr-wal...</td>\n",
       "      <td>49</td>\n",
       "      <td>94597</td>\n",
       "    </tr>\n",
       "    <tr>\n",
       "      <th>3</th>\n",
       "      <td>3</td>\n",
       "      <td>2</td>\n",
       "      <td>Piedmont</td>\n",
       "      <td>0</td>\n",
       "      <td>(925) 494-0370 - Hartz Property Management Pre...</td>\n",
       "      <td>Northeast Oakland Hills</td>\n",
       "      <td>2 br, 3 bath House - 140 Highland Avenue</td>\n",
       "      <td>4500</td>\n",
       "      <td>Houses</td>\n",
       "      <td>Piedmont City Unified School District</td>\n",
       "      <td>1529</td>\n",
       "      <td>38</td>\n",
       "      <td>https://www.apartments.com/2-br-3-bath-house-1...</td>\n",
       "      <td>55</td>\n",
       "      <td>94611</td>\n",
       "    </tr>\n",
       "    <tr>\n",
       "      <th>4</th>\n",
       "      <td>1</td>\n",
       "      <td>2</td>\n",
       "      <td>San Bruno</td>\n",
       "      <td>0</td>\n",
       "      <td>(415) 309-1360 - -\\n\\n (RLNE5185335)</td>\n",
       "      <td>San Bruno</td>\n",
       "      <td>445 Huntington Ave</td>\n",
       "      <td>3500</td>\n",
       "      <td>Home</td>\n",
       "      <td></td>\n",
       "      <td>0</td>\n",
       "      <td>45</td>\n",
       "      <td>https://www.apartments.com/445-huntington-ave-...</td>\n",
       "      <td>85</td>\n",
       "      <td>94066</td>\n",
       "    </tr>\n",
       "  </tbody>\n",
       "</table>\n",
       "</div>"
      ],
      "text/plain": [
       "   baths  beds          city  deposit  \\\n",
       "0      3     3     Palo Alto        0   \n",
       "1      2     3     Sunnyvale        0   \n",
       "2      3     4  Walnut Creek        0   \n",
       "3      3     2      Piedmont        0   \n",
       "4      1     2     San Bruno        0   \n",
       "\n",
       "                                         description                     hood  \\\n",
       "0  (650) 847-3800 - Luxury 3 bed condo in downtow...       Downtown Palo Alto   \n",
       "1  (408) 917-0430 - Take advantage and apply for ...                 Lakewood   \n",
       "2  (925) 979-5550 - Well Located - 2-story - Waln...           Huston Heights   \n",
       "3  (925) 494-0370 - Hartz Property Management Pre...  Northeast Oakland Hills   \n",
       "4               (415) 309-1360 - -\\n\\n (RLNE5185335)                San Bruno   \n",
       "\n",
       "                                       name  price propertyType  \\\n",
       "0       3 br, 3 bath House - 559 Lytton Ave   7500       Houses   \n",
       "1     3 br, 2 bath House - 1217 Pecos Way -   3949       Houses   \n",
       "2                           1680 Holland Dr   4200         Home   \n",
       "3  2 br, 3 bath House - 140 Highland Avenue   4500       Houses   \n",
       "4                        445 Huntington Ave   3500         Home   \n",
       "\n",
       "                              schoolZone  sqft transitScore  \\\n",
       "0      Palo Alto Unified School District  1339           53   \n",
       "1              Sunnyvale School District  1108           48   \n",
       "2                                         2800            0   \n",
       "3  Piedmont City Unified School District  1529           38   \n",
       "4                                            0           45   \n",
       "\n",
       "                                                 url walk_score    zip  \n",
       "0  https://www.apartments.com/3-br-3-bath-house-5...         91  94301  \n",
       "1  https://www.apartments.com/3-br-2-bath-house-1...         59  94089  \n",
       "2  https://www.apartments.com/1680-holland-dr-wal...         49  94597  \n",
       "3  https://www.apartments.com/2-br-3-bath-house-1...         55  94611  \n",
       "4  https://www.apartments.com/445-huntington-ave-...         85  94066  "
      ]
     },
     "execution_count": 396,
     "metadata": {},
     "output_type": "execute_result"
    }
   ],
   "source": [
    "print(final_df.shape)\n",
    "final_df.head()"
   ]
  },
  {
   "cell_type": "code",
   "execution_count": 398,
   "metadata": {},
   "outputs": [],
   "source": [
    "final_df.to_csv('appartments.csv')"
   ]
  }
 ],
 "metadata": {
  "kernelspec": {
   "display_name": "Python 3",
   "language": "python",
   "name": "python3"
  },
  "language_info": {
   "codemirror_mode": {
    "name": "ipython",
    "version": 3
   },
   "file_extension": ".py",
   "mimetype": "text/x-python",
   "name": "python",
   "nbconvert_exporter": "python",
   "pygments_lexer": "ipython3",
   "version": "3.7.3"
  }
 },
 "nbformat": 4,
 "nbformat_minor": 2
}
